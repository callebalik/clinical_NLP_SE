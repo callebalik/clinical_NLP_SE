{
 "cells": [
  {
   "cell_type": "markdown",
   "metadata": {},
   "source": [
    "## Parse essay"
   ]
  },
  {
   "cell_type": "code",
   "execution_count": 2,
   "metadata": {},
   "outputs": [],
   "source": [
    "!pip install pandas"
   ]
  },
  {
   "cell_type": "code",
   "execution_count": 2,
   "metadata": {},
   "outputs": [
    {
     "data": {
      "text/html": "<div>\n<style scoped>\n    .dataframe tbody tr th:only-of-type {\n        vertical-align: middle;\n    }\n\n    .dataframe tbody tr th {\n        vertical-align: top;\n    }\n\n    .dataframe thead th {\n        text-align: right;\n    }\n</style>\n<table border=\"1\" class=\"dataframe\">\n  <thead>\n    <tr style=\"text-align: right;\">\n      <th></th>\n      <th>Criterion</th>\n      <th>Pass T5</th>\n      <th>Fail</th>\n    </tr>\n  </thead>\n  <tbody>\n    <tr>\n      <th>0</th>\n      <td>1. Title</td>\n      <td>Clearly stated; complete. Representative of the content of the study. Interesting. English and Swedish titles are and corresponding.</td>\n      <td>Too vague. Not representative of the content of the study. Discrepancies between Swedish and English title.</td>\n    </tr>\n    <tr>\n      <th>1</th>\n      <td>2.Abstract (max 300 words)</td>\n      <td>Correct length. Contains background, purpose, methods, results and conclusion in adequate proportions.</td>\n      <td>Missing, too long or too short. The different parts of the abstract are not proportional to each other.</td>\n    </tr>\n    <tr>\n      <th>2</th>\n      <td>3. Background CORE</td>\n      <td>Gives a general perspective on the topic supported by adequate number of relevant references.</td>\n      <td>Missing, too short or with limited relevance to the topic. No references or inadequate references.</td>\n    </tr>\n    <tr>\n      <th>3</th>\n      <td>4.Purpose</td>\n      <td>Well formulated and relevant to the topic.</td>\n      <td>Missing or irrelevant to the topic or unclearly formulated.</td>\n    </tr>\n    <tr>\n      <th>4</th>\n      <td>5. Scientific questions or hypothesis CORE</td>\n      <td>Well formulated and reflecting the purpose. Well-defined and reasonable in relation to the extent of the project.</td>\n      <td>Missing, irrelevant to the topic or inadequately formulated. Unreasonable in relation to the extent of the project. Poorly reflecting the purpose.</td>\n    </tr>\n    <tr>\n      <th>5</th>\n      <td>6. Methods CORE</td>\n      <td>Adequate for answering the scientific questions. Method correctly applied. Description and choice of methods sufficiently supported by a suitable number of adequate references. Analyses (in applicable cases statistical methods) are clearly described and correctly used.</td>\n      <td>Inadequate for answering the scientific questions. Wrongly applied. Description of methods missing or inadequate. Choice or description of methods not sufficiently supported by a suitable number of adequate references. Description of analyses (in applicable cases statistical methods) inadequate.</td>\n    </tr>\n    <tr>\n      <th>6</th>\n      <td>7. Ethics Ethical permits should not be discussed, as this fall under the responsibility of the supervisor and course leader.</td>\n      <td>Research ethical considerations relevant for the project are correctly identified and applied, described and discussed under a separate heading. If the project does not require ethical considerations this should be clearly stated.</td>\n      <td>Research ethical considerations are missing, irrelevant for the project or inadequately described</td>\n    </tr>\n    <tr>\n      <th>7</th>\n      <td>9. Discussion CORE</td>\n      <td>Adequate discussion of the main results in relation to scientific questions and previous research in the field, with references given. Most of the study ́s strength and weakness and limitations of the methods are discussed. Adequately structured. Novelty clearly described.</td>\n      <td>Not relevant to the study or poorly structured. No connection to the results or to previous research. Strengths and weaknesses of the study are not mentioned.</td>\n    </tr>\n    <tr>\n      <th>8</th>\n      <td>10.Conclusion</td>\n      <td>Concisely states main findings and relates them to scientific questions and purpose. Clarifies importance of the findings. Adequately formulated.</td>\n      <td>Missing or not clearly related to results or not relevant to scientific questions or purpose.</td>\n    </tr>\n    <tr>\n      <th>9</th>\n      <td>11.References (formalia)</td>\n      <td>Relevant references, mainly scientific papers, used and referred to properly. All references in correct order and in the same format. The numbers of references in the different sections are in parity with the extent and depth of the project.</td>\n      <td>Missing, irrelevant, too basic or poorly organized references.</td>\n    </tr>\n    <tr>\n      <th>10</th>\n      <td>12.Popular science abstract in Swedish</td>\n      <td>Relevant, clear and easy to grasp, using terminology understandable to lay people.</td>\n      <td>Missing or irrelevant. Scientific or medical terms that may be unknown to the public are used.</td>\n    </tr>\n    <tr>\n      <th>11</th>\n      <td>13.Structure and language CORE</td>\n      <td>Written in a structured way, correct use of specialist terminology; grammatically correct language management, correct language in relation to syllabus.</td>\n      <td>Unstructured overall impression, inaccurate use of specialist terminology or a grammatically incorrect language management. Inaccurate choice of Swedish/English in relation to syllabus.</td>\n    </tr>\n    <tr>\n      <th>12</th>\n      <td>14.Declaration of own contribution</td>\n      <td>The declaration of the student ́s own specific contribution is adequate, concise and easy to understand.</td>\n      <td>The declaration of the student ́s own specific contribution is missing, is incomplete or difficult to understand.</td>\n    </tr>\n    <tr>\n      <th>13</th>\n      <td>15.Control of plagiarism</td>\n      <td>Minor or reasonable degree of overlap with previously published texts, which can the student can motivate.</td>\n      <td>High degree of overlap with previously published texts, which cannot be motivated.</td>\n    </tr>\n  </tbody>\n</table>\n</div>",
      "text/plain": "                                                                                                                        Criterion  \\\n0   1. Title                                                                                                                        \n1   2.Abstract (max 300 words)                                                                                                      \n2   3. Background CORE                                                                                                              \n3   4.Purpose                                                                                                                       \n4   5. Scientific questions or hypothesis CORE                                                                                      \n5   6. Methods CORE                                                                                                                 \n6   7. Ethics Ethical permits should not be discussed, as this fall under the responsibility of the supervisor and course leader.   \n7   9. Discussion CORE                                                                                                              \n8   10.Conclusion                                                                                                                   \n9   11.References (formalia)                                                                                                        \n10  12.Popular science abstract in Swedish                                                                                          \n11  13.Structure and language CORE                                                                                                  \n12  14.Declaration of own contribution                                                                                              \n13  15.Control of plagiarism                                                                                                        \n\n                                                                                                                                                                                                                                                                              Pass T5  \\\n0   Clearly stated; complete. Representative of the content of the study. Interesting. English and Swedish titles are and corresponding.                                                                                                                                                \n1   Correct length. Contains background, purpose, methods, results and conclusion in adequate proportions.                                                                                                                                                                              \n2   Gives a general perspective on the topic supported by adequate number of relevant references.                                                                                                                                                                                       \n3   Well formulated and relevant to the topic.                                                                                                                                                                                                                                          \n4   Well formulated and reflecting the purpose. Well-defined and reasonable in relation to the extent of the project.                                                                                                                                                                   \n5   Adequate for answering the scientific questions. Method correctly applied. Description and choice of methods sufficiently supported by a suitable number of adequate references. Analyses (in applicable cases statistical methods) are clearly described and correctly used.       \n6   Research ethical considerations relevant for the project are correctly identified and applied, described and discussed under a separate heading. If the project does not require ethical considerations this should be clearly stated.                                              \n7   Adequate discussion of the main results in relation to scientific questions and previous research in the field, with references given. Most of the study ́s strength and weakness and limitations of the methods are discussed. Adequately structured. Novelty clearly described.   \n8   Concisely states main findings and relates them to scientific questions and purpose. Clarifies importance of the findings. Adequately formulated.                                                                                                                                   \n9   Relevant references, mainly scientific papers, used and referred to properly. All references in correct order and in the same format. The numbers of references in the different sections are in parity with the extent and depth of the project.                                   \n10  Relevant, clear and easy to grasp, using terminology understandable to lay people.                                                                                                                                                                                                  \n11  Written in a structured way, correct use of specialist terminology; grammatically correct language management, correct language in relation to syllabus.                                                                                                                            \n12  The declaration of the student ́s own specific contribution is adequate, concise and easy to understand.                                                                                                                                                                            \n13  Minor or reasonable degree of overlap with previously published texts, which can the student can motivate.                                                                                                                                                                          \n\n                                                                                                                                                                                                                                                                                                        Fail  \n0   Too vague. Not representative of the content of the study. Discrepancies between Swedish and English title.                                                                                                                                                                                               \n1   Missing, too long or too short. The different parts of the abstract are not proportional to each other.                                                                                                                                                                                                   \n2   Missing, too short or with limited relevance to the topic. No references or inadequate references.                                                                                                                                                                                                        \n3   Missing or irrelevant to the topic or unclearly formulated.                                                                                                                                                                                                                                               \n4   Missing, irrelevant to the topic or inadequately formulated. Unreasonable in relation to the extent of the project. Poorly reflecting the purpose.                                                                                                                                                        \n5   Inadequate for answering the scientific questions. Wrongly applied. Description of methods missing or inadequate. Choice or description of methods not sufficiently supported by a suitable number of adequate references. Description of analyses (in applicable cases statistical methods) inadequate.  \n6   Research ethical considerations are missing, irrelevant for the project or inadequately described                                                                                                                                                                                                         \n7   Not relevant to the study or poorly structured. No connection to the results or to previous research. Strengths and weaknesses of the study are not mentioned.                                                                                                                                            \n8   Missing or not clearly related to results or not relevant to scientific questions or purpose.                                                                                                                                                                                                             \n9   Missing, irrelevant, too basic or poorly organized references.                                                                                                                                                                                                                                            \n10  Missing or irrelevant. Scientific or medical terms that may be unknown to the public are used.                                                                                                                                                                                                            \n11  Unstructured overall impression, inaccurate use of specialist terminology or a grammatically incorrect language management. Inaccurate choice of Swedish/English in relation to syllabus.                                                                                                                 \n12  The declaration of the student ́s own specific contribution is missing, is incomplete or difficult to understand.                                                                                                                                                                                         \n13  High degree of overlap with previously published texts, which cannot be motivated.                                                                                                                                                                                                                        "
     },
     "execution_count": 2,
     "metadata": {},
     "output_type": "execute_result"
    }
   ],
   "source": [
    "import pandas as pd\r\n",
    "from pathlib import Path\r\n",
    "import tabulate\r\n",
    "import os\r\n",
    "import csv \r\n",
    "CRITERIADIR_PATH = os.path.abspath('')\r\n",
    "essay = os.path.join(CRITERIADIR_PATH,'criteria_essay_interim.csv')\r\n",
    "\r\n",
    "df = pd.read_csv(essay)\r\n",
    "df = df.replace(regex=r'[\\s]',value=r' ')\r\n",
    "\r\n",
    "df.to_csv(\r\n",
    "    os.path.join(CRITERIADIR_PATH,'criteria_essay.csv'),\r\n",
    "    quoting=csv.QUOTE_NONNUMERIC,\r\n",
    "    escapechar=\"\\\\\",\r\n",
    "    doublequote=False,\r\n",
    "    index=False)\r\n",
    "\r\n",
    "\r\n",
    "t5 = df[[\"Criterion\", \"Pass T5\", \"Fail\"]]\r\n",
    "pd.set_option(\"display.max_colwidth\", 1)\r\n",
    "t5\r\n"
   ]
  },
  {
   "cell_type": "markdown",
   "metadata": {},
   "source": [
    "## Parse Oral Presentation"
   ]
  },
  {
   "cell_type": "code",
   "execution_count": 118,
   "metadata": {},
   "outputs": [
    {
     "name": "stdout",
     "output_type": "stream",
     "text": [
      "• Stating the problem; verbally expressing the purpose and aim of the research\n",
      "• Theoretical background; motivating the chosen method\n",
      "• Analysis; knowledge about the results, the strengths and weaknesses\n",
      "• Conclusion; relating the findings to the problem and highlighting the central aspects in the presentation\n",
      "• A common thread running through the presentation and the essay\n",
      "• Generalization; the results have to be placed in a wider perspective\n",
      "• Reflection; self-critical, discussion about future studies\n",
      "• Defense; a constructive and objective stance\n",
      "+----+--------------------------+---------------------------------------------------------------------------------------------------------------------------------+----------------------------------------------------------------------------------------------------------------------------------------------------------------+\n",
      "|    | Failed                   | Pass T5                                                                                                                         | Pass T10                                                                                                                                                       |\n",
      "|----+--------------------------+---------------------------------------------------------------------------------------------------------------------------------+----------------------------------------------------------------------------------------------------------------------------------------------------------------|\n",
      "|  0 | Not meeting the criteria | • Stating the problem; verbally expressing the purpose and aim of the research                                                  | • Stating the problem; verbally expressing the purpose and aim of the research                                                                                 |\n",
      "|    |                          | • Theoretical background; motivating the chosen method                                                                          | • Theoretical background; motivating the chosen method                                                                                                         |\n",
      "|    |                          | • Analysis; knowledge about the results, the strengths and weaknesses                                                           | • Analysis; knowledge about the results, the strengths and weaknesses                                                                                          |\n",
      "|    |                          | • Conclusion; relating the findings to the problem and highlighting the central aspects in the presentation                     | • Conclusion; relating the findings to the problem and highlighting the central aspects in the presentation                                                    |\n",
      "|    |                          | • A common thread running through the presentation and the essay                                                                | • A common thread running through the presentation and the essay                                                                                               |\n",
      "|    |                          | • Generalization; the results have to be placed in a wider perspective                                                          | • Generalization; the results have to be placed in a wider perspective                                                                                         |\n",
      "|    |                          | • Reflection; self-critical, discussion about future studies                                                                    | • Reflection; self-critical, discussion about future studies                                                                                                   |\n",
      "|    |                          | • Defense; a constructive and objective stance                                                                                  | • Defense; a constructive and objective stance                                                                                                                 |\n",
      "|  1 | Failed                   | Passed T5                                                                                                                       | Passed T10                                                                                                                                                     |\n",
      "|  2 | Not meeting the criteria | • The opposition; the student has to be prepared (read and analyzed the work) and criticize in a constructive and objective way | • The opposition; the student has to be prepared (read and analyzed the work) and criticize in a constructive and objective way                                |\n",
      "|    |                          | • Questions; the student has prepared a number of questions/claims (5-8) concerning the actual work based on the opposition     | • Questions; the student has prepared a number of questions/claims (5-8) concerning the actual work based on the opposition, using PowerPoint or corresponding |\n",
      "|    |                          | • Presentation; the questions are presented clearly to the respondent                                                           | • Presentation; the questions are presented clearly to the respondent                                                                                          |\n",
      "|    |                          | • Analysis; discussion about strengths and weaknesses with the respondent                                                       | • Analysis; discussion about strengths and weaknesses with the respondent                                                                                      |\n",
      "|    |                          | • Feedback; giving the final criticism, positive and negative                                                                   | • Feedback; giving the final criticism, positive and negative                                                                                                  |\n",
      "|    |                          | • A common thread running through the opposition                                                                                | • A common thread running through the opposition                                                                                                               |\n",
      "+----+--------------------------+---------------------------------------------------------------------------------------------------------------------------------+----------------------------------------------------------------------------------------------------------------------------------------------------------------+\n"
     ]
    },
    {
     "data": {
      "text/html": "<div>\n<style scoped>\n    .dataframe tbody tr th:only-of-type {\n        vertical-align: middle;\n    }\n\n    .dataframe tbody tr th {\n        vertical-align: top;\n    }\n\n    .dataframe thead th {\n        text-align: right;\n    }\n</style>\n<table border=\"1\" class=\"dataframe\">\n  <thead>\n    <tr style=\"text-align: right;\">\n      <th></th>\n      <th>Failed</th>\n      <th>Passed T5</th>\n      <th>Passed T10</th>\n    </tr>\n  </thead>\n  <tbody>\n    <tr>\n      <th>0</th>\n      <td>Not meeting the criteria</td>\n      <td>• Stating the problem; verbally expressing the purpose and aim of the research\\n• Theoretical background; motivating the chosen method\\n• Analysis; knowledge about the results, the strengths and weaknesses\\n• Conclusion; relating the findings to the problem and highlighting the central aspects in the presentation\\n• A common thread running through the presentation and the essay\\n• Generalization; the results have to be placed in a wider perspective\\n• Reflection; self-critical, discussion about future studies\\n• Defense; a constructive and objective stance</td>\n      <td>• Stating the problem; verbally expressing the purpose and aim of the research\\n• Theoretical background; motivating the chosen method\\n• Analysis; knowledge about the results, the strengths and weaknesses\\n• Conclusion; relating the findings to the problem and highlighting the central aspects in the presentation\\n• A common thread running through the presentation and the essay\\n• Generalization; the results have to be placed in a wider perspective\\n• Reflection; self-critical, discussion about future studies\\n• Defense; a constructive and objective stance</td>\n    </tr>\n    <tr>\n      <th>1</th>\n      <td>Failed</td>\n      <td>Passed T5</td>\n      <td>Passed T10</td>\n    </tr>\n    <tr>\n      <th>2</th>\n      <td>Not meeting the criteria</td>\n      <td>• The opposition; the student has to be prepared (read and analyzed the work) and criticize in a constructive and objective way\\n• Questions; the student has prepared a number of questions/claims (5-8) concerning the actual work based on the opposition\\n• Presentation; the questions are presented clearly to the respondent\\n• Analysis; discussion about strengths and weaknesses with the respondent\\n• Feedback; giving the final criticism, positive and negative\\n• A common thread running through the opposition</td>\n      <td>• The opposition; the student has to be prepared (read and analyzed the work) and criticize in a constructive and objective way\\n• Questions; the student has prepared a number of questions/claims (5-8) concerning the actual work based on the opposition, using PowerPoint or corresponding\\n• Presentation; the questions are presented clearly to the respondent\\n• Analysis; discussion about strengths and weaknesses with the respondent\\n• Feedback; giving the final criticism, positive and negative\\n• A common thread running through the opposition</td>\n    </tr>\n  </tbody>\n</table>\n</div>",
      "text/plain": "                     Failed  \\\n0  Not meeting the criteria   \n1  Failed                     \n2  Not meeting the criteria   \n\n                                                                                                                                                                                                                                                                                                                                                                                                                                                                                                                                                                            Passed T5  \\\n0  • Stating the problem; verbally expressing the purpose and aim of the research\\n• Theoretical background; motivating the chosen method\\n• Analysis; knowledge about the results, the strengths and weaknesses\\n• Conclusion; relating the findings to the problem and highlighting the central aspects in the presentation\\n• A common thread running through the presentation and the essay\\n• Generalization; the results have to be placed in a wider perspective\\n• Reflection; self-critical, discussion about future studies\\n• Defense; a constructive and objective stance   \n1  Passed T5                                                                                                                                                                                                                                                                                                                                                                                                                                                                                                                                                                            \n2  • The opposition; the student has to be prepared (read and analyzed the work) and criticize in a constructive and objective way\\n• Questions; the student has prepared a number of questions/claims (5-8) concerning the actual work based on the opposition\\n• Presentation; the questions are presented clearly to the respondent\\n• Analysis; discussion about strengths and weaknesses with the respondent\\n• Feedback; giving the final criticism, positive and negative\\n• A common thread running through the opposition                                                      \n\n                                                                                                                                                                                                                                                                                                                                                                                                                                                                                                                                                                           Passed T10  \n0  • Stating the problem; verbally expressing the purpose and aim of the research\\n• Theoretical background; motivating the chosen method\\n• Analysis; knowledge about the results, the strengths and weaknesses\\n• Conclusion; relating the findings to the problem and highlighting the central aspects in the presentation\\n• A common thread running through the presentation and the essay\\n• Generalization; the results have to be placed in a wider perspective\\n• Reflection; self-critical, discussion about future studies\\n• Defense; a constructive and objective stance  \n1  Passed T10                                                                                                                                                                                                                                                                                                                                                                                                                                                                                                                                                                          \n2  • The opposition; the student has to be prepared (read and analyzed the work) and criticize in a constructive and objective way\\n• Questions; the student has prepared a number of questions/claims (5-8) concerning the actual work based on the opposition, using PowerPoint or corresponding\\n• Presentation; the questions are presented clearly to the respondent\\n• Analysis; discussion about strengths and weaknesses with the respondent\\n• Feedback; giving the final criticism, positive and negative\\n• A common thread running through the opposition                  "
     },
     "execution_count": 118,
     "metadata": {},
     "output_type": "execute_result"
    }
   ],
   "source": [
    "import pandas as pd\r\n",
    "from pathlib import Path\r\n",
    "from tabulate import tabulate\r\n",
    "import os\r\n",
    "import csv \r\n",
    "CRITERIADIR_PATH = os.path.abspath('')\r\n",
    "essay = os.path.join(CRITERIADIR_PATH,'criteria_oral_presentation_raw.csv')\r\n",
    "\r\n",
    "df = pd.read_csv(essay)\r\n",
    "#df = df.replace(regex=r'[\\s]',value=r' ')\r\n",
    "#df = df.replace(regex=r\"(?:\\s•\\s)\", value=r\"\\n \")\r\n",
    "df = df.replace(regex=r\"(\\r\\n•)\", value=\"\\n•\")\r\n",
    "df = df.replace(regex=r\"(\\r\\n)\", value=r\" \")\r\n",
    "# http://www.qc4blog.com/?p=55\r\n",
    "#https://docs.python.org/3/library/re.html\r\n",
    "\r\n",
    "df.to_csv(\r\n",
    "    os.path.join(CRITERIADIR_PATH,'criteria_oral_presentation_interim.csv'),\r\n",
    "    quoting=csv.QUOTE_NONNUMERIC,\r\n",
    "    escapechar=\"\\\\\",\r\n",
    "    doublequote=False,\r\n",
    "    index=False)\r\n",
    "\r\n",
    "\r\n",
    "#t5 = df[[\"Criterion\", \"Pass T5\", \"Fail\", \"Pass T10\"]]\r\n",
    "# pd.set_option(\"display.max_colwidth\", 1)\r\n",
    "\r\n",
    "df.drop(df.columns[2], axis=1, inplace=True)\r\n",
    "columns = [\"Failed\", \"Pass T5\", \"Pass T10\"]\r\n",
    "# df = pd.DataFrame.from_records(all_files, columns=columns)\r\n",
    "value = df.iloc[0][1]\r\n",
    "print(value)\r\n",
    "\r\n",
    "print(tabulate(df, headers=columns, tablefmt='psql'))\r\n",
    "\r\n",
    "df"
   ]
  },
  {
   "cell_type": "code",
   "execution_count": 20,
   "metadata": {},
   "outputs": [
    {
     "name": "stdout",
     "output_type": "stream",
     "text": [
      "• Stating the problem; verbally expressing the purpose and aim of the research\n",
      "Theoretical background; motivating the chosen method\n",
      "Analysis; knowledge about the results, the strengths and weaknesses\n",
      "Conclusion; relating the findings to the problem and highlighting the central aspects in the presentation\n",
      "A common thread running through the presentation and the essay\n",
      "Generalization; the results have to be placed in a wider perspective\n",
      "Reflection; self-critical, discussion about future studies\n",
      "Defense; a constructive and objective stance\n"
     ]
    }
   ],
   "source": [
    "# coding=utf8\r\n",
    "# the above tag defines encoding for this document and is for Python 2.x compatibility\r\n",
    "\r\n",
    "import re\r\n",
    "\r\n",
    "regex = r\"(?:\\s•\\s)\"\r\n",
    "\r\n",
    "test_str = \"• Stating the problem; verbally expressing the purpose and aim of the research • Theoretical background; motivating the chosen method • Analysis; knowledge about the results, the strengths and weaknesses • Conclusion; relating the findings to the problem and highlighting the central aspects in the presentation • A common thread running through the presentation and the essay • Generalization; the results have to be placed in a wider perspective • Reflection; self-critical, discussion about future studies • Defense; a constructive and objective stance\"\r\n",
    "\r\n",
    "subst = \"\\\\n\"\r\n",
    "\r\n",
    "# You can manually specify the number of replacements by changing the 4th argument\r\n",
    "result = re.sub(regex, subst, test_str, 0, re.MULTILINE)\r\n",
    "\r\n",
    "if result:\r\n",
    "    print (result)\r\n",
    "\r\n",
    "# Note: for Python 2.7 compatibility, use ur\"\" to prefix the regex and u\"\" to prefix the test string and substitution."
   ]
  }
 ],
 "metadata": {
  "kernelspec": {
   "display_name": "Python 3.8.8 64-bit ('base': conda)",
   "name": "python36164bitrootconda8de05067d7aa440d8cc5cad6bf0103f9"
  },
  "language_info": {
   "codemirror_mode": {
    "name": "ipython",
    "version": 3
   },
   "file_extension": ".py",
   "mimetype": "text/x-python",
   "name": "python",
   "nbconvert_exporter": "python",
   "pygments_lexer": "ipython3",
   "version": "3.8.8"
  },
  "metadata": {
   "interpreter": {
    "hash": "8826b53f20e9cd7110a7f40447e35f8ee8fd51c1cc996b01684cb7063458cfdb"
   }
  },
  "orig_nbformat": 2
 },
 "nbformat": 4,
 "nbformat_minor": 2
}