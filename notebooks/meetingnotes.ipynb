{
 "cells": [
  {
   "cell_type": "markdown",
   "metadata": {},
   "source": [
    "# Meeting notes"
   ]
  },
  {
   "cell_type": "markdown",
   "metadata": {},
   "source": [
    "## Templates"
   ]
  },
  {
   "cell_type": "markdown",
   "metadata": {},
   "source": [
    "### 2021/MM/DD\n",
    "\n",
    "**Agenda**: \n",
    "\n",
    "---\n",
    "\n",
    "**Notes**"
   ]
  },
  {
   "cell_type": "markdown",
   "metadata": {},
   "source": [
    "## Meetings"
   ]
  },
  {
   "cell_type": "markdown",
   "metadata": {},
   "source": [
    "### 2021/05/06\n",
    "**Who:** *Anton, Carl, Johanna* \\\n",
    "**Agenda:** \n",
    "\n",
    "- *Demo*: current model & progress (**Carl**)\n",
    "- *Discuss*: preprocessing of ICD & negations: \n",
    "     - separation of findings and sympt\n",
    "     - different neg classes\n",
    "- *Demo + Discuss*: annotation strategy \n",
    "     - How will it compare to phrasematcher (or rather how does one account for it in evaluation)\n",
    "     - What do we do if we update the strategy? Do annotations have to be updated?  \n",
    "- *Discuss*: Combining/Using Snomed (**Johanna**)\n",
    "- *Question*: Evaluation metrics: Kappa...? \n",
    "- *Discuss*: Possibility of running inception on server: as docker? (**Johanna**)\n",
    "- *Question*: Updated version of INCEpTION, do we have to use the same? Or can we run \n",
    "- *Planning*: Producing and proofreadning simple essay\n",
    "- *Extra*: GitHub Repos access and mergeing\n",
    "---\n",
    "\n",
    "**Notes**"
   ]
  }
 ],
 "metadata": {
  "kernelspec": {
   "display_name": "Python 3.8.5 64-bit ('data-science-tutorials': virtualenvwrapper)",
   "name": "python385jvsc74a57bd0ec4e6be7dca26f506752feb88d3ed1f893e28a239c0be35f93912aeb9c7d7e9f"
  },
  "language_info": {
   "name": "python",
   "version": ""
  },
  "orig_nbformat": 2
 },
 "nbformat": 4,
 "nbformat_minor": 2
}