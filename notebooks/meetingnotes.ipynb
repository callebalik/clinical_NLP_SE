{
 "cells": [
  {
   "cell_type": "markdown",
   "metadata": {},
   "source": [
    "# Meeting notes"
   ]
  },
  {
   "cell_type": "markdown",
   "metadata": {},
   "source": [
    "## Templates"
   ]
  },
  {
   "cell_type": "markdown",
   "metadata": {},
   "source": [
    "### 2021/MM/DD\n",
    "\n",
    "**Agenda**: \n",
    "\n",
    "---\n",
    "\n",
    "**Notes**"
   ]
  },
  {
   "cell_type": "markdown",
   "metadata": {},
   "source": [
    "## Meetings"
   ]
  },
  {
   "cell_type": "markdown",
   "metadata": {},
   "source": [
    "### 2021/05/06\n",
    "\n",
    "#### Attending:\n",
    "\n",
    "*Carl, Johanna*\n",
    "\n",
    "#### Agenda:\n",
    "\n",
    "- *Demo*: current model & progress (**Carl**)\n",
    "- *Discuss*: preprocessing of ICD & negations: \n",
    "     - separation of findings and sympt\n",
    "     - different neg classes\n",
    "- *Demo + Discuss*: annotation strategy \n",
    "     - How will it compare to phrasematcher (or rather how does one account for it in evaluation)\n",
    "     - What do we do if we update the strategy? Do annotations have to be updated?  \n",
    "- *Discuss*: Combining/Using Snomed (**Johanna**)\n",
    "- *Question*: Evaluation metrics: Kappa...? \n",
    "- *Discuss*: Possibility of running inception on server: as docker? (**Johanna**)\n",
    "- *Question*: Updated version of INCEpTION, do we have to use the same? Or can we run \n",
    "- *Planning*: Producing and proofreadning essay\n",
    "- *Extra*: GitHub Repos access and mergeing\n",
    "---\n",
    "\n",
    "#### Notes\n",
    "\n",
    "##### Granulationsnivå vid annotering i olika faser av utveckling\n",
    "> Exempel *\"andnöd vid gång\"*.  \n",
    "> Det är stor skillnad mellan fyndet/symptomet är andnöd eller {andnöd vid gång} \n",
    "\n",
    "##### Annoteringsguide\n",
    "Skapa simpel prototyp nu. Siktar på att annotera med lägsta granulationsnivå. Dvs. andnöd är symptomet och ska annoteras som det relativt obeoende av omständighet.\n",
    "\n",
    " ##### Powerlevel\n",
    " Ifall vi har för specifika diagnoser så kommer vi inte kunna säga något om en enskild patient utan att gå genom extremt mycket data eftersom vi kanske har många överlag med andnöd, men som beskrivits med många olika ord och sätt. Ifall alla dessa sätt räknas som sin egen variabel så kommer vi utan ett extremt stort dataset att ha väldigt få förekomster. \\\n",
    "\n",
    " Beräkning i CovidQ finns. För 20 variabler skulle vi behöva ca. 1600 journaler. \n",
    "\n",
    " ##### Korta punkter + Kommande i närtid\n",
    " \n",
    " - Carl skickar abstract till Johanna fre. \n",
    " - Förprocessing av ICD10 får göras efter behag\n"
   ]
  }
 ],
 "metadata": {
  "kernelspec": {
   "display_name": "Python 3.8.5 64-bit ('data-science-tutorials': virtualenvwrapper)",
   "name": "python385jvsc74a57bd0ec4e6be7dca26f506752feb88d3ed1f893e28a239c0be35f93912aeb9c7d7e9f"
  },
  "language_info": {
   "name": "python",
   "version": ""
  },
  "orig_nbformat": 2
 },
 "nbformat": 4,
 "nbformat_minor": 2
}