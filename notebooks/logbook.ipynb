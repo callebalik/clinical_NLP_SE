{
 "cells": [
  {
   "cell_type": "markdown",
   "metadata": {},
   "source": [
    "# Logbook"
   ]
  },
  {
   "cell_type": "markdown",
   "metadata": {},
   "source": [
    "## Templates & Flags"
   ]
  },
  {
   "cell_type": "markdown",
   "metadata": {},
   "source": [
    "### 2021/MM/DD\n",
    "\n",
    "<span style=\"background:#00539CFF; color:#FFD662FF\">**Main Aim**:</span>\\\n",
    "<span style=\"background:#3C1053FF;color:#DF6589FF\">**Specifications**:</span> \n",
    "\n",
    "\n",
    "<span style=\"background:#2BAE66FF;color:#FCF6F5FF\">**Result**:</span>\n",
    "\n",
    "\n"
   ]
  },
  {
   "cell_type": "markdown",
   "metadata": {},
   "source": [
    "### 2021/MM/DD\n",
    "\n",
    "**Aim**: \n",
    "\n",
    "---\n",
    "\n",
    "**Result**\n",
    "\n",
    "---\n",
    "\n",
    "*Material*\n",
    "\n",
    "---\n",
    "\n",
    "TODO"
   ]
  },
  {
   "cell_type": "markdown",
   "metadata": {},
   "source": [
    "### Flags\n",
    "- <span style=\"background:#ff6e40; color:#f5f0e1; font-size: 1.1rem; text-transform: uppercase\">Fix</span>\n",
    "- <span style=\"background:#d902ee; color:#ffea04;text-transform: uppercase; font-weight: bold\">Require:</span>"
   ]
  },
  {
   "cell_type": "markdown",
   "metadata": {},
   "source": [
    "## Logs"
   ]
  },
  {
   "cell_type": "markdown",
   "metadata": {},
   "source": [
    "### 2021/05/26\n",
    "\n",
    "**Aim**: Finish pipeline to evaluate IAA(*Anton<-->Phrasematcher*) for 1 chart via Cohen/Fleiss' Kappa\n",
    "\n",
    "- implement spacy.phrasematcher.output comparable INCEpTIOn.output. <span style=\"background:#d902ee; color:#ffea04;text-transform: uppercase; font-weight: bold\">Require: Parsable with evaluation metric </span><span style=\"background:#00539CFF; color:#FFD662FF;text-transform: uppercase\">Prefered: Parsable with evaluation metric </span>\n",
    "- implement Kappa evaluation metric\n",
    "- <span style=\"background:#ff6e40; color:#f5f0e1; font-size: 1.1rem; text-transform: uppercase\">Fix</span>Updated spacy version can't update entities \n",
    "- update annotation guidelines\n",
    "- Meeting Johanna + Anton 16: create meeting agenda \n",
    "---\n",
    "\n",
    "**Result**\n",
    "\n",
    "- added logbook\n",
    "- added meeting notes logbook\n",
    "- created agenda\n",
    "---\n",
    "\n",
    "*Material* \n",
    "\n",
    "- https://universaldependencies.org/docs/format.html\n",
    "- [Pandas DataFrame](https://github.com/interrogator/conll-df)\n",
    "- \n"
   ]
  }
 ],
 "metadata": {
  "kernelspec": {
   "display_name": "Python 3.8.5 64-bit ('data-science-tutorials': virtualenvwrapper)",
   "name": "python385jvsc74a57bd0ec4e6be7dca26f506752feb88d3ed1f893e28a239c0be35f93912aeb9c7d7e9f"
  },
  "language_info": {
   "name": "python",
   "version": ""
  },
  "orig_nbformat": 2
 },
 "nbformat": 4,
 "nbformat_minor": 2
}