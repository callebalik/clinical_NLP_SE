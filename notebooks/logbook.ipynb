{
 "cells": [
  {
   "cell_type": "markdown",
   "metadata": {},
   "source": [
    "# Logbook"
   ]
  },
  {
   "cell_type": "markdown",
   "metadata": {},
   "source": [
    "## Templates & Flags"
   ]
  },
  {
   "cell_type": "markdown",
   "metadata": {},
   "source": [
    "### 2021/MM/DD\n",
    "\n",
    "<span style=\"background:#00539CFF; color:#FFD662FF\">**Main Aim**:</span>\\\n",
    "<span style=\"background:#3C1053FF;color:#DF6589FF\">**Specifications**:</span> \n",
    "\n",
    "\n",
    "<span style=\"background:#2BAE66FF;color:#FCF6F5FF\">**Result**:</span>\n",
    "\n",
    "\n"
   ]
  },
  {
   "cell_type": "markdown",
   "metadata": {},
   "source": [
    "### 2021/MM/DD\n",
    "\n",
    "**Aim**: \n",
    "\n",
    "---\n",
    "\n",
    "**Result**\n",
    "\n",
    "---\n",
    "\n",
    "*Material*\n",
    "\n",
    "---\n",
    "\n",
    "TODO"
   ]
  },
  {
   "cell_type": "markdown",
   "metadata": {},
   "source": [
    "### Flags\n",
    "- <span style=\"background:#ff6e40; color:#f5f0e1; font-size: 1.1rem; text-transform: uppercase\">Fix</span>\n",
    "- <span style=\"background:#d902ee; color:#ffea04;text-transform: uppercase; font-weight: bold\">Require:</span>"
   ]
  },
  {
   "cell_type": "markdown",
   "metadata": {},
   "source": [
    "## Logs"
   ]
  },
  {
   "cell_type": "markdown",
   "metadata": {},
   "source": [
    "### 2021/05/26\n",
    "\n",
    "**Aim**: Finish pipeline to evaluate IAA(*Anton<-->Phrasematcher*) for 1 chart via Cohen/Fleiss' Kappa\n",
    "\n",
    "**Result**\n",
    "\n",
    "- implemented ICD10-parser and setup spacy-phrasematching pipeline\n",
    "- implemented negations-parser and added to spacy-phrasematching pipeline \n",
    "-  \n",
    "\n",
    "---\n",
    "\n",
    "*Gathered Material* \n",
    "\n",
    "- https://universaldependencies.org/docs/format.html\n",
    "- [Pandas DataFrame](https://github.com/interrogator/conll-df)\n",
    "- [Inter-Annotator Agreement (IAA). Pair-wise Cohen kappa and group Fleiss’… | by Louis de Bruijn | Towards Data Science](https://towardsdatascience.com/inter-annotator-agreement-2f46c6d37bf3)\n",
    "\n",
    "TODO: #2 Fix jupyter switching version when updating from vscode "
   ]
  },
  {
   "cell_type": "markdown",
   "metadata": {},
   "source": [
    "### 2021/05/26\n",
    "\n",
    "**Aim**: Finish pipeline to evaluate IAA(*Anton<-->Phrasematcher*) for 1 chart via Cohen/Fleiss' Kappa\n",
    "\n",
    "- implement spacy.phrasematcher.output comparable INCEpTIOn.output. <span style=\"background:#d902ee; color:#ffea04;text-transform: uppercase; font-weight: bold\">Require: Parsable with evaluation metric </span><span style=\"background:#00539CFF; color:#FFD662FF;text-transform: uppercase\">Prefered: Parsable with evaluation metric </span>\n",
    "- implement Kappa evaluation metric\n",
    "- TODO #1 Updated spacy version can't update entities in same way as before, use *retokenize* \n",
    "- create barebones prototype of annotation guidelines as short readable doc.\n",
    "- Meeting Johanna + Anton 16: create meeting agenda \n",
    "---\n",
    "\n",
    "**Result**\n",
    "\n",
    "- added logbook\n",
    "- added meeting notes logbook\n",
    "- meeting with Johanna (see meetingnotes from 2021/05/26)\n",
    "- \n",
    "---\n",
    "\n",
    "*Gathered Material* \n",
    "\n",
    "- https://universaldependencies.org/docs/format.html\n",
    "- [Pandas DataFrame](https://github.com/interrogator/conll-df)\n",
    "- [Inter-Annotator Agreement (IAA). Pair-wise Cohen kappa and group Fleiss’… | by Louis de Bruijn | Towards Data Science](https://towardsdatascience.com/inter-annotator-agreement-2f46c6d37bf3)\n",
    "\n",
    "TODO: #2 Fix jupyter switching version when updating from vscode "
   ]
  },
  {
   "cell_type": "markdown",
   "metadata": {},
   "source": [
    "### 2021/05/28\n",
    "\n",
    "#### DEADLINE kl. 23.55 - Deadline inlämning av försättsblad i Moodle (signerat av student/er)\n",
    "\n"
   ]
  },
  {
   "cell_type": "markdown",
   "metadata": {},
   "source": [
    "### 2021/05/28\n",
    "\n",
    "#### DEADLINE 2021-06-01 kl. 23.55\n",
    "1. Redovisningsschema (med dag, tid, bedömare samt opponent) skickas ut via mail från kurssekretariatet till studenter\n",
    "2. Studenter skall SAMMA DAG göra följande:\n",
    "   1.  A. Ladda upp uppsats i pdf-format på Moodle (laddas sedan ner av respektive bedömare)\n",
    "   2.  B. Maila uppsatsen i pdf-format till respektive opponent/-er\n",
    "\n"
   ]
  }
 ],
 "metadata": {
  "kernelspec": {
   "display_name": "Python 3.8.5 64-bit ('data-science-tutorials': virtualenvwrapper)",
   "name": "python385jvsc74a57bd0ec4e6be7dca26f506752feb88d3ed1f893e28a239c0be35f93912aeb9c7d7e9f"
  },
  "language_info": {
   "name": "python",
   "version": ""
  },
  "orig_nbformat": 2
 },
 "nbformat": 4,
 "nbformat_minor": 2
}