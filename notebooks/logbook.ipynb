{
 "cells": [
  {
   "cell_type": "markdown",
   "metadata": {},
   "source": [
    "# Logbook"
   ]
  },
  {
   "cell_type": "markdown",
   "metadata": {},
   "source": [
    "## Templates & Flags"
   ]
  },
  {
   "cell_type": "markdown",
   "metadata": {},
   "source": [
    "### 2021/MM/DD\n",
    "\n",
    "<span style=\"background:#00539CFF; color:#FFD662FF\">**Main Aim**:</span>\\\n",
    "<span style=\"background:#3C1053FF;color:#DF6589FF\">**Specifications**:</span> \n",
    "\n",
    "\n",
    "<span style=\"background:#2BAE66FF;color:#FCF6F5FF\">**Result**:</span>\n",
    "\n",
    "\n"
   ]
  },
  {
   "cell_type": "markdown",
   "metadata": {},
   "source": [
    "### 2021/MM/DD\n",
    "\n",
    "**Aim**: \n",
    "\n",
    "---\n",
    "\n",
    "**Result**\n",
    "\n",
    "---\n",
    "\n",
    "*Material*\n",
    "\n",
    "---\n",
    "\n",
    "TODO"
   ]
  },
  {
   "cell_type": "markdown",
   "metadata": {},
   "source": [
    "### Flags\n",
    "- <span style=\"background:#ff6e40; color:#f5f0e1; font-size: 1.1rem; text-transform: uppercase\">Fix</span>\n",
    "- <span style=\"background:#d902ee; color:#ffea04;text-transform: uppercase; font-weight: bold\">Require:</span>"
   ]
  },
  {
   "cell_type": "markdown",
   "metadata": {},
   "source": [
    "## Logs"
   ]
  },
  {
   "cell_type": "markdown",
   "metadata": {},
   "source": [
    "### 2021/05/26\n",
    "\n",
    "**Aim**: Finish pipeline to evaluate IAA(*Anton<-->Phrasematcher*) for 1 chart via Cohen/Fleiss' Kappa\n",
    "\n",
    "**Result**\n",
    "\n",
    "- implemented ICD10-parser and setup spacy-phrasematching pipeline\n",
    "- implemented negations-parser and added to spacy-phrasematching pipeline \n",
    "-  \n",
    "\n",
    "---\n",
    "\n",
    "*Gathered Material* \n",
    "\n",
    "- https://universaldependencies.org/docs/format.html\n",
    "- [Pandas DataFrame](https://github.com/interrogator/conll-df)\n",
    "- [Inter-Annotator Agreement (IAA). Pair-wise Cohen kappa and group Fleiss’… | by Louis de Bruijn | Towards Data Science](https://towardsdatascience.com/inter-annotator-agreement-2f46c6d37bf3)\n",
    "\n",
    "TODO: #2 Fix jupyter switching version when updating from vscode "
   ]
  },
  {
   "cell_type": "markdown",
   "metadata": {},
   "source": [
    "### 2021/05/26\r\n",
    "\r\n",
    "**Aim**: Finish pipeline to evaluate IAA(*Anton<-->Phrasematcher*) for 1 chart via Cohen/Fleiss' Kappa\r\n",
    "\r\n",
    "- implement spacy.phrasematcher.output comparable INCEpTIOn.output. <span style=\"background:#d902ee; color:#ffea04;text-transform: uppercase; font-weight: bold\">Require: Parsable with evaluation metric </span><span style=\"background:#00539CFF; color:#FFD662FF;text-transform: uppercase\">Prefered: Parsable with evaluation metric </span>\r\n",
    "- implement Kappa evaluation metric\r\n",
    "- TODO #1 Updated spacy version can't update entities in same way as before, use *retokenize* \r\n",
    "- create barebones prototype of annotation guidelines as short readable doc.\r\n",
    "- Meeting Johanna + Anton 16: create meeting agenda \r\n",
    "---\r\n",
    "\r\n",
    "**Result**\r\n",
    "\r\n",
    "- added logbook\r\n",
    "- added meeting notes logbook\r\n",
    "- meeting with Johanna (see meetingnotes from 2021/05/26)\r\n",
    "---\r\n",
    "\r\n",
    "*Gathered Material* \r\n",
    "\r\n",
    "- https://universaldependencies.org/docs/format.html\r\n",
    "- [Pandas DataFrame](https://github.com/interrogator/conll-df)\r\n",
    "- [Inter-Annotator Agreement (IAA). Pair-wise Cohen kappa and group Fleiss’… | by Louis de Bruijn | Towards Data Science](https://towardsdatascience.com/inter-annotator-agreement-2f46c6d37bf3)\r\n",
    "\r\n",
    "TODO: #2 Fix jupyter switching version when updating from vscode "
   ]
  },
  {
   "cell_type": "markdown",
   "metadata": {},
   "source": [
    "### 2021/05/27\r\n",
    "\r\n",
    "**Aim**: \r\n",
    "\r\n",
    "**Result**"
   ]
  },
  {
   "cell_type": "markdown",
   "metadata": {},
   "source": [
    "### 2021/05/28 DEADLINE kl. 23.55 - Deadline inlämning av försättsblad i Moodle (signerat av student/er)\r\n",
    "\r\n",
    "**Aim**: Finish försättsblad \r\n",
    "\r\n",
    "**Result**\r\n",
    "\r\n",
    "- Wrote försättsblad\r\n",
    "- Meeting wiith Sonjato discuss project and how to deal with data\r\n",
    "-  Sonja Emailed inception about the data formats \r\n",
    "---"
   ]
  },
  {
   "cell_type": "markdown",
   "metadata": {},
   "source": [
    "### 2021/05/28\r\n",
    "\r\n",
    "**Aim**: \r\n",
    "\r\n",
    "- Refactor code - important to avoid errors that could hide\r\n",
    "-  \r\n",
    "\r\n",
    "**Result**\r\n",
    "\r\n",
    "- Refactored code \r\n",
    "- Cleaned up inception output files\r\n",
    "- Found way to convert conll2003 output files from inception to spacy binary format, which can be used in model traning.  "
   ]
  },
  {
   "cell_type": "markdown",
   "metadata": {},
   "source": [
    "### 2021-06-01 kl. <span style=\"background:#d902ee; color:#ffea04;text-transform: uppercase; font-weight: bold\"> 23:55 </span> DEADLINE\r\n",
    "1. Redovisningsschema (med dag, tid, bedömare samt opponent) skickas ut via mail från kurssekretariatet till studenter\r\n",
    "2. Studenter skall SAMMA DAG göra följande:\r\n",
    "   1.  A. Ladda upp uppsats i pdf-format på Moodle (laddas sedan ner av respektive bedömare)\r\n",
    "   2.  B. Maila uppsatsen i pdf-format till respektive opponent/-er\r\n",
    "\r\n"
   ]
  }
 ],
 "metadata": {
  "kernelspec": {
   "display_name": "Python 3.6.2 32-bit",
   "name": "python362jvsc74a57bd0d91c48f48189c56664de038e34a1f930f7a4a539cbe8f04b9f1e81ab0844a6c3"
  },
  "language_info": {
   "name": "python",
   "version": ""
  },
  "metadata": {
   "interpreter": {
    "hash": "d91c48f48189c56664de038e34a1f930f7a4a539cbe8f04b9f1e81ab0844a6c3"
   }
  },
  "orig_nbformat": 2
 },
 "nbformat": 4,
 "nbformat_minor": 2
}