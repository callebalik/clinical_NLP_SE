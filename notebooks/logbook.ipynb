{
 "cells": [
  {
   "cell_type": "markdown",
   "source": [
    "# Logbook"
   ],
   "metadata": {}
  },
  {
   "cell_type": "markdown",
   "source": [
    "## Templates & Flags"
   ],
   "metadata": {}
  },
  {
   "cell_type": "markdown",
   "source": [
    "### 2021/MM/DD\r\n",
    "\r\n",
    "<span style=\"background:#00539CFF; color:#FFD662FF\">**Main Aim**:</span>\\\r\n",
    "<span style=\"background:#3C1053FF;color:#DF6589FF\">**Specifications**:</span> \r\n",
    "\r\n",
    "\r\n",
    "<span style=\"background:#2BAE66FF;color:#FCF6F5FF\">**Result**:</span>\r\n",
    "\r\n",
    "\r\n"
   ],
   "metadata": {}
  },
  {
   "cell_type": "markdown",
   "source": [
    "### 2021/MM/DD\r\n",
    "\r\n",
    "**Aim**: \r\n",
    "\r\n",
    "---\r\n",
    "\r\n",
    "**Result**\r\n",
    "\r\n",
    "---\r\n",
    "\r\n",
    "*Material*\r\n",
    "\r\n",
    "---\r\n",
    "\r\n",
    "TODO"
   ],
   "metadata": {}
  },
  {
   "cell_type": "markdown",
   "source": [
    "### Flags\r\n",
    "- <span style=\"background:#ff6e40; color:#f5f0e1; font-size: 1.1rem; text-transform: uppercase\">Fix</span>\r\n",
    "- <span style=\"background:#d902ee; color:#ffea04;text-transform: uppercase; font-weight: bold\">Require:</span>"
   ],
   "metadata": {}
  },
  {
   "cell_type": "markdown",
   "source": [
    "## Logs"
   ],
   "metadata": {}
  },
  {
   "cell_type": "markdown",
   "source": [
    "### 2021/05/26\r\n",
    "\r\n",
    "**Aim**: Finish pipeline to evaluate IAA(*Anton<-->Phrasematcher*) for 1 chart via Cohen/Fleiss' Kappa\r\n",
    "\r\n",
    "**Result**\r\n",
    "\r\n",
    "- implemented ICD10-parser and setup spacy-phrasematching pipeline\r\n",
    "- implemented negations-parser and added to spacy-phrasematching pipeline \r\n",
    "-  \r\n",
    "\r\n",
    "---\r\n",
    "\r\n",
    "*Gathered Material* \r\n",
    "\r\n",
    "- https://universaldependencies.org/docs/format.html\r\n",
    "- [Pandas DataFrame](https://github.com/interrogator/conll-df)\r\n",
    "- [Inter-Annotator Agreement (IAA). Pair-wise Cohen kappa and group Fleiss’… | by Louis de Bruijn | Towards Data Science](https://towardsdatascience.com/inter-annotator-agreement-2f46c6d37bf3)\r\n",
    "\r\n",
    "TODO: #2 Fix jupyter switching version when updating from vscode "
   ],
   "metadata": {}
  },
  {
   "cell_type": "markdown",
   "source": [
    "### 2021/05/26\r\n",
    "\r\n",
    "**Aim**: Finish pipeline to evaluate IAA(*Anton<-->Phrasematcher*) for 1 chart via Cohen/Fleiss' Kappa\r\n",
    "\r\n",
    "- implement spacy.phrasematcher.output comparable INCEpTIOn.output. <span style=\"background:#d902ee; color:#ffea04;text-transform: uppercase; font-weight: bold\">Require: Parsable with evaluation metric </span><span style=\"background:#00539CFF; color:#FFD662FF;text-transform: uppercase\">Prefered: Parsable with evaluation metric </span>\r\n",
    "- implement Kappa evaluation metric\r\n",
    "- TODO #1 Updated spacy version can't update entities in same way as before, use *retokenize* \r\n",
    "- create barebones prototype of annotation guidelines as short readable doc.\r\n",
    "- Meeting Johanna + Anton 16: create meeting agenda \r\n",
    "---\r\n",
    "\r\n",
    "**Result**\r\n",
    "\r\n",
    "- added logbook\r\n",
    "- added meeting notes logbook\r\n",
    "- meeting with Johanna (see meetingnotes from 2021/05/26)\r\n",
    "---\r\n",
    "\r\n",
    "*Gathered Material* \r\n",
    "\r\n",
    "- https://universaldependencies.org/docs/format.html\r\n",
    "- [Pandas DataFrame](https://github.com/interrogator/conll-df)\r\n",
    "- [Inter-Annotator Agreement (IAA). Pair-wise Cohen kappa and group Fleiss’… | by Louis de Bruijn | Towards Data Science](https://towardsdatascience.com/inter-annotator-agreement-2f46c6d37bf3)\r\n",
    "\r\n",
    "TODO: #2 Fix jupyter switching version when updating from vscode "
   ],
   "metadata": {}
  },
  {
   "cell_type": "markdown",
   "source": [
    "### 2021/05/27\r\n",
    "\r\n",
    "**Aim**: \r\n",
    "\r\n",
    "**Result**"
   ],
   "metadata": {}
  },
  {
   "cell_type": "markdown",
   "source": [
    "### 2021/05/28 DEADLINE kl. 23.55 - Deadline inlämning av försättsblad i Moodle (signerat av student/er)\r\n",
    "\r\n",
    "**Aim**: Finish försättsblad \r\n",
    "\r\n",
    "**Result**\r\n",
    "\r\n",
    "- Wrote försättsblad\r\n",
    "- Meeting wiith Sonjato discuss project and how to deal with data\r\n",
    "-  Sonja Emailed inception about the data formats \r\n",
    "---"
   ],
   "metadata": {}
  },
  {
   "cell_type": "markdown",
   "source": [
    "### 2021/05/28\r\n",
    "\r\n",
    "**Aim**: \r\n",
    "\r\n",
    "- Refactor code - important to avoid errors that could hide\r\n",
    "-  \r\n",
    "\r\n",
    "**Result**\r\n",
    "\r\n",
    "- Refactored code \r\n",
    "- Cleaned up inception output files\r\n",
    "- Found way to convert conll2003 output files from inception to spacy binary format, which can be used in model traning.  \r\n",
    "- Updated requirements and formated "
   ],
   "metadata": {}
  },
  {
   "cell_type": "markdown",
   "source": [
    "### 2021-06-01 kl. <span style=\"background:#d902ee; color:#ffea04;text-transform: uppercase; font-weight: bold\"> 23:55 </span> DEADLINE\r\n",
    "1. Redovisningsschema (med dag, tid, bedömare samt opponent) skickas ut via mail från kurssekretariatet till studenter\r\n",
    "2. Studenter skall SAMMA DAG göra följande:\r\n",
    "   1.  A. Ladda upp uppsats i pdf-format på Moodle (laddas sedan ner av respektive bedömare)\r\n",
    "   2.  B. Maila uppsatsen i pdf-format till respektive opponent/-er\r\n",
    "\r\n"
   ],
   "metadata": {}
  },
  {
   "cell_type": "markdown",
   "source": [
    "### 2021/07/18\r\n",
    "\r\n",
    "**Aim**: \r\n",
    "\r\n",
    "- Refactor spacy_pipeline_v3\r\n",
    "  \r\n",
    "**Result**\r\n",
    "\r\n",
    "- Moved code to correct places, cleaned up and defined functions ect.\r\n",
    " \r\n",
    "**ToDo**\r\n",
    "\r\n",
    "- Test for compete working version and refacotor data handling to python methods outside notebook"
   ],
   "metadata": {}
  },
  {
   "cell_type": "markdown",
   "source": [
    "### 2021/07/22\r\n",
    "\r\n",
    "**Aim**: \r\n",
    "\r\n",
    "- Get oriented and clean up information \r\n",
    "- Set next steps \r\n",
    "\r\n",
    "**Result**\r\n",
    "\r\n",
    "- Collected, reindexed and cleaned my knowledge base into one place in Notion\r\n",
    "- Talked to S & J about meeting and coming steps\r\n",
    "- Talked to Noëmi about her NLP project \r\n",
    "- Reasearched python design principles to clean up code\r\n",
    "\r\n",
    "**ToDo**\r\n"
   ],
   "metadata": {}
  },
  {
   "cell_type": "markdown",
   "source": [
    "### 2021/07/22\r\n",
    "\r\n",
    "**Aim**: \r\n",
    "\r\n",
    "- Test pipeline \r\n",
    "- Solve or find next steps for exporting Conll from INCEpTION\r\n",
    "  \r\n",
    "**Result**\r\n",
    "\r\n",
    "- Created code for idNr check from Antons first version\r\n",
    "\r\n",
    "**ToDo**\r\n",
    "\r\n",
    "- "
   ],
   "metadata": {}
  },
  {
   "cell_type": "markdown",
   "source": [
    "### 2021/07/23\r\n",
    "\r\n",
    "**Aim**: \r\n",
    "\r\n",
    "- Test pipeline \r\n",
    "- Solve or find next steps for exporting Conll from INCEpTION\r\n",
    "  \r\n",
    "**Result**\r\n",
    "\r\n",
    "- Set up stable baser version of pipeline that runs \r\n",
    "- Researched unit testing\r\n",
    "- Got info from Sonja that INCEpTION team hasn't answered yet \r\n",
    "\r\n",
    "**ToDo**\r\n",
    "\r\n",
    "- "
   ],
   "metadata": {}
  },
  {
   "cell_type": "markdown",
   "source": [
    "### 2021/07/23\r\n",
    "\r\n",
    "**Aim & Results**: \r\n",
    "\r\n",
    "    1. test spacy converts a correct conll2003 file properly -->  (Y)\r\n",
    "    2. debug why some annotations output from INCEpTION and some don't \r\n",
    "       1. --> Other formats have correct annotations \r\n",
    "       2. --> custom layers only output in some formats \r\n",
    "          1. also pretokenized texts are handled specially. Since we have row breaks INCEpTION will use thoose as sentance limit markers. There is a jupyter nootebook (colab) from INCEpTION that goes through this, but a bit hard to find \r\n",
    "       3. --> simple solution create new  annotations for some docs to test (we want to have >=2 sets of annotations anyhow)\r\n",
    "       4. --> Test results using new files --> export looks correct --> test using spacy evaluate \r\n",
    "       5. --> Tests complete - export and conversion working \r\n",
    "\r\n",
    "#### Other results & notes\r\n",
    "- .spacy files are serialised docbins, one can use DocBin from spacy.tokens to retrive the documents contained in the docbin with their annotations by using inbuilt methods and can display using displacy to compare. \r\n",
    "\r\n",
    "- updated to INCEpTION 20.0 to see whether bug might be fixed. No fix, as it seems it's not a but, but just a non feature creating our export problem. However the program is much faster and seems to run better overall. Limited potential of problems with upgrade as we never had stable base version i project and it's better to establish in the lastes version - which does have many stability improvments. \r\n",
    "  \r\n",
    "\r\n",
    "  #### ToDo\r\n",
    "\r\n",
    "  - Examine low precision reults --> \r\n",
    "    - implement data cleaning for ICD (only R category )\r\n",
    "    - Perhaps tests whether dependancy parser and POS can be used to isolate the main symtom/finding\r\n",
    "    - decide terminology for fynd: finding or sign\r\n",
    "    - talk to Anton about reannotating the charts using the new guidelines\r\n",
    "    - implement intra-annotator agreement\r\n",
    "    - implement inter-annotator agreement\r\n",
    "    - implement confusion matrix \r\n",
    "    - implement FP TP FN TN analysis in table \r\n",
    "    - implement export of statistics \r\n",
    "\r\n",
    "?? Test if spacy can run locally as the corpus as small and we're not doing any traning --> Easier to debug and refactor as a proper application with data handling \r\n",
    "\r\n",
    "    - "
   ],
   "metadata": {}
  }
 ],
 "metadata": {
  "interpreter": {
   "hash": "8826b53f20e9cd7110a7f40447e35f8ee8fd51c1cc996b01684cb7063458cfdb"
  },
  "kernelspec": {
   "name": "python3",
   "display_name": "Python 3.8.8 64-bit ('base': conda)"
  },
  "language_info": {
   "name": "python",
   "version": "3.8.8",
   "mimetype": "text/x-python",
   "codemirror_mode": {
    "name": "ipython",
    "version": 3
   },
   "pygments_lexer": "ipython3",
   "nbconvert_exporter": "python",
   "file_extension": ".py"
  },
  "metadata": {
   "interpreter": {
    "hash": "d91c48f48189c56664de038e34a1f930f7a4a539cbe8f04b9f1e81ab0844a6c3"
   }
  },
  "orig_nbformat": 2
 },
 "nbformat": 4,
 "nbformat_minor": 2
}