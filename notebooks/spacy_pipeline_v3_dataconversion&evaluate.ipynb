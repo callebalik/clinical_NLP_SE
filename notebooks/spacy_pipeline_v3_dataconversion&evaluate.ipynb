{
  "cells": [
    {
      "cell_type": "markdown",
      "source": [
        "# SETUP ENVIRONMENT\r\n"
      ],
      "metadata": {
        "id": "-v8tIGSJKNHP"
      }
    },
    {
      "cell_type": "code",
      "execution_count": 3,
      "source": [
        "# Check for and test tensorflow GPU hardware acceleration\r\n",
        "\r\n",
        "# Enable for using GPU\r\n",
        "\r\n",
        "# %tensorflow_version 2.x\r\n",
        "# import tensorflow as tf\r\n",
        "# device_name = tf.test.gpu_device_name()\r\n",
        "# if device_name != '/device:GPU:0':\r\n",
        "#   raise SystemError('GPU device not found')\r\n",
        "# print('Found GPU at: {}'.format(device_name))"
      ],
      "outputs": [
        {
          "output_type": "stream",
          "name": "stdout",
          "text": [
            "Found GPU at: /device:GPU:0\n"
          ]
        }
      ],
      "metadata": {
        "colab": {
          "base_uri": "https://localhost:8080/"
        },
        "id": "T7gENPU1L0wU",
        "outputId": "47c1ebf2-f07d-4186-b99c-98866a513743"
      }
    },
    {
      "cell_type": "markdown",
      "source": [
        "## MNT DRIVE AND CLONE GITHUB REPO"
      ],
      "metadata": {
        "id": "4oMxk8HK7lE_"
      }
    },
    {
      "cell_type": "code",
      "execution_count": 4,
      "source": [
        "# mnt drive \r\n",
        "from google.colab import drive\r\n",
        "drive.mount('/content/drive')"
      ],
      "outputs": [
        {
          "output_type": "stream",
          "name": "stdout",
          "text": [
            "Mounted at /content/drive\n"
          ]
        }
      ],
      "metadata": {
        "colab": {
          "base_uri": "https://localhost:8080/"
        },
        "id": "r2Et63n-mVcR",
        "outputId": "99a9ecec-7299-4aae-e6a1-049ce72a4f8c"
      }
    },
    {
      "cell_type": "code",
      "execution_count": 5,
      "source": [
        "# Access token from drive without exposing in text (accsessible in logfiles lol. Better than nothing)\r\n",
        "import os\r\n",
        "import subprocess\r\n",
        "from pathlib import Path\r\n",
        "\r\n",
        "drive_path = Path('/content/drive/MyDrive/bioNLP/')\r\n",
        "token = open(Path(drive_path.parent / \"token/colab.txt\"), \"r\").read()\r\n",
        "tkn = token.split(\"=\")\r\n",
        "\r\n",
        "repo_name = \"callebalik/clinical_NLP_SE.git\"\r\n",
        "cmd_string = 'git clone https://{0}@github.com/{1}'.format(tkn[1], repo_name)\r\n",
        "\r\n",
        "!{cmd_string}\r\n",
        "cmd_string = \"\" # removing the variable\r\n",
        "print(cmd_string)"
      ],
      "outputs": [
        {
          "output_type": "stream",
          "name": "stdout",
          "text": [
            "Cloning into 'clinical_NLP_SE'...\n",
            "remote: Enumerating objects: 490, done.\u001b[K\n",
            "remote: Counting objects: 100% (490/490), done.\u001b[K\n",
            "remote: Compressing objects: 100% (332/332), done.\u001b[K\n",
            "remote: Total 490 (delta 210), reused 356 (delta 110), pack-reused 0\u001b[K\n",
            "Receiving objects: 100% (490/490), 3.38 MiB | 12.25 MiB/s, done.\n",
            "Resolving deltas: 100% (210/210), done.\n",
            "\n"
          ]
        }
      ],
      "metadata": {
        "colab": {
          "base_uri": "https://localhost:8080/"
        },
        "id": "pm_acBxUvDFr",
        "outputId": "bb0acae0-cf03-4ea8-e760-dd14acaf0ed8"
      }
    },
    {
      "cell_type": "markdown",
      "source": [
        "## Set paths for the environment and import models"
      ],
      "metadata": {
        "id": "NW4xS0OwedjI"
      }
    },
    {
      "cell_type": "code",
      "execution_count": 6,
      "source": [
        "# Set paths for the colab environment \r\n",
        "import os \r\n",
        "import sys\r\n",
        "from pathlib import Path\r\n",
        "\r\n",
        "repo_path = Path('/content/clinical_NLP_SE/')\r\n",
        "\r\n",
        "models_path = Path(drive_path / 'models')\r\n",
        "data_path = repo_path / 'data/'\r\n",
        "\r\n",
        "sys.path.append(str(repo_path / 'sripts/')) # Let pyhton find scripts from the repo"
      ],
      "outputs": [],
      "metadata": {
        "id": "Qcvdae0Rdbpm"
      }
    },
    {
      "cell_type": "code",
      "execution_count": 7,
      "source": [
        "# Make colab update/reaload modules when cells run\r\n",
        "%load_ext autoreload\r\n",
        "%autoreload 2"
      ],
      "outputs": [],
      "metadata": {
        "id": "RZvaDg0-uz9B"
      }
    },
    {
      "cell_type": "markdown",
      "source": [
        "## Install requirements "
      ],
      "metadata": {
        "id": "ik3dRVgkeTCr"
      }
    },
    {
      "cell_type": "code",
      "execution_count": 8,
      "source": [
        "%%shell \r\n",
        "#Installed from requirements, but left as a note\r\n",
        "# pip install spacy-transformers\r\n",
        "# updating spacy in colab \r\n",
        "# pip install spacy==3.0.6  \r\n",
        "\r\n",
        "pip install -r /content/clinical_NLP_SE/requirements.txt\r\n",
        "python -m spacy info"
      ],
      "outputs": [
        {
          "output_type": "stream",
          "name": "stdout",
          "text": [
            "Collecting scispacy\n",
            "\u001b[?25l  Downloading https://files.pythonhosted.org/packages/46/d2/456e1f66f7ba65209746aac666b22e0c11e9aee6d9f549a2fdba5d49247b/scispacy-0.4.0-py3-none-any.whl (44kB)\n",
            "\u001b[K     |████████████████████████████████| 51kB 4.1MB/s \n",
            "\u001b[?25hCollecting spacy-transformers\n",
            "  Downloading https://files.pythonhosted.org/packages/e8/c5/a156f9c979cc14f5f41cf2e6ecfc55d1128ac0363930ec7cc6fe4d98b4a2/spacy_transformers-1.0.2-py2.py3-none-any.whl\n",
            "Requirement already satisfied: pandas in /usr/local/lib/python3.7/dist-packages (from -r /content/clinical_NLP_SE/requirements.txt (line 8)) (1.1.5)\n",
            "Collecting spacy>=3.0.6\n",
            "\u001b[?25l  Downloading https://files.pythonhosted.org/packages/1b/d8/0361bbaf7a1ff56b44dca04dace54c82d63dad7475b7d25ea1baefafafb2/spacy-3.0.6-cp37-cp37m-manylinux2014_x86_64.whl (12.8MB)\n",
            "\u001b[K     |████████████████████████████████| 12.8MB 228kB/s \n",
            "\u001b[?25hCollecting python-dotenv>=0.5.1\n",
            "  Downloading https://files.pythonhosted.org/packages/26/1f/ae3d06ec877df31f49448d24eee7198549edae2af00da60c85dad93e343f/python_dotenv-0.17.1-py2.py3-none-any.whl\n",
            "Requirement already satisfied: requests<3.0.0,>=2.0.0 in /usr/local/lib/python3.7/dist-packages (from scispacy->-r /content/clinical_NLP_SE/requirements.txt (line 6)) (2.23.0)\n",
            "Requirement already satisfied: numpy in /usr/local/lib/python3.7/dist-packages (from scispacy->-r /content/clinical_NLP_SE/requirements.txt (line 6)) (1.19.5)\n",
            "Requirement already satisfied: scikit-learn>=0.20.3 in /usr/local/lib/python3.7/dist-packages (from scispacy->-r /content/clinical_NLP_SE/requirements.txt (line 6)) (0.22.2.post1)\n",
            "Requirement already satisfied: joblib in /usr/local/lib/python3.7/dist-packages (from scispacy->-r /content/clinical_NLP_SE/requirements.txt (line 6)) (1.0.1)\n",
            "Collecting conllu\n",
            "  Downloading https://files.pythonhosted.org/packages/ae/be/be6959c3ff2dbfdd87de4be0ccdff577835b5d08b1d25bf7fd4aaf0d7add/conllu-4.4-py2.py3-none-any.whl\n",
            "Collecting nmslib>=1.7.3.6\n",
            "\u001b[?25l  Downloading https://files.pythonhosted.org/packages/be/77/aebbd03a32488024d2ae2230b47a28f6fa83c887318e673fa5d3234f7772/nmslib-2.1.1-cp37-cp37m-manylinux2010_x86_64.whl (13.5MB)\n",
            "\u001b[K     |████████████████████████████████| 13.5MB 123kB/s \n",
            "\u001b[?25hCollecting pysbd\n",
            "\u001b[?25l  Downloading https://files.pythonhosted.org/packages/48/0a/c99fb7d7e176f8b176ef19704a32e6a9c6aafdf19ef75a187f701fc15801/pysbd-0.3.4-py3-none-any.whl (71kB)\n",
            "\u001b[K     |████████████████████████████████| 71kB 11.6MB/s \n",
            "\u001b[?25hCollecting srsly<3.0.0,>=2.4.0\n",
            "\u001b[?25l  Downloading https://files.pythonhosted.org/packages/c3/84/dfdfc9f6f04f6b88207d96d9520b911e5fec0c67ff47a0dea31ab5429a1e/srsly-2.4.1-cp37-cp37m-manylinux2014_x86_64.whl (456kB)\n",
            "\u001b[K     |████████████████████████████████| 460kB 44.5MB/s \n",
            "\u001b[?25hCollecting spacy-alignments<1.0.0,>=0.7.2\n",
            "\u001b[?25l  Downloading https://files.pythonhosted.org/packages/ea/86/a6786d24d1d8f3a6cff2c60b55a7e845725a94919cd94d270ea49d82e59b/spacy_alignments-0.8.3-cp37-cp37m-manylinux2014_x86_64.whl (998kB)\n",
            "\u001b[K     |████████████████████████████████| 1.0MB 39.9MB/s \n",
            "\u001b[?25hRequirement already satisfied: torch>=1.5.0 in /usr/local/lib/python3.7/dist-packages (from spacy-transformers->-r /content/clinical_NLP_SE/requirements.txt (line 7)) (1.8.1+cu101)\n",
            "Collecting transformers<4.6.0,>=3.4.0\n",
            "\u001b[?25l  Downloading https://files.pythonhosted.org/packages/d8/b2/57495b5309f09fa501866e225c84532d1fd89536ea62406b2181933fb418/transformers-4.5.1-py3-none-any.whl (2.1MB)\n",
            "\u001b[K     |████████████████████████████████| 2.1MB 46.5MB/s \n",
            "\u001b[?25hRequirement already satisfied: python-dateutil>=2.7.3 in /usr/local/lib/python3.7/dist-packages (from pandas->-r /content/clinical_NLP_SE/requirements.txt (line 8)) (2.8.1)\n",
            "Requirement already satisfied: pytz>=2017.2 in /usr/local/lib/python3.7/dist-packages (from pandas->-r /content/clinical_NLP_SE/requirements.txt (line 8)) (2018.9)\n",
            "Requirement already satisfied: wasabi<1.1.0,>=0.8.1 in /usr/local/lib/python3.7/dist-packages (from spacy>=3.0.6->-r /content/clinical_NLP_SE/requirements.txt (line 24)) (0.8.2)\n",
            "Requirement already satisfied: jinja2 in /usr/local/lib/python3.7/dist-packages (from spacy>=3.0.6->-r /content/clinical_NLP_SE/requirements.txt (line 24)) (2.11.3)\n",
            "Collecting catalogue<2.1.0,>=2.0.3\n",
            "  Downloading https://files.pythonhosted.org/packages/9c/10/dbc1203a4b1367c7b02fddf08cb2981d9aa3e688d398f587cea0ab9e3bec/catalogue-2.0.4-py3-none-any.whl\n",
            "Collecting thinc<8.1.0,>=8.0.3\n",
            "\u001b[?25l  Downloading https://files.pythonhosted.org/packages/61/87/decceba68a0c6ca356ddcb6aea8b2500e71d9bc187f148aae19b747b7d3c/thinc-8.0.3-cp37-cp37m-manylinux2014_x86_64.whl (1.1MB)\n",
            "\u001b[K     |████████████████████████████████| 1.1MB 34.1MB/s \n",
            "\u001b[?25hRequirement already satisfied: typing-extensions<4.0.0.0,>=3.7.4; python_version < \"3.8\" in /usr/local/lib/python3.7/dist-packages (from spacy>=3.0.6->-r /content/clinical_NLP_SE/requirements.txt (line 24)) (3.7.4.3)\n",
            "Requirement already satisfied: packaging>=20.0 in /usr/local/lib/python3.7/dist-packages (from spacy>=3.0.6->-r /content/clinical_NLP_SE/requirements.txt (line 24)) (20.9)\n",
            "Requirement already satisfied: preshed<3.1.0,>=3.0.2 in /usr/local/lib/python3.7/dist-packages (from spacy>=3.0.6->-r /content/clinical_NLP_SE/requirements.txt (line 24)) (3.0.5)\n",
            "Requirement already satisfied: cymem<2.1.0,>=2.0.2 in /usr/local/lib/python3.7/dist-packages (from spacy>=3.0.6->-r /content/clinical_NLP_SE/requirements.txt (line 24)) (2.0.5)\n",
            "Collecting spacy-legacy<3.1.0,>=3.0.4\n",
            "  Downloading https://files.pythonhosted.org/packages/8d/67/d4002a18e26bf29b17ab563ddb55232b445ab6a02f97bf17d1345ff34d3f/spacy_legacy-3.0.5-py2.py3-none-any.whl\n",
            "Requirement already satisfied: tqdm<5.0.0,>=4.38.0 in /usr/local/lib/python3.7/dist-packages (from spacy>=3.0.6->-r /content/clinical_NLP_SE/requirements.txt (line 24)) (4.41.1)\n",
            "Requirement already satisfied: blis<0.8.0,>=0.4.0 in /usr/local/lib/python3.7/dist-packages (from spacy>=3.0.6->-r /content/clinical_NLP_SE/requirements.txt (line 24)) (0.4.1)\n",
            "Requirement already satisfied: setuptools in /usr/local/lib/python3.7/dist-packages (from spacy>=3.0.6->-r /content/clinical_NLP_SE/requirements.txt (line 24)) (56.1.0)\n",
            "Collecting pydantic<1.8.0,>=1.7.1\n",
            "\u001b[?25l  Downloading https://files.pythonhosted.org/packages/ca/fa/d43f31874e1f2a9633e4c025be310f2ce7a8350017579e9e837a62630a7e/pydantic-1.7.4-cp37-cp37m-manylinux2014_x86_64.whl (9.1MB)\n",
            "\u001b[K     |████████████████████████████████| 9.1MB 38.9MB/s \n",
            "\u001b[?25hCollecting typer<0.4.0,>=0.3.0\n",
            "  Downloading https://files.pythonhosted.org/packages/90/34/d138832f6945432c638f32137e6c79a3b682f06a63c488dcfaca6b166c64/typer-0.3.2-py3-none-any.whl\n",
            "Collecting pathy>=0.3.5\n",
            "\u001b[?25l  Downloading https://files.pythonhosted.org/packages/13/87/5991d87be8ed60beb172b4062dbafef18b32fa559635a8e2b633c2974f85/pathy-0.5.2-py3-none-any.whl (42kB)\n",
            "\u001b[K     |████████████████████████████████| 51kB 7.9MB/s \n",
            "\u001b[?25hRequirement already satisfied: murmurhash<1.1.0,>=0.28.0 in /usr/local/lib/python3.7/dist-packages (from spacy>=3.0.6->-r /content/clinical_NLP_SE/requirements.txt (line 24)) (1.0.5)\n",
            "Requirement already satisfied: certifi>=2017.4.17 in /usr/local/lib/python3.7/dist-packages (from requests<3.0.0,>=2.0.0->scispacy->-r /content/clinical_NLP_SE/requirements.txt (line 6)) (2020.12.5)\n",
            "Requirement already satisfied: chardet<4,>=3.0.2 in /usr/local/lib/python3.7/dist-packages (from requests<3.0.0,>=2.0.0->scispacy->-r /content/clinical_NLP_SE/requirements.txt (line 6)) (3.0.4)\n",
            "Requirement already satisfied: idna<3,>=2.5 in /usr/local/lib/python3.7/dist-packages (from requests<3.0.0,>=2.0.0->scispacy->-r /content/clinical_NLP_SE/requirements.txt (line 6)) (2.10)\n",
            "Requirement already satisfied: urllib3!=1.25.0,!=1.25.1,<1.26,>=1.21.1 in /usr/local/lib/python3.7/dist-packages (from requests<3.0.0,>=2.0.0->scispacy->-r /content/clinical_NLP_SE/requirements.txt (line 6)) (1.24.3)\n",
            "Requirement already satisfied: scipy>=0.17.0 in /usr/local/lib/python3.7/dist-packages (from scikit-learn>=0.20.3->scispacy->-r /content/clinical_NLP_SE/requirements.txt (line 6)) (1.4.1)\n",
            "Collecting pybind11<2.6.2\n",
            "\u001b[?25l  Downloading https://files.pythonhosted.org/packages/00/84/fc9dc13ee536ba5e6b8fd10ce368fea5b738fe394c3b296cde7c9b144a92/pybind11-2.6.1-py2.py3-none-any.whl (188kB)\n",
            "\u001b[K     |████████████████████████████████| 194kB 59.4MB/s \n",
            "\u001b[?25hRequirement already satisfied: psutil in /usr/local/lib/python3.7/dist-packages (from nmslib>=1.7.3.6->scispacy->-r /content/clinical_NLP_SE/requirements.txt (line 6)) (5.4.8)\n",
            "Collecting sacremoses\n",
            "\u001b[?25l  Downloading https://files.pythonhosted.org/packages/75/ee/67241dc87f266093c533a2d4d3d69438e57d7a90abb216fa076e7d475d4a/sacremoses-0.0.45-py3-none-any.whl (895kB)\n",
            "\u001b[K     |████████████████████████████████| 901kB 40.1MB/s \n",
            "\u001b[?25hCollecting tokenizers<0.11,>=0.10.1\n",
            "\u001b[?25l  Downloading https://files.pythonhosted.org/packages/d4/e2/df3543e8ffdab68f5acc73f613de9c2b155ac47f162e725dcac87c521c11/tokenizers-0.10.3-cp37-cp37m-manylinux_2_5_x86_64.manylinux1_x86_64.manylinux_2_12_x86_64.manylinux2010_x86_64.whl (3.3MB)\n",
            "\u001b[K     |████████████████████████████████| 3.3MB 42.5MB/s \n",
            "\u001b[?25hRequirement already satisfied: importlib-metadata; python_version < \"3.8\" in /usr/local/lib/python3.7/dist-packages (from transformers<4.6.0,>=3.4.0->spacy-transformers->-r /content/clinical_NLP_SE/requirements.txt (line 7)) (4.0.1)\n",
            "Requirement already satisfied: regex!=2019.12.17 in /usr/local/lib/python3.7/dist-packages (from transformers<4.6.0,>=3.4.0->spacy-transformers->-r /content/clinical_NLP_SE/requirements.txt (line 7)) (2019.12.20)\n",
            "Requirement already satisfied: filelock in /usr/local/lib/python3.7/dist-packages (from transformers<4.6.0,>=3.4.0->spacy-transformers->-r /content/clinical_NLP_SE/requirements.txt (line 7)) (3.0.12)\n",
            "Requirement already satisfied: six>=1.5 in /usr/local/lib/python3.7/dist-packages (from python-dateutil>=2.7.3->pandas->-r /content/clinical_NLP_SE/requirements.txt (line 8)) (1.15.0)\n",
            "Requirement already satisfied: MarkupSafe>=0.23 in /usr/local/lib/python3.7/dist-packages (from jinja2->spacy>=3.0.6->-r /content/clinical_NLP_SE/requirements.txt (line 24)) (2.0.1)\n",
            "Requirement already satisfied: zipp>=0.5; python_version < \"3.8\" in /usr/local/lib/python3.7/dist-packages (from catalogue<2.1.0,>=2.0.3->spacy>=3.0.6->-r /content/clinical_NLP_SE/requirements.txt (line 24)) (3.4.1)\n",
            "Requirement already satisfied: pyparsing>=2.0.2 in /usr/local/lib/python3.7/dist-packages (from packaging>=20.0->spacy>=3.0.6->-r /content/clinical_NLP_SE/requirements.txt (line 24)) (2.4.7)\n",
            "Requirement already satisfied: click<7.2.0,>=7.1.1 in /usr/local/lib/python3.7/dist-packages (from typer<0.4.0,>=0.3.0->spacy>=3.0.6->-r /content/clinical_NLP_SE/requirements.txt (line 24)) (7.1.2)\n",
            "Collecting smart-open<4.0.0,>=2.2.0\n",
            "\u001b[?25l  Downloading https://files.pythonhosted.org/packages/11/9a/ba2d5f67f25e8d5bbf2fcec7a99b1e38428e83cb715f64dd179ca43a11bb/smart_open-3.0.0.tar.gz (113kB)\n",
            "\u001b[K     |████████████████████████████████| 122kB 56.7MB/s \n",
            "\u001b[?25hBuilding wheels for collected packages: smart-open\n",
            "  Building wheel for smart-open (setup.py) ... \u001b[?25l\u001b[?25hdone\n",
            "  Created wheel for smart-open: filename=smart_open-3.0.0-cp37-none-any.whl size=107098 sha256=00ed9afe9a99bf74dd1a125536bf7b8f557f958dc39885ad548c4d4c2944ff24\n",
            "  Stored in directory: /root/.cache/pip/wheels/18/88/7c/f06dabd5e9cabe02d2269167bcacbbf9b47d0c0ff7d6ebcb78\n",
            "Successfully built smart-open\n",
            "Installing collected packages: catalogue, srsly, pydantic, thinc, spacy-legacy, typer, smart-open, pathy, spacy, conllu, pybind11, nmslib, pysbd, scispacy, spacy-alignments, sacremoses, tokenizers, transformers, spacy-transformers, python-dotenv\n",
            "  Found existing installation: catalogue 1.0.0\n",
            "    Uninstalling catalogue-1.0.0:\n",
            "      Successfully uninstalled catalogue-1.0.0\n",
            "  Found existing installation: srsly 1.0.5\n",
            "    Uninstalling srsly-1.0.5:\n",
            "      Successfully uninstalled srsly-1.0.5\n",
            "  Found existing installation: thinc 7.4.0\n",
            "    Uninstalling thinc-7.4.0:\n",
            "      Successfully uninstalled thinc-7.4.0\n",
            "  Found existing installation: smart-open 5.0.0\n",
            "    Uninstalling smart-open-5.0.0:\n",
            "      Successfully uninstalled smart-open-5.0.0\n",
            "  Found existing installation: spacy 2.2.4\n",
            "    Uninstalling spacy-2.2.4:\n",
            "      Successfully uninstalled spacy-2.2.4\n",
            "Successfully installed catalogue-2.0.4 conllu-4.4 nmslib-2.1.1 pathy-0.5.2 pybind11-2.6.1 pydantic-1.7.4 pysbd-0.3.4 python-dotenv-0.17.1 sacremoses-0.0.45 scispacy-0.4.0 smart-open-3.0.0 spacy-3.0.6 spacy-alignments-0.8.3 spacy-legacy-3.0.5 spacy-transformers-1.0.2 srsly-2.4.1 thinc-8.0.3 tokenizers-0.10.3 transformers-4.5.1 typer-0.3.2\n",
            "2021-05-31 07:09:41.712830: I tensorflow/stream_executor/platform/default/dso_loader.cc:53] Successfully opened dynamic library libcudart.so.11.0\n",
            "\u001b[1m\n",
            "============================== Info about spaCy ==============================\u001b[0m\n",
            "\n",
            "spaCy version    3.0.6                         \n",
            "Location         /usr/local/lib/python3.7/dist-packages/spacy\n",
            "Platform         Linux-5.4.109+-x86_64-with-Ubuntu-18.04-bionic\n",
            "Python version   3.7.10                        \n",
            "Pipelines                                      \n",
            "\n"
          ]
        },
        {
          "output_type": "execute_result",
          "data": {
            "text/plain": []
          },
          "metadata": {
            "tags": []
          },
          "execution_count": 8
        }
      ],
      "metadata": {
        "colab": {
          "base_uri": "https://localhost:8080/"
        },
        "collapsed": true,
        "id": "N0imwmM9eE3d",
        "outputId": "63625f38-2499-4b14-84d7-c06bce57c16a"
      }
    },
    {
      "cell_type": "markdown",
      "source": [
        "## GET DATA AND MODELS\r\n"
      ],
      "metadata": {
        "id": "Tsf5vHeSJ5Tg"
      }
    },
    {
      "cell_type": "code",
      "execution_count": 9,
      "source": [
        "%%shell\r\n",
        "# Get models from Kungbib https://github.com/Kungbib/swedish-spacy\r\n",
        "\r\n",
        "#Transformer models - # N.B. Make sure to install the spacy-transformers extension, or the models won't work.\r\n",
        "#wget https://data.kb.se/datasets/2020/10/swedish_nlp/spacy/sv_tagger-0.0.0.tar.gz\r\n",
        "\r\n",
        "pip install \"/content/drive/MyDrive/bioNLP/models/sv_pipeline-0.0.0.tar.gz\"\r\n",
        "\r\n",
        "# Older models\r\n",
        "#wget https://data.kb.se/datasets/2020/10/swedish_nlp/spacy/sv_model_upos.zip\r\n",
        "#wget https://data.kb.se/datasets/2020/10/swedish_nlp/spacy/sv_model_xpos.zip\r\n"
      ],
      "outputs": [
        {
          "output_type": "stream",
          "name": "stdout",
          "text": [
            "Processing ./drive/MyDrive/bioNLP/models/sv_pipeline-0.0.0.tar.gz\n",
            "Requirement already satisfied: spacy<3.1.0,>=3.0.1 in /usr/local/lib/python3.7/dist-packages (from sv-pipeline==0.0.0) (3.0.6)\n",
            "Requirement already satisfied: preshed<3.1.0,>=3.0.2 in /usr/local/lib/python3.7/dist-packages (from spacy<3.1.0,>=3.0.1->sv-pipeline==0.0.0) (3.0.5)\n",
            "Requirement already satisfied: jinja2 in /usr/local/lib/python3.7/dist-packages (from spacy<3.1.0,>=3.0.1->sv-pipeline==0.0.0) (2.11.3)\n",
            "Requirement already satisfied: typing-extensions<4.0.0.0,>=3.7.4; python_version < \"3.8\" in /usr/local/lib/python3.7/dist-packages (from spacy<3.1.0,>=3.0.1->sv-pipeline==0.0.0) (3.7.4.3)\n",
            "Requirement already satisfied: blis<0.8.0,>=0.4.0 in /usr/local/lib/python3.7/dist-packages (from spacy<3.1.0,>=3.0.1->sv-pipeline==0.0.0) (0.4.1)\n",
            "Requirement already satisfied: cymem<2.1.0,>=2.0.2 in /usr/local/lib/python3.7/dist-packages (from spacy<3.1.0,>=3.0.1->sv-pipeline==0.0.0) (2.0.5)\n",
            "Requirement already satisfied: spacy-legacy<3.1.0,>=3.0.4 in /usr/local/lib/python3.7/dist-packages (from spacy<3.1.0,>=3.0.1->sv-pipeline==0.0.0) (3.0.5)\n",
            "Requirement already satisfied: murmurhash<1.1.0,>=0.28.0 in /usr/local/lib/python3.7/dist-packages (from spacy<3.1.0,>=3.0.1->sv-pipeline==0.0.0) (1.0.5)\n",
            "Requirement already satisfied: setuptools in /usr/local/lib/python3.7/dist-packages (from spacy<3.1.0,>=3.0.1->sv-pipeline==0.0.0) (56.1.0)\n",
            "Requirement already satisfied: typer<0.4.0,>=0.3.0 in /usr/local/lib/python3.7/dist-packages (from spacy<3.1.0,>=3.0.1->sv-pipeline==0.0.0) (0.3.2)\n",
            "Requirement already satisfied: catalogue<2.1.0,>=2.0.3 in /usr/local/lib/python3.7/dist-packages (from spacy<3.1.0,>=3.0.1->sv-pipeline==0.0.0) (2.0.4)\n",
            "Requirement already satisfied: tqdm<5.0.0,>=4.38.0 in /usr/local/lib/python3.7/dist-packages (from spacy<3.1.0,>=3.0.1->sv-pipeline==0.0.0) (4.41.1)\n",
            "Requirement already satisfied: srsly<3.0.0,>=2.4.1 in /usr/local/lib/python3.7/dist-packages (from spacy<3.1.0,>=3.0.1->sv-pipeline==0.0.0) (2.4.1)\n",
            "Requirement already satisfied: thinc<8.1.0,>=8.0.3 in /usr/local/lib/python3.7/dist-packages (from spacy<3.1.0,>=3.0.1->sv-pipeline==0.0.0) (8.0.3)\n",
            "Requirement already satisfied: numpy>=1.15.0 in /usr/local/lib/python3.7/dist-packages (from spacy<3.1.0,>=3.0.1->sv-pipeline==0.0.0) (1.19.5)\n",
            "Requirement already satisfied: wasabi<1.1.0,>=0.8.1 in /usr/local/lib/python3.7/dist-packages (from spacy<3.1.0,>=3.0.1->sv-pipeline==0.0.0) (0.8.2)\n",
            "Requirement already satisfied: requests<3.0.0,>=2.13.0 in /usr/local/lib/python3.7/dist-packages (from spacy<3.1.0,>=3.0.1->sv-pipeline==0.0.0) (2.23.0)\n",
            "Requirement already satisfied: packaging>=20.0 in /usr/local/lib/python3.7/dist-packages (from spacy<3.1.0,>=3.0.1->sv-pipeline==0.0.0) (20.9)\n",
            "Requirement already satisfied: pathy>=0.3.5 in /usr/local/lib/python3.7/dist-packages (from spacy<3.1.0,>=3.0.1->sv-pipeline==0.0.0) (0.5.2)\n",
            "Requirement already satisfied: pydantic<1.8.0,>=1.7.1 in /usr/local/lib/python3.7/dist-packages (from spacy<3.1.0,>=3.0.1->sv-pipeline==0.0.0) (1.7.4)\n",
            "Requirement already satisfied: MarkupSafe>=0.23 in /usr/local/lib/python3.7/dist-packages (from jinja2->spacy<3.1.0,>=3.0.1->sv-pipeline==0.0.0) (2.0.1)\n",
            "Requirement already satisfied: click<7.2.0,>=7.1.1 in /usr/local/lib/python3.7/dist-packages (from typer<0.4.0,>=0.3.0->spacy<3.1.0,>=3.0.1->sv-pipeline==0.0.0) (7.1.2)\n",
            "Requirement already satisfied: zipp>=0.5; python_version < \"3.8\" in /usr/local/lib/python3.7/dist-packages (from catalogue<2.1.0,>=2.0.3->spacy<3.1.0,>=3.0.1->sv-pipeline==0.0.0) (3.4.1)\n",
            "Requirement already satisfied: idna<3,>=2.5 in /usr/local/lib/python3.7/dist-packages (from requests<3.0.0,>=2.13.0->spacy<3.1.0,>=3.0.1->sv-pipeline==0.0.0) (2.10)\n",
            "Requirement already satisfied: certifi>=2017.4.17 in /usr/local/lib/python3.7/dist-packages (from requests<3.0.0,>=2.13.0->spacy<3.1.0,>=3.0.1->sv-pipeline==0.0.0) (2020.12.5)\n",
            "Requirement already satisfied: chardet<4,>=3.0.2 in /usr/local/lib/python3.7/dist-packages (from requests<3.0.0,>=2.13.0->spacy<3.1.0,>=3.0.1->sv-pipeline==0.0.0) (3.0.4)\n",
            "Requirement already satisfied: urllib3!=1.25.0,!=1.25.1,<1.26,>=1.21.1 in /usr/local/lib/python3.7/dist-packages (from requests<3.0.0,>=2.13.0->spacy<3.1.0,>=3.0.1->sv-pipeline==0.0.0) (1.24.3)\n",
            "Requirement already satisfied: pyparsing>=2.0.2 in /usr/local/lib/python3.7/dist-packages (from packaging>=20.0->spacy<3.1.0,>=3.0.1->sv-pipeline==0.0.0) (2.4.7)\n",
            "Requirement already satisfied: smart-open<4.0.0,>=2.2.0 in /usr/local/lib/python3.7/dist-packages (from pathy>=0.3.5->spacy<3.1.0,>=3.0.1->sv-pipeline==0.0.0) (3.0.0)\n",
            "Building wheels for collected packages: sv-pipeline\n",
            "  Building wheel for sv-pipeline (setup.py) ... \u001b[?25l\u001b[?25hdone\n",
            "  Created wheel for sv-pipeline: filename=sv_pipeline-0.0.0-cp37-none-any.whl size=935375398 sha256=b32cda88e7af7e65ebf88c574e3d6ca9b40ff262b26f5eb36059377adea5d33b\n",
            "  Stored in directory: /root/.cache/pip/wheels/78/6b/1a/3724784df18ac433f7975f29d5cb3c47c3cfa3f40c4a87f60d\n",
            "Successfully built sv-pipeline\n",
            "Installing collected packages: sv-pipeline\n",
            "Successfully installed sv-pipeline-0.0.0\n"
          ]
        },
        {
          "output_type": "execute_result",
          "data": {
            "text/plain": []
          },
          "metadata": {
            "tags": []
          },
          "execution_count": 9
        }
      ],
      "metadata": {
        "colab": {
          "base_uri": "https://localhost:8080/"
        },
        "id": "HKfI3y19GVvZ",
        "outputId": "5bd92ba7-efa5-43dd-a935-ffa7acd6a0b3"
      }
    },
    {
      "cell_type": "markdown",
      "source": [
        "### Getting the Swedish models https://data.kb.se/datasets/2020/10/swedish_nlp/spacy/\r\n",
        "\r\n",
        "https://github.com/Kungbib/swedish-spacy\r\n",
        "\r\n",
        "The models can be downloaded with the commands below. For colab this is slow and they are instead accessed from the mounted from a google drive where they have been downloaded. If first time download and add to the correct folder of your drive. \r\n",
        "\r\n",
        "\r\n",
        "### Note from Kungbib\r\n",
        "\r\n",
        "** UPDATE February 2021 **: We are adding two transformer-based models trained in spaCy 3.0. They are available to download at the same link given below.\r\n",
        "One model is a complete pipeline with UPOS tagger, parser, sentencer, ner and lemmatizer (sv_pipeline-0.0.0.tar.gz). Unfortunately the lemmatizer is not yet trainable in spaCy, so the performance is as good as the quality of the rules/lookup tables available for Swedish (i.e. not very good). \r\n",
        "\r\n",
        "If you need a Swedish lemmatizer we advise you for the moment to have a look at Stanza, efselab or lemmy.ww\r\n",
        "\r\n",
        "---\r\n",
        "\r\n",
        "\r\n",
        "The other model is a XPOS tagger in case you need language-specific part-of-speech tags (sv_tagger-0.0.0.tar.gz)."
      ],
      "metadata": {
        "id": "856ILVilj-Ka"
      }
    },
    {
      "cell_type": "markdown",
      "source": [
        "## INITIALIZE SPACY"
      ],
      "metadata": {
        "id": "GDiEMNpj8SAh"
      }
    },
    {
      "cell_type": "code",
      "execution_count": 10,
      "source": [
        "import spacy \r\n",
        "nlp = spacy.load(\"sv_pipeline\") # Load the swedish model (can be done this way since it's installed as a pip package)"
      ],
      "outputs": [],
      "metadata": {
        "collapsed": true,
        "id": "Ie3y0lSVsXoY"
      }
    },
    {
      "cell_type": "markdown",
      "source": [
        "# NLP Model setup \r\n",
        "* In colab use Ctrl + F8 in this cell to run all environment setup above before starting\r\n",
        "* *Time estimate 3 min*"
      ],
      "metadata": {}
    },
    {
      "cell_type": "markdown",
      "source": [
        "## NER"
      ],
      "metadata": {}
    },
    {
      "cell_type": "markdown",
      "source": [
        "### ICD-10"
      ],
      "metadata": {
        "id": "1lxUr5P_xZZd"
      }
    },
    {
      "cell_type": "code",
      "execution_count": 11,
      "source": [
        "''' Processing ICD codes using regex \r\n",
        "\r\n",
        "pattern and special signs \r\n",
        "LDD   LLLLLL\r\n",
        "LDD † LLLLLL\r\n",
        "LDD * LLLLLL\r\n",
        "\r\n",
        "Example \r\n",
        "P75\t*\tMekoniumileus vid cystisk fibros (E84.1)\r\n",
        "\r\n",
        "\r\n",
        "'''\r\n",
        "\r\n",
        "'''\r\n",
        "Positive Lookbehind (?<=\\D\\d\\d) Assert that the Regex below matches\r\n",
        "  \\D matches any character that's not a digit (equivalent to [^0-9])\r\n",
        "  \\d matches a digit (equivalent to [0-9])\r\n",
        "  \\d matches a digit (equivalent to [0-9])\r\n",
        "\\s matches any whitespace character (equivalent to [\\r\\n\\t\\f\\v ])\r\n",
        "+? matches the previous token between one and unlimited times, as few times as possible, expanding as needed (lazy)\r\n",
        ". matches any character (except for line terminators)\r\n",
        "? matches the previous token between zero and one times, as many times as possible, giving back as needed (greedy)\r\n",
        "\\s matches any whitespace character (equivalent to [\\r\\n\\t\\f\\v ])\r\n",
        "\r\n",
        "Global pattern flags\r\n",
        "g modifier: global. All matches (don't return after first match)\r\n",
        "m modifier: multi line. Causes ^ and $ to match the begin/end of each line (not only begin/end of string)\r\n",
        "'''\r\n",
        "\r\n",
        "import re\r\n",
        "\r\n",
        "regex_ddd = '/(?<=\\D\\d\\d)\\s+?.?\\s/gm'\r\n",
        "regex_dddR = '/(?<=R\\d\\d)\\s+?.?\\s/gm' \r\n",
        "ddd = r'(?<=\\D\\d\\d)\\s+?.?\\s'\r\n",
        "dddd = r'(?<=\\D\\d\\d\\d)\\s+?.?\\s'\r\n",
        "ddddd = r'((?<=\\D\\d\\d\\d\\d)|(?<=\\D\\d\\d\\d\\D))\\s+?.?\\s'\r\n",
        "\r\n",
        "'''\r\n",
        "A513B\t†\tSyfilitisk (sekundär) alopeci (L99.8)\r\n",
        "Y3498\t\tOspecificerad skadehändelse, med oklar avsikt-plats, ospecificerad-andra specificerade aktiviteter\r\n",
        "Y3499\t\tOspecificerad skadehändelse, med oklar avsikt-plats, ospecificerad-aktivitet, ospecificerad\r\n",
        "Y586A\t\tKomplikation av vaccin mot kikhosta, enbart (P)\r\n",
        "Y586B\t\tKomplikation av vaccin mot difteri, kikhosta och stelkramp, kombinerat (DPT)\r\n",
        "Y586W\t\tKomplikation av annat kombinerat \r\n",
        "'''\r\n",
        "\r\n",
        "ICD_PATH = data_path / 'raw/codes/icd-10-se-2021-text'\r\n",
        "file_path = ICD_PATH / 'digit3.txt'\r\n",
        "\r\n",
        "ICD000 = []\r\n",
        "with open(ICD_PATH / 'digit3.txt','r') as codes:\r\n",
        "    for line in codes:\r\n",
        "        x = re.split(ddd, line)\r\n",
        "        ICD000.append(x[1].strip())\r\n",
        "\r\n",
        "ICD0000 = []\r\n",
        "with open(ICD_PATH / 'digit4.txt','r') as codes:\r\n",
        "    for line in codes:\r\n",
        "        x = re.split(dddd, line)\r\n",
        "        ICD0000.append(x[1].strip())\r\n",
        "        \r\n",
        "ICD00000 = []\r\n",
        "with open(ICD_PATH / 'digit5.txt','r') as codes:\r\n",
        "    for line in codes:\r\n",
        "        x = re.split(ddddd, line)\r\n",
        "        ICD00000.append(x[1])\r\n",
        "\r\n",
        "ICD = ICD000 + ICD0000 + ICD00000"
      ],
      "outputs": [],
      "metadata": {
        "collapsed": true,
        "id": "rat3P78h9bp3"
      }
    },
    {
      "cell_type": "markdown",
      "source": [
        "### Negations"
      ],
      "metadata": {
        "id": "A1_W-54-Om7d"
      }
    },
    {
      "cell_type": "code",
      "execution_count": 12,
      "source": [
        "''' Processing negations '''\r\n",
        "\r\n",
        "NEG_PATH = data_path / 'raw/negations'\r\n",
        "\r\n",
        "NEG = []\r\n",
        "with open(NEG_PATH / 'negEx2.txt','r') as neg:\r\n",
        "    for line in neg:\r\n",
        "        x = re.split(r'\\s+(?=\\[)', line)\r\n",
        "        NEG.append(x[0].strip())"
      ],
      "outputs": [],
      "metadata": {
        "id": "MgS0fAoKxq4V"
      }
    },
    {
      "cell_type": "markdown",
      "source": [
        "### Setup Entity ruler - Recognizing Custom Named entities"
      ],
      "metadata": {}
    },
    {
      "cell_type": "code",
      "execution_count": 23,
      "source": [
        "icd_entries = [nlp.make_doc(text.lower()) for text in ICD]\r\n",
        "neg_phrases = [nlp.make_doc(text.lower()) for text in NEG]"
      ],
      "outputs": [],
      "metadata": {
        "id": "s2hVwuI7RbcG"
      }
    },
    {
      "cell_type": "code",
      "execution_count": 41,
      "source": [
        "# %%%%%%%%%\r\n",
        "# ENTITY RULER\r\n",
        "# %%%%%%%%%\r\n",
        "\r\n",
        "# implementation note - Integration with built in named entity recognizer. \r\n",
        "# - - - \r\n",
        "# Ruler -->  Recognizer = \r\n",
        "#   - Recognizer respects existing entity spans\r\n",
        "#   - Adjust its predictions around it. \r\n",
        "# Can improve accuracy in some cases. \r\n",
        "# - - -\r\n",
        "# Recognizer --> Ruler = \r\n",
        "#   - Ruler only add spans to the doc.ents if they don’t overlap with existing entities predicted by the model \r\n",
        "#   - To overwrite overlapping entities, you can set overwrite_ents=True on initialization.\r\n",
        "\r\n",
        "\r\n",
        "config = {\r\n",
        "      \"phrase_matcher_attr\": \"lower\",\r\n",
        "      \"validate\": True, # Whether patterns should be validated (passed to the Matcher and PhraseMatcher). Defaults to False.\r\n",
        "      \"overwrite_ents\": False,\r\n",
        "      \"ent_id_sep\": \"||\",\r\n",
        "    }\r\n",
        "\r\n",
        "try:\r\n",
        "  ruler = nlp.add_pipe(\"entity_ruler\", config=config)\r\n",
        "  # ruler.phrase_matcher = matcher # Changes the pharsematcher\r\n",
        "except (NameError, ValueError) as e:\r\n",
        "  ruler = nlp.replace_pipe(name=\"entity_ruler\", factory_name=\"entity_ruler\", config=config)\r\n",
        "  #ruler.phrase_matcher = matcher # Changes the phrsematcher\r\n",
        "  print(\"Entity ruler already added, replacing instead of creating\")\r\n",
        "\r\n",
        "\r\n",
        "# ToDO implement test to see that there are no residual patterns \r\n",
        "print(\"----Printing patterns, should be empty at this point----\")    \r\n",
        "print(ruler.patterns)\r\n",
        "\r\n",
        "\r\n",
        "\r\n",
        "# Add patterns to the entity ruler \r\n",
        "# ToDO implemnt data format and quality check in ICD and Neg files - should be done in data processing\r\n",
        "patterns = []\r\n",
        "\r\n",
        "for pattern in icd_entries: \r\n",
        "  p = {\"label\":\"SYM\",\"pattern\":[{\"LOWER\":str(pattern)}]} # adds rule to label lowercase str of icd_code \r\n",
        "  patterns.append(p)\r\n",
        "\r\n",
        "for pattern in neg_phrases:\r\n",
        "  p = {\"label\":\"NEG\",\"pattern\":[{\"LOWER\":str(pattern)}]}\r\n",
        "  patterns.append(p)\r\n",
        "\r\n",
        "# ToDO Check what function select_pipes(enable=\"tagger\") fills. I think it's just faster as not whole model has to be loaded.\r\n",
        "with nlp.select_pipes(enable=\"tagger\"): \r\n",
        "  ruler.add_patterns(patterns)\r\n",
        "\r\n",
        "\r\n",
        "# nlp.pipeline # pipeline components\r\n",
        "# ruler.patterns # ruler patterns \r\n",
        "\r\n",
        "# --------\r\n",
        "# save ruler to disk in jsonl format - can then be loaded to model \r\n",
        "#ruler.to_disk(Path(repo_path / \"models/patterns.jsonl\"))"
      ],
      "outputs": [
        {
          "output_type": "stream",
          "name": "stdout",
          "text": [
            "Entity ruler already added, replacing instead of creating\n",
            "----Printing patterns, should be empty at this point----\n",
            "[]\n"
          ]
        }
      ],
      "metadata": {
        "colab": {
          "base_uri": "https://localhost:8080/"
        },
        "id": "XXWLPItwwu-U",
        "outputId": "c5c2f4f2-dd26-40e4-e9dd-8833302ace02"
      }
    },
    {
      "cell_type": "code",
      "execution_count": 44,
      "source": [
        "# Small test to se if the NLP model now finds kolera and neg \r\n",
        "# We do not have to init anything as the ruler is already part of the pipelien \r\n",
        "doc = nlp(\"Kolera, är inte en hemsk sjukdom\")\r\n",
        "\r\n",
        "print([(ent.text, ent.label_, ent.ent_id_) for ent in doc.ents])"
      ],
      "outputs": [
        {
          "output_type": "stream",
          "name": "stdout",
          "text": [
            "[('Kolera', 'SYM', ''), ('inte', 'NEG', '')]\n"
          ]
        }
      ],
      "metadata": {
        "colab": {
          "base_uri": "https://localhost:8080/"
        },
        "id": "Asm_-6kIDA9K",
        "outputId": "7103e339-46d5-421a-94ad-c926f142a2d0"
      }
    },
    {
      "cell_type": "code",
      "execution_count": 28,
      "source": [
        "# Analyse the pipeline and store the analysis under 'pipe_analysis'\r\n",
        "pipe_analysis = nlp.analyze_pipes(pretty=True)\r\n",
        "# print(nlp.pipe_names)  # see all components in the pipeline"
      ],
      "outputs": [
        {
          "output_type": "stream",
          "name": "stdout",
          "text": [
            "\u001b[1m\n",
            "============================= Pipeline Overview =============================\u001b[0m\n",
            "\n",
            "#   Component         Assigns               Requires   Scores             Retokenizes\n",
            "-   ---------------   -------------------   --------   ----------------   -----------\n",
            "0   transformer       doc._.trf_data                                      False      \n",
            "                                                                                     \n",
            "1   tagger            token.tag                        tag_acc            False      \n",
            "                                                                                     \n",
            "2   parser            token.dep                        dep_uas            False      \n",
            "                      token.head                       dep_las                       \n",
            "                      token.is_sent_start              dep_las_per_type              \n",
            "                      doc.sents                        sents_p                       \n",
            "                                                       sents_r                       \n",
            "                                                       sents_f                       \n",
            "                                                                                     \n",
            "3   transformer_ner   doc._.trf_data                                      False      \n",
            "                                                                                     \n",
            "4   ner               doc.ents                         ents_f             False      \n",
            "                      token.ent_iob                    ents_p                        \n",
            "                      token.ent_type                   ents_r                        \n",
            "                                                       ents_per_type                 \n",
            "                                                                                     \n",
            "5   attribute_ruler                                                       False      \n",
            "                                                                                     \n",
            "6   lemmatizer        token.lemma                      lemma_acc          False      \n",
            "                                                                                     \n",
            "7   entity_ruler      doc.ents                         ents_f             False      \n",
            "                      token.ent_type                   ents_p                        \n",
            "                      token.ent_iob                    ents_r                        \n",
            "                                                       ents_per_type                 \n",
            "\n",
            "\u001b[38;5;2m✔ No problems found.\u001b[0m\n"
          ]
        }
      ],
      "metadata": {
        "colab": {
          "base_uri": "https://localhost:8080/"
        },
        "id": "F1dypnXX2O1T",
        "outputId": "466a9e90-6b4e-4c80-9220-3b0c0d736584"
      }
    },
    {
      "cell_type": "markdown",
      "source": [
        "### Analysing & Exporting model result using pandas and tabulate"
      ],
      "metadata": {}
    },
    {
      "cell_type": "code",
      "execution_count": null,
      "source": [
        "from tabulate import tabulate\r\n",
        "import pandas as pd\r\n",
        "\r\n",
        "cols = (\"space\", \"text\", \"lemma\", \"normalization\", \"POS\", \"explain\", \"stopword\", \"dep\",\"NE\", \"sentiment\")\r\n",
        "rows = []\r\n",
        "\r\n",
        "for t in doc: \r\n",
        "  if t.ent_type_ != \"\":\r\n",
        "\r\n",
        "    row = [t.is_space, t.text, t.lemma_, t.norm_, t.pos_, spacy.explain(t.pos_), t.is_stop, t.dep_, t.ent_type_, t.sentiment]\r\n",
        "    rows.append(row)\r\n",
        "\r\n",
        "df = pd.DataFrame(rows, columns=cols)\r\n",
        "print(tabulate(df, headers = cols, tablefmt='psql', showindex=False))\r\n"
      ],
      "outputs": [
        {
          "output_type": "stream",
          "name": "stdout",
          "text": [
            "+---------+-------------+-----------+-----------------+-------+------------+------------+-----------+------+-------------+\n",
            "| space   | text        | lemma     | normalization   | POS   | explain    | stopword   | dep       | NE   |   sentiment |\n",
            "|---------+-------------+-----------+-----------------+-------+------------+------------+-----------+------+-------------|\n",
            "| False   | dyspné      | dyspné    | dyspné          | NOUN  | noun       | False      | conj      | SYM  |           0 |\n",
            "| False   | Tidigare    | Tidigare  | tidigare        | ADJ   | adjective  | True       | amod      | TME  |           0 |\n",
            "| False   | Inga        | Inga      | inga            | DET   | determiner | True       | det       | NEG  |           0 |\n",
            "| False   | utan        | utan      | utan            | ADP   | adposition | True       | case      | NEG  |           0 |\n",
            "| False   | igår        | igår      | igår            | ADV   | adverb     | True       | case      | TME  |           0 |\n",
            "| False   | kväll       | kvälla    | kväll           | NOUN  | noun       | False      | nmod      | TME  |           0 |\n",
            "| False   | Ingen       | Ingen     | ingen           | DET   | determiner | True       | det       | NEG  |           0 |\n",
            "| False   | 87          | 87        | 87              | NUM   | numeral    | False      | nummod    | MSR  |           0 |\n",
            "| False   | %           | %         | %               | NOUN  | noun       | False      | obl       | MSR  |           0 |\n",
            "| False   | utan        | utan      | utan            | ADP   | adposition | True       | case      | NEG  |           0 |\n",
            "| False   | hemtjänsten | hemtjänst | hemtjänsten     | NOUN  | noun       | False      | nsubj     | ORG  |           0 |\n",
            "| False   | 3-4         | 3-4       | 3-4             | NUM   | numeral    | False      | nummod    | TME  |           0 |\n",
            "| False   | dagar       | dag       | dagar           | NOUN  | noun       | True       | obl       | TME  |           0 |\n",
            "| False   | 94          | 94        | 94              | NUM   | numeral    | False      | nummod    | MSR  |           0 |\n",
            "| False   | %           | %         | %               | NOUN  | noun       | False      | appos     | MSR  |           0 |\n",
            "| False   | inga        | ingen     | inga            | DET   | determiner | True       | det       | NEG  |           0 |\n",
            "| False   | tecken      | tecken    | tecken          | NOUN  | noun       | False      | parataxis | NEG  |           0 |\n",
            "| False   | inga        | ingen     | inga            | DET   | determiner | True       | det       | NEG  |           0 |\n",
            "| False   | Ingen       | Ingen     | ingen           | DET   | determiner | True       | det       | NEG  |           0 |\n",
            "| False   | ingen       | ingen     | ingen           | DET   | determiner | True       | det       | NEG  |           0 |\n",
            "| False   | acidos      | acidos    | acidos          | NOUN  | noun       | False      | nmod      | SYM  |           0 |\n",
            "| False   | utan        | utan      | utan            | ADP   | adposition | True       | case      | NEG  |           0 |\n",
            "| False   | Inga        | Inga      | inga            | DET   | determiner | True       | det       | NEG  |           0 |\n",
            "| False   | tecken      | tecken    | tecken          | NOUN  | noun       | False      | ROOT      | NEG  |           0 |\n",
            "| False   | om          | om        | om              | ADP   | adposition | True       | case      | TME  |           0 |\n",
            "| False   | 1           | 1         | 1               | NUM   | numeral    | False      | nummod    | TME  |           0 |\n",
            "| False   | timme       | timme     | timme           | NOUN  | noun       | False      | nmod      | TME  |           0 |\n",
            "| False   | ej          | ej        | ej              | PART  | particle   | False      | advmod    | NEG  |           0 |\n",
            "+---------+-------------+-----------+-----------------+-------+------------+------------+-----------+------+-------------+\n"
          ]
        }
      ],
      "metadata": {
        "colab": {
          "base_uri": "https://localhost:8080/"
        },
        "collapsed": true,
        "id": "21EQTv2b0cyz",
        "outputId": "8bbc3052-e38a-460c-ae69-af5cee0d9dd8"
      }
    },
    {
      "cell_type": "code",
      "execution_count": null,
      "source": [
        "import pandas as pd\r\n",
        "\r\n",
        "'''\r\n",
        "    raw text\r\n",
        "    lemma – a root form of the word\r\n",
        "    part of speech\r\n",
        "    a flag for whether the word is a stopword – i.e., a common word that may be filtered out\r\n",
        "'''\r\n",
        "\r\n",
        "cols = (\r\n",
        "    \"NE\",\r\n",
        "    \"IOB\", \r\n",
        "    \"text\", \r\n",
        "    \"lemma\", \r\n",
        "    \"POS\", \r\n",
        "    \"dep\",\r\n",
        "    \"right edge\"\r\n",
        "     )\r\n",
        "\r\n",
        "df = pd.DataFrame()\r\n",
        "\r\n",
        "rows = []\r\n",
        "\r\n",
        "for t in doc:\r\n",
        "      if t.ent_type_ == \"SYM\" or \"NEG\":\r\n",
        "        row = [\r\n",
        "               t.ent_type_,\r\n",
        "               t.ent_iob_, \r\n",
        "               t.text, \r\n",
        "               t.lemma_, \r\n",
        "               spacy.explain(t.pos_), \r\n",
        "               t.dep_,\r\n",
        "               t.right_edge\r\n",
        "        ] \r\n",
        "              \r\n",
        "        rows.append(row)\r\n",
        "\r\n",
        "df = pd.DataFrame(rows, columns=cols)\r\n",
        "print(tabulate(df, headers = cols, tablefmt='psql', showindex=False))      "
      ],
      "outputs": [
        {
          "output_type": "stream",
          "name": "stdout",
          "text": [
            "+------+-------+---------------------+---------------------+---------------------------+------------+---------------------+\n",
            "| NE   | IOB   | text                | lemma               | POS                       | dep        | right edge          |\n",
            "|------+-------+---------------------+---------------------+---------------------------+------------+---------------------|\n",
            "|      | O     | Kontaktorsak        | Kontaktorsak        | noun                      | ROOT       | :                   |\n",
            "|      | O     | :                   | :                   | punctuation               | punct      | :                   |\n",
            "|      | O     | Medicinlarm         | Medicinlarm         | noun                      | ROOT       |                     |\n",
            "|      | O     | ,                   | ,                   | punctuation               | punct      | ,                   |\n",
            "| SYM  | B     | dyspné              | dyspné              | noun                      | conj       | dyspné              |\n",
            "|      | O     |                     |                     | punctuation               | punct      |                     |\n",
            "| TME  | B     | Tidigare            | Tidigare            | adjective                 | amod       | Tidigare            |\n",
            "|      | O     | sjukdomar           | sjukdom             | noun                      | ROOT       | :                   |\n",
            "|      | O     | :                   | :                   | punctuation               | punct      | :                   |\n",
            "|      | O     | Waranbehandlat      | Waranbehandlat      | adjective                 | amod       | Waranbehandlat      |\n",
            "|      | O     | FF                  | FF                  | proper noun               | ROOT       | .                   |\n",
            "|      | O     | ,                   | ,                   | punctuation               | punct      | ,                   |\n",
            "|      | O     | hyperlipidemi       | hyperlipidemi       | noun                      | conj       | hyperlipidemi       |\n",
            "|      | O     | .                   | .                   | punctuation               | punct      | .                   |\n",
            "|      | O     | BC                  | BC                  | proper noun               | ROOT       | .                   |\n",
            "|      | O     | vä                  | vä                  | noun                      | nmod       | lymfkörtelutrymning |\n",
            "|      | O     | 99                  | 99                  | numeral                   | nummod     | 99                  |\n",
            "|      | O     | ,                   | ,                   | punctuation               | punct      | ,                   |\n",
            "|      | O     | opererad            | operera             | adjective                 | amod       | opererad            |\n",
            "|      | O     | mastektomi          | mastektomi          | noun                      | appos      | lymfkörtelutrymning |\n",
            "|      | O     | +                   | +                   | symbol                    | case       | +                   |\n",
            "|      | O     | lymfkörtelutrymning | lymfkörtelutrymning | noun                      | nmod       | lymfkörtelutrymning |\n",
            "|      | O     | höger               | höger               | adjective                 | advmod     | höger               |\n",
            "|      | O     | .                   | .                   | punctuation               | punct      | .                   |\n",
            "| NEG  | B     | Inga                | Inga                | determiner                | det        | Inga                |\n",
            "|      | O     | recidiv             | recidiv             | noun                      | ROOT       | .                   |\n",
            "|      | O     | .                   | .                   | punctuation               | punct      | .                   |\n",
            "|      | O     | NSTEMI              | NSTEMI              | proper noun               | ROOT       | .                   |\n",
            "|      | O     | 2009                | 2009                | numeral                   | nummod     | 2009                |\n",
            "|      | O     | .                   | .                   | punctuation               | punct      | .                   |\n",
            "|      | O     | Stroke              | Stroke              | noun                      | ROOT       | .                   |\n",
            "|      | O     | 2012                | 2012                | numeral                   | nummod     | 2012                |\n",
            "| NEG  | B     | utan                | utan                | adposition                | case       | utan                |\n",
            "|      | O     | större              | stor                | adjective                 | amod       | större              |\n",
            "|      | O     | sequele             | sequele             | noun                      | nmod       | sequele             |\n",
            "|      | O     | .                   | .                   | punctuation               | punct      | .                   |\n",
            "|      | O     | Minnesproblematik   | Minnesproblematik   | noun                      | ROOT       | .                   |\n",
            "|      | O     | .                   | .                   | punctuation               | punct      | .                   |\n",
            "|      | O     |                     |                     | punctuation               | ROOT       |                     |\n",
            "|      | O     | Aktuellt            | Aktuellt            | noun                      | ROOT       | :                   |\n",
            "|      | O     | :                   | :                   | punctuation               | punct      | :                   |\n",
            "|      | O     | Funnen              | Funnen              | adjective                 | ROOT       | .                   |\n",
            "|      | O     | i                   | i                   | adposition                | case       | i                   |\n",
            "|      | O     | hemmet              | hem                 | noun                      | obl        | hemmet              |\n",
            "|      | O     | på                  | på                  | adposition                | case       | på                  |\n",
            "|      | O     | golvet              | golv                | noun                      | obl        | golvet              |\n",
            "|      | O     | ,                   | ,                   | punctuation               | punct      | ,                   |\n",
            "|      | O     | oklart              | oklar               | adjective                 | parataxis  | liggande            |\n",
            "|      | O     | hur                 | hur                 | adverb                    | advmod     | hur                 |\n",
            "|      | O     | länge               | länga               | adverb                    | advmod     | länge               |\n",
            "|      | O     | hon                 | hona                | pronoun                   | nsubj      | hon                 |\n",
            "|      | O     | blivit              | bli                 | verb                      | ccomp      | liggande            |\n",
            "|      | O     | liggande            | ligga               | verb                      | xcomp      | liggande            |\n",
            "|      | O     | .                   | .                   | punctuation               | punct      | .                   |\n",
            "|      | O     | Hittad              | Hittad              | adjective                 | ROOT       | .                   |\n",
            "|      | O     | av                  | av                  | adposition                | case       | av                  |\n",
            "|      | O     | hemtjänst           | hemtjänst           | noun                      | obl:agent  | hemtjänst           |\n",
            "|      | O     | kl                  | kl                  | noun                      | nmod       | kl                  |\n",
            "|      | O     | 7                   | 7                   | numeral                   | obl        | 7                   |\n",
            "|      | O     | ,                   | ,                   | punctuation               | punct      | ,                   |\n",
            "|      | O     | senast              | sen                 | adposition                | case       | senast              |\n",
            "|      | O     | tillsyn             | tillsyn             | noun                      | obl        | kväll               |\n",
            "| TME  | B     | igår                | igår                | adverb                    | case       | igår                |\n",
            "| TME  | I     | kväll               | kvälla              | noun                      | nmod       | kväll               |\n",
            "|      | O     | ca                  | ca                  | adverb                    | advmod     | ca                  |\n",
            "|      | O     | kl                  | kl                  | noun                      | nmod       | kl                  |\n",
            "|      | O     | 20                  | 20                  | numeral                   | obl        | 20                  |\n",
            "|      | O     | .                   | .                   | punctuation               | punct      | .                   |\n",
            "| NEG  | B     | Ingen               | Ingen               | determiner                | det        | Ingen               |\n",
            "|      | O     | autoanamnes         | autoanamnes         | noun                      | ROOT       | .                   |\n",
            "|      | O     | .                   | .                   | punctuation               | punct      | .                   |\n",
            "|      | O     | I                   | I                   | adposition                | case       | I                   |\n",
            "|      | O     | ambulansen          | ambulans            | noun                      | obl        | ambulansen          |\n",
            "|      | O     | febril              | febril              | adjective                 | ROOT       | .                   |\n",
            "|      | O     | ,                   | ,                   | punctuation               | punct      | ,                   |\n",
            "|      | O     | desaturerad         | desaturerad         | verb                      | conj       | syrgas              |\n",
            "| MSR  | B     | 87                  | 87                  | numeral                   | nummod     | 87                  |\n",
            "| MSR  | I     | %                   | %                   | noun                      | obl        | %                   |\n",
            "| NEG  | B     | utan                | utan                | adposition                | case       | utan                |\n",
            "|      | O     | syrgas              | syrgas              | noun                      | obl        | syrgas              |\n",
            "|      | O     | .                   | .                   | punctuation               | punct      | .                   |\n",
            "|      | O     | Enl                 | Enl                 | subordinating conjunction | mark       | Enl                 |\n",
            "| ORG  | B     | hemtjänsten         | hemtjänst           | noun                      | nsubj      | hemtjänsten         |\n",
            "|      | O     | varit               | vara                | auxiliary                 | cop        | varit               |\n",
            "|      | O     | förkyld             | förkyld             | adjective                 | ROOT       | .                   |\n",
            "| TME  | B     | 3-4                 | 3-4                 | numeral                   | nummod     | 3-4                 |\n",
            "| TME  | I     | dagar               | dag                 | noun                      | obl        | dagar               |\n",
            "|      | O     | .                   | .                   | punctuation               | punct      | .                   |\n",
            "|      | O     | Stabila             | Stabila             | adjective                 | amod       | Stabila             |\n",
            "|      | O     | VP                  | VP                  | noun                      | ROOT       | .                   |\n",
            "|      | O     | i                   | i                   | adposition                | advmod     | övrigt              |\n",
            "|      | O     | övrigt              | övrig               | adjective                 | fixed      | övrigt              |\n",
            "|      | O     | .                   | .                   | punctuation               | punct      | .                   |\n",
            "|      | O     |                     |                     | punctuation               | ROOT       |                     |\n",
            "|      | O     | A                   | A                   | proper noun               | ROOT       | :                   |\n",
            "|      | O     | :                   | :                   | punctuation               | punct      | :                   |\n",
            "|      | O     | Fritt               | Fritt               | adjective                 | amod       |                     |\n",
            "|      | O     |                     |                     | punctuation               | punct      |                     |\n",
            "|      | O     | B                   | B                   | noun                      | ROOT       | :                   |\n",
            "|      | O     | :                   | :                   | punctuation               | punct      | :                   |\n",
            "|      | O     | Antingsljud         | Antingsljud         | noun                      | ROOT       | .                   |\n",
            "|      | O     | bilateralt          | bilateral           | adjective                 | advmod     | syrgas              |\n",
            "|      | O     | ,                   | ,                   | punctuation               | punct      | ,                   |\n",
            "|      | O     | sat                 | sate                | noun                      | conj       | syrgas              |\n",
            "| MSR  | B     | 94                  | 94                  | numeral                   | nummod     | 94                  |\n",
            "| MSR  | I     | %                   | %                   | noun                      | appos      | %                   |\n",
            "|      | O     | på                  | på                  | adposition                | case       | på                  |\n",
            "|      | O     | 5l                  | 5l                  | numeral                   | nummod     | 5l                  |\n",
            "|      | O     | syrgas              | syrgas              | noun                      | obl        | syrgas              |\n",
            "|      | O     | .                   | .                   | punctuation               | punct      | .                   |\n",
            "|      | O     | Obstruktiv          | Obstruktiv          | adjective                 | amod       | Obstruktiv          |\n",
            "|      | O     | ,                   | ,                   | punctuation               | punct      | ,                   |\n",
            "|      | O     | förlängt            | förlänga            | adjective                 | amod       | förlängt            |\n",
            "|      | O     | expirum             | expirum             | noun                      | ROOT       | .                   |\n",
            "|      | O     | .                   | .                   | punctuation               | punct      | .                   |\n",
            "|      | O     | Erhåller            | Erhåller            | verb                      | ROOT       | .                   |\n",
            "|      | O     | inhalation          | inhalation          | noun                      | nmod       | inhalation          |\n",
            "|      | O     | sapimol             | sapimol             | noun                      | obj        | sapimol             |\n",
            "|      | O     | .                   | .                   | punctuation               | punct      | .                   |\n",
            "|      | O     | AF                  | AF                  | proper noun               | ROOT       | .                   |\n",
            "|      | O     | .                   | .                   | numeral                   | punct      | .                   |\n",
            "|      | O     | 28                  | 28                  | numeral                   | parataxis  | 28                  |\n",
            "|      | O     | .                   | .                   | punctuation               | punct      | .                   |\n",
            "|      | O     | Stabil              | Stabil              | adjective                 | amod       | Stabil              |\n",
            "|      | O     | bröstkorg           | bröstkorg           | noun                      | ROOT       |                     |\n",
            "|      | O     | ,                   | ,                   | punctuation               | punct      | ,                   |\n",
            "| NEG  | B     | inga                | ingen               | determiner                | det        | inga                |\n",
            "| NEG  | I     | tecken              | tecken              | noun                      | parataxis  | trauma              |\n",
            "|      | O     | till                | till                | adposition                | case       | till                |\n",
            "|      | O     | trauma              | trauma              | noun                      | nmod       | trauma              |\n",
            "|      | O     | .                   | .                   | punctuation               | punct      | .                   |\n",
            "|      | O     |                     |                     | punctuation               | punct      |                     |\n",
            "|      | O     | C                   | C                   | proper noun               | ROOT       | .                   |\n",
            "|      | O     | :                   | :                   | punctuation               | punct      | :                   |\n",
            "|      | O     | Fina                | Fina                | adjective                 | amod       | Fina                |\n",
            "|      | O     | radialispulsar      | radialispulsar      | noun                      | conj       | .                   |\n",
            "|      | O     | bilat               | bila                | adjective                 | acl        | bilat               |\n",
            "|      | O     | ,                   | ,                   | punctuation               | punct      | ,                   |\n",
            "|      | O     | kall                | kalla               | adjective                 | conj       | perifert            |\n",
            "|      | O     | perifert            | perifer             | adverb                    | advmod     | perifert            |\n",
            "|      | O     | .                   | .                   | punctuation               | punct      | .                   |\n",
            "|      | O     | Marmorerad          | Marmorerad          | adjective                 | ROOT       | .                   |\n",
            "|      | O     | över                | över                | adposition                | case       | över                |\n",
            "|      | O     | knän                | knä                 | noun                      | obl        | knän                |\n",
            "|      | O     | .                   | .                   | punctuation               | punct      | .                   |\n",
            "|      | O     | BT                  | BT                  | proper noun               | ROOT       | .                   |\n",
            "|      | O     | 90/70               | 90/70               | numeral                   | nmod       | 119                 |\n",
            "|      | O     | ,                   | ,                   | punctuation               | punct      | ,                   |\n",
            "|      | O     | p                   | p                   | noun                      | nmod       | p                   |\n",
            "|      | O     | 119                 | 119                 | numeral                   | nummod     | 119                 |\n",
            "|      | O     | .                   | .                   | punctuation               | punct      | .                   |\n",
            "|      | O     | Oregelbunden        | Oregelbunden        | adjective                 | ROOT       | .                   |\n",
            "|      | O     | .                   | .                   | punctuation               | punct      | .                   |\n",
            "|      | O     | I                   | I                   | adposition                | case       | I                   |\n",
            "|      | O     | telemetri           | telemetri           | noun                      | obl        | telemetri           |\n",
            "|      | O     | smala               | smal                | adjective                 | amod       | smala               |\n",
            "|      | O     | komplex             | komplex             | noun                      | ROOT       | .                   |\n",
            "|      | O     | .                   | .                   | punctuation               | punct      | .                   |\n",
            "|      | O     | Erhåller            | Erhåller            | verb                      | ROOT       | .                   |\n",
            "|      | O     | infart              | infart              | noun                      | obj        | infart              |\n",
            "|      | O     | ,                   | ,                   | punctuation               | punct      | ,                   |\n",
            "|      | O     | påbörjar            | påbörja             | verb                      | conj       | vätskerecusitering  |\n",
            "|      | O     | vätskerecusitering  | vätskerecusitering  | noun                      | obj        | vätskerecusitering  |\n",
            "|      | O     | .                   | .                   | punctuation               | punct      | .                   |\n",
            "|      | O     | Stabilt             | Stabilt             | adjective                 | amod       | Stabilt             |\n",
            "|      | O     | bäcken              | bäck                | noun                      | ROOT       | .                   |\n",
            "|      | O     | .                   | .                   | punctuation               | punct      | .                   |\n",
            "|      | O     | Buk                 | Buk                 | noun                      | nsubj      | Buk                 |\n",
            "|      | O     | mjuk                | mjuka               | adjective                 | ROOT       |                     |\n",
            "|      | O     | och                 | och                 | coordinating conjunction  | cc         | och                 |\n",
            "|      | O     | oöm                 | oöm                 | adjective                 | conj       | oöm                 |\n",
            "|      | O     | .                   | .                   | punctuation               | punct      | .                   |\n",
            "|      | O     |                     |                     | punctuation               | punct      |                     |\n",
            "|      | O     | D                   | D                   | proper noun               | ROOT       | :                   |\n",
            "|      | O     | :                   | :                   | punctuation               | punct      | :                   |\n",
            "|      | O     | Liksidiga           | Liksidiga           | adjective                 | amod       | Liksidiga           |\n",
            "|      | O     | pupiller            | pupill              | noun                      | ROOT       | .                   |\n",
            "|      | O     | ,                   | ,                   | punctuation               | punct      | ,                   |\n",
            "| NEG  | B     | inga                | ingen               | determiner                | det        | inga                |\n",
            "|      | O     | fokala              | fokal               | adjective                 | amod       | fokala              |\n",
            "|      | O     | neurotiska          | neurotisk           | adjective                 | amod       | neurotiska          |\n",
            "|      | O     | bortfall            | bortfalla           | noun                      | conj       | bortfall            |\n",
            "|      | O     | .                   | .                   | punctuation               | punct      | .                   |\n",
            "|      | O     | Konfusorisk         | Konfusorisk         | adjective                 | ROOT       | .                   |\n",
            "|      | O     | ,                   | ,                   | punctuation               | punct      | ,                   |\n",
            "|      | O     | RLS                 | RLS                 | proper noun               | parataxis  | 2                   |\n",
            "|      | O     | 2                   | 2                   | numeral                   | nummod     | 2                   |\n",
            "|      | O     | .                   | .                   | punctuation               | punct      | .                   |\n",
            "| NEG  | B     | Ingen               | Ingen               | determiner                | det        | Ingen               |\n",
            "|      | O     | nackstelhet         | nackstelhet         | noun                      | ROOT       | .                   |\n",
            "|      | O     | .                   | .                   | punctuation               | punct      | .                   |\n",
            "|      | O     |                     |                     | punctuation               | ROOT       |                     |\n",
            "|      | O     | E                   | E                   | proper noun               | ROOT       | :                   |\n",
            "|      | O     | :                   | :                   | punctuation               | punct      | :                   |\n",
            "|      | O     | Skrapsår            | Skrapsår            | noun                      | ROOT       | .                   |\n",
            "|      | O     | höger               | höger               | adjective                 | amod       | höger               |\n",
            "|      | O     | kind                | kind                | noun                      | appos      | utåtrotation        |\n",
            "|      | O     | ,                   | ,                   | punctuation               | punct      | ,                   |\n",
            "|      | O     | blåmärke            | blåmärke            | noun                      | conj       | höft                |\n",
            "|      | O     | vänster             | vänster             | adjective                 | amod       | vänster             |\n",
            "|      | O     | höft                | höft                | noun                      | nmod       | höft                |\n",
            "|      | O     | ,                   | ,                   | punctuation               | punct      | ,                   |\n",
            "| NEG  | B     | ingen               | ingen               | determiner                | det        | ingen               |\n",
            "|      | O     | utåtrotation        | utåtrotation        | noun                      | conj       | utåtrotation        |\n",
            "|      | O     | .                   | .                   | punctuation               | punct      | .                   |\n",
            "|      | O     | Hel                 | Hel                 | adjective                 | amod       | Hel                 |\n",
            "|      | O     | hudskstym           | hudskstym           | noun                      | ROOT       | .                   |\n",
            "|      | O     | .                   | .                   | punctuation               | punct      | .                   |\n",
            "|      | O     | Temp                | Temp                | noun                      | nmod       | Temp                |\n",
            "|      | O     | 39.4                | 39.4                | numeral                   | ROOT       |                     |\n",
            "|      | O     |                     |                     | punctuation               | punct      |                     |\n",
            "|      | O     | Lab                 | Lab                 | noun                      | ROOT       | :                   |\n",
            "|      | O     | :                   | :                   | punctuation               | punct      | :                   |\n",
            "|      | O     | Blodgas             | Blodgas             | noun                      | ROOT       | .                   |\n",
            "|      | O     | med                 | mede                | adposition                | case       | med                 |\n",
            "|      | O     | akut                | akut                | adjective                 | amod       | akut                |\n",
            "|      | O     | respriatorisk       | respriatorisk       | adjective                 | amod       | respriatorisk       |\n",
            "| SYM  | B     | acidos              | acidos              | noun                      | nmod       | acidos              |\n",
            "| NEG  | B     | utan                | utan                | adposition                | case       | utan                |\n",
            "|      | O     | kompensation        | kompensation        | noun                      | obl        | 8                   |\n",
            "|      | O     | ,                   | ,                   | punctuation               | punct      | ,                   |\n",
            "|      | O     | laktat              | laktat              | noun                      | conj       | 8                   |\n",
            "|      | O     | 8                   | 8                   | numeral                   | nummod     | 8                   |\n",
            "|      | O     | .                   | .                   | punctuation               | punct      | .                   |\n",
            "|      | O     |                     |                     | punctuation               | ROOT       |                     |\n",
            "|      | O     | EKG                 | EKG                 | noun                      | ROOT       | :                   |\n",
            "|      | O     | :                   | :                   | punctuation               | punct      | :                   |\n",
            "|      | O     | Förmaksflimmer      | Förmaksflimmer      | noun                      | ROOT       | .                   |\n",
            "|      | O     | kammarfrekvens      | kammarfrekvens      | noun                      | nmod       | kammarfrekvens      |\n",
            "|      | O     | 123                 | 123                 | numeral                   | nmod       | 123                 |\n",
            "|      | O     | .                   | .                   | punctuation               | punct      | .                   |\n",
            "|      | O     |                     |                     | punctuation               | ROOT       |                     |\n",
            "|      | O     | Bedömning           | Bedömning           | noun                      | ROOT       | :                   |\n",
            "|      | O     | :                   | :                   | punctuation               | punct      | :                   |\n",
            "|      | O     | Sepsis              | Sepsis              | noun                      | ROOT       | .                   |\n",
            "|      | O     | med                 | mede                | adposition                | case       | med                 |\n",
            "|      | O     | oklart              | oklar               | adjective                 | amod       | oklart              |\n",
            "|      | O     | fokus               | fokus               | noun                      | nmod       | fokus               |\n",
            "|      | O     | samt                | samt                | coordinating conjunction  | cc         | samt                |\n",
            "|      | O     | fall                | falla               | noun                      | conj       | traumamekanism      |\n",
            "|      | O     | med                 | mede                | adposition                | case       | med                 |\n",
            "|      | O     | oklar               | oklar               | adjective                 | amod       | oklar               |\n",
            "|      | O     | traumamekanism      | traumamekanism      | noun                      | nmod       | traumamekanism      |\n",
            "|      | O     | .                   | .                   | punctuation               | punct      | .                   |\n",
            "| NEG  | B     | Inga                | Inga                | determiner                | det        | Inga                |\n",
            "| NEG  | I     | tecken              | tecken              | noun                      | ROOT       | .                   |\n",
            "|      | O     | till                | till                | adposition                | case       | till                |\n",
            "|      | O     | blödning            | blödning            | noun                      | nmod       | skador              |\n",
            "|      | O     | i                   | i                   | adposition                | case       | i                   |\n",
            "|      | O     | buken               | buk                 | noun                      | nmod       | buken               |\n",
            "|      | O     | eller               | eller               | coordinating conjunction  | cc         | eller               |\n",
            "|      | O     | andra               | två                 | adjective                 | amod       | andra               |\n",
            "|      | O     | svåra               | svår                | adjective                 | amod       | svåra               |\n",
            "|      | O     | traumatiska         | traumatisk          | adjective                 | amod       | traumatiska         |\n",
            "|      | O     | skador              | skada               | noun                      | conj       | skador              |\n",
            "|      | O     | dock                | docka               | adverb                    | advmod     | dock                |\n",
            "|      | O     | oaktat              | oaktad              | adverb                    | advmod     | oaktat              |\n",
            "|      | O     | på                  | på                  | adposition                | case       | på                  |\n",
            "|      | O     | 8                   | 8                   | numeral                   | obl        | febril              |\n",
            "|      | O     | och                 | och                 | coordinating conjunction  | cc         | och                 |\n",
            "|      | O     | febril              | febril              | adjective                 | conj       | febril              |\n",
            "|      | O     | .                   | .                   | punctuation               | punct      | .                   |\n",
            "|      | O     | Genomodlas          | Genomodlas          | verb                      | ROOT       | .                   |\n",
            "|      | O     | ,                   | ,                   | punctuation               | punct      | ,                   |\n",
            "|      | O     | insättes            | insätta             | verb                      | conj       | insättes            |\n",
            "|      | O     | på                  | på                  | adposition                | case       | på                  |\n",
            "|      | O     | cefotaxim           | cefotaxim           | noun                      | obl        | 1x3                 |\n",
            "|      | O     | 1x3                 | 1x3                 | numeral                   | nummod     | 1x3                 |\n",
            "|      | O     | .                   | .                   | punctuation               | punct      | .                   |\n",
            "|      | O     | CT                  | CT                  | proper noun               | nummod     | CT                  |\n",
            "|      | O     | hjärna              | hjärna              | noun                      | nsubj      | hjärna              |\n",
            "|      | O     | urakut              | urakut              | noun                      | ROOT       | .                   |\n",
            "|      | O     | med                 | mede                | adposition                | case       | till                |\n",
            "|      | O     | hänsyn              | hänsyn              | noun                      | fixed      | hänsyn              |\n",
            "|      | O     | till                | till                | adposition                | fixed      | till                |\n",
            "|      | O     | trauma              | trauma              | noun                      | obl        | medvetandepåverkan  |\n",
            "|      | O     | och                 | och                 | coordinating conjunction  | cc         | och                 |\n",
            "|      | O     | medvetandepåverkan  | medvetandepåverkan  | noun                      | conj       | medvetandepåverkan  |\n",
            "|      | O     | .                   | .                   | punctuation               | punct      | .                   |\n",
            "|      | O     | Påbörjar            | Påbörjar            | verb                      | ROOT       | .                   |\n",
            "|      | O     | vätskeresucsitring  | vätskeresucsitring  | noun                      | obj        | vätskeresucsitring  |\n",
            "|      | O     | .                   | .                   | punctuation               | punct      | .                   |\n",
            "|      | O     | Inlägges            | Inlägges            | verb                      | ROOT       | .                   |\n",
            "|      | O     | covidAVA            | covidAVA            | proper noun               | nsubj:pass | covidAVA            |\n",
            "|      | O     | ,                   | ,                   | punctuation               | punct      | ,                   |\n",
            "|      | O     | ny                  | ny                  | adjective                 | amod       | ny                  |\n",
            "|      | O     | blodgas             | blodgas             | noun                      | appos      | timme               |\n",
            "| TME  | B     | om                  | om                  | adposition                | case       | om                  |\n",
            "| TME  | I     | 1                   | 1                   | numeral                   | nummod     | 1                   |\n",
            "| TME  | I     | timme               | timme               | noun                      | nmod       | timme               |\n",
            "|      | O     | .                   | .                   | punctuation               | punct      | .                   |\n",
            "|      | O     | PCR                 | PCR                 | proper noun               | nmod       | PCR                 |\n",
            "|      | O     | SARS-CoV2           | SARS-CoV2           | proper noun               | nsubj      | svar                |\n",
            "|      | O     | taget               | tagen               | adjective                 | acl        | taget               |\n",
            "|      | O     | ,                   | ,                   | punctuation               | punct      | ,                   |\n",
            "|      | O     | isolerad            | isolera             | adjective                 | conj       | svar                |\n",
            "|      | O     | till                | till                | adposition                | case       | till                |\n",
            "|      | O     | svar                | svara               | noun                      | obl        | svar                |\n",
            "|      | O     | finns               | finne               | verb                      | ROOT       | .                   |\n",
            "|      | O     | .                   | .                   | punctuation               | punct      | .                   |\n",
            "|      | O     | Röntgen             | Röntgen             | noun                      | ROOT       | .                   |\n",
            "|      | O     | av                  | av                  | adposition                | case       | av                  |\n",
            "|      | O     | vä                  | vä                  | adjective                 | amod       | vä                  |\n",
            "|      | O     | höft                | höft                | noun                      | nmod       | höft                |\n",
            "|      | O     | från                | från                | adposition                | nmod       | avdelningen         |\n",
            "|      | O     | och                 | och                 | coordinating conjunction  | cc         | och                 |\n",
            "|      | O     | pulm                | pulm                | noun                      | conj       | avdelningen         |\n",
            "|      | O     | från                | från                | adposition                | case       | från                |\n",
            "|      | O     | avdelningen         | avdelning           | noun                      | nmod       | avdelningen         |\n",
            "|      | O     | .                   | .                   | punctuation               | punct      | .                   |\n",
            "|      | O     |                     |                     | punctuation               | ROOT       |                     |\n",
            "|      | O     | Kontakt             | Kontakt             | noun                      | ROOT       | .                   |\n",
            "|      | O     | med                 | mede                | adposition                | case       | med                 |\n",
            "|      | O     | anhöriga            | anhörig             | noun                      | nmod       | anhöriga            |\n",
            "|      | O     | ånyo                | ånyo                | adverb                    | advmod     | ånyo                |\n",
            "|      | O     | från                | från                | adposition                | case       | från                |\n",
            "|      | O     | AVA                 | AVA                 | proper noun               | obl        | AVA                 |\n",
            "|      | O     | ,                   | ,                   | punctuation               | punct      | ,                   |\n",
            "| NEG  | B     | ej                  | ej                  | particle                  | advmod     | ej                  |\n",
            "|      | O     | nått                | nå                  | verb                      | conj       | akuten              |\n",
            "|      | O     | dem                 | dema                | pronoun                   | obj        | dem                 |\n",
            "|      | O     | via                 | via                 | adposition                | case       | via                 |\n",
            "|      | O     | telefon             | telefon             | noun                      | obl        | akuten              |\n",
            "|      | O     | från                | från                | adposition                | case       | från                |\n",
            "|      | O     | ambulans            | ambulans            | noun                      | nmod       | akuten              |\n",
            "|      | O     | eller               | eller               | coordinating conjunction  | cc         | eller               |\n",
            "|      | O     | akuten              | akut                | noun                      | conj       | akuten              |\n",
            "|      | O     | .                   | .                   | punctuation               | punct      | .                   |\n",
            "|      | O     |                     |                     | punctuation               | ROOT       |                     |\n",
            "|      | O     | Diagnos             | Diagnos             | noun                      | ROOT       | :                   |\n",
            "|      | O     | :                   | :                   | punctuation               | punct      | :                   |\n",
            "|      | O     | Pneumoni            | Pneumoni            | noun                      | ROOT       |                     |\n",
            "|      | O     | ,                   | ,                   | punctuation               | punct      | ,                   |\n",
            "|      | O     | misstänkt           | misstänka           | adjective                 | conj       | misstänkt           |\n",
            "|      | O     |                     |                     | punctuation               | conj       |                     |\n",
            "+------+-------+---------------------+---------------------+---------------------------+------------+---------------------+\n"
          ]
        }
      ],
      "metadata": {
        "colab": {
          "base_uri": "https://localhost:8080/"
        },
        "collapsed": true,
        "id": "kZNoL1JyaWw8",
        "outputId": "6e11c2a0-5a49-450a-9b14-d63c79668ceb"
      }
    },
    {
      "cell_type": "markdown",
      "source": [
        "### Visualize model results with displacy"
      ],
      "metadata": {
        "id": "8TRZddh9TdOY"
      }
    },
    {
      "cell_type": "code",
      "execution_count": 55,
      "source": [
        "from spacy import displacy\r\n",
        "\r\n",
        "# only display sentances with named entities - either SYM or NEG\r\n",
        "sentence_spans = list(doc.sents)\r\n",
        "\r\n",
        "sym_sentences = []\r\n",
        "neg_sentences = []\r\n",
        "\r\n",
        "for sent in sentence_spans:\r\n",
        "  ents = list(sent.ents)\r\n",
        "  for ent in ents:\r\n",
        "    if ent.label_ == \"SYM\":\r\n",
        "      # print(ent.label_)\r\n",
        "      sym_sentences.append(sent) \r\n",
        "      \r\n",
        "    if ent.label_ == \"NEG\":\r\n",
        "      # print(ent.label_)\r\n",
        "      neg_sentences.append(sent) \r\n",
        "\r\n",
        "displacy_options = {\"compact\": True, \r\n",
        "           \"bg\": \"#09a3d5\",\r\n",
        "           \"color\": \"white\",\r\n",
        "           \"font\": \"Source Sans Pro\",\r\n",
        "           \"fine_grained\": True}\r\n",
        "\r\n",
        "style = \"dep\"\r\n",
        "\r\n",
        "what_to_render = sym_sentences\r\n",
        "displacy.render(what_to_render, style=style, jupyter=True, options=displacy_options)"
      ],
      "outputs": [
        {
          "output_type": "display_data",
          "data": {
            "text/plain": [
              "<IPython.core.display.HTML object>"
            ],
            "text/html": [
              "<span class=\"tex2jax_ignore\"><svg xmlns=\"http://www.w3.org/2000/svg\" xmlns:xlink=\"http://www.w3.org/1999/xlink\" xml:lang=\"sv\" id=\"040fc0738e5f4a53a4c75993bb272752-0\" class=\"displacy\" width=\"500\" height=\"287.0\" direction=\"ltr\" style=\"max-width: none; height: 287.0px; color: white; background: #09a3d5; font-family: Source Sans Pro; direction: ltr\">\n",
              "<text class=\"displacy-token\" fill=\"currentColor\" text-anchor=\"middle\" y=\"197.0\">\n",
              "    <tspan class=\"displacy-word\" fill=\"currentColor\" x=\"50\">Medicinlarm,</tspan>\n",
              "    <tspan class=\"displacy-tag\" dy=\"2em\" fill=\"currentColor\" x=\"50\">NOUN</tspan>\n",
              "</text>\n",
              "\n",
              "<text class=\"displacy-token\" fill=\"currentColor\" text-anchor=\"middle\" y=\"197.0\">\n",
              "    <tspan class=\"displacy-word\" fill=\"currentColor\" x=\"200\">dyspné</tspan>\n",
              "    <tspan class=\"displacy-tag\" dy=\"2em\" fill=\"currentColor\" x=\"200\">NOUN</tspan>\n",
              "</text>\n",
              "\n",
              "<text class=\"displacy-token\" fill=\"currentColor\" text-anchor=\"middle\" y=\"197.0\">\n",
              "    <tspan class=\"displacy-word\" fill=\"currentColor\" x=\"350\">\n",
              "</tspan>\n",
              "    <tspan class=\"displacy-tag\" dy=\"2em\" fill=\"currentColor\" x=\"350\">PUNCT</tspan>\n",
              "</text>\n",
              "\n",
              "<g class=\"displacy-arrow\">\n",
              "    <path class=\"displacy-arc\" id=\"arrow-040fc0738e5f4a53a4c75993bb272752-0-0\" stroke-width=\"2px\" d=\"M62,152.0 62,127.0 197.0,127.0 197.0,152.0\" fill=\"none\" stroke=\"currentColor\"/>\n",
              "    <text dy=\"1.25em\" style=\"font-size: 0.8em; letter-spacing: 1px\">\n",
              "        <textPath xlink:href=\"#arrow-040fc0738e5f4a53a4c75993bb272752-0-0\" class=\"displacy-label\" startOffset=\"50%\" side=\"left\" fill=\"currentColor\" text-anchor=\"middle\">conj</textPath>\n",
              "    </text>\n",
              "    <path class=\"displacy-arrowhead\" d=\"M197.0,154.0 L201.0,146.0 193.0,146.0\" fill=\"currentColor\"/>\n",
              "</g>\n",
              "\n",
              "<g class=\"displacy-arrow\">\n",
              "    <path class=\"displacy-arc\" id=\"arrow-040fc0738e5f4a53a4c75993bb272752-0-1\" stroke-width=\"2px\" d=\"M62,152.0 62,102.0 350.0,102.0 350.0,152.0\" fill=\"none\" stroke=\"currentColor\"/>\n",
              "    <text dy=\"1.25em\" style=\"font-size: 0.8em; letter-spacing: 1px\">\n",
              "        <textPath xlink:href=\"#arrow-040fc0738e5f4a53a4c75993bb272752-0-1\" class=\"displacy-label\" startOffset=\"50%\" side=\"left\" fill=\"currentColor\" text-anchor=\"middle\">punct</textPath>\n",
              "    </text>\n",
              "    <path class=\"displacy-arrowhead\" d=\"M350.0,154.0 L354.0,146.0 346.0,146.0\" fill=\"currentColor\"/>\n",
              "</g>\n",
              "</svg>\n",
              "\n",
              "<svg xmlns=\"http://www.w3.org/2000/svg\" xmlns:xlink=\"http://www.w3.org/1999/xlink\" xml:lang=\"sv\" id=\"040fc0738e5f4a53a4c75993bb272752-1\" class=\"displacy\" width=\"1400\" height=\"512.0\" direction=\"ltr\" style=\"max-width: none; height: 512.0px; color: white; background: #09a3d5; font-family: Source Sans Pro; direction: ltr\">\n",
              "<text class=\"displacy-token\" fill=\"currentColor\" text-anchor=\"middle\" y=\"422.0\">\n",
              "    <tspan class=\"displacy-word\" fill=\"currentColor\" x=\"50\">Blodgas</tspan>\n",
              "    <tspan class=\"displacy-tag\" dy=\"2em\" fill=\"currentColor\" x=\"50\">NOUN</tspan>\n",
              "</text>\n",
              "\n",
              "<text class=\"displacy-token\" fill=\"currentColor\" text-anchor=\"middle\" y=\"422.0\">\n",
              "    <tspan class=\"displacy-word\" fill=\"currentColor\" x=\"200\">med</tspan>\n",
              "    <tspan class=\"displacy-tag\" dy=\"2em\" fill=\"currentColor\" x=\"200\">ADP</tspan>\n",
              "</text>\n",
              "\n",
              "<text class=\"displacy-token\" fill=\"currentColor\" text-anchor=\"middle\" y=\"422.0\">\n",
              "    <tspan class=\"displacy-word\" fill=\"currentColor\" x=\"350\">akut</tspan>\n",
              "    <tspan class=\"displacy-tag\" dy=\"2em\" fill=\"currentColor\" x=\"350\">ADJ</tspan>\n",
              "</text>\n",
              "\n",
              "<text class=\"displacy-token\" fill=\"currentColor\" text-anchor=\"middle\" y=\"422.0\">\n",
              "    <tspan class=\"displacy-word\" fill=\"currentColor\" x=\"500\">respriatorisk</tspan>\n",
              "    <tspan class=\"displacy-tag\" dy=\"2em\" fill=\"currentColor\" x=\"500\">ADJ</tspan>\n",
              "</text>\n",
              "\n",
              "<text class=\"displacy-token\" fill=\"currentColor\" text-anchor=\"middle\" y=\"422.0\">\n",
              "    <tspan class=\"displacy-word\" fill=\"currentColor\" x=\"650\">acidos</tspan>\n",
              "    <tspan class=\"displacy-tag\" dy=\"2em\" fill=\"currentColor\" x=\"650\">NOUN</tspan>\n",
              "</text>\n",
              "\n",
              "<text class=\"displacy-token\" fill=\"currentColor\" text-anchor=\"middle\" y=\"422.0\">\n",
              "    <tspan class=\"displacy-word\" fill=\"currentColor\" x=\"800\">utan</tspan>\n",
              "    <tspan class=\"displacy-tag\" dy=\"2em\" fill=\"currentColor\" x=\"800\">ADP</tspan>\n",
              "</text>\n",
              "\n",
              "<text class=\"displacy-token\" fill=\"currentColor\" text-anchor=\"middle\" y=\"422.0\">\n",
              "    <tspan class=\"displacy-word\" fill=\"currentColor\" x=\"950\">kompensation,</tspan>\n",
              "    <tspan class=\"displacy-tag\" dy=\"2em\" fill=\"currentColor\" x=\"950\">NOUN</tspan>\n",
              "</text>\n",
              "\n",
              "<text class=\"displacy-token\" fill=\"currentColor\" text-anchor=\"middle\" y=\"422.0\">\n",
              "    <tspan class=\"displacy-word\" fill=\"currentColor\" x=\"1100\">laktat</tspan>\n",
              "    <tspan class=\"displacy-tag\" dy=\"2em\" fill=\"currentColor\" x=\"1100\">NOUN</tspan>\n",
              "</text>\n",
              "\n",
              "<text class=\"displacy-token\" fill=\"currentColor\" text-anchor=\"middle\" y=\"422.0\">\n",
              "    <tspan class=\"displacy-word\" fill=\"currentColor\" x=\"1250\">8.</tspan>\n",
              "    <tspan class=\"displacy-tag\" dy=\"2em\" fill=\"currentColor\" x=\"1250\">NUM</tspan>\n",
              "</text>\n",
              "\n",
              "<g class=\"displacy-arrow\">\n",
              "    <path class=\"displacy-arc\" id=\"arrow-040fc0738e5f4a53a4c75993bb272752-1-0\" stroke-width=\"2px\" d=\"M212,377.0 212,302.0 644.0,302.0 644.0,377.0\" fill=\"none\" stroke=\"currentColor\"/>\n",
              "    <text dy=\"1.25em\" style=\"font-size: 0.8em; letter-spacing: 1px\">\n",
              "        <textPath xlink:href=\"#arrow-040fc0738e5f4a53a4c75993bb272752-1-0\" class=\"displacy-label\" startOffset=\"50%\" side=\"left\" fill=\"currentColor\" text-anchor=\"middle\">case</textPath>\n",
              "    </text>\n",
              "    <path class=\"displacy-arrowhead\" d=\"M212,379.0 L208,371.0 216,371.0\" fill=\"currentColor\"/>\n",
              "</g>\n",
              "\n",
              "<g class=\"displacy-arrow\">\n",
              "    <path class=\"displacy-arc\" id=\"arrow-040fc0738e5f4a53a4c75993bb272752-1-1\" stroke-width=\"2px\" d=\"M362,377.0 362,327.0 641.0,327.0 641.0,377.0\" fill=\"none\" stroke=\"currentColor\"/>\n",
              "    <text dy=\"1.25em\" style=\"font-size: 0.8em; letter-spacing: 1px\">\n",
              "        <textPath xlink:href=\"#arrow-040fc0738e5f4a53a4c75993bb272752-1-1\" class=\"displacy-label\" startOffset=\"50%\" side=\"left\" fill=\"currentColor\" text-anchor=\"middle\">amod</textPath>\n",
              "    </text>\n",
              "    <path class=\"displacy-arrowhead\" d=\"M362,379.0 L358,371.0 366,371.0\" fill=\"currentColor\"/>\n",
              "</g>\n",
              "\n",
              "<g class=\"displacy-arrow\">\n",
              "    <path class=\"displacy-arc\" id=\"arrow-040fc0738e5f4a53a4c75993bb272752-1-2\" stroke-width=\"2px\" d=\"M512,377.0 512,352.0 638.0,352.0 638.0,377.0\" fill=\"none\" stroke=\"currentColor\"/>\n",
              "    <text dy=\"1.25em\" style=\"font-size: 0.8em; letter-spacing: 1px\">\n",
              "        <textPath xlink:href=\"#arrow-040fc0738e5f4a53a4c75993bb272752-1-2\" class=\"displacy-label\" startOffset=\"50%\" side=\"left\" fill=\"currentColor\" text-anchor=\"middle\">amod</textPath>\n",
              "    </text>\n",
              "    <path class=\"displacy-arrowhead\" d=\"M512,379.0 L508,371.0 516,371.0\" fill=\"currentColor\"/>\n",
              "</g>\n",
              "\n",
              "<g class=\"displacy-arrow\">\n",
              "    <path class=\"displacy-arc\" id=\"arrow-040fc0738e5f4a53a4c75993bb272752-1-3\" stroke-width=\"2px\" d=\"M62,377.0 62,277.0 647.0,277.0 647.0,377.0\" fill=\"none\" stroke=\"currentColor\"/>\n",
              "    <text dy=\"1.25em\" style=\"font-size: 0.8em; letter-spacing: 1px\">\n",
              "        <textPath xlink:href=\"#arrow-040fc0738e5f4a53a4c75993bb272752-1-3\" class=\"displacy-label\" startOffset=\"50%\" side=\"left\" fill=\"currentColor\" text-anchor=\"middle\">nmod</textPath>\n",
              "    </text>\n",
              "    <path class=\"displacy-arrowhead\" d=\"M647.0,379.0 L651.0,371.0 643.0,371.0\" fill=\"currentColor\"/>\n",
              "</g>\n",
              "\n",
              "<g class=\"displacy-arrow\">\n",
              "    <path class=\"displacy-arc\" id=\"arrow-040fc0738e5f4a53a4c75993bb272752-1-4\" stroke-width=\"2px\" d=\"M812,377.0 812,352.0 938.0,352.0 938.0,377.0\" fill=\"none\" stroke=\"currentColor\"/>\n",
              "    <text dy=\"1.25em\" style=\"font-size: 0.8em; letter-spacing: 1px\">\n",
              "        <textPath xlink:href=\"#arrow-040fc0738e5f4a53a4c75993bb272752-1-4\" class=\"displacy-label\" startOffset=\"50%\" side=\"left\" fill=\"currentColor\" text-anchor=\"middle\">case</textPath>\n",
              "    </text>\n",
              "    <path class=\"displacy-arrowhead\" d=\"M812,379.0 L808,371.0 816,371.0\" fill=\"currentColor\"/>\n",
              "</g>\n",
              "\n",
              "<g class=\"displacy-arrow\">\n",
              "    <path class=\"displacy-arc\" id=\"arrow-040fc0738e5f4a53a4c75993bb272752-1-5\" stroke-width=\"2px\" d=\"M62,377.0 62,252.0 950.0,252.0 950.0,377.0\" fill=\"none\" stroke=\"currentColor\"/>\n",
              "    <text dy=\"1.25em\" style=\"font-size: 0.8em; letter-spacing: 1px\">\n",
              "        <textPath xlink:href=\"#arrow-040fc0738e5f4a53a4c75993bb272752-1-5\" class=\"displacy-label\" startOffset=\"50%\" side=\"left\" fill=\"currentColor\" text-anchor=\"middle\">obl</textPath>\n",
              "    </text>\n",
              "    <path class=\"displacy-arrowhead\" d=\"M950.0,379.0 L954.0,371.0 946.0,371.0\" fill=\"currentColor\"/>\n",
              "</g>\n",
              "\n",
              "<g class=\"displacy-arrow\">\n",
              "    <path class=\"displacy-arc\" id=\"arrow-040fc0738e5f4a53a4c75993bb272752-1-6\" stroke-width=\"2px\" d=\"M962,377.0 962,352.0 1088.0,352.0 1088.0,377.0\" fill=\"none\" stroke=\"currentColor\"/>\n",
              "    <text dy=\"1.25em\" style=\"font-size: 0.8em; letter-spacing: 1px\">\n",
              "        <textPath xlink:href=\"#arrow-040fc0738e5f4a53a4c75993bb272752-1-6\" class=\"displacy-label\" startOffset=\"50%\" side=\"left\" fill=\"currentColor\" text-anchor=\"middle\">conj</textPath>\n",
              "    </text>\n",
              "    <path class=\"displacy-arrowhead\" d=\"M1088.0,379.0 L1092.0,371.0 1084.0,371.0\" fill=\"currentColor\"/>\n",
              "</g>\n",
              "\n",
              "<g class=\"displacy-arrow\">\n",
              "    <path class=\"displacy-arc\" id=\"arrow-040fc0738e5f4a53a4c75993bb272752-1-7\" stroke-width=\"2px\" d=\"M1112,377.0 1112,352.0 1238.0,352.0 1238.0,377.0\" fill=\"none\" stroke=\"currentColor\"/>\n",
              "    <text dy=\"1.25em\" style=\"font-size: 0.8em; letter-spacing: 1px\">\n",
              "        <textPath xlink:href=\"#arrow-040fc0738e5f4a53a4c75993bb272752-1-7\" class=\"displacy-label\" startOffset=\"50%\" side=\"left\" fill=\"currentColor\" text-anchor=\"middle\">nummod</textPath>\n",
              "    </text>\n",
              "    <path class=\"displacy-arrowhead\" d=\"M1238.0,379.0 L1242.0,371.0 1234.0,371.0\" fill=\"currentColor\"/>\n",
              "</g>\n",
              "</svg></span>"
            ]
          },
          "metadata": {}
        }
      ],
      "metadata": {
        "colab": {
          "base_uri": "https://localhost:8080/",
          "height": 844
        },
        "collapsed": true,
        "id": "sp0z7VjvBZ4A",
        "outputId": "46f9bf70-ff2c-4d67-ffce-161efdcfab2b"
      }
    },
    {
      "cell_type": "code",
      "execution_count": 55,
      "source": [
        "from spacy import displacy\r\n",
        "\r\n",
        "# only display sentances with named entities - either SYM or NEG\r\n",
        "sentence_spans = list(doc.sents)\r\n",
        "\r\n",
        "sym_sentences = []\r\n",
        "neg_sentences = []\r\n",
        "\r\n",
        "for sent in sentence_spans:\r\n",
        "  ents = list(sent.ents)\r\n",
        "  for ent in ents:\r\n",
        "    if ent.label_ == \"SYM\":\r\n",
        "      # print(ent.label_)\r\n",
        "      sym_sentences.append(sent) \r\n",
        "      \r\n",
        "    if ent.label_ == \"NEG\":\r\n",
        "      # print(ent.label_)\r\n",
        "      neg_sentences.append(sent) \r\n",
        "\r\n",
        "displacy_options = {\"compact\": True, \r\n",
        "           \"bg\": \"#09a3d5\",\r\n",
        "           \"color\": \"white\",\r\n",
        "           \"font\": \"Source Sans Pro\",\r\n",
        "           \"fine_grained\": True}\r\n",
        "\r\n",
        "style = \"dep\"\r\n",
        "\r\n",
        "what_to_render = sym_sentences\r\n",
        "displacy.render(what_to_render, style=style, jupyter=True, options=displacy_options)"
      ],
      "outputs": [
        {
          "output_type": "display_data",
          "data": {
            "text/plain": [
              "<IPython.core.display.HTML object>"
            ],
            "text/html": [
              "<span class=\"tex2jax_ignore\"><svg xmlns=\"http://www.w3.org/2000/svg\" xmlns:xlink=\"http://www.w3.org/1999/xlink\" xml:lang=\"sv\" id=\"040fc0738e5f4a53a4c75993bb272752-0\" class=\"displacy\" width=\"500\" height=\"287.0\" direction=\"ltr\" style=\"max-width: none; height: 287.0px; color: white; background: #09a3d5; font-family: Source Sans Pro; direction: ltr\">\n",
              "<text class=\"displacy-token\" fill=\"currentColor\" text-anchor=\"middle\" y=\"197.0\">\n",
              "    <tspan class=\"displacy-word\" fill=\"currentColor\" x=\"50\">Medicinlarm,</tspan>\n",
              "    <tspan class=\"displacy-tag\" dy=\"2em\" fill=\"currentColor\" x=\"50\">NOUN</tspan>\n",
              "</text>\n",
              "\n",
              "<text class=\"displacy-token\" fill=\"currentColor\" text-anchor=\"middle\" y=\"197.0\">\n",
              "    <tspan class=\"displacy-word\" fill=\"currentColor\" x=\"200\">dyspné</tspan>\n",
              "    <tspan class=\"displacy-tag\" dy=\"2em\" fill=\"currentColor\" x=\"200\">NOUN</tspan>\n",
              "</text>\n",
              "\n",
              "<text class=\"displacy-token\" fill=\"currentColor\" text-anchor=\"middle\" y=\"197.0\">\n",
              "    <tspan class=\"displacy-word\" fill=\"currentColor\" x=\"350\">\n",
              "</tspan>\n",
              "    <tspan class=\"displacy-tag\" dy=\"2em\" fill=\"currentColor\" x=\"350\">PUNCT</tspan>\n",
              "</text>\n",
              "\n",
              "<g class=\"displacy-arrow\">\n",
              "    <path class=\"displacy-arc\" id=\"arrow-040fc0738e5f4a53a4c75993bb272752-0-0\" stroke-width=\"2px\" d=\"M62,152.0 62,127.0 197.0,127.0 197.0,152.0\" fill=\"none\" stroke=\"currentColor\"/>\n",
              "    <text dy=\"1.25em\" style=\"font-size: 0.8em; letter-spacing: 1px\">\n",
              "        <textPath xlink:href=\"#arrow-040fc0738e5f4a53a4c75993bb272752-0-0\" class=\"displacy-label\" startOffset=\"50%\" side=\"left\" fill=\"currentColor\" text-anchor=\"middle\">conj</textPath>\n",
              "    </text>\n",
              "    <path class=\"displacy-arrowhead\" d=\"M197.0,154.0 L201.0,146.0 193.0,146.0\" fill=\"currentColor\"/>\n",
              "</g>\n",
              "\n",
              "<g class=\"displacy-arrow\">\n",
              "    <path class=\"displacy-arc\" id=\"arrow-040fc0738e5f4a53a4c75993bb272752-0-1\" stroke-width=\"2px\" d=\"M62,152.0 62,102.0 350.0,102.0 350.0,152.0\" fill=\"none\" stroke=\"currentColor\"/>\n",
              "    <text dy=\"1.25em\" style=\"font-size: 0.8em; letter-spacing: 1px\">\n",
              "        <textPath xlink:href=\"#arrow-040fc0738e5f4a53a4c75993bb272752-0-1\" class=\"displacy-label\" startOffset=\"50%\" side=\"left\" fill=\"currentColor\" text-anchor=\"middle\">punct</textPath>\n",
              "    </text>\n",
              "    <path class=\"displacy-arrowhead\" d=\"M350.0,154.0 L354.0,146.0 346.0,146.0\" fill=\"currentColor\"/>\n",
              "</g>\n",
              "</svg>\n",
              "\n",
              "<svg xmlns=\"http://www.w3.org/2000/svg\" xmlns:xlink=\"http://www.w3.org/1999/xlink\" xml:lang=\"sv\" id=\"040fc0738e5f4a53a4c75993bb272752-1\" class=\"displacy\" width=\"1400\" height=\"512.0\" direction=\"ltr\" style=\"max-width: none; height: 512.0px; color: white; background: #09a3d5; font-family: Source Sans Pro; direction: ltr\">\n",
              "<text class=\"displacy-token\" fill=\"currentColor\" text-anchor=\"middle\" y=\"422.0\">\n",
              "    <tspan class=\"displacy-word\" fill=\"currentColor\" x=\"50\">Blodgas</tspan>\n",
              "    <tspan class=\"displacy-tag\" dy=\"2em\" fill=\"currentColor\" x=\"50\">NOUN</tspan>\n",
              "</text>\n",
              "\n",
              "<text class=\"displacy-token\" fill=\"currentColor\" text-anchor=\"middle\" y=\"422.0\">\n",
              "    <tspan class=\"displacy-word\" fill=\"currentColor\" x=\"200\">med</tspan>\n",
              "    <tspan class=\"displacy-tag\" dy=\"2em\" fill=\"currentColor\" x=\"200\">ADP</tspan>\n",
              "</text>\n",
              "\n",
              "<text class=\"displacy-token\" fill=\"currentColor\" text-anchor=\"middle\" y=\"422.0\">\n",
              "    <tspan class=\"displacy-word\" fill=\"currentColor\" x=\"350\">akut</tspan>\n",
              "    <tspan class=\"displacy-tag\" dy=\"2em\" fill=\"currentColor\" x=\"350\">ADJ</tspan>\n",
              "</text>\n",
              "\n",
              "<text class=\"displacy-token\" fill=\"currentColor\" text-anchor=\"middle\" y=\"422.0\">\n",
              "    <tspan class=\"displacy-word\" fill=\"currentColor\" x=\"500\">respriatorisk</tspan>\n",
              "    <tspan class=\"displacy-tag\" dy=\"2em\" fill=\"currentColor\" x=\"500\">ADJ</tspan>\n",
              "</text>\n",
              "\n",
              "<text class=\"displacy-token\" fill=\"currentColor\" text-anchor=\"middle\" y=\"422.0\">\n",
              "    <tspan class=\"displacy-word\" fill=\"currentColor\" x=\"650\">acidos</tspan>\n",
              "    <tspan class=\"displacy-tag\" dy=\"2em\" fill=\"currentColor\" x=\"650\">NOUN</tspan>\n",
              "</text>\n",
              "\n",
              "<text class=\"displacy-token\" fill=\"currentColor\" text-anchor=\"middle\" y=\"422.0\">\n",
              "    <tspan class=\"displacy-word\" fill=\"currentColor\" x=\"800\">utan</tspan>\n",
              "    <tspan class=\"displacy-tag\" dy=\"2em\" fill=\"currentColor\" x=\"800\">ADP</tspan>\n",
              "</text>\n",
              "\n",
              "<text class=\"displacy-token\" fill=\"currentColor\" text-anchor=\"middle\" y=\"422.0\">\n",
              "    <tspan class=\"displacy-word\" fill=\"currentColor\" x=\"950\">kompensation,</tspan>\n",
              "    <tspan class=\"displacy-tag\" dy=\"2em\" fill=\"currentColor\" x=\"950\">NOUN</tspan>\n",
              "</text>\n",
              "\n",
              "<text class=\"displacy-token\" fill=\"currentColor\" text-anchor=\"middle\" y=\"422.0\">\n",
              "    <tspan class=\"displacy-word\" fill=\"currentColor\" x=\"1100\">laktat</tspan>\n",
              "    <tspan class=\"displacy-tag\" dy=\"2em\" fill=\"currentColor\" x=\"1100\">NOUN</tspan>\n",
              "</text>\n",
              "\n",
              "<text class=\"displacy-token\" fill=\"currentColor\" text-anchor=\"middle\" y=\"422.0\">\n",
              "    <tspan class=\"displacy-word\" fill=\"currentColor\" x=\"1250\">8.</tspan>\n",
              "    <tspan class=\"displacy-tag\" dy=\"2em\" fill=\"currentColor\" x=\"1250\">NUM</tspan>\n",
              "</text>\n",
              "\n",
              "<g class=\"displacy-arrow\">\n",
              "    <path class=\"displacy-arc\" id=\"arrow-040fc0738e5f4a53a4c75993bb272752-1-0\" stroke-width=\"2px\" d=\"M212,377.0 212,302.0 644.0,302.0 644.0,377.0\" fill=\"none\" stroke=\"currentColor\"/>\n",
              "    <text dy=\"1.25em\" style=\"font-size: 0.8em; letter-spacing: 1px\">\n",
              "        <textPath xlink:href=\"#arrow-040fc0738e5f4a53a4c75993bb272752-1-0\" class=\"displacy-label\" startOffset=\"50%\" side=\"left\" fill=\"currentColor\" text-anchor=\"middle\">case</textPath>\n",
              "    </text>\n",
              "    <path class=\"displacy-arrowhead\" d=\"M212,379.0 L208,371.0 216,371.0\" fill=\"currentColor\"/>\n",
              "</g>\n",
              "\n",
              "<g class=\"displacy-arrow\">\n",
              "    <path class=\"displacy-arc\" id=\"arrow-040fc0738e5f4a53a4c75993bb272752-1-1\" stroke-width=\"2px\" d=\"M362,377.0 362,327.0 641.0,327.0 641.0,377.0\" fill=\"none\" stroke=\"currentColor\"/>\n",
              "    <text dy=\"1.25em\" style=\"font-size: 0.8em; letter-spacing: 1px\">\n",
              "        <textPath xlink:href=\"#arrow-040fc0738e5f4a53a4c75993bb272752-1-1\" class=\"displacy-label\" startOffset=\"50%\" side=\"left\" fill=\"currentColor\" text-anchor=\"middle\">amod</textPath>\n",
              "    </text>\n",
              "    <path class=\"displacy-arrowhead\" d=\"M362,379.0 L358,371.0 366,371.0\" fill=\"currentColor\"/>\n",
              "</g>\n",
              "\n",
              "<g class=\"displacy-arrow\">\n",
              "    <path class=\"displacy-arc\" id=\"arrow-040fc0738e5f4a53a4c75993bb272752-1-2\" stroke-width=\"2px\" d=\"M512,377.0 512,352.0 638.0,352.0 638.0,377.0\" fill=\"none\" stroke=\"currentColor\"/>\n",
              "    <text dy=\"1.25em\" style=\"font-size: 0.8em; letter-spacing: 1px\">\n",
              "        <textPath xlink:href=\"#arrow-040fc0738e5f4a53a4c75993bb272752-1-2\" class=\"displacy-label\" startOffset=\"50%\" side=\"left\" fill=\"currentColor\" text-anchor=\"middle\">amod</textPath>\n",
              "    </text>\n",
              "    <path class=\"displacy-arrowhead\" d=\"M512,379.0 L508,371.0 516,371.0\" fill=\"currentColor\"/>\n",
              "</g>\n",
              "\n",
              "<g class=\"displacy-arrow\">\n",
              "    <path class=\"displacy-arc\" id=\"arrow-040fc0738e5f4a53a4c75993bb272752-1-3\" stroke-width=\"2px\" d=\"M62,377.0 62,277.0 647.0,277.0 647.0,377.0\" fill=\"none\" stroke=\"currentColor\"/>\n",
              "    <text dy=\"1.25em\" style=\"font-size: 0.8em; letter-spacing: 1px\">\n",
              "        <textPath xlink:href=\"#arrow-040fc0738e5f4a53a4c75993bb272752-1-3\" class=\"displacy-label\" startOffset=\"50%\" side=\"left\" fill=\"currentColor\" text-anchor=\"middle\">nmod</textPath>\n",
              "    </text>\n",
              "    <path class=\"displacy-arrowhead\" d=\"M647.0,379.0 L651.0,371.0 643.0,371.0\" fill=\"currentColor\"/>\n",
              "</g>\n",
              "\n",
              "<g class=\"displacy-arrow\">\n",
              "    <path class=\"displacy-arc\" id=\"arrow-040fc0738e5f4a53a4c75993bb272752-1-4\" stroke-width=\"2px\" d=\"M812,377.0 812,352.0 938.0,352.0 938.0,377.0\" fill=\"none\" stroke=\"currentColor\"/>\n",
              "    <text dy=\"1.25em\" style=\"font-size: 0.8em; letter-spacing: 1px\">\n",
              "        <textPath xlink:href=\"#arrow-040fc0738e5f4a53a4c75993bb272752-1-4\" class=\"displacy-label\" startOffset=\"50%\" side=\"left\" fill=\"currentColor\" text-anchor=\"middle\">case</textPath>\n",
              "    </text>\n",
              "    <path class=\"displacy-arrowhead\" d=\"M812,379.0 L808,371.0 816,371.0\" fill=\"currentColor\"/>\n",
              "</g>\n",
              "\n",
              "<g class=\"displacy-arrow\">\n",
              "    <path class=\"displacy-arc\" id=\"arrow-040fc0738e5f4a53a4c75993bb272752-1-5\" stroke-width=\"2px\" d=\"M62,377.0 62,252.0 950.0,252.0 950.0,377.0\" fill=\"none\" stroke=\"currentColor\"/>\n",
              "    <text dy=\"1.25em\" style=\"font-size: 0.8em; letter-spacing: 1px\">\n",
              "        <textPath xlink:href=\"#arrow-040fc0738e5f4a53a4c75993bb272752-1-5\" class=\"displacy-label\" startOffset=\"50%\" side=\"left\" fill=\"currentColor\" text-anchor=\"middle\">obl</textPath>\n",
              "    </text>\n",
              "    <path class=\"displacy-arrowhead\" d=\"M950.0,379.0 L954.0,371.0 946.0,371.0\" fill=\"currentColor\"/>\n",
              "</g>\n",
              "\n",
              "<g class=\"displacy-arrow\">\n",
              "    <path class=\"displacy-arc\" id=\"arrow-040fc0738e5f4a53a4c75993bb272752-1-6\" stroke-width=\"2px\" d=\"M962,377.0 962,352.0 1088.0,352.0 1088.0,377.0\" fill=\"none\" stroke=\"currentColor\"/>\n",
              "    <text dy=\"1.25em\" style=\"font-size: 0.8em; letter-spacing: 1px\">\n",
              "        <textPath xlink:href=\"#arrow-040fc0738e5f4a53a4c75993bb272752-1-6\" class=\"displacy-label\" startOffset=\"50%\" side=\"left\" fill=\"currentColor\" text-anchor=\"middle\">conj</textPath>\n",
              "    </text>\n",
              "    <path class=\"displacy-arrowhead\" d=\"M1088.0,379.0 L1092.0,371.0 1084.0,371.0\" fill=\"currentColor\"/>\n",
              "</g>\n",
              "\n",
              "<g class=\"displacy-arrow\">\n",
              "    <path class=\"displacy-arc\" id=\"arrow-040fc0738e5f4a53a4c75993bb272752-1-7\" stroke-width=\"2px\" d=\"M1112,377.0 1112,352.0 1238.0,352.0 1238.0,377.0\" fill=\"none\" stroke=\"currentColor\"/>\n",
              "    <text dy=\"1.25em\" style=\"font-size: 0.8em; letter-spacing: 1px\">\n",
              "        <textPath xlink:href=\"#arrow-040fc0738e5f4a53a4c75993bb272752-1-7\" class=\"displacy-label\" startOffset=\"50%\" side=\"left\" fill=\"currentColor\" text-anchor=\"middle\">nummod</textPath>\n",
              "    </text>\n",
              "    <path class=\"displacy-arrowhead\" d=\"M1238.0,379.0 L1242.0,371.0 1234.0,371.0\" fill=\"currentColor\"/>\n",
              "</g>\n",
              "</svg></span>"
            ]
          },
          "metadata": {}
        }
      ],
      "metadata": {
        "colab": {
          "base_uri": "https://localhost:8080/",
          "height": 844
        },
        "collapsed": true,
        "id": "sp0z7VjvBZ4A",
        "outputId": "46f9bf70-ff2c-4d67-ffce-161efdcfab2b"
      }
    },
    {
      "cell_type": "markdown",
      "source": [
        "## Acronyms - not production ready "
      ],
      "metadata": {
        "id": "SGgOxfrSwuU7"
      }
    },
    {
      "cell_type": "code",
      "execution_count": null,
      "source": [
        "import scispacy\r\n",
        "from scispacy.abbreviation import AbbreviationDetector\r\n",
        "\r\n",
        "# Add the abbreviation pipe to the spacy pipeline.\r\n",
        "nlp.add_pipe(\"abbreviation_detector\")\r\n",
        "\r\n",
        "doc = nlp(\"\"\"Förmaksflimmer (FF) \\\r\n",
        "          FF är den vanligaste takyarytmin. Förekomsten ökar med åldern, och är ca 1 % vid 50 år och > 10 % vid 80 år. Kan förekomma hos hjärtfriska individer, s k lone atrial fibrillation, men vanligen föreligger organisk hjärtsjukdom. Det är rekommenderat att dessa patienter handläggs på ett strukturerat sätt och med patienten som en viktig del i sitt team, ett personcentrerat arbetssätt, för bästa resultat.\"\"\")\r\n",
        "\r\n",
        "doc = nlp(\"\"\"Ett esofagus-EKG kan vara indicerat för att differentiera mellan FFl och andra regelbundna supraventrikulära takykardier, såsom AV nodal reentry-takykardi (AVNRT), WPW-syndrom eller ektopisk förmakstakykardi (EAT).\"\"\")\r\n",
        "print(\"Abbreviation\", \"\\t\", \"Definition\")\r\n",
        "for abrv in doc._.abbreviations:\r\n",
        "\tprint(f\"{abrv} \\t ({abrv.start}, {abrv.end}) {abrv._.long_form}\")"
      ],
      "outputs": [
        {
          "output_type": "error",
          "ename": "ValueError",
          "evalue": "ignored",
          "traceback": [
            "\u001b[0;31m---------------------------------------------------------------------------\u001b[0m",
            "\u001b[0;31mValueError\u001b[0m                                Traceback (most recent call last)",
            "\u001b[0;32m<ipython-input-76-fef99383098a>\u001b[0m in \u001b[0;36m<module>\u001b[0;34m()\u001b[0m\n\u001b[1;32m      3\u001b[0m \u001b[0;34m\u001b[0m\u001b[0m\n\u001b[1;32m      4\u001b[0m \u001b[0;31m# Add the abbreviation pipe to the spacy pipeline.\u001b[0m\u001b[0;34m\u001b[0m\u001b[0;34m\u001b[0m\u001b[0;34m\u001b[0m\u001b[0m\n\u001b[0;32m----> 5\u001b[0;31m \u001b[0mnlp\u001b[0m\u001b[0;34m.\u001b[0m\u001b[0madd_pipe\u001b[0m\u001b[0;34m(\u001b[0m\u001b[0;34m\"abbreviation_detector\"\u001b[0m\u001b[0;34m)\u001b[0m\u001b[0;34m\u001b[0m\u001b[0;34m\u001b[0m\u001b[0m\n\u001b[0m\u001b[1;32m      6\u001b[0m \u001b[0;34m\u001b[0m\u001b[0m\n\u001b[1;32m      7\u001b[0m \u001b[0mdoc\u001b[0m \u001b[0;34m=\u001b[0m \u001b[0mnlp\u001b[0m\u001b[0;34m(\u001b[0m\u001b[0;34m\"\"\"Förmaksflimmer (FF)           FF är den vanligaste takyarytmin. Förekomsten ökar med åldern, och är ca 1 % vid 50 år och > 10 % vid 80 år. Kan förekomma hos hjärtfriska individer, s k lone atrial fibrillation, men vanligen föreligger organisk hjärtsjukdom. Det är rekommenderat att dessa patienter handläggs på ett strukturerat sätt och med patienten som en viktig del i sitt team, ett personcentrerat arbetssätt, för bästa resultat.\"\"\"\u001b[0m\u001b[0;34m)\u001b[0m\u001b[0;34m\u001b[0m\u001b[0;34m\u001b[0m\u001b[0m\n",
            "\u001b[0;32m/usr/local/lib/python3.7/dist-packages/spacy/language.py\u001b[0m in \u001b[0;36madd_pipe\u001b[0;34m(self, factory_name, name, before, after, first, last, source, config, raw_config, validate)\u001b[0m\n\u001b[1;32m    755\u001b[0m         \u001b[0mname\u001b[0m \u001b[0;34m=\u001b[0m \u001b[0mname\u001b[0m \u001b[0;32mif\u001b[0m \u001b[0mname\u001b[0m \u001b[0;32mis\u001b[0m \u001b[0;32mnot\u001b[0m \u001b[0;32mNone\u001b[0m \u001b[0;32melse\u001b[0m \u001b[0mfactory_name\u001b[0m\u001b[0;34m\u001b[0m\u001b[0;34m\u001b[0m\u001b[0m\n\u001b[1;32m    756\u001b[0m         \u001b[0;32mif\u001b[0m \u001b[0mname\u001b[0m \u001b[0;32min\u001b[0m \u001b[0mself\u001b[0m\u001b[0;34m.\u001b[0m\u001b[0mcomponent_names\u001b[0m\u001b[0;34m:\u001b[0m\u001b[0;34m\u001b[0m\u001b[0;34m\u001b[0m\u001b[0m\n\u001b[0;32m--> 757\u001b[0;31m             \u001b[0;32mraise\u001b[0m \u001b[0mValueError\u001b[0m\u001b[0;34m(\u001b[0m\u001b[0mErrors\u001b[0m\u001b[0;34m.\u001b[0m\u001b[0mE007\u001b[0m\u001b[0;34m.\u001b[0m\u001b[0mformat\u001b[0m\u001b[0;34m(\u001b[0m\u001b[0mname\u001b[0m\u001b[0;34m=\u001b[0m\u001b[0mname\u001b[0m\u001b[0;34m,\u001b[0m \u001b[0mopts\u001b[0m\u001b[0;34m=\u001b[0m\u001b[0mself\u001b[0m\u001b[0;34m.\u001b[0m\u001b[0mcomponent_names\u001b[0m\u001b[0;34m)\u001b[0m\u001b[0;34m)\u001b[0m\u001b[0;34m\u001b[0m\u001b[0;34m\u001b[0m\u001b[0m\n\u001b[0m\u001b[1;32m    758\u001b[0m         \u001b[0;32mif\u001b[0m \u001b[0msource\u001b[0m \u001b[0;32mis\u001b[0m \u001b[0;32mnot\u001b[0m \u001b[0;32mNone\u001b[0m\u001b[0;34m:\u001b[0m\u001b[0;34m\u001b[0m\u001b[0;34m\u001b[0m\u001b[0m\n\u001b[1;32m    759\u001b[0m             \u001b[0;31m# We're loading the component from a model. After loading the\u001b[0m\u001b[0;34m\u001b[0m\u001b[0;34m\u001b[0m\u001b[0;34m\u001b[0m\u001b[0m\n",
            "\u001b[0;31mValueError\u001b[0m: [E007] 'abbreviation_detector' already exists in pipeline. Existing names: ['transformer', 'tagger', 'parser', 'transformer_ner', 'ner', 'attribute_ruler', 'lemmatizer', 'abbreviation_detector', 'entity_ruler']"
          ]
        }
      ],
      "metadata": {
        "colab": {
          "base_uri": "https://localhost:8080/",
          "height": 478
        },
        "collapsed": true,
        "id": "q--Z3dqdK_aj",
        "outputId": "153665ff-521c-4315-90a8-36fdb06e9dbf"
      }
    },
    {
      "cell_type": "code",
      "execution_count": null,
      "source": [
        "text = (\"\"\"Ett esofagus-EKG kan vara indicerat för att differentiera mellan FFl och andra regelbundna supraventrikulära takykardier, såsom AV nodal reentry-takykardi (AVNRT), WPW-syndrom eller ektopisk förmakstakykardi (EAT).\"\"\")\r\n",
        "\r\n",
        "doc = nlp(text)\r\n",
        "\r\n",
        "print(\"Abbreviation\", \"\\t\", \"Definition\")\r\n",
        "for abrv in doc._.abbreviations:\r\n",
        "\tprint(f\"{abrv} \\t ({abrv.start}, {abrv.end}) {abrv._.long_form}\")\r\n",
        " \r\n",
        "text = replace_acronyms(text)\r\n",
        "doc = nlp(text)\r\n",
        "print(text)"
      ],
      "outputs": [
        {
          "output_type": "stream",
          "name": "stdout",
          "text": [
            "Abbreviation \t Definition\n",
            "AVNRT \t (21, 22) AV nodal reentry-takykardi\n",
            "EAT \t (29, 30) ektopisk förmakstakykardi\n",
            "Ett esofagus-EKG kan vara indicerat för att differentiera mellan FFl och andra regelbundna supraventrikulära takykardier , såsom AV nodal reentry-takykardi ( AV nodal reentry-takykardi ) , WPW-syndrom eller ektopisk förmakstakykardi ( ektopisk förmakstakykardi ) .\n"
          ]
        }
      ],
      "metadata": {
        "colab": {
          "base_uri": "https://localhost:8080/"
        },
        "id": "_GXFEfsiO5Ds",
        "outputId": "b6e5e39c-cb60-4459-e5eb-576be5c22364"
      }
    },
    {
      "cell_type": "code",
      "execution_count": 51,
      "source": [
        "from spacy import displacy\r\n",
        "\r\n",
        "\r\n",
        "# styling output from displacy\r\n",
        "colors = {\r\n",
        "          \"SYM\": \"linear-gradient(90deg, #99154e, #99154e)\",\r\n",
        "          \"NEG\": \"linear-gradient(90deg, #ffc93c, #ffc93c)\"\r\n",
        "          }\r\n",
        " \r\n",
        "\r\n",
        "options = {\"compact\": False, \r\n",
        "           \"bg\": \"#09a3d5\",\r\n",
        "           \"color\": \"white\",\r\n",
        "           \"font\": \"Source Sans Pro\",\r\n",
        "            \"ents\": [\"SYM\", \"NEG\", \"TMN\"], \r\n",
        "           \"colors\": colors}\r\n",
        "\r\n",
        "input = doc # display input with displacy \r\n",
        "displacy.render(input, style=\"ent\", jupyter=True, options=options)"
      ],
      "outputs": [
        {
          "output_type": "display_data",
          "data": {
            "text/plain": [
              "<IPython.core.display.HTML object>"
            ],
            "text/html": [
              "<span class=\"tex2jax_ignore\"><div class=\"entities\" style=\"line-height: 2.5; direction: ltr\">Kontaktorsak: Medicinlarm, \n",
              "<mark class=\"entity\" style=\"background: linear-gradient(90deg, #99154e, #99154e); padding: 0.45em 0.6em; margin: 0 0.25em; line-height: 1; border-radius: 0.35em;\">\n",
              "    dyspné\n",
              "    <span style=\"font-size: 0.8em; font-weight: bold; line-height: 1; border-radius: 0.35em; vertical-align: middle; margin-left: 0.5rem\">SYM</span>\n",
              "</mark>\n",
              "</br>Tidigare sjukdomar: Waranbehandlat FF, hyperlipidemi. BC vä 99, opererad mastektomi + lymfkörtelutrymning höger. \n",
              "<mark class=\"entity\" style=\"background: linear-gradient(90deg, #ffc93c, #ffc93c); padding: 0.45em 0.6em; margin: 0 0.25em; line-height: 1; border-radius: 0.35em;\">\n",
              "    Inga\n",
              "    <span style=\"font-size: 0.8em; font-weight: bold; line-height: 1; border-radius: 0.35em; vertical-align: middle; margin-left: 0.5rem\">NEG</span>\n",
              "</mark>\n",
              " recidiv. NSTEMI 2009. Stroke 2012 \n",
              "<mark class=\"entity\" style=\"background: linear-gradient(90deg, #ffc93c, #ffc93c); padding: 0.45em 0.6em; margin: 0 0.25em; line-height: 1; border-radius: 0.35em;\">\n",
              "    utan\n",
              "    <span style=\"font-size: 0.8em; font-weight: bold; line-height: 1; border-radius: 0.35em; vertical-align: middle; margin-left: 0.5rem\">NEG</span>\n",
              "</mark>\n",
              " större sequele. Minnesproblematik.</br>Aktuellt: Funnen i hemmet på golvet, oklart hur länge hon blivit liggande. Hittad av hemtjänst kl 7, senast tillsyn igår kväll ca kl 20. \n",
              "<mark class=\"entity\" style=\"background: linear-gradient(90deg, #ffc93c, #ffc93c); padding: 0.45em 0.6em; margin: 0 0.25em; line-height: 1; border-radius: 0.35em;\">\n",
              "    Ingen\n",
              "    <span style=\"font-size: 0.8em; font-weight: bold; line-height: 1; border-radius: 0.35em; vertical-align: middle; margin-left: 0.5rem\">NEG</span>\n",
              "</mark>\n",
              " autoanamnes. I ambulansen febril, desaturerad 87% \n",
              "<mark class=\"entity\" style=\"background: linear-gradient(90deg, #ffc93c, #ffc93c); padding: 0.45em 0.6em; margin: 0 0.25em; line-height: 1; border-radius: 0.35em;\">\n",
              "    utan\n",
              "    <span style=\"font-size: 0.8em; font-weight: bold; line-height: 1; border-radius: 0.35em; vertical-align: middle; margin-left: 0.5rem\">NEG</span>\n",
              "</mark>\n",
              " syrgas. Enl hemtjänsten varit förkyld 3-4 dagar. Stabila VP i övrigt.</br>A: Fritt</br>B: Antingsljud bilateralt, sat 94% på 5l syrgas. Obstruktiv, förlängt expirum. Erhåller inhalation sapimol. AF. 28. Stabil bröstkorg, \n",
              "<mark class=\"entity\" style=\"background: linear-gradient(90deg, #ffc93c, #ffc93c); padding: 0.45em 0.6em; margin: 0 0.25em; line-height: 1; border-radius: 0.35em;\">\n",
              "    inga\n",
              "    <span style=\"font-size: 0.8em; font-weight: bold; line-height: 1; border-radius: 0.35em; vertical-align: middle; margin-left: 0.5rem\">NEG</span>\n",
              "</mark>\n",
              " tecken till trauma.</br>C: Fina radialispulsar bilat, kall perifert. Marmorerad över knän. BT 90/70, p 119. Oregelbunden. I telemetri smala komplex. Erhåller infart, påbörjar vätskerecusitering. Stabilt bäcken. Buk mjuk och oöm.</br>D: Liksidiga pupiller, \n",
              "<mark class=\"entity\" style=\"background: linear-gradient(90deg, #ffc93c, #ffc93c); padding: 0.45em 0.6em; margin: 0 0.25em; line-height: 1; border-radius: 0.35em;\">\n",
              "    inga\n",
              "    <span style=\"font-size: 0.8em; font-weight: bold; line-height: 1; border-radius: 0.35em; vertical-align: middle; margin-left: 0.5rem\">NEG</span>\n",
              "</mark>\n",
              " fokala neurotiska bortfall. Konfusorisk, RLS 2. \n",
              "<mark class=\"entity\" style=\"background: linear-gradient(90deg, #ffc93c, #ffc93c); padding: 0.45em 0.6em; margin: 0 0.25em; line-height: 1; border-radius: 0.35em;\">\n",
              "    Ingen\n",
              "    <span style=\"font-size: 0.8em; font-weight: bold; line-height: 1; border-radius: 0.35em; vertical-align: middle; margin-left: 0.5rem\">NEG</span>\n",
              "</mark>\n",
              " nackstelhet.</br>E: Skrapsår höger kind, blåmärke vänster höft, \n",
              "<mark class=\"entity\" style=\"background: linear-gradient(90deg, #ffc93c, #ffc93c); padding: 0.45em 0.6em; margin: 0 0.25em; line-height: 1; border-radius: 0.35em;\">\n",
              "    ingen\n",
              "    <span style=\"font-size: 0.8em; font-weight: bold; line-height: 1; border-radius: 0.35em; vertical-align: middle; margin-left: 0.5rem\">NEG</span>\n",
              "</mark>\n",
              " utåtrotation. Hel hudskstym. Temp 39.4</br>Lab: Blodgas med akut respriatorisk \n",
              "<mark class=\"entity\" style=\"background: linear-gradient(90deg, #99154e, #99154e); padding: 0.45em 0.6em; margin: 0 0.25em; line-height: 1; border-radius: 0.35em;\">\n",
              "    acidos\n",
              "    <span style=\"font-size: 0.8em; font-weight: bold; line-height: 1; border-radius: 0.35em; vertical-align: middle; margin-left: 0.5rem\">SYM</span>\n",
              "</mark>\n",
              " \n",
              "<mark class=\"entity\" style=\"background: linear-gradient(90deg, #ffc93c, #ffc93c); padding: 0.45em 0.6em; margin: 0 0.25em; line-height: 1; border-radius: 0.35em;\">\n",
              "    utan\n",
              "    <span style=\"font-size: 0.8em; font-weight: bold; line-height: 1; border-radius: 0.35em; vertical-align: middle; margin-left: 0.5rem\">NEG</span>\n",
              "</mark>\n",
              " kompensation, laktat 8. </br>EKG: Förmaksflimmer kammarfrekvens 123.</br>Bedömning: Sepsis med oklart fokus samt fall med oklar traumamekanism. \n",
              "<mark class=\"entity\" style=\"background: linear-gradient(90deg, #ffc93c, #ffc93c); padding: 0.45em 0.6em; margin: 0 0.25em; line-height: 1; border-radius: 0.35em;\">\n",
              "    Inga\n",
              "    <span style=\"font-size: 0.8em; font-weight: bold; line-height: 1; border-radius: 0.35em; vertical-align: middle; margin-left: 0.5rem\">NEG</span>\n",
              "</mark>\n",
              " tecken till blödning i buken eller andra svåra traumatiska skador dock oaktat på 8 och febril. Genomodlas, insättes på cefotaxim 1x3. CT hjärna urakut med hänsyn till trauma och medvetandepåverkan. Påbörjar vätskeresucsitring. Inlägges covidAVA, ny blodgas om 1 timme. PCR SARS-CoV2 taget, isolerad till svar finns. Röntgen av vä höft från och pulm från avdelningen.</br></br>Kontakt med anhöriga ånyo från AVA, \n",
              "<mark class=\"entity\" style=\"background: linear-gradient(90deg, #ffc93c, #ffc93c); padding: 0.45em 0.6em; margin: 0 0.25em; line-height: 1; border-radius: 0.35em;\">\n",
              "    ej\n",
              "    <span style=\"font-size: 0.8em; font-weight: bold; line-height: 1; border-radius: 0.35em; vertical-align: middle; margin-left: 0.5rem\">NEG</span>\n",
              "</mark>\n",
              " nått dem via telefon från ambulans eller akuten.</br></br>Diagnos: Pneumoni, misstänkt</br></div></span>"
            ]
          },
          "metadata": {
            "tags": []
          }
        }
      ],
      "metadata": {
        "colab": {
          "base_uri": "https://localhost:8080/",
          "height": 705
        },
        "id": "ujVdHTvt1F9m",
        "outputId": "1f524461-625f-4583-95cd-90eb6e4cc1b0"
      }
    },
    {
      "cell_type": "code",
      "execution_count": null,
      "source": [
        "def replace_acronyms(text):\r\n",
        "    doc = nlp(text)\r\n",
        "    altered_tok = [tok.text for tok in doc]\r\n",
        "    for abrv in doc._.abbreviations:\r\n",
        "        altered_tok[abrv.start] = str(abrv._.long_form)\r\n",
        "\r\n",
        "    return(\" \".join(altered_tok))"
      ],
      "outputs": [],
      "metadata": {
        "id": "apz34J6dQFLg"
      }
    },
    {
      "cell_type": "markdown",
      "source": [
        "# Run & Evaluate model on corpus data "
      ],
      "metadata": {}
    },
    {
      "cell_type": "code",
      "execution_count": 34,
      "source": [
        "!# ToDo Make this step work as native python code instead of shell shifting colab adjustment\r\n",
        "!# ToDo SEtup test to check that conversion works after INCEpTION export problem is \r\n",
        "!mkdir /content/clinical_NLP_SE/data/processed/corpus\r\n",
        "!mkdir /content/clinical_NLP_SE/data/processed/corpus/conll2003\r\n",
        "# convert the annotated corpus to spacy example format\r\n",
        "# use 100 sentences before splitting a file into a new doc \r\n",
        "!python -m spacy convert /content/clinical_NLP_SE/data/raw/corpus/conll2003_NE_built_in_layer /content/clinical_NLP_SE/data/processed/corpus/conll2003 --converter conll --n-sents 100 "
      ],
      "outputs": [
        {
          "output_type": "stream",
          "name": "stdout",
          "text": [
            "/content/clinical_NLP_SE/data\n",
            "2021-05-31 07:21:02.046990: I tensorflow/stream_executor/platform/default/dso_loader.cc:53] Successfully opened dynamic library libcudart.so.11.0\n",
            "\u001b[38;5;4mℹ Grouping every 100 sentences into a document.\u001b[0m\n",
            "\u001b[38;5;2m✔ Generated output file (1 documents): processed/chart1.spacy\u001b[0m\n",
            "\u001b[38;5;4mℹ Grouping every 100 sentences into a document.\u001b[0m\n",
            "\u001b[38;5;2m✔ Generated output file (1 documents): processed/chart2.spacy\u001b[0m\n",
            "\u001b[38;5;4mℹ Grouping every 100 sentences into a document.\u001b[0m\n",
            "\u001b[38;5;2m✔ Generated output file (1 documents): processed/chart3.spacy\u001b[0m\n",
            "\u001b[38;5;4mℹ Grouping every 100 sentences into a document.\u001b[0m\n",
            "\u001b[38;5;2m✔ Generated output file (1 documents): processed/chart4.spacy\u001b[0m\n",
            "\u001b[38;5;4mℹ Grouping every 100 sentences into a document.\u001b[0m\n",
            "\u001b[38;5;2m✔ Generated output file (1 documents): processed/chart5.spacy\u001b[0m\n",
            "\u001b[38;5;4mℹ Grouping every 100 sentences into a document.\u001b[0m\n",
            "\u001b[38;5;2m✔ Generated output file (1 documents): processed/pat1.spacy\u001b[0m\n",
            "\u001b[38;5;4mℹ Grouping every 100 sentences into a document.\u001b[0m\n",
            "\u001b[38;5;2m✔ Generated output file (1 documents): processed/pat2.spacy\u001b[0m\n",
            "\u001b[38;5;4mℹ Grouping every 100 sentences into a document.\u001b[0m\n",
            "\u001b[38;5;2m✔ Generated output file (1 documents): processed/pat3.spacy\u001b[0m\n",
            "\u001b[38;5;4mℹ Grouping every 100 sentences into a document.\u001b[0m\n",
            "\u001b[38;5;2m✔ Generated output file (1 documents): processed/pat4.spacy\u001b[0m\n",
            "\u001b[38;5;4mℹ Grouping every 100 sentences into a document.\u001b[0m\n",
            "\u001b[38;5;2m✔ Generated output file (1 documents): processed/pat5.spacy\u001b[0m\n"
          ]
        }
      ],
      "metadata": {
        "colab": {
          "base_uri": "https://localhost:8080/"
        },
        "id": "oD4cGM44GSKQ",
        "outputId": "0995093f-346f-41b3-e294-2d812f778fc6"
      }
    },
    {
      "cell_type": "code",
      "execution_count": 56,
      "source": [
        "# Evaluate model\r\n",
        "\r\n",
        "# !rm -r /content/clinical_NLP_SE/models/ \r\n",
        "#!mkdir /content/clinical_NLP_SE/models/\r\n",
        "import os\r\n",
        "path = \"/content\" # /content is pretty much the root. you can choose other path in your colab workspace\r\n",
        "os.chdir(path)\r\n",
        "\r\n",
        "#ToDo Set paths as variables \r\n",
        "#nlp.to_disk(repo_path / 'models/test_3/') # save model to disk\r\n",
        "!python -m spacy evaluate /content/clinical_NLP_SE/models/test_3/ /content/clinical_NLP_SE/data/processed/corpus/conll2003_V2/ --output /content/clinical_NLP_SE/models/ --displacy-path /content/clinical_NLP_SE/models/test_3/"
      ],
      "outputs": [
        {
          "output_type": "stream",
          "name": "stdout",
          "text": [
            "/content/clinical_NLP_SE/models\n",
            "2021-05-31 07:44:32.297238: I tensorflow/stream_executor/platform/default/dso_loader.cc:53] Successfully opened dynamic library libcudart.so.11.0\n",
            "\u001b[38;5;4mℹ Using GPU: 0\u001b[0m\n",
            "\u001b[1m\n",
            "================================== Results ==================================\u001b[0m\n",
            "\n",
            "TOK      -    \n",
            "TAG      0.00 \n",
            "POS      -    \n",
            "LEMMA    -    \n",
            "UAS      -    \n",
            "LAS      -    \n",
            "NER P    7.69 \n",
            "NER R    26.19\n",
            "NER F    11.89\n",
            "SENT P   28.05\n",
            "SENT R   51.05\n",
            "SENT F   36.20\n",
            "SPEED    668  \n",
            "\n",
            "\u001b[1m\n",
            "=============================== NER (per type) ===============================\u001b[0m\n",
            "\n",
            "                 P        R       F\n",
            "SYM          13.33     7.41    9.52\n",
            "TME           0.00     0.00    0.00\n",
            "NEG          11.69   100.00   20.93\n",
            "DIS           0.00     0.00    0.00\n",
            "ORG           0.00     0.00    0.00\n",
            "null          0.00     0.00    0.00\n",
            "PRS           0.00     0.00    0.00\n",
            "LOC           0.00     0.00    0.00\n",
            "NEGATIONER    0.00     0.00    0.00\n",
            "MSR           0.00     0.00    0.00\n",
            "\n",
            "\u001b[38;5;2m✔ Generated 25 parses as HTML\u001b[0m\n",
            "../models\n",
            "Traceback (most recent call last):\n",
            "  File \"/usr/lib/python3.7/runpy.py\", line 193, in _run_module_as_main\n",
            "    \"__main__\", mod_spec)\n",
            "  File \"/usr/lib/python3.7/runpy.py\", line 85, in _run_code\n",
            "    exec(code, run_globals)\n",
            "  File \"/usr/local/lib/python3.7/dist-packages/spacy/__main__.py\", line 4, in <module>\n",
            "    setup_cli()\n",
            "  File \"/usr/local/lib/python3.7/dist-packages/spacy/cli/_util.py\", line 69, in setup_cli\n",
            "    command(prog_name=COMMAND)\n",
            "  File \"/usr/local/lib/python3.7/dist-packages/click/core.py\", line 829, in __call__\n",
            "    return self.main(*args, **kwargs)\n",
            "  File \"/usr/local/lib/python3.7/dist-packages/click/core.py\", line 782, in main\n",
            "    rv = self.invoke(ctx)\n",
            "  File \"/usr/local/lib/python3.7/dist-packages/click/core.py\", line 1259, in invoke\n",
            "    return _process_result(sub_ctx.command.invoke(sub_ctx))\n",
            "  File \"/usr/local/lib/python3.7/dist-packages/click/core.py\", line 1066, in invoke\n",
            "    return ctx.invoke(self.callback, **ctx.params)\n",
            "  File \"/usr/local/lib/python3.7/dist-packages/click/core.py\", line 610, in invoke\n",
            "    return callback(*args, **kwargs)\n",
            "  File \"/usr/local/lib/python3.7/dist-packages/typer/main.py\", line 497, in wrapper\n",
            "    return callback(**use_params)  # type: ignore\n",
            "  File \"/usr/local/lib/python3.7/dist-packages/spacy/cli/evaluate.py\", line 50, in evaluate_cli\n",
            "    silent=False,\n",
            "  File \"/usr/local/lib/python3.7/dist-packages/spacy/cli/evaluate.py\", line 149, in evaluate\n",
            "    srsly.write_json(output_path, data)\n",
            "  File \"/usr/local/lib/python3.7/dist-packages/srsly/_json_api.py\", line 80, in write_json\n",
            "    with file_path.open(\"w\", encoding=\"utf8\") as f:\n",
            "  File \"/usr/lib/python3.7/pathlib.py\", line 1208, in open\n",
            "    opener=self._opener)\n",
            "  File \"/usr/lib/python3.7/pathlib.py\", line 1063, in _opener\n",
            "    return self._accessor.open(self, flags, mode)\n",
            "FileNotFoundError: [Errno 2] No such file or directory: 'models/metrics.json'\n"
          ]
        }
      ],
      "metadata": {
        "colab": {
          "base_uri": "https://localhost:8080/"
        },
        "id": "SYRkqLpyHs6d",
        "outputId": "728dc346-b988-4e43-8c19-5487437f7b2d"
      }
    },
    {
      "cell_type": "code",
      "execution_count": null,
      "source": [
        "# Display model prediction as html \r\n",
        "import IPython\r\n",
        "# IPython.display.HTML(filename=Path(repo_path / 'models/parses.html'))\r\n",
        "IPython.display.HTML(filename=Path(repo_path / 'models/entities.html'))\r\n",
        "\r\n",
        "\r\n"
      ],
      "outputs": [],
      "metadata": {}
    },
    {
      "cell_type": "markdown",
      "source": [
        "# Analysis of Model Structure"
      ],
      "metadata": {}
    },
    {
      "cell_type": "markdown",
      "source": [
        "### Inspect sentences and chunks"
      ],
      "metadata": {
        "id": "J9fBLRA-EefZ"
      }
    },
    {
      "cell_type": "code",
      "execution_count": null,
      "source": [
        "# show how the model finns start-end of sentences \r\n",
        "# Can, and may have to be improved for special language use cases such as in health records, as convential sentence stops and ends are not always used and the model otherwise has a harder time extracting the context. \r\n",
        "# This is in large part done in the tokenizer \r\n",
        "\r\n",
        "'''\r\n",
        "for sent in doc.sents:\r\n",
        "    print(\">\", sent)\r\n",
        "'''\r\n",
        "\r\n",
        "# print the models understandning of noun chunks \r\n",
        "# this is interesting because we can see what the model thinks belongs with what \r\n",
        "\r\n",
        "'''\r\n",
        "for chunk in doc.noun_chunks:\r\n",
        "    print(chunk.text)\r\n",
        "'''"
      ],
      "outputs": [],
      "metadata": {}
    },
    {
      "cell_type": "markdown",
      "source": [
        "### Analysing the pipeline "
      ],
      "metadata": {}
    },
    {
      "cell_type": "markdown",
      "source": [
        "### Alignment"
      ],
      "metadata": {}
    },
    {
      "cell_type": "code",
      "execution_count": null,
      "source": [
        "# ToDo    \r\n",
        "# Current implementation of the alignment algorithm assumes that both tokenizations add up to the same string. \r\n",
        "# E.g. you’ll be able to align [\"I\", \"'\", \"m\"] and [\"I\", \"'m\"], which both add up to \"I'm\", \r\n",
        "# but not [\"I\", \"'m\"] and [\"I\", \"am\"]. \r\n",
        "\r\n",
        "from spacy.training import Alignment\r\n",
        "\r\n",
        "bert_tokens = [\"obama\", \"'\", \"s\", \"podcast\"]\r\n",
        "spacy_tokens = [\"obama\", \"'s\", \"podcast\"]\r\n",
        "alignment = Alignment.from_strings(bert_tokens, spacy_tokens)\r\n",
        "a2b = alignment.x2y\r\n",
        "assert list(a2b.dataXd) == [0, 1, 1, 2]\r\n",
        "print(list(a2b.dataXd) == [0, 1, 1, 2])\r\n",
        "\r\n",
        "# If a2b.dataXd[1] == a2b.dataXd[2] == 1, that means that A[1] (\"'\") and A[2] (\"s\") both align to B[1] (\"'s\")"
      ],
      "outputs": [
        {
          "output_type": "stream",
          "name": "stdout",
          "text": [
            "True\n"
          ]
        }
      ],
      "metadata": {
        "colab": {
          "base_uri": "https://localhost:8080/"
        },
        "id": "fU_8QdiFT29s",
        "outputId": "b0f37744-6677-43f5-fa88-7a09b10cc408"
      }
    }
  ],
  "metadata": {
    "accelerator": "GPU",
    "colab": {
      "collapsed_sections": [
        "SGgOxfrSwuU7"
      ],
      "name": "spacy_pipeline_v3.ipynb",
      "provenance": [],
      "toc_visible": true
    },
    "interpreter": {
      "hash": "d91c48f48189c56664de038e34a1f930f7a4a539cbe8f04b9f1e81ab0844a6c3"
    },
    "kernelspec": {
      "display_name": "Python 3.6.2 32-bit",
      "name": "python3"
    },
    "language_info": {
      "name": "python",
      "version": ""
    },
    "metadata": {
      "interpreter": {
        "hash": "d91c48f48189c56664de038e34a1f930f7a4a539cbe8f04b9f1e81ab0844a6c3"
      }
    },
    "orig_nbformat": 2
  },
  "nbformat": 4,
  "nbformat_minor": 2
}