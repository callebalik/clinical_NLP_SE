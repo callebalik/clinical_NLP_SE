{
  "nbformat": 4,
  "nbformat_minor": 0,
  "metadata": {
    "colab": {
      "name": "phrasematcher_v1.ipynb",
      "provenance": []
    },
    "kernelspec": {
      "display_name": "Python 3.6.2 32-bit",
      "name": "python362jvsc74a57bd0d91c48f48189c56664de038e34a1f930f7a4a539cbe8f04b9f1e81ab0844a6c3"
    },
    "language_info": {
      "name": "python",
      "version": ""
    },
    "metadata": {
      "interpreter": {
        "hash": "d91c48f48189c56664de038e34a1f930f7a4a539cbe8f04b9f1e81ab0844a6c3"
      }
    },
    "orig_nbformat": 2
  },
  "cells": [
    {
      "cell_type": "markdown",
      "metadata": {
        "id": "-v8tIGSJKNHP"
      },
      "source": [
        "# SETUP ENVIRONMENT"
      ]
    },
    {
      "cell_type": "markdown",
      "metadata": {
        "id": "4oMxk8HK7lE_"
      },
      "source": [
        "## MNT DRIVE AND CLONE GITHUB REPO"
      ]
    },
    {
      "cell_type": "code",
      "metadata": {
        "colab": {
          "base_uri": "https://localhost:8080/"
        },
        "id": "r2Et63n-mVcR",
        "outputId": "f3cd0dae-2c4f-4121-dc00-313829ff9e49"
      },
      "source": [
        "# mnt drive \n",
        "from google.colab import drive\n",
        "drive.mount('/content/drive')\n",
        "\n",
        "\n",
        "# Access token from drive without exposing in text (accsessible in logfiles lol. Better than nothing)\n",
        "import os\n",
        "import subprocess\n",
        "\n",
        "token = open(\"/content/drive/MyDrive/token/colab.txt\", \"r\").read()\n",
        "tkn = token.split(\"=\")\n",
        "\n",
        "repo_name = \"callebalik/clinical_NLP_SE.git\"\n",
        "cmd_string = 'git clone https://{0}@github.com/{1}'.format(tkn[1], repo_name)\n",
        "\n",
        "!{cmd_string}\n",
        "cmd_string = \"\" # removing the variable\n",
        "print(cmd_string)\n"
      ],
      "execution_count": null,
      "outputs": [
        {
          "output_type": "stream",
          "text": [
            "Drive already mounted at /content/drive; to attempt to forcibly remount, call drive.mount(\"/content/drive\", force_remount=True).\n",
            "fatal: destination path 'clinical_NLP_SE' already exists and is not an empty directory.\n",
            "\n"
          ],
          "name": "stdout"
        }
      ]
    },
    {
      "cell_type": "code",
      "metadata": {
        "id": "d3gnBRnNOsg6"
      },
      "source": [
        "# Set paths for the environment \n",
        "import os \n",
        "from pathlib import Path\n",
        "\n",
        "drive_path = Path('/content/drive/MyDrive/bioNLP/')\n",
        "code_path = Path('/content/clinical_NLP_SE/')\n",
        "# sys.path.append(str(code_path)) # Let pyhton find scripts from the repo\n",
        "models_path = Path('/content/drive/My Drive/bioNLP/models/')\n",
        "data_path = code_path / 'data/'\n",
        "corpus_path = data_path / 'raw/corpus'"
      ],
      "execution_count": null,
      "outputs": []
    },
    {
      "cell_type": "code",
      "metadata": {
        "id": "We3MQcmkDsm4"
      },
      "source": [
        "#drive.flush_and_unmount()\n",
        "#print('All changes made in this colab session should now be visible in Drive.')"
      ],
      "execution_count": null,
      "outputs": []
    },
    {
      "cell_type": "code",
      "metadata": {
        "id": "RZvaDg0-uz9B",
        "colab": {
          "base_uri": "https://localhost:8080/"
        },
        "outputId": "fd4243cb-217e-48a5-a5ac-8a72c0b15e67"
      },
      "source": [
        "%load_ext autoreload\n",
        "%autoreload 2"
      ],
      "execution_count": null,
      "outputs": [
        {
          "output_type": "stream",
          "text": [
            "The autoreload extension is already loaded. To reload it, use:\n",
            "  %reload_ext autoreload\n"
          ],
          "name": "stdout"
        }
      ]
    },
    {
      "cell_type": "markdown",
      "metadata": {
        "id": "S1p1i1iHKd3R"
      },
      "source": [
        ""
      ]
    },
    {
      "cell_type": "markdown",
      "metadata": {
        "id": "Tsf5vHeSJ5Tg"
      },
      "source": [
        "## GET DATA AND MODELS\n",
        "\n",
        "###Gettings the Swedish models \n",
        "\n",
        "https://data.kb.se/datasets/2020/10/swedish_nlp/spacy/\n",
        "\n",
        "https://github.com/Kungbib/swedish-spacy\n",
        "\n",
        "The models can be downloaded with the commands below. For colab this is slow and they are instead mounted from a google drive where they have been downloaded\n",
        "\n"
      ]
    },
    {
      "cell_type": "code",
      "metadata": {
        "id": "HKfI3y19GVvZ"
      },
      "source": [
        "# Get models from Kungbib https://github.com/Kungbib/swedish-spacy\n",
        "#!wget https://data.kb.se/datasets/2020/10/swedish_nlp/spacy/sv_tagger-0.0.0.tar.gz\n",
        "\n",
        "# Older models\n",
        "#!wget https://data.kb.se/datasets/2020/10/swedish_nlp/spacy/sv_model_upos.zip\n",
        "#!wget https://data.kb.se/datasets/2020/10/swedish_nlp/spacy/sv_model_xpos.zip"
      ],
      "execution_count": null,
      "outputs": []
    },
    {
      "cell_type": "code",
      "metadata": {
        "id": "ALJypSdZJ3d8",
        "colab": {
          "base_uri": "https://localhost:8080/",
          "height": 1000
        },
        "collapsed": true,
        "outputId": "c53ff274-3769-482c-b3e1-2d5d86095bea"
      },
      "source": [
        "# N.B. Make sure to install the spacy-transformers extension, or the models won't work.\n",
        "!pip install spacy-transformers\n",
        "!pip install \"/content/drive/My Drive/bioNLP/models/sv_pipeline-0.0.0.tar.gz\"\n",
        "import spacy\n"
      ],
      "execution_count": null,
      "outputs": [
        {
          "output_type": "stream",
          "text": [
            "Requirement already satisfied: spacy-transformers in /usr/local/lib/python3.7/dist-packages (1.0.2)\n",
            "Requirement already satisfied: transformers<4.6.0,>=3.4.0 in /usr/local/lib/python3.7/dist-packages (from spacy-transformers) (4.5.1)\n",
            "Requirement already satisfied: spacy-alignments<1.0.0,>=0.7.2 in /usr/local/lib/python3.7/dist-packages (from spacy-transformers) (0.8.3)\n",
            "Requirement already satisfied: spacy<3.1.0,>=3.0.0 in /usr/local/lib/python3.7/dist-packages (from spacy-transformers) (3.0.6)\n",
            "Requirement already satisfied: srsly<3.0.0,>=2.4.0 in /usr/local/lib/python3.7/dist-packages (from spacy-transformers) (2.4.1)\n",
            "Requirement already satisfied: torch>=1.5.0 in /usr/local/lib/python3.7/dist-packages (from spacy-transformers) (1.8.1+cu101)\n",
            "Requirement already satisfied: tokenizers<0.11,>=0.10.1 in /usr/local/lib/python3.7/dist-packages (from transformers<4.6.0,>=3.4.0->spacy-transformers) (0.10.3)\n",
            "Requirement already satisfied: tqdm>=4.27 in /usr/local/lib/python3.7/dist-packages (from transformers<4.6.0,>=3.4.0->spacy-transformers) (4.41.1)\n",
            "Requirement already satisfied: importlib-metadata; python_version < \"3.8\" in /usr/local/lib/python3.7/dist-packages (from transformers<4.6.0,>=3.4.0->spacy-transformers) (4.0.1)\n",
            "Requirement already satisfied: packaging in /usr/local/lib/python3.7/dist-packages (from transformers<4.6.0,>=3.4.0->spacy-transformers) (20.9)\n",
            "Requirement already satisfied: numpy>=1.17 in /usr/local/lib/python3.7/dist-packages (from transformers<4.6.0,>=3.4.0->spacy-transformers) (1.19.5)\n",
            "Requirement already satisfied: regex!=2019.12.17 in /usr/local/lib/python3.7/dist-packages (from transformers<4.6.0,>=3.4.0->spacy-transformers) (2019.12.20)\n",
            "Requirement already satisfied: filelock in /usr/local/lib/python3.7/dist-packages (from transformers<4.6.0,>=3.4.0->spacy-transformers) (3.0.12)\n",
            "Requirement already satisfied: requests in /usr/local/lib/python3.7/dist-packages (from transformers<4.6.0,>=3.4.0->spacy-transformers) (2.23.0)\n",
            "Requirement already satisfied: sacremoses in /usr/local/lib/python3.7/dist-packages (from transformers<4.6.0,>=3.4.0->spacy-transformers) (0.0.45)\n",
            "Requirement already satisfied: blis<0.8.0,>=0.4.0 in /usr/local/lib/python3.7/dist-packages (from spacy<3.1.0,>=3.0.0->spacy-transformers) (0.4.1)\n",
            "Requirement already satisfied: jinja2 in /usr/local/lib/python3.7/dist-packages (from spacy<3.1.0,>=3.0.0->spacy-transformers) (2.11.3)\n",
            "Requirement already satisfied: pydantic<1.8.0,>=1.7.1 in /usr/local/lib/python3.7/dist-packages (from spacy<3.1.0,>=3.0.0->spacy-transformers) (1.7.4)\n",
            "Requirement already satisfied: cymem<2.1.0,>=2.0.2 in /usr/local/lib/python3.7/dist-packages (from spacy<3.1.0,>=3.0.0->spacy-transformers) (2.0.5)\n",
            "Requirement already satisfied: catalogue<2.1.0,>=2.0.3 in /usr/local/lib/python3.7/dist-packages (from spacy<3.1.0,>=3.0.0->spacy-transformers) (2.0.4)\n",
            "Requirement already satisfied: typing-extensions<4.0.0.0,>=3.7.4; python_version < \"3.8\" in /usr/local/lib/python3.7/dist-packages (from spacy<3.1.0,>=3.0.0->spacy-transformers) (3.7.4.3)\n",
            "Requirement already satisfied: wasabi<1.1.0,>=0.8.1 in /usr/local/lib/python3.7/dist-packages (from spacy<3.1.0,>=3.0.0->spacy-transformers) (0.8.2)\n",
            "Requirement already satisfied: setuptools in /usr/local/lib/python3.7/dist-packages (from spacy<3.1.0,>=3.0.0->spacy-transformers) (56.1.0)\n",
            "Requirement already satisfied: murmurhash<1.1.0,>=0.28.0 in /usr/local/lib/python3.7/dist-packages (from spacy<3.1.0,>=3.0.0->spacy-transformers) (1.0.5)\n",
            "Requirement already satisfied: typer<0.4.0,>=0.3.0 in /usr/local/lib/python3.7/dist-packages (from spacy<3.1.0,>=3.0.0->spacy-transformers) (0.3.2)\n",
            "Requirement already satisfied: thinc<8.1.0,>=8.0.3 in /usr/local/lib/python3.7/dist-packages (from spacy<3.1.0,>=3.0.0->spacy-transformers) (8.0.3)\n",
            "Requirement already satisfied: pathy>=0.3.5 in /usr/local/lib/python3.7/dist-packages (from spacy<3.1.0,>=3.0.0->spacy-transformers) (0.5.2)\n",
            "Requirement already satisfied: spacy-legacy<3.1.0,>=3.0.4 in /usr/local/lib/python3.7/dist-packages (from spacy<3.1.0,>=3.0.0->spacy-transformers) (3.0.5)\n",
            "Requirement already satisfied: preshed<3.1.0,>=3.0.2 in /usr/local/lib/python3.7/dist-packages (from spacy<3.1.0,>=3.0.0->spacy-transformers) (3.0.5)\n",
            "Requirement already satisfied: zipp>=0.5 in /usr/local/lib/python3.7/dist-packages (from importlib-metadata; python_version < \"3.8\"->transformers<4.6.0,>=3.4.0->spacy-transformers) (3.4.1)\n",
            "Requirement already satisfied: pyparsing>=2.0.2 in /usr/local/lib/python3.7/dist-packages (from packaging->transformers<4.6.0,>=3.4.0->spacy-transformers) (2.4.7)\n",
            "Requirement already satisfied: urllib3!=1.25.0,!=1.25.1,<1.26,>=1.21.1 in /usr/local/lib/python3.7/dist-packages (from requests->transformers<4.6.0,>=3.4.0->spacy-transformers) (1.24.3)\n",
            "Requirement already satisfied: certifi>=2017.4.17 in /usr/local/lib/python3.7/dist-packages (from requests->transformers<4.6.0,>=3.4.0->spacy-transformers) (2020.12.5)\n",
            "Requirement already satisfied: chardet<4,>=3.0.2 in /usr/local/lib/python3.7/dist-packages (from requests->transformers<4.6.0,>=3.4.0->spacy-transformers) (3.0.4)\n",
            "Requirement already satisfied: idna<3,>=2.5 in /usr/local/lib/python3.7/dist-packages (from requests->transformers<4.6.0,>=3.4.0->spacy-transformers) (2.10)\n",
            "Requirement already satisfied: click in /usr/local/lib/python3.7/dist-packages (from sacremoses->transformers<4.6.0,>=3.4.0->spacy-transformers) (7.1.2)\n",
            "Requirement already satisfied: six in /usr/local/lib/python3.7/dist-packages (from sacremoses->transformers<4.6.0,>=3.4.0->spacy-transformers) (1.15.0)\n",
            "Requirement already satisfied: joblib in /usr/local/lib/python3.7/dist-packages (from sacremoses->transformers<4.6.0,>=3.4.0->spacy-transformers) (1.0.1)\n",
            "Requirement already satisfied: MarkupSafe>=0.23 in /usr/local/lib/python3.7/dist-packages (from jinja2->spacy<3.1.0,>=3.0.0->spacy-transformers) (2.0.1)\n",
            "Requirement already satisfied: smart-open<4.0.0,>=2.2.0 in /usr/local/lib/python3.7/dist-packages (from pathy>=0.3.5->spacy<3.1.0,>=3.0.0->spacy-transformers) (3.0.0)\n",
            "Processing ./drive/My Drive/bioNLP/models/sv_pipeline-0.0.0.tar.gz\n",
            "Requirement already satisfied: spacy<3.1.0,>=3.0.1 in /usr/local/lib/python3.7/dist-packages (from sv-pipeline==0.0.0) (3.0.6)\n",
            "Requirement already satisfied: numpy>=1.15.0 in /usr/local/lib/python3.7/dist-packages (from spacy<3.1.0,>=3.0.1->sv-pipeline==0.0.0) (1.19.5)\n",
            "Requirement already satisfied: pydantic<1.8.0,>=1.7.1 in /usr/local/lib/python3.7/dist-packages (from spacy<3.1.0,>=3.0.1->sv-pipeline==0.0.0) (1.7.4)\n",
            "Requirement already satisfied: tqdm<5.0.0,>=4.38.0 in /usr/local/lib/python3.7/dist-packages (from spacy<3.1.0,>=3.0.1->sv-pipeline==0.0.0) (4.41.1)\n",
            "Requirement already satisfied: jinja2 in /usr/local/lib/python3.7/dist-packages (from spacy<3.1.0,>=3.0.1->sv-pipeline==0.0.0) (2.11.3)\n",
            "Requirement already satisfied: pathy>=0.3.5 in /usr/local/lib/python3.7/dist-packages (from spacy<3.1.0,>=3.0.1->sv-pipeline==0.0.0) (0.5.2)\n",
            "Requirement already satisfied: spacy-legacy<3.1.0,>=3.0.4 in /usr/local/lib/python3.7/dist-packages (from spacy<3.1.0,>=3.0.1->sv-pipeline==0.0.0) (3.0.5)\n",
            "Requirement already satisfied: preshed<3.1.0,>=3.0.2 in /usr/local/lib/python3.7/dist-packages (from spacy<3.1.0,>=3.0.1->sv-pipeline==0.0.0) (3.0.5)\n",
            "Requirement already satisfied: catalogue<2.1.0,>=2.0.3 in /usr/local/lib/python3.7/dist-packages (from spacy<3.1.0,>=3.0.1->sv-pipeline==0.0.0) (2.0.4)\n",
            "Requirement already satisfied: wasabi<1.1.0,>=0.8.1 in /usr/local/lib/python3.7/dist-packages (from spacy<3.1.0,>=3.0.1->sv-pipeline==0.0.0) (0.8.2)\n",
            "Requirement already satisfied: requests<3.0.0,>=2.13.0 in /usr/local/lib/python3.7/dist-packages (from spacy<3.1.0,>=3.0.1->sv-pipeline==0.0.0) (2.23.0)\n",
            "Requirement already satisfied: murmurhash<1.1.0,>=0.28.0 in /usr/local/lib/python3.7/dist-packages (from spacy<3.1.0,>=3.0.1->sv-pipeline==0.0.0) (1.0.5)\n",
            "Requirement already satisfied: typer<0.4.0,>=0.3.0 in /usr/local/lib/python3.7/dist-packages (from spacy<3.1.0,>=3.0.1->sv-pipeline==0.0.0) (0.3.2)\n",
            "Requirement already satisfied: thinc<8.1.0,>=8.0.3 in /usr/local/lib/python3.7/dist-packages (from spacy<3.1.0,>=3.0.1->sv-pipeline==0.0.0) (8.0.3)\n",
            "Requirement already satisfied: packaging>=20.0 in /usr/local/lib/python3.7/dist-packages (from spacy<3.1.0,>=3.0.1->sv-pipeline==0.0.0) (20.9)\n",
            "Requirement already satisfied: blis<0.8.0,>=0.4.0 in /usr/local/lib/python3.7/dist-packages (from spacy<3.1.0,>=3.0.1->sv-pipeline==0.0.0) (0.4.1)\n",
            "Requirement already satisfied: cymem<2.1.0,>=2.0.2 in /usr/local/lib/python3.7/dist-packages (from spacy<3.1.0,>=3.0.1->sv-pipeline==0.0.0) (2.0.5)\n",
            "Requirement already satisfied: setuptools in /usr/local/lib/python3.7/dist-packages (from spacy<3.1.0,>=3.0.1->sv-pipeline==0.0.0) (56.1.0)\n",
            "Requirement already satisfied: srsly<3.0.0,>=2.4.1 in /usr/local/lib/python3.7/dist-packages (from spacy<3.1.0,>=3.0.1->sv-pipeline==0.0.0) (2.4.1)\n",
            "Requirement already satisfied: typing-extensions<4.0.0.0,>=3.7.4; python_version < \"3.8\" in /usr/local/lib/python3.7/dist-packages (from spacy<3.1.0,>=3.0.1->sv-pipeline==0.0.0) (3.7.4.3)\n",
            "Requirement already satisfied: MarkupSafe>=0.23 in /usr/local/lib/python3.7/dist-packages (from jinja2->spacy<3.1.0,>=3.0.1->sv-pipeline==0.0.0) (2.0.1)\n",
            "Requirement already satisfied: smart-open<4.0.0,>=2.2.0 in /usr/local/lib/python3.7/dist-packages (from pathy>=0.3.5->spacy<3.1.0,>=3.0.1->sv-pipeline==0.0.0) (3.0.0)\n",
            "Requirement already satisfied: zipp>=0.5; python_version < \"3.8\" in /usr/local/lib/python3.7/dist-packages (from catalogue<2.1.0,>=2.0.3->spacy<3.1.0,>=3.0.1->sv-pipeline==0.0.0) (3.4.1)\n",
            "Requirement already satisfied: chardet<4,>=3.0.2 in /usr/local/lib/python3.7/dist-packages (from requests<3.0.0,>=2.13.0->spacy<3.1.0,>=3.0.1->sv-pipeline==0.0.0) (3.0.4)\n",
            "Requirement already satisfied: certifi>=2017.4.17 in /usr/local/lib/python3.7/dist-packages (from requests<3.0.0,>=2.13.0->spacy<3.1.0,>=3.0.1->sv-pipeline==0.0.0) (2020.12.5)\n",
            "Requirement already satisfied: idna<3,>=2.5 in /usr/local/lib/python3.7/dist-packages (from requests<3.0.0,>=2.13.0->spacy<3.1.0,>=3.0.1->sv-pipeline==0.0.0) (2.10)\n",
            "Requirement already satisfied: urllib3!=1.25.0,!=1.25.1,<1.26,>=1.21.1 in /usr/local/lib/python3.7/dist-packages (from requests<3.0.0,>=2.13.0->spacy<3.1.0,>=3.0.1->sv-pipeline==0.0.0) (1.24.3)\n",
            "Requirement already satisfied: click<7.2.0,>=7.1.1 in /usr/local/lib/python3.7/dist-packages (from typer<0.4.0,>=0.3.0->spacy<3.1.0,>=3.0.1->sv-pipeline==0.0.0) (7.1.2)\n",
            "Requirement already satisfied: pyparsing>=2.0.2 in /usr/local/lib/python3.7/dist-packages (from packaging>=20.0->spacy<3.1.0,>=3.0.1->sv-pipeline==0.0.0) (2.4.7)\n",
            "Building wheels for collected packages: sv-pipeline\n",
            "  Building wheel for sv-pipeline (setup.py) ... \u001b[?25l\u001b[?25hdone\n",
            "  Created wheel for sv-pipeline: filename=sv_pipeline-0.0.0-cp37-none-any.whl size=935375398 sha256=998e6c015fb536c6a35e6a9efb6cebcd9ef4d5d472f48b32fd508fab144ca1db\n",
            "  Stored in directory: /root/.cache/pip/wheels/5f/58/a9/4f2caa352e21d9859301b0fb743111c59b70b866c9de895c40\n",
            "Successfully built sv-pipeline\n",
            "Installing collected packages: sv-pipeline\n",
            "  Found existing installation: sv-pipeline 0.0.0\n",
            "    Uninstalling sv-pipeline-0.0.0:\n",
            "      Successfully uninstalled sv-pipeline-0.0.0\n",
            "Successfully installed sv-pipeline-0.0.0\n"
          ],
          "name": "stdout"
        },
        {
          "output_type": "display_data",
          "data": {
            "application/vnd.colab-display-data+json": {
              "pip_warning": {
                "packages": [
                  "sv_pipeline"
                ]
              }
            }
          },
          "metadata": {
            "tags": []
          }
        }
      ]
    },
    {
      "cell_type": "markdown",
      "metadata": {
        "id": "oWPMEmhlrWDs"
      },
      "source": [
        "### Note from Kungbib\n",
        "\n",
        "** UPDATE February 2021 **: We are adding two transformer-based models trained in spaCy 3.0. They are available to download at the same link given below.\n",
        "One model is a complete pipeline with UPOS tagger, parser, sentencer, ner and lemmatizer (sv_pipeline-0.0.0.tar.gz). Unfortunately the lemmatizer is not yet trainable in spaCy, so the performance is as good as the quality of the rules/lookup tables available for Swedish (i.e. not very good). \n",
        "\n",
        "If you need a Swedish lemmatizer we advise you for the moment to have a look at Stanza, efselab or lemmy.ww\n",
        "\n",
        "---\n",
        "\n",
        "\n",
        "The other model is a XPOS tagger in case you need language-specific part-of-speech tags (sv_tagger-0.0.0.tar.gz)."
      ]
    },
    {
      "cell_type": "markdown",
      "metadata": {
        "id": "GDiEMNpj8SAh"
      },
      "source": [
        "## INITIALIZE SPACY"
      ]
    },
    {
      "cell_type": "code",
      "metadata": {
        "collapsed": true,
        "id": "Ie3y0lSVsXoY"
      },
      "source": [
        "import spacy \n",
        "nlp = spacy.load(\"sv_pipeline\")"
      ],
      "execution_count": null,
      "outputs": []
    },
    {
      "cell_type": "markdown",
      "metadata": {
        "id": "gfzk7npYsSMQ"
      },
      "source": [
        "# Analyzing\n",
        "\n",
        "> CTRL + F8 to run all cell above and setup environment \n",
        "\n",
        "*Time estimate 3 min*"
      ]
    },
    {
      "cell_type": "markdown",
      "metadata": {
        "id": "1LEvAim19P6t"
      },
      "source": [
        "## Spacy PhraseMatcher "
      ]
    },
    {
      "cell_type": "code",
      "metadata": {
        "collapsed": true,
        "id": "rat3P78h9bp3"
      },
      "source": [
        "# get ICD10 \n",
        "\n",
        "\"\"\" pattern and special signs \n",
        "LDD   LLLLLL\n",
        "LDD † LLLLLL\n",
        "LDD * LLLLLL\n",
        "\n",
        "Example \n",
        "P75\t*\tMekoniumileus vid cystisk fibros (E84.1)\n",
        "\"\"\"\n",
        "\n",
        "\n",
        "'''\n",
        "Positive Lookbehind (?<=\\D\\d\\d) Assert that the Regex below matches\n",
        "  \\D matches any character that's not a digit (equivalent to [^0-9])\n",
        "  \\d matches a digit (equivalent to [0-9])\n",
        "  \\d matches a digit (equivalent to [0-9])\n",
        "\\s matches any whitespace character (equivalent to [\\r\\n\\t\\f\\v ])\n",
        "+? matches the previous token between one and unlimited times, as few times as possible, expanding as needed (lazy)\n",
        ". matches any character (except for line terminators)\n",
        "? matches the previous token between zero and one times, as many times as possible, giving back as needed (greedy)\n",
        "\\s matches any whitespace character (equivalent to [\\r\\n\\t\\f\\v ])\n",
        "\n",
        "Global pattern flags\n",
        "g modifier: global. All matches (don't return after first match)\n",
        "m modifier: multi line. Causes ^ and $ to match the begin/end of each line (not only begin/end of string)\n",
        "'''\n",
        "\n",
        "import re\n",
        "\n",
        "regex_ddd = '/(?<=\\D\\d\\d)\\s+?.?\\s/gm'\n",
        "regex_dddR = '/(?<=R\\d\\d)\\s+?.?\\s/gm' \n",
        "ddd = r'(?<=\\D\\d\\d)\\s+?.?\\s'\n",
        "dddd = r'(?<=\\D\\d\\d\\d)\\s+?.?\\s'\n",
        "\n",
        "ddddd = r'((?<=\\D\\d\\d\\d\\d)|(?<=\\D\\d\\d\\d\\D))\\s+?.?\\s'\n",
        "\n",
        "'''\n",
        "A513B\t†\tSyfilitisk (sekundär) alopeci (L99.8)\n",
        "Y3498\t\tOspecificerad skadehändelse, med oklar avsikt-plats, ospecificerad-andra specificerade aktiviteter\n",
        "Y3499\t\tOspecificerad skadehändelse, med oklar avsikt-plats, ospecificerad-aktivitet, ospecificerad\n",
        "Y586A\t\tKomplikation av vaccin mot kikhosta, enbart (P)\n",
        "Y586B\t\tKomplikation av vaccin mot difteri, kikhosta och stelkramp, kombinerat (DPT)\n",
        "Y586W\t\tKomplikation av annat kombinerat \n",
        "'''\n",
        "\n",
        "ICD_PATH = data_path / 'raw/codes/icd-10-se-2021-text'\n",
        "file_path = ICD_PATH / 'digit3.txt'\n",
        "\n",
        "ICD000 = []\n",
        "with open(ICD_PATH / 'digit3.txt','r') as codes:\n",
        "    for line in codes:\n",
        "        x = re.split(ddd, line)\n",
        "        ICD000.append(x[1].strip())\n",
        "\n",
        "ICD0000 = []\n",
        "with open(ICD_PATH / 'digit4.txt','r') as codes:\n",
        "    for line in codes:\n",
        "        x = re.split(dddd, line)\n",
        "        ICD0000.append(x[1].strip())\n",
        "        \n",
        "ICD00000 = []\n",
        "with open(ICD_PATH / 'digit5.txt','r') as codes:\n",
        "    for line in codes:\n",
        "        x = re.split(ddddd, line)\n",
        "        ICD00000.append(x[1])\n",
        "\n"
      ],
      "execution_count": null,
      "outputs": []
    },
    {
      "cell_type": "code",
      "metadata": {
        "id": "p8cy93mmeYwC"
      },
      "source": [
        "ICD = ICD000 + ICD0000 + ICD00000"
      ],
      "execution_count": null,
      "outputs": []
    },
    {
      "cell_type": "code",
      "metadata": {
        "id": "fSNL_hGegnKJ"
      },
      "source": [
        "NEG_PATH = data_path / 'raw/negations'\n",
        "\n",
        "NEG = []\n",
        "with open(NEG_PATH / 'negEx2.txt','r') as neg:\n",
        "    for line in neg:\n",
        "        x = re.split(r'\\s+(?=\\[)', line)\n",
        "        NEG.append(x[0].strip())\n"
      ],
      "execution_count": null,
      "outputs": []
    },
    {
      "cell_type": "code",
      "metadata": {
        "id": "C0_UPU9N9YJb"
      },
      "source": [
        "from spacy.matcher import PhraseMatcher"
      ],
      "execution_count": null,
      "outputs": []
    },
    {
      "cell_type": "markdown",
      "metadata": {
        "id": "n6p-Ynvtu-MS"
      },
      "source": [
        "To create the patterns, each phrase has to be processed with the nlp object. If you have a trained pipeline loaded, doing this in a loop or list comprehension can easily become inefficient and slow. If you only need the tokenization and lexical attributes, you can run nlp.make_doc instead, which will only run the tokenizer. For an additional speed boost, you can also use the nlp.tokenizer.pipe method, which will process the texts as a stream."
      ]
    },
    {
      "cell_type": "code",
      "metadata": {
        "id": "fiuWbhN2SLX-"
      },
      "source": [
        "matcher = PhraseMatcher(nlp.vocab, attr=\"LOWER\")\n",
        "# Only run nlp.make_doc to speed things up\n",
        "icd_patterns = [nlp.make_doc(text) for text in ICD]\n",
        "neg_patterns = [nlp.make_doc(text) for text in NEG]\n",
        "matcher.add(\"SYM\", icd_patterns)\n",
        "matcher.add(\"NEG\", neg_patterns)"
      ],
      "execution_count": null,
      "outputs": []
    },
    {
      "cell_type": "code",
      "metadata": {
        "id": "WBGq9zZ0tbuP"
      },
      "source": [
        "from spacy.matcher import PhraseMatcher\n",
        "from spacy.tokens import Span\n",
        "\n",
        "\n",
        "\n",
        "\n",
        "class EntityMatcher(object):\n",
        "    name = 'entity_matcher'\n",
        "\n",
        "    def __init__(self, nlp, terms, label):\n",
        "        patterns = [nlp(term) for term in terms]\n",
        "        self.matcher = PhraseMatcher(nlp.vocab)\n",
        "        self.matcher.add(label, None, *patterns)\n",
        "\n",
        "    def __call__(self, doc):\n",
        "        matches = self.matcher(doc)\n",
        "        spans = []\n",
        "        for label, start, end in matches:\n",
        "            span = Span(doc, start, end, label=label)\n",
        "            spans.append(span)\n",
        "        doc.ents = spans\n",
        "        return doc"
      ],
      "execution_count": null,
      "outputs": []
    },
    {
      "cell_type": "code",
      "metadata": {
        "colab": {
          "base_uri": "https://localhost:8080/"
        },
        "id": "RT2-6WgJTDg6",
        "outputId": "d239909c-7591-4c1e-ac93-17fc115b82bd"
      },
      "source": [
        "file =  corpus_path / 'mockup-patient-records/by_johanna/originals/chart2.txt'\n",
        "pre_doc = open(file, 'r').read()\n",
        "\n",
        "doc = nlp(pre_doc)\n",
        "\n",
        "matches = matcher(doc)\n",
        "entities = []\n",
        "for match_id, start, end in matches:\n",
        "    span = doc[start:end]\n",
        "    class_id = nlp.vocab.strings[match_id]\n",
        "    print(span.text, span.start_char, span.end_char, class_id)\n",
        "    ent = {\"start\": span.start_char, \"end\": span.end_char, \"label\": class_id}\n",
        "    entities.append(ent)\n",
        "# print(entities)"
      ],
      "execution_count": null,
      "outputs": [
        {
          "output_type": "stream",
          "text": [
            "dyspné 27 33 SYM\n",
            "Inga 147 151 NEG\n",
            "utan 186 190 NEG\n",
            "Ingen 363 368 NEG\n",
            "utan 419 423 NEG\n",
            "inga 637 641 NEG\n",
            "inga tecken 637 648 NEG\n",
            "inga 890 894 NEG\n",
            "Ingen 943 948 NEG\n",
            "ingen 1009 1014 NEG\n",
            "acidos 1090 1096 SYM\n",
            "utan 1097 1101 NEG\n",
            "Inga 1238 1242 NEG\n",
            "Inga tecken 1238 1249 NEG\n",
            "ej 1647 1649 NEG\n"
          ],
          "name": "stdout"
        }
      ]
    },
    {
      "cell_type": "code",
      "metadata": {
        "id": "XXWLPItwwu-U",
        "colab": {
          "base_uri": "https://localhost:8080/"
        },
        "outputId": "c7efb9f6-49fc-4182-f384-326c8e96cf10"
      },
      "source": [
        "# Entity ruler\n",
        "try:\n",
        "    name, component = nlp.remove_pipe(\"entity_ruler\")\n",
        "    assert name == \"entity_ruler\"\n",
        "except IOError:\n",
        "    print(\"no such nlp.pipe\")\n",
        "    pass\n",
        "finally:\n",
        "    config = {\n",
        "      \"phrase_matcher_attr\": \"lower\",\n",
        "      \"validate\": True,\n",
        "      \"overwrite_ents\": False,\n",
        "      \"ent_id_sep\": \"||\",\n",
        "    }\n",
        "\n",
        "    ruler = nlp.add_pipe(\"entity_ruler\", config=config)\n",
        "\n",
        "\n",
        "    #patterns = [{\"label\": \"ORG\", \"pattern\": \"Apple\"},\n",
        "    #           {\"label\": \"GPE\", \"pattern\": [{\"LOWER\": \"san\"}, {\"LOWER\": \"francisco\"}]}]\n",
        "\n",
        "    ruler.phrase_matcher = matcher\n",
        "\n",
        "\n",
        "\n",
        "    doc = nlp(pre_doc)\n",
        "    print([(ent.text, ent.label_) for ent in doc.ents])"
      ],
      "execution_count": null,
      "outputs": [
        {
          "output_type": "stream",
          "text": [
            "[('dyspné', 'SYM'), ('Tidigare', 'TME'), ('Inga', 'NEG'), ('utan', 'NEG'), ('igår kväll', 'TME'), ('Ingen', 'NEG'), ('87%', 'MSR'), ('utan', 'NEG'), ('hemtjänsten', 'ORG'), ('3-4 dagar', 'TME'), ('94%', 'MSR'), ('inga tecken', 'NEG'), ('inga', 'NEG'), ('Ingen', 'NEG'), ('ingen', 'NEG'), ('acidos', 'SYM'), ('utan', 'NEG'), ('Inga tecken', 'NEG'), ('om 1 timme', 'TME'), ('ej', 'NEG')]\n"
          ],
          "name": "stdout"
        }
      ]
    },
    {
      "cell_type": "code",
      "metadata": {
        "colab": {
          "base_uri": "https://localhost:8080/"
        },
        "id": "-j1Rq_mMuBdD",
        "outputId": "fcd842c5-5d64-4fe5-ba8a-3f11587cd48e"
      },
      "source": [
        "print(nlp.pipe_names)  # see all components in the pipeline"
      ],
      "execution_count": null,
      "outputs": [
        {
          "output_type": "stream",
          "text": [
            "['transformer', 'tagger', 'parser', 'transformer_ner', 'ner', 'attribute_ruler', 'lemmatizer', 'entity_ruler']\n"
          ],
          "name": "stdout"
        }
      ]
    },
    {
      "cell_type": "markdown",
      "metadata": {
        "id": "EE-D-TdsYnGh"
      },
      "source": [
        "Changed in v3.0\n",
        "As of spaCy v3.0, PhraseMatcher.add takes a list of patterns as the second argument (instead of a variable number of arguments). The on_match callback becomes an optional keyword argument.\n",
        "\n",
        "```\n",
        "patterns = [nlp(\"health care reform\"), nlp(\"healthcare reform\")]\n",
        "- matcher.add(\"HEALTH\", on_match, *patterns)\n",
        "+ matcher.add(\"HEALTH\", patterns, on_match=on_match)\n",
        "``` "
      ]
    },
    {
      "cell_type": "code",
      "metadata": {
        "colab": {
          "base_uri": "https://localhost:8080/"
        },
        "collapsed": true,
        "id": "yCiP9vr01vH3",
        "outputId": "cf6fad19-a79b-4b9f-853a-3b5b38b8792b"
      },
      "source": [
        "width = 20 # table width\n",
        "for token in doc:\n",
        "    print(f\"{token.text: <{width}} {token.tag_: <{width}} {token.dep_: <{width}}\")"
      ],
      "execution_count": null,
      "outputs": [
        {
          "output_type": "stream",
          "text": [
            "Kontaktorsak         NOUN                 ROOT                \n",
            ":                    PUNCT                punct               \n",
            "Dyspné               NOUN                 ROOT                \n",
            "\n",
            "                    PUNCT                ROOT                \n",
            "Tidigare             ADJ                  amod                \n",
            "sjukdomar            NOUN                 ROOT                \n",
            ":                    PUNCT                punct               \n",
            "Insulin              ADJ                  amod                \n",
            "och                  CCONJ                cc                  \n",
            "tablettbehandlad     ADJ                  conj                \n",
            "DM2                  NUM                  ROOT                \n",
            ".                    PUNCT                punct               \n",
            "Tablettbehandlad     ADJ                  amod                \n",
            "hypertoni            NOUN                 ROOT                \n",
            ".                    PUNCT                punct               \n",
            "Höga                 ADJ                  amod                \n",
            "blodfetter           NOUN                 ROOT                \n",
            ".                    PUNCT                punct               \n",
            "\n",
            "                    PUNCT                ROOT                \n",
            "Socialt              ADV                  ROOT                \n",
            ":                    PUNCT                punct               \n",
            "Ensamboende          ADJ                  ROOT                \n",
            ",                    PUNCT                punct               \n",
            "hemtjänst            NOUN                 conj                \n",
            "*                    PUNCT                punct               \n",
            "1                    NUM                  conj                \n",
            ".                    PUNCT                punct               \n",
            "\n",
            "                    PUNCT                punct               \n",
            "Aktuellt             NOUN                 ROOT                \n",
            ":                    PUNCT                punct               \n",
            "Insjuknat            VERB                 ROOT                \n",
            "för                  ADP                  case                \n",
            "tre                  NUM                  nummod              \n",
            "dagar                NOUN                 obl                 \n",
            "sedan                ADV                  dep                 \n",
            "med                  ADP                  case                \n",
            "andnöd               NOUN                 obl                 \n",
            "vid                  ADP                  case                \n",
            "gång                 NOUN                 obl                 \n",
            ".                    PUNCT                punct               \n",
            "Tillkomst            NOUN                 ROOT                \n",
            "av                   ADP                  case                \n",
            "hosta                NOUN                 nmod                \n",
            "under                ADP                  case                \n",
            "gårdagen             NOUN                 obl                 \n",
            ".                    PUNCT                punct               \n",
            "Ej                   PART                 advmod              \n",
            "noterat              VERB                 ROOT                \n",
            "feber                NOUN                 obj                 \n",
            ",                    PUNCT                punct               \n",
            "men                  CCONJ                cc                  \n",
            "ej                   PART                 advmod              \n",
            "eller                CCONJ                cc                  \n",
            "mätt                 VERB                 conj                \n",
            "tempen               NOUN                 conj                \n",
            ".                    PUNCT                punct               \n",
            "Idag                 ADV                  advmod              \n",
            "nedsatt              ADJ                  amod                \n",
            "AT                   NOUN                 ROOT                \n",
            ",                    PUNCT                punct               \n",
            "svårt                ADJ                  parataxis           \n",
            "att                  PART                 mark                \n",
            "gå                   VERB                 advcl               \n",
            ".                    PUNCT                punct               \n",
            "Tagit                VERB                 ROOT                \n",
            "sina                 PRON                 nmod:poss           \n",
            "mediciner            NOUN                 obj                 \n",
            "som                  ADP                  case                \n",
            "vanligt              ADV                  advmod              \n",
            ".                    PUNCT                punct               \n",
            "Sökt                 VERB                 ROOT                \n",
            "VC                   PROPN                obj                 \n",
            "som                  PRON                 nsubj               \n",
            "hänvisat             VERB                 acl:relcl           \n",
            "hit                  ADV                  advmod              \n",
            "pga                  ADP                  case                \n",
            "destruering          NOUN                 obl                 \n",
            ".                    PUNCT                punct               \n",
            "Inte                 PART                 advmod              \n",
            "haft                 VERB                 ROOT                \n",
            "några                DET                  det                 \n",
            "utslag               NOUN                 obj                 \n",
            ".                    PUNCT                punct               \n",
            "Ej                   PART                 advmod              \n",
            "kontakt              NOUN                 ROOT                \n",
            "med                  ADP                  case                \n",
            "någon                DET                  det                 \n",
            "annan                ADJ                  nmod                \n",
            "som                  PRON                 nsubj               \n",
            "varit                AUX                  cop                 \n",
            "sjuk                 ADJ                  acl:relcl           \n",
            ".                    PUNCT                punct               \n",
            "Ej                   PART                 advmod              \n",
            "varit                VERB                 ROOT                \n",
            "ute                  ADV                  advmod              \n",
            "och                  CCONJ                cc                  \n",
            "rest                 NOUN                 conj                \n",
            ".                    PUNCT                punct               \n",
            "Ingen                DET                  det                 \n",
            "smärta               NOUN                 ROOT                \n",
            "vid                  ADP                  case                \n",
            "miktion              NOUN                 nmod                \n",
            ",                    PUNCT                punct               \n",
            "buksmärta            NOUN                 conj                \n",
            "eller                CCONJ                cc                  \n",
            "ÖNH                  PROPN                amod                \n",
            "symptom              NOUN                 conj                \n",
            ".                    PUNCT                punct               \n",
            "Idag                 ADV                  advmod              \n",
            "sämre                ADJ                  ROOT                \n",
            ",                    PUNCT                punct               \n",
            "kan                  AUX                  aux                 \n",
            "ej                   PART                 advmod              \n",
            "mobilisera           VERB                 parataxis           \n",
            "sig                  PRON                 obj                 \n",
            "i                    ADP                  case                \n",
            "hemmet               NOUN                 obl                 \n",
            ".                    PUNCT                punct               \n",
            "Inkommer             VERB                 ROOT                \n",
            "på                   ADP                  case                \n",
            "remiss               NOUN                 obl                 \n",
            ".                    PUNCT                punct               \n",
            "Inga                 DET                  det                 \n",
            "kräkningar           NOUN                 ROOT                \n",
            "eller                CCONJ                cc                  \n",
            "GI                   PROPN                amod                \n",
            "symptom              NOUN                 conj                \n",
            ".                    PUNCT                punct               \n",
            "\n",
            "                    PUNCT                ROOT                \n",
            "Status               NOUN                 ROOT                \n",
            ":                    PUNCT                punct               \n",
            "\n",
            "                    PUNCT                ROOT                \n",
            "AT                   NOUN                 ROOT                \n",
            ":                    PUNCT                punct               \n",
            "Gott                 ADJ                  ROOT                \n",
            ",                    PUNCT                punct               \n",
            "opåverkad            ADJ                  conj                \n",
            "i                    ADP                  case                \n",
            "vila                 NOUN                 obl                 \n",
            ",                    PUNCT                punct               \n",
            "ingen                DET                  det                 \n",
            "samtalsdyspné        NOUN                 conj                \n",
            ".                    PUNCT                punct               \n",
            "\n",
            "                    PUNCT                ROOT                \n",
            "Cor                  PROPN                ROOT                \n",
            ":                    PUNCT                punct               \n",
            "Normofrekvent        ADJ                  amod                \n",
            "regelbunden          ADJ                  amod                \n",
            "rytm                 NOUN                 ROOT                \n",
            ",                    PUNCT                punct               \n",
            "inga                 DET                  det                 \n",
            "hörbara              ADJ                  amod                \n",
            "bi                   NOUN                 conj                \n",
            "eller                CCONJ                cc                  \n",
            "blåsljud             NOUN                 conj                \n",
            ".                    PUNCT                punct               \n",
            "\n",
            "                    PUNCT                punct               \n",
            "Pulm                 NOUN                 ROOT                \n",
            ":                    PUNCT                punct               \n",
            "I                    ADP                  case                \n",
            "stort                ADJ                  amod                \n",
            "vesikulära           ADJ                  amod                \n",
            "antingsljud          NOUN                 ROOT                \n",
            "bilat                ADJ                  acl                 \n",
            ",                    PUNCT                punct               \n",
            "dämpat               ADJ                  amod                \n",
            "basalt               ADJ                  amod                \n",
            "höger                NOUN                 conj                \n",
            ".                    PUNCT                punct               \n",
            "Inget                DET                  det                 \n",
            "förlängt             ADJ                  amod                \n",
            "expirium             NOUN                 ROOT                \n",
            ".                    PUNCT                punct               \n",
            "\n",
            "                    PUNCT                ROOT                \n",
            "Buk                  NOUN                 ROOT                \n",
            ":                    PUNCT                punct               \n",
            "Överallt             ADV                  advmod              \n",
            "muk                  NOUN                 ROOT                \n",
            "och                  CCONJ                cc                  \n",
            "oöm                  ADJ                  conj                \n",
            ".                    PUNCT                punct               \n",
            "Ingen                DET                  det                 \n",
            "lokal                ADJ                  amod                \n",
            "peritonit            NOUN                 ROOT                \n",
            ".                    PUNCT                punct               \n",
            "\n",
            "                    PUNCT                ROOT                \n",
            "Lokalstatus          NOUN                 ROOT                \n",
            ":                    PUNCT                punct               \n",
            "Underben             NOUN                 nsubj               \n",
            "smala                ADJ                  ROOT                \n",
            "och                  CCONJ                cc                  \n",
            "gracila              ADJ                  conj                \n",
            ",                    PUNCT                punct               \n",
            "inga                 DET                  det                 \n",
            "pittingödem          NOUN                 conj                \n",
            ".                    PUNCT                punct               \n",
            "\n",
            "                    PUNCT                ROOT                \n",
            "BT                   NOUN                 ROOT                \n",
            ":                    PUNCT                punct               \n",
            "117/80               NUM                  dep                 \n",
            "\n",
            "                    PUNCT                punct               \n",
            "Sat                  NOUN                 ROOT                \n",
            ":                    PUNCT                punct               \n",
            "92                   NUM                  nummod              \n",
            "%                    NOUN                 appos               \n",
            "på                   ADP                  case                \n",
            "2l                   NUM                  nummod              \n",
            "O2                   NUM                  nmod                \n",
            "\n",
            "                    PUNCT                punct               \n",
            "AF                   PROPN                nmod                \n",
            ":                    SYM                  punct               \n",
            "28                   NUM                  nummod              \n",
            "\n",
            "                    PUNCT                punct               \n",
            "Temp                 NOUN                 ROOT                \n",
            ":                    PUNCT                punct               \n",
            "38.8                 NUM                  dep                 \n",
            "\n",
            "                    PUNCT                punct               \n",
            "Lab                  NOUN                 ROOT                \n",
            ":                    PUNCT                punct               \n",
            "Blodgas              NOUN                 ROOT                \n",
            "utan                 ADP                  case                \n",
            "respiratorisk        ADJ                  amod                \n",
            "acidos               NOUN                 nmod                \n",
            ",                    PUNCT                punct               \n",
            "Ph                   PROPN                nmod                \n",
            "7,4                  NUM                  conj                \n",
            ",                    PUNCT                punct               \n",
            "CRP                  PROPN                conj                \n",
            "118                  NUM                  nummod              \n",
            ",                    PUNCT                punct               \n",
            "diskret              ADV                  advmod              \n",
            "förhöjt              ADJ                  amod                \n",
            "BE                   X                    conj                \n",
            ".                    PUNCT                punct               \n",
            "Normalt              ADV                  advmod              \n",
            "laktat               NOUN                 ROOT                \n",
            "\n",
            "                    PUNCT                ROOT                \n",
            "Tobak                NOUN                 ROOT                \n",
            ":                    PUNCT                punct               \n",
            "Ej                   PART                 advmod              \n",
            "känt                 ADJ                  ROOT                \n",
            "\n",
            "                    PUNCT                ROOT                \n",
            "EKG                  NOUN                 ROOT                \n",
            ":                    PUNCT                punct               \n",
            "Sinusrym             NOUN                 ROOT                \n",
            "med                  ADP                  case                \n",
            "kammarfrekvens       NOUN                 obl                 \n",
            "98                   NUM                  nummod              \n",
            ",                    PUNCT                punct               \n",
            "inga                 DET                  det                 \n",
            "urakuta              ADJ                  amod                \n",
            "ischemiska           ADJ                  amod                \n",
            "tecken               NOUN                 parataxis           \n",
            ".                    PUNCT                punct               \n",
            "\n",
            "\n",
            "                   PUNCT                punct               \n",
            "Bedömning            NOUN                 ROOT                \n",
            ":                    PUNCT                punct               \n",
            "I                    ADP                  advmod              \n",
            "första               ADJ                  fixed               \n",
            "hand                 NOUN                 fixed               \n",
            "misstanke            NOUN                 ROOT                \n",
            "om                   ADP                  case                \n",
            "penumoni             NOUN                 nmod                \n",
            "eller                CCONJ                cc                  \n",
            "COVID-19             PROPN                conj                \n",
            ",                    PUNCT                punct               \n",
            "inlägges             VERB                 parataxis           \n",
            "infektionsavdelning  NOUN                 nsubj:pass          \n",
            ".                    PUNCT                punct               \n",
            "Provtages            VERB                 case                \n",
            "SARS-CoV2            NUM                  obl                 \n",
            "insättes             VERB                 ROOT                \n",
            "cefotaxim            NOUN                 nsubj:pass          \n",
            ".                    PUNCT                punct               \n",
            "Genomodlas           VERB                 ROOT                \n",
            ".                    PUNCT                punct               \n",
            "Nya                  ADJ                  amod                \n",
            "prover               NOUN                 ROOT                \n",
            "imorgon              ADV                  advmod              \n",
            ",                    PUNCT                punct               \n",
            "CRP                  PROPN                appos               \n",
            ",                    PUNCT                punct               \n",
            "LPK                  PROPN                conj                \n",
            ".                    PUNCT                punct               \n",
            "Röntgen              NOUN                 amod                \n",
            "puls                 NOUN                 ROOT                \n",
            "från                 ADP                  case                \n",
            "avdelningen          NOUN                 nmod                \n",
            ".                    PUNCT                punct               \n",
            "Syrgaskrävande       ADJ                  ROOT                \n",
            ",                    PUNCT                punct               \n",
            "2l                   NUM                  conj                \n",
            ".                    PUNCT                punct               \n",
            "Ej                   PART                 advmod              \n",
            "septisk              NOUN                 ROOT                \n",
            ".                    PUNCT                punct               \n",
            "\n",
            "\n",
            "                   PUNCT                ROOT                \n",
            "Diagnos              NOUN                 ROOT                \n",
            ":                    PUNCT                punct               \n",
            "Pneumoni             NOUN                 ROOT                \n",
            ",                    PUNCT                punct               \n",
            "ospecificerad        ADJ                  conj                \n",
            "\n",
            "                    PUNCT                conj                \n"
          ],
          "name": "stdout"
        }
      ]
    },
    {
      "cell_type": "code",
      "metadata": {
        "colab": {
          "base_uri": "https://localhost:8080/",
          "height": 407
        },
        "id": "21EQTv2b0cyz",
        "outputId": "6027413c-ebea-4e27-b325-645e1b408646"
      },
      "source": [
        "import pandas as pd\n",
        "\n",
        "cols = (\"space\", \"text\", \"lemma\", \"normalization\", \"POS\", \"explain\", \"stopword\", \"dep\",\"NE\", \"sentiment\")\n",
        "rows = []\n",
        "\n",
        "for t in doc:\n",
        "      if not t.is_space:\n",
        "        row = [t.is_space, t.text, t.lemma_, t.norm_, t.pos_, spacy.explain(t.pos_), t.is_stop, t.dep_, t.ent_type_, t.sentiment]\n",
        "        rows.append(row)\n",
        "\n",
        "df = pd.DataFrame(rows, columns=cols)\n",
        "    \n",
        "df\n",
        "\n"
      ],
      "execution_count": null,
      "outputs": [
        {
          "output_type": "execute_result",
          "data": {
            "text/html": [
              "<div>\n",
              "<style scoped>\n",
              "    .dataframe tbody tr th:only-of-type {\n",
              "        vertical-align: middle;\n",
              "    }\n",
              "\n",
              "    .dataframe tbody tr th {\n",
              "        vertical-align: top;\n",
              "    }\n",
              "\n",
              "    .dataframe thead th {\n",
              "        text-align: right;\n",
              "    }\n",
              "</style>\n",
              "<table border=\"1\" class=\"dataframe\">\n",
              "  <thead>\n",
              "    <tr style=\"text-align: right;\">\n",
              "      <th></th>\n",
              "      <th>space</th>\n",
              "      <th>text</th>\n",
              "      <th>lemma</th>\n",
              "      <th>normalization</th>\n",
              "      <th>POS</th>\n",
              "      <th>explain</th>\n",
              "      <th>stopword</th>\n",
              "      <th>dep</th>\n",
              "      <th>NE</th>\n",
              "      <th>sentiment</th>\n",
              "    </tr>\n",
              "  </thead>\n",
              "  <tbody>\n",
              "    <tr>\n",
              "      <th>0</th>\n",
              "      <td>False</td>\n",
              "      <td>Kontaktorsak</td>\n",
              "      <td>Kontaktorsak</td>\n",
              "      <td>kontaktorsak</td>\n",
              "      <td>NOUN</td>\n",
              "      <td>noun</td>\n",
              "      <td>False</td>\n",
              "      <td>ROOT</td>\n",
              "      <td></td>\n",
              "      <td>0.0</td>\n",
              "    </tr>\n",
              "    <tr>\n",
              "      <th>1</th>\n",
              "      <td>False</td>\n",
              "      <td>:</td>\n",
              "      <td>:</td>\n",
              "      <td>:</td>\n",
              "      <td>PUNCT</td>\n",
              "      <td>punctuation</td>\n",
              "      <td>False</td>\n",
              "      <td>punct</td>\n",
              "      <td></td>\n",
              "      <td>0.0</td>\n",
              "    </tr>\n",
              "    <tr>\n",
              "      <th>2</th>\n",
              "      <td>False</td>\n",
              "      <td>Medicinlarm</td>\n",
              "      <td>Medicinlarm</td>\n",
              "      <td>medicinlarm</td>\n",
              "      <td>NOUN</td>\n",
              "      <td>noun</td>\n",
              "      <td>False</td>\n",
              "      <td>ROOT</td>\n",
              "      <td></td>\n",
              "      <td>0.0</td>\n",
              "    </tr>\n",
              "    <tr>\n",
              "      <th>3</th>\n",
              "      <td>False</td>\n",
              "      <td>,</td>\n",
              "      <td>,</td>\n",
              "      <td>,</td>\n",
              "      <td>PUNCT</td>\n",
              "      <td>punctuation</td>\n",
              "      <td>False</td>\n",
              "      <td>punct</td>\n",
              "      <td></td>\n",
              "      <td>0.0</td>\n",
              "    </tr>\n",
              "    <tr>\n",
              "      <th>4</th>\n",
              "      <td>False</td>\n",
              "      <td>dyspné</td>\n",
              "      <td>dyspné</td>\n",
              "      <td>dyspné</td>\n",
              "      <td>NOUN</td>\n",
              "      <td>noun</td>\n",
              "      <td>False</td>\n",
              "      <td>conj</td>\n",
              "      <td>SYM</td>\n",
              "      <td>0.0</td>\n",
              "    </tr>\n",
              "    <tr>\n",
              "      <th>...</th>\n",
              "      <td>...</td>\n",
              "      <td>...</td>\n",
              "      <td>...</td>\n",
              "      <td>...</td>\n",
              "      <td>...</td>\n",
              "      <td>...</td>\n",
              "      <td>...</td>\n",
              "      <td>...</td>\n",
              "      <td>...</td>\n",
              "      <td>...</td>\n",
              "    </tr>\n",
              "    <tr>\n",
              "      <th>317</th>\n",
              "      <td>False</td>\n",
              "      <td>Diagnos</td>\n",
              "      <td>Diagnos</td>\n",
              "      <td>diagnos</td>\n",
              "      <td>NOUN</td>\n",
              "      <td>noun</td>\n",
              "      <td>False</td>\n",
              "      <td>ROOT</td>\n",
              "      <td></td>\n",
              "      <td>0.0</td>\n",
              "    </tr>\n",
              "    <tr>\n",
              "      <th>318</th>\n",
              "      <td>False</td>\n",
              "      <td>:</td>\n",
              "      <td>:</td>\n",
              "      <td>:</td>\n",
              "      <td>PUNCT</td>\n",
              "      <td>punctuation</td>\n",
              "      <td>False</td>\n",
              "      <td>punct</td>\n",
              "      <td></td>\n",
              "      <td>0.0</td>\n",
              "    </tr>\n",
              "    <tr>\n",
              "      <th>319</th>\n",
              "      <td>False</td>\n",
              "      <td>Pneumoni</td>\n",
              "      <td>Pneumoni</td>\n",
              "      <td>pneumoni</td>\n",
              "      <td>NOUN</td>\n",
              "      <td>noun</td>\n",
              "      <td>False</td>\n",
              "      <td>ROOT</td>\n",
              "      <td></td>\n",
              "      <td>0.0</td>\n",
              "    </tr>\n",
              "    <tr>\n",
              "      <th>320</th>\n",
              "      <td>False</td>\n",
              "      <td>,</td>\n",
              "      <td>,</td>\n",
              "      <td>,</td>\n",
              "      <td>PUNCT</td>\n",
              "      <td>punctuation</td>\n",
              "      <td>False</td>\n",
              "      <td>punct</td>\n",
              "      <td></td>\n",
              "      <td>0.0</td>\n",
              "    </tr>\n",
              "    <tr>\n",
              "      <th>321</th>\n",
              "      <td>False</td>\n",
              "      <td>misstänkt</td>\n",
              "      <td>misstänka</td>\n",
              "      <td>misstänkt</td>\n",
              "      <td>ADJ</td>\n",
              "      <td>adjective</td>\n",
              "      <td>False</td>\n",
              "      <td>conj</td>\n",
              "      <td></td>\n",
              "      <td>0.0</td>\n",
              "    </tr>\n",
              "  </tbody>\n",
              "</table>\n",
              "<p>322 rows × 10 columns</p>\n",
              "</div>"
            ],
            "text/plain": [
              "     space          text         lemma  ...    dep   NE sentiment\n",
              "0    False  Kontaktorsak  Kontaktorsak  ...   ROOT            0.0\n",
              "1    False             :             :  ...  punct            0.0\n",
              "2    False   Medicinlarm   Medicinlarm  ...   ROOT            0.0\n",
              "3    False             ,             ,  ...  punct            0.0\n",
              "4    False        dyspné        dyspné  ...   conj  SYM       0.0\n",
              "..     ...           ...           ...  ...    ...  ...       ...\n",
              "317  False       Diagnos       Diagnos  ...   ROOT            0.0\n",
              "318  False             :             :  ...  punct            0.0\n",
              "319  False      Pneumoni      Pneumoni  ...   ROOT            0.0\n",
              "320  False             ,             ,  ...  punct            0.0\n",
              "321  False     misstänkt     misstänka  ...   conj            0.0\n",
              "\n",
              "[322 rows x 10 columns]"
            ]
          },
          "metadata": {
            "tags": []
          },
          "execution_count": 100
        }
      ]
    },
    {
      "cell_type": "code",
      "metadata": {
        "id": "lb9XSLXt7Shm",
        "collapsed": true
      },
      "source": [
        "from spacy import displacy\n",
        "\n",
        "\n",
        "\n",
        "sentence_spans = list(doc.sents)\n",
        "\n",
        "sym_sentences = []\n",
        "neg_sentences = []\n",
        "for sent in sentence_spans:\n",
        "  ents = list(sent.ents)\n",
        "  for ent in ents:\n",
        "    if ent.label_ == \"SYM\":\n",
        "      # print(ent.label_)\n",
        "      sym_sentences.append(sent) \n",
        "      \n",
        "    if ent.label_ == \"NEG\":\n",
        "      # print(ent.label_)\n",
        "      neg_sentences.append(sent) "
      ],
      "execution_count": 194,
      "outputs": []
    },
    {
      "cell_type": "code",
      "metadata": {
        "id": "sp0z7VjvBZ4A",
        "outputId": "f47dfb3e-e356-4bb6-f2ca-636ecc6edd36",
        "colab": {
          "base_uri": "https://localhost:8080/",
          "height": 86
        }
      },
      "source": [
        "what_to_render = sym_sentences\n",
        "\n",
        "options = {\"compact\": True, \n",
        "           \"bg\": \"#09a3d5\",\n",
        "           \"color\": \"white\",\n",
        "           \"font\": \"Source Sans Pro\",\n",
        "           \"fine_grained\": True}\n",
        "\n",
        "style = \"ent\"\n",
        "\n",
        "\n",
        "displacy.render(what_to_render, style=style, jupyter=True, options=options)"
      ],
      "execution_count": 196,
      "outputs": [
        {
          "output_type": "display_data",
          "data": {
            "text/html": [
              "<span class=\"tex2jax_ignore\"><div class=\"entities\" style=\"line-height: 2.5; direction: ltr\">Medicinlarm, \n",
              "<mark class=\"entity\" style=\"background: #ddd; padding: 0.45em 0.6em; margin: 0 0.25em; line-height: 1; border-radius: 0.35em;\">\n",
              "    dyspné\n",
              "    <span style=\"font-size: 0.8em; font-weight: bold; line-height: 1; border-radius: 0.35em; vertical-align: middle; margin-left: 0.5rem\">SYM</span>\n",
              "</mark>\n",
              "</br></div>\n",
              "\n",
              "<div class=\"entities\" style=\"line-height: 2.5; direction: ltr\">Blodgas med akut respriatorisk \n",
              "<mark class=\"entity\" style=\"background: #ddd; padding: 0.45em 0.6em; margin: 0 0.25em; line-height: 1; border-radius: 0.35em;\">\n",
              "    acidos\n",
              "    <span style=\"font-size: 0.8em; font-weight: bold; line-height: 1; border-radius: 0.35em; vertical-align: middle; margin-left: 0.5rem\">SYM</span>\n",
              "</mark>\n",
              " \n",
              "<mark class=\"entity\" style=\"background: #ddd; padding: 0.45em 0.6em; margin: 0 0.25em; line-height: 1; border-radius: 0.35em;\">\n",
              "    utan\n",
              "    <span style=\"font-size: 0.8em; font-weight: bold; line-height: 1; border-radius: 0.35em; vertical-align: middle; margin-left: 0.5rem\">NEG</span>\n",
              "</mark>\n",
              " kompensation, laktat 8. </div></span>"
            ],
            "text/plain": [
              "<IPython.core.display.HTML object>"
            ]
          },
          "metadata": {
            "tags": []
          }
        }
      ]
    },
    {
      "cell_type": "markdown",
      "metadata": {
        "id": "8TRZddh9TdOY"
      },
      "source": [
        "### Entiites"
      ]
    },
    {
      "cell_type": "code",
      "metadata": {
        "id": "limqxXzTUQm5",
        "colab": {
          "base_uri": "https://localhost:8080/"
        },
        "outputId": "90881aeb-cc72-46fc-e0ab-d4a4cd6abaff"
      },
      "source": [
        "for ent in doc.ents:\n",
        "    print(ent.text, ent.label_)"
      ],
      "execution_count": null,
      "outputs": [
        {
          "output_type": "stream",
          "text": [
            "dyspné SYM\n",
            "Tidigare TME\n",
            "Inga NEG\n",
            "utan NEG\n",
            "igår kväll TME\n",
            "Ingen NEG\n",
            "87% MSR\n",
            "utan NEG\n",
            "hemtjänsten ORG\n",
            "3-4 dagar TME\n",
            "94% MSR\n",
            "inga tecken NEG\n",
            "inga NEG\n",
            "Ingen NEG\n",
            "ingen NEG\n",
            "acidos SYM\n",
            "utan NEG\n",
            "Inga tecken NEG\n",
            "om 1 timme TME\n",
            "ej NEG\n"
          ],
          "name": "stdout"
        }
      ]
    },
    {
      "cell_type": "code",
      "metadata": {
        "id": "ujVdHTvt1F9m",
        "colab": {
          "base_uri": "https://localhost:8080/",
          "height": 708
        },
        "outputId": "342871ed-2745-4869-8a57-52bb5314e532"
      },
      "source": [
        "from spacy import displacy\n",
        "\n",
        "colors = {\n",
        "          \"SYM\": \"linear-gradient(90deg, #99154e, #99154e)\",\n",
        "          \"NEG\": \"linear-gradient(90deg, #ffc93c, #ffc93c)\"\n",
        "          }\n",
        " \n",
        "\n",
        "options = {\"compact\": False, \n",
        "           \"bg\": \"#09a3d5\",\n",
        "           \"color\": \"white\",\n",
        "           \"font\": \"Source Sans Pro\",\n",
        "            \"ents\": [\"SYM\", \"NEG\"], \n",
        "           \"colors\": colors}\n",
        "\n",
        "displacy.render(doc, style=\"ent\", jupyter=True, options=options)"
      ],
      "execution_count": 145,
      "outputs": [
        {
          "output_type": "display_data",
          "data": {
            "text/html": [
              "<span class=\"tex2jax_ignore\"><div class=\"entities\" style=\"line-height: 2.5; direction: ltr\">Kontaktorsak: Medicinlarm, \n",
              "<mark class=\"entity\" style=\"background: linear-gradient(90deg, #99154e, #99154e); padding: 0.45em 0.6em; margin: 0 0.25em; line-height: 1; border-radius: 0.35em;\">\n",
              "    dyspné\n",
              "    <span style=\"font-size: 0.8em; font-weight: bold; line-height: 1; border-radius: 0.35em; vertical-align: middle; margin-left: 0.5rem\">SYM</span>\n",
              "</mark>\n",
              "</br>Tidigare sjukdomar: Waranbehandlat FF, hyperlipidemi. BC vä 99, opererad mastektomi + lymfkörtelutrymning höger. \n",
              "<mark class=\"entity\" style=\"background: linear-gradient(90deg, #ffc93c, #ffc93c); padding: 0.45em 0.6em; margin: 0 0.25em; line-height: 1; border-radius: 0.35em;\">\n",
              "    Inga\n",
              "    <span style=\"font-size: 0.8em; font-weight: bold; line-height: 1; border-radius: 0.35em; vertical-align: middle; margin-left: 0.5rem\">NEG</span>\n",
              "</mark>\n",
              " recidiv. NSTEMI 2009. Stroke 2012 \n",
              "<mark class=\"entity\" style=\"background: linear-gradient(90deg, #ffc93c, #ffc93c); padding: 0.45em 0.6em; margin: 0 0.25em; line-height: 1; border-radius: 0.35em;\">\n",
              "    utan\n",
              "    <span style=\"font-size: 0.8em; font-weight: bold; line-height: 1; border-radius: 0.35em; vertical-align: middle; margin-left: 0.5rem\">NEG</span>\n",
              "</mark>\n",
              " större sequele. Minnesproblematik.</br>Aktuellt: Funnen i hemmet på golvet, oklart hur länge hon blivit liggande. Hittad av hemtjänst kl 7, senast tillsyn igår kväll ca kl 20. \n",
              "<mark class=\"entity\" style=\"background: linear-gradient(90deg, #ffc93c, #ffc93c); padding: 0.45em 0.6em; margin: 0 0.25em; line-height: 1; border-radius: 0.35em;\">\n",
              "    Ingen\n",
              "    <span style=\"font-size: 0.8em; font-weight: bold; line-height: 1; border-radius: 0.35em; vertical-align: middle; margin-left: 0.5rem\">NEG</span>\n",
              "</mark>\n",
              " autoanamnes. I ambulansen febril, desaturerad 87% \n",
              "<mark class=\"entity\" style=\"background: linear-gradient(90deg, #ffc93c, #ffc93c); padding: 0.45em 0.6em; margin: 0 0.25em; line-height: 1; border-radius: 0.35em;\">\n",
              "    utan\n",
              "    <span style=\"font-size: 0.8em; font-weight: bold; line-height: 1; border-radius: 0.35em; vertical-align: middle; margin-left: 0.5rem\">NEG</span>\n",
              "</mark>\n",
              " syrgas. Enl hemtjänsten varit förkyld 3-4 dagar. Stabila VP i övrigt.</br>A: Fritt</br>B: Antingsljud bilateralt, sat 94% på 5l syrgas. Obstruktiv, förlängt expirum. Erhåller inhalation sapimol. AF. 28. Stabil bröstkorg, \n",
              "<mark class=\"entity\" style=\"background: linear-gradient(90deg, #ffc93c, #ffc93c); padding: 0.45em 0.6em; margin: 0 0.25em; line-height: 1; border-radius: 0.35em;\">\n",
              "    inga tecken\n",
              "    <span style=\"font-size: 0.8em; font-weight: bold; line-height: 1; border-radius: 0.35em; vertical-align: middle; margin-left: 0.5rem\">NEG</span>\n",
              "</mark>\n",
              " till trauma.</br>C: Fina radialispulsar bilat, kall perifert. Marmorerad över knän. BT 90/70, p 119. Oregelbunden. I telemetri smala komplex. Erhåller infart, påbörjar vätskerecusitering. Stabilt bäcken. Buk mjuk och oöm.</br>D: Liksidiga pupiller, \n",
              "<mark class=\"entity\" style=\"background: linear-gradient(90deg, #ffc93c, #ffc93c); padding: 0.45em 0.6em; margin: 0 0.25em; line-height: 1; border-radius: 0.35em;\">\n",
              "    inga\n",
              "    <span style=\"font-size: 0.8em; font-weight: bold; line-height: 1; border-radius: 0.35em; vertical-align: middle; margin-left: 0.5rem\">NEG</span>\n",
              "</mark>\n",
              " fokala neurotiska bortfall. Konfusorisk, RLS 2. \n",
              "<mark class=\"entity\" style=\"background: linear-gradient(90deg, #ffc93c, #ffc93c); padding: 0.45em 0.6em; margin: 0 0.25em; line-height: 1; border-radius: 0.35em;\">\n",
              "    Ingen\n",
              "    <span style=\"font-size: 0.8em; font-weight: bold; line-height: 1; border-radius: 0.35em; vertical-align: middle; margin-left: 0.5rem\">NEG</span>\n",
              "</mark>\n",
              " nackstelhet.</br>E: Skrapsår höger kind, blåmärke vänster höft, \n",
              "<mark class=\"entity\" style=\"background: linear-gradient(90deg, #ffc93c, #ffc93c); padding: 0.45em 0.6em; margin: 0 0.25em; line-height: 1; border-radius: 0.35em;\">\n",
              "    ingen\n",
              "    <span style=\"font-size: 0.8em; font-weight: bold; line-height: 1; border-radius: 0.35em; vertical-align: middle; margin-left: 0.5rem\">NEG</span>\n",
              "</mark>\n",
              " utåtrotation. Hel hudskstym. Temp 39.4</br>Lab: Blodgas med akut respriatorisk \n",
              "<mark class=\"entity\" style=\"background: linear-gradient(90deg, #99154e, #99154e); padding: 0.45em 0.6em; margin: 0 0.25em; line-height: 1; border-radius: 0.35em;\">\n",
              "    acidos\n",
              "    <span style=\"font-size: 0.8em; font-weight: bold; line-height: 1; border-radius: 0.35em; vertical-align: middle; margin-left: 0.5rem\">SYM</span>\n",
              "</mark>\n",
              " \n",
              "<mark class=\"entity\" style=\"background: linear-gradient(90deg, #ffc93c, #ffc93c); padding: 0.45em 0.6em; margin: 0 0.25em; line-height: 1; border-radius: 0.35em;\">\n",
              "    utan\n",
              "    <span style=\"font-size: 0.8em; font-weight: bold; line-height: 1; border-radius: 0.35em; vertical-align: middle; margin-left: 0.5rem\">NEG</span>\n",
              "</mark>\n",
              " kompensation, laktat 8. </br>EKG: Förmaksflimmer kammarfrekvens 123.</br>Bedömning: Sepsis med oklart fokus samt fall med oklar traumamekanism. \n",
              "<mark class=\"entity\" style=\"background: linear-gradient(90deg, #ffc93c, #ffc93c); padding: 0.45em 0.6em; margin: 0 0.25em; line-height: 1; border-radius: 0.35em;\">\n",
              "    Inga tecken\n",
              "    <span style=\"font-size: 0.8em; font-weight: bold; line-height: 1; border-radius: 0.35em; vertical-align: middle; margin-left: 0.5rem\">NEG</span>\n",
              "</mark>\n",
              " till blödning i buken eller andra svåra traumatiska skador dock oaktat på 8 och febril. Genomodlas, insättes på cefotaxim 1x3. CT hjärna urakut med hänsyn till trauma och medvetandepåverkan. Påbörjar vätskeresucsitring. Inlägges covidAVA, ny blodgas om 1 timme. PCR SARS-CoV2 taget, isolerad till svar finns. Röntgen av vä höft från och pulm från avdelningen.</br></br>Kontakt med anhöriga ånyo från AVA, \n",
              "<mark class=\"entity\" style=\"background: linear-gradient(90deg, #ffc93c, #ffc93c); padding: 0.45em 0.6em; margin: 0 0.25em; line-height: 1; border-radius: 0.35em;\">\n",
              "    ej\n",
              "    <span style=\"font-size: 0.8em; font-weight: bold; line-height: 1; border-radius: 0.35em; vertical-align: middle; margin-left: 0.5rem\">NEG</span>\n",
              "</mark>\n",
              " nått dem via telefon från ambulans eller akuten.</br></br>Diagnos: Pneumoni, misstänkt</br></div></span>"
            ],
            "text/plain": [
              "<IPython.core.display.HTML object>"
            ]
          },
          "metadata": {
            "tags": []
          }
        }
      ]
    },
    {
      "cell_type": "markdown",
      "metadata": {
        "id": "mrvw09-60wDV"
      },
      "source": [
        "* raw text\n",
        "* lemma – a root form of the word\n",
        "* part of speech\n",
        "* a flag for whether the word is a stopword – i.e., a common word that may be filtered out"
      ]
    },
    {
      "cell_type": "code",
      "metadata": {
        "collapsed": true,
        "id": "o56Hlr6S1TG9",
        "colab": {
          "base_uri": "https://localhost:8080/"
        },
        "outputId": "d43ae544-f6db-4c98-c6fc-e872730d8d38"
      },
      "source": [
        "for sent in doc.sents:\n",
        "    print(\">\", sent)"
      ],
      "execution_count": null,
      "outputs": [
        {
          "output_type": "stream",
          "text": [
            "> Kontaktorsak:\n",
            "> Dyspné\n",
            "> \n",
            "\n",
            "> Tidigare sjukdomar:\n",
            "> Insulin och tablettbehandlad DM2.\n",
            "> Tablettbehandlad hypertoni.\n",
            "> Höga blodfetter.\n",
            "> \n",
            "\n",
            "> Socialt:\n",
            "> Ensamboende, hemtjänst * 1.\n",
            "\n",
            "> Aktuellt:\n",
            "> Insjuknat för tre dagar sedan med andnöd vid gång.\n",
            "> Tillkomst av hosta under gårdagen.\n",
            "> Ej noterat feber, men ej eller mätt tempen.\n",
            "> Idag nedsatt AT, svårt att gå.\n",
            "> Tagit sina mediciner som vanligt.\n",
            "> Sökt VC som hänvisat hit pga destruering.\n",
            "> Inte haft några utslag.\n",
            "> Ej kontakt med någon annan som varit sjuk.\n",
            "> Ej varit ute och rest.\n",
            "> Ingen smärta vid miktion, buksmärta eller ÖNH symptom.\n",
            "> Idag sämre, kan ej mobilisera sig i hemmet.\n",
            "> Inkommer på remiss.\n",
            "> Inga kräkningar eller GI symptom.\n",
            "> \n",
            "\n",
            "> Status:\n",
            "> \n",
            "\n",
            "> AT:\n",
            "> Gott, opåverkad i vila, ingen samtalsdyspné.\n",
            "> \n",
            "\n",
            "> Cor:\n",
            "> Normofrekvent regelbunden rytm, inga hörbara bi eller blåsljud.\n",
            "\n",
            "> Pulm:\n",
            "> I stort vesikulära antingsljud bilat, dämpat basalt höger.\n",
            "> Inget förlängt expirium.\n",
            "> \n",
            "\n",
            "> Buk:\n",
            "> Överallt muk och oöm.\n",
            "> Ingen lokal peritonit.\n",
            "> \n",
            "\n",
            "> Lokalstatus:\n",
            "> Underben smala och gracila, inga pittingödem.\n",
            "> \n",
            "\n",
            "> BT: 117/80\n",
            "\n",
            "> Sat: 92% på 2l O2\n",
            "AF: 28\n",
            "\n",
            "> Temp: 38.8\n",
            "\n",
            "> Lab:\n",
            "> Blodgas utan respiratorisk acidos, Ph 7,4, CRP 118, diskret förhöjt BE.\n",
            "> Normalt laktat\n",
            "> \n",
            "\n",
            "> Tobak:\n",
            "> Ej känt\n",
            "> \n",
            "\n",
            "> EKG:\n",
            "> Sinusrym med kammarfrekvens 98, inga urakuta ischemiska tecken.\n",
            "\n",
            "\n",
            "> Bedömning:\n",
            "> I första hand misstanke om penumoni eller COVID-19, inlägges infektionsavdelning.\n",
            "> Provtages SARS-CoV2 insättes cefotaxim.\n",
            "> Genomodlas.\n",
            "> Nya prover imorgon, CRP, LPK.\n",
            "> Röntgen puls från avdelningen.\n",
            "> Syrgaskrävande, 2l.\n",
            "> Ej septisk.\n",
            "> \n",
            "\n",
            "\n",
            "> Diagnos:\n",
            "> Pneumoni, ospecificerad\n",
            "\n"
          ],
          "name": "stdout"
        }
      ]
    },
    {
      "cell_type": "code",
      "metadata": {
        "id": "lg9Q7Z-02B9C",
        "colab": {
          "base_uri": "https://localhost:8080/"
        },
        "outputId": "5b0cb768-7964-42d9-fc8d-47bbaf05586f"
      },
      "source": [
        "for chunk in doc.noun_chunks:\n",
        "    print(chunk.text)"
      ],
      "execution_count": null,
      "outputs": [
        {
          "output_type": "stream",
          "text": [
            "Kontaktorsak:\n",
            "Medicinlarm, dyspné\n",
            "\n",
            "Tidigare sjukdomar:\n",
            "Waranbehandlat FF, hyperlipidemi.\n",
            "BC vä 99, opererad mastektomi + lymfkörtelutrymning höger.\n",
            "Inga recidiv.\n",
            "NSTEMI 2009.\n",
            "Stroke 2012 utan större sequele.\n",
            "Minnesproblematik.\n",
            "Aktuellt:\n",
            "hon\n",
            "kl\n",
            "igår kväll\n",
            "kl\n",
            "Ingen autoanamnes.\n",
            "hemtjänsten\n",
            "Stabila VP i övrigt.\n",
            "A:\n",
            "Fritt\n",
            "B:\n",
            "Antingsljud bilateralt, sat 94% på 5l syrgas.\n",
            "Obstruktiv, förlängt expirum.\n",
            "inhalation\n",
            "AF. 28.\n",
            "Stabil bröstkorg, inga tecken till trauma.\n",
            "\n",
            "C: Fina radialispulsar bilat, kall perifert.\n",
            "BT 90/70, p 119.\n",
            "I telemetri smala komplex.\n",
            "infart\n",
            "vätskerecusitering\n",
            "Stabilt bäcken.\n",
            "Buk\n",
            "D:\n",
            "Liksidiga pupiller, inga fokala neurotiska bortfall.\n",
            "Ingen nackstelhet.\n",
            "E:\n",
            "Skrapsår höger kind, blåmärke vänster höft, ingen utåtrotation.\n",
            "Hel hudskstym.\n",
            "Temp\n",
            "Lab:\n",
            "Blodgas med akut respriatorisk acidos utan kompensation, laktat 8.\n",
            "EKG:\n",
            "Förmaksflimmer kammarfrekvens 123.\n",
            "Bedömning:\n",
            "Sepsis med oklart fokus samt fall med oklar traumamekanism.\n",
            "Inga tecken till blödning i buken eller andra svåra traumatiska skador dock oaktat på 8 och febril.\n",
            "CT hjärna\n",
            "vätskeresucsitring\n",
            "covidAVA\n",
            "ny blodgas om 1 timme\n",
            "PCR\n",
            "Röntgen av vä höft från och pulm från avdelningen.\n",
            "Kontakt med anhöriga ånyo från AVA, ej nått dem via telefon från ambulans eller akuten.\n",
            "Diagnos:\n",
            "Pneumoni, misstänkt\n",
            "\n"
          ],
          "name": "stdout"
        }
      ]
    },
    {
      "cell_type": "code",
      "metadata": {
        "colab": {
          "base_uri": "https://localhost:8080/",
          "height": 743
        },
        "id": "ppPe5Dv32P7J",
        "outputId": "9c97191b-7807-4865-e48a-2850694c6b19"
      },
      "source": [
        "displacy.render(doc, style=\"ent\", jupyter=True)"
      ],
      "execution_count": null,
      "outputs": [
        {
          "output_type": "display_data",
          "data": {
            "text/html": [
              "<span class=\"tex2jax_ignore\"><div class=\"entities\" style=\"line-height: 2.5; direction: ltr\">Kontaktorsak: Medicinlarm, \n",
              "<mark class=\"entity\" style=\"background: #ddd; padding: 0.45em 0.6em; margin: 0 0.25em; line-height: 1; border-radius: 0.35em;\">\n",
              "    dyspné\n",
              "    <span style=\"font-size: 0.8em; font-weight: bold; line-height: 1; border-radius: 0.35em; vertical-align: middle; margin-left: 0.5rem\">SYM</span>\n",
              "</mark>\n",
              "</br>\n",
              "<mark class=\"entity\" style=\"background: #ddd; padding: 0.45em 0.6em; margin: 0 0.25em; line-height: 1; border-radius: 0.35em;\">\n",
              "    Tidigare\n",
              "    <span style=\"font-size: 0.8em; font-weight: bold; line-height: 1; border-radius: 0.35em; vertical-align: middle; margin-left: 0.5rem\">TME</span>\n",
              "</mark>\n",
              " sjukdomar: Waranbehandlat FF, hyperlipidemi. BC vä 99, opererad mastektomi + lymfkörtelutrymning höger. \n",
              "<mark class=\"entity\" style=\"background: #ddd; padding: 0.45em 0.6em; margin: 0 0.25em; line-height: 1; border-radius: 0.35em;\">\n",
              "    Inga\n",
              "    <span style=\"font-size: 0.8em; font-weight: bold; line-height: 1; border-radius: 0.35em; vertical-align: middle; margin-left: 0.5rem\">NEG</span>\n",
              "</mark>\n",
              " recidiv. NSTEMI 2009. Stroke 2012 \n",
              "<mark class=\"entity\" style=\"background: #ddd; padding: 0.45em 0.6em; margin: 0 0.25em; line-height: 1; border-radius: 0.35em;\">\n",
              "    utan\n",
              "    <span style=\"font-size: 0.8em; font-weight: bold; line-height: 1; border-radius: 0.35em; vertical-align: middle; margin-left: 0.5rem\">NEG</span>\n",
              "</mark>\n",
              " större sequele. Minnesproblematik.</br>Aktuellt: Funnen i hemmet på golvet, oklart hur länge hon blivit liggande. Hittad av hemtjänst kl 7, senast tillsyn \n",
              "<mark class=\"entity\" style=\"background: #ddd; padding: 0.45em 0.6em; margin: 0 0.25em; line-height: 1; border-radius: 0.35em;\">\n",
              "    igår kväll\n",
              "    <span style=\"font-size: 0.8em; font-weight: bold; line-height: 1; border-radius: 0.35em; vertical-align: middle; margin-left: 0.5rem\">TME</span>\n",
              "</mark>\n",
              " ca kl 20. \n",
              "<mark class=\"entity\" style=\"background: #ddd; padding: 0.45em 0.6em; margin: 0 0.25em; line-height: 1; border-radius: 0.35em;\">\n",
              "    Ingen\n",
              "    <span style=\"font-size: 0.8em; font-weight: bold; line-height: 1; border-radius: 0.35em; vertical-align: middle; margin-left: 0.5rem\">NEG</span>\n",
              "</mark>\n",
              " autoanamnes. I ambulansen febril, desaturerad \n",
              "<mark class=\"entity\" style=\"background: #ddd; padding: 0.45em 0.6em; margin: 0 0.25em; line-height: 1; border-radius: 0.35em;\">\n",
              "    87%\n",
              "    <span style=\"font-size: 0.8em; font-weight: bold; line-height: 1; border-radius: 0.35em; vertical-align: middle; margin-left: 0.5rem\">MSR</span>\n",
              "</mark>\n",
              " \n",
              "<mark class=\"entity\" style=\"background: #ddd; padding: 0.45em 0.6em; margin: 0 0.25em; line-height: 1; border-radius: 0.35em;\">\n",
              "    utan\n",
              "    <span style=\"font-size: 0.8em; font-weight: bold; line-height: 1; border-radius: 0.35em; vertical-align: middle; margin-left: 0.5rem\">NEG</span>\n",
              "</mark>\n",
              " syrgas. Enl \n",
              "<mark class=\"entity\" style=\"background: #7aecec; padding: 0.45em 0.6em; margin: 0 0.25em; line-height: 1; border-radius: 0.35em;\">\n",
              "    hemtjänsten\n",
              "    <span style=\"font-size: 0.8em; font-weight: bold; line-height: 1; border-radius: 0.35em; vertical-align: middle; margin-left: 0.5rem\">ORG</span>\n",
              "</mark>\n",
              " varit förkyld \n",
              "<mark class=\"entity\" style=\"background: #ddd; padding: 0.45em 0.6em; margin: 0 0.25em; line-height: 1; border-radius: 0.35em;\">\n",
              "    3-4 dagar\n",
              "    <span style=\"font-size: 0.8em; font-weight: bold; line-height: 1; border-radius: 0.35em; vertical-align: middle; margin-left: 0.5rem\">TME</span>\n",
              "</mark>\n",
              ". Stabila VP i övrigt.</br>A: Fritt</br>B: Antingsljud bilateralt, sat \n",
              "<mark class=\"entity\" style=\"background: #ddd; padding: 0.45em 0.6em; margin: 0 0.25em; line-height: 1; border-radius: 0.35em;\">\n",
              "    94%\n",
              "    <span style=\"font-size: 0.8em; font-weight: bold; line-height: 1; border-radius: 0.35em; vertical-align: middle; margin-left: 0.5rem\">MSR</span>\n",
              "</mark>\n",
              " på 5l syrgas. Obstruktiv, förlängt expirum. Erhåller inhalation sapimol. AF. 28. Stabil bröstkorg, \n",
              "<mark class=\"entity\" style=\"background: #ddd; padding: 0.45em 0.6em; margin: 0 0.25em; line-height: 1; border-radius: 0.35em;\">\n",
              "    inga tecken\n",
              "    <span style=\"font-size: 0.8em; font-weight: bold; line-height: 1; border-radius: 0.35em; vertical-align: middle; margin-left: 0.5rem\">NEG</span>\n",
              "</mark>\n",
              " till trauma.</br>C: Fina radialispulsar bilat, kall perifert. Marmorerad över knän. BT 90/70, p 119. Oregelbunden. I telemetri smala komplex. Erhåller infart, påbörjar vätskerecusitering. Stabilt bäcken. Buk mjuk och oöm.</br>D: Liksidiga pupiller, \n",
              "<mark class=\"entity\" style=\"background: #ddd; padding: 0.45em 0.6em; margin: 0 0.25em; line-height: 1; border-radius: 0.35em;\">\n",
              "    inga\n",
              "    <span style=\"font-size: 0.8em; font-weight: bold; line-height: 1; border-radius: 0.35em; vertical-align: middle; margin-left: 0.5rem\">NEG</span>\n",
              "</mark>\n",
              " fokala neurotiska bortfall. Konfusorisk, RLS 2. \n",
              "<mark class=\"entity\" style=\"background: #ddd; padding: 0.45em 0.6em; margin: 0 0.25em; line-height: 1; border-radius: 0.35em;\">\n",
              "    Ingen\n",
              "    <span style=\"font-size: 0.8em; font-weight: bold; line-height: 1; border-radius: 0.35em; vertical-align: middle; margin-left: 0.5rem\">NEG</span>\n",
              "</mark>\n",
              " nackstelhet.</br>E: Skrapsår höger kind, blåmärke vänster höft, \n",
              "<mark class=\"entity\" style=\"background: #ddd; padding: 0.45em 0.6em; margin: 0 0.25em; line-height: 1; border-radius: 0.35em;\">\n",
              "    ingen\n",
              "    <span style=\"font-size: 0.8em; font-weight: bold; line-height: 1; border-radius: 0.35em; vertical-align: middle; margin-left: 0.5rem\">NEG</span>\n",
              "</mark>\n",
              " utåtrotation. Hel hudskstym. Temp 39.4</br>Lab: Blodgas med akut respriatorisk \n",
              "<mark class=\"entity\" style=\"background: #ddd; padding: 0.45em 0.6em; margin: 0 0.25em; line-height: 1; border-radius: 0.35em;\">\n",
              "    acidos\n",
              "    <span style=\"font-size: 0.8em; font-weight: bold; line-height: 1; border-radius: 0.35em; vertical-align: middle; margin-left: 0.5rem\">SYM</span>\n",
              "</mark>\n",
              " \n",
              "<mark class=\"entity\" style=\"background: #ddd; padding: 0.45em 0.6em; margin: 0 0.25em; line-height: 1; border-radius: 0.35em;\">\n",
              "    utan\n",
              "    <span style=\"font-size: 0.8em; font-weight: bold; line-height: 1; border-radius: 0.35em; vertical-align: middle; margin-left: 0.5rem\">NEG</span>\n",
              "</mark>\n",
              " kompensation, laktat 8. </br>EKG: Förmaksflimmer kammarfrekvens 123.</br>Bedömning: Sepsis med oklart fokus samt fall med oklar traumamekanism. \n",
              "<mark class=\"entity\" style=\"background: #ddd; padding: 0.45em 0.6em; margin: 0 0.25em; line-height: 1; border-radius: 0.35em;\">\n",
              "    Inga tecken\n",
              "    <span style=\"font-size: 0.8em; font-weight: bold; line-height: 1; border-radius: 0.35em; vertical-align: middle; margin-left: 0.5rem\">NEG</span>\n",
              "</mark>\n",
              " till blödning i buken eller andra svåra traumatiska skador dock oaktat på 8 och febril. Genomodlas, insättes på cefotaxim 1x3. CT hjärna urakut med hänsyn till trauma och medvetandepåverkan. Påbörjar vätskeresucsitring. Inlägges covidAVA, ny blodgas \n",
              "<mark class=\"entity\" style=\"background: #ddd; padding: 0.45em 0.6em; margin: 0 0.25em; line-height: 1; border-radius: 0.35em;\">\n",
              "    om 1 timme\n",
              "    <span style=\"font-size: 0.8em; font-weight: bold; line-height: 1; border-radius: 0.35em; vertical-align: middle; margin-left: 0.5rem\">TME</span>\n",
              "</mark>\n",
              ". PCR SARS-CoV2 taget, isolerad till svar finns. Röntgen av vä höft från och pulm från avdelningen.</br></br>Kontakt med anhöriga ånyo från AVA, \n",
              "<mark class=\"entity\" style=\"background: #ddd; padding: 0.45em 0.6em; margin: 0 0.25em; line-height: 1; border-radius: 0.35em;\">\n",
              "    ej\n",
              "    <span style=\"font-size: 0.8em; font-weight: bold; line-height: 1; border-radius: 0.35em; vertical-align: middle; margin-left: 0.5rem\">NEG</span>\n",
              "</mark>\n",
              " nått dem via telefon från ambulans eller akuten.</br></br>Diagnos: Pneumoni, misstänkt</br></div></span>"
            ],
            "text/plain": [
              "<IPython.core.display.HTML object>"
            ]
          },
          "metadata": {
            "tags": []
          }
        }
      ]
    },
    {
      "cell_type": "markdown",
      "metadata": {
        "id": "YGvMFY_JOVFt"
      },
      "source": [
        "\tAktinomykos (strålsvamp)\n",
        "  Aktinomykos \n",
        "  Aktinomykos strålsvamp\n",
        "  strålsvamp"
      ]
    }
  ]
}