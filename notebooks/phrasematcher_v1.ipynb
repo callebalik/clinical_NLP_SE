{
  "nbformat": 4,
  "nbformat_minor": 0,
  "metadata": {
    "colab": {
      "name": "phrasematcher_v1.ipynb",
      "provenance": [],
      "toc_visible": true
    },
    "kernelspec": {
      "display_name": "Python 3.6.2 32-bit",
      "name": "python362jvsc74a57bd0d91c48f48189c56664de038e34a1f930f7a4a539cbe8f04b9f1e81ab0844a6c3"
    },
    "language_info": {
      "name": "python",
      "version": ""
    },
    "metadata": {
      "interpreter": {
        "hash": "d91c48f48189c56664de038e34a1f930f7a4a539cbe8f04b9f1e81ab0844a6c3"
      }
    },
    "orig_nbformat": 2
  },
  "cells": [
    {
      "cell_type": "markdown",
      "metadata": {
        "id": "-v8tIGSJKNHP"
      },
      "source": [
        "# SETUP ENVIRONMENT"
      ]
    },
    {
      "cell_type": "markdown",
      "metadata": {
        "id": "4oMxk8HK7lE_"
      },
      "source": [
        "## MNT DRIVE AND CLONE GITHUB REPO"
      ]
    },
    {
      "cell_type": "code",
      "metadata": {
        "colab": {
          "base_uri": "https://localhost:8080/"
        },
        "id": "r2Et63n-mVcR",
        "outputId": "4764ba4d-df97-4c98-f91d-16ef17613400"
      },
      "source": [
        "# mnt drive \n",
        "from google.colab import drive\n",
        "drive.mount('/content/drive')\n",
        "\n",
        "\n",
        "# Access token from drive without exposing in text (accsessible in logfiles lol. Better than nothing)\n",
        "import os\n",
        "import subprocess\n",
        "\n",
        "token = open(\"/content/drive/MyDrive/token/colab.txt\", \"r\").read()\n",
        "tkn = token.split(\"=\")\n",
        "\n",
        "repo_name = \"callebalik/clinical_NLP_SE.git\"\n",
        "cmd_string = 'git clone https://{0}@github.com/{1}'.format(tkn[1], repo_name)\n",
        "\n",
        "!{cmd_string}\n",
        "cmd_string = \"\" # removing the variable\n",
        "print(cmd_string)\n"
      ],
      "execution_count": 30,
      "outputs": [
        {
          "output_type": "stream",
          "text": [
            "Drive already mounted at /content/drive; to attempt to forcibly remount, call drive.mount(\"/content/drive\", force_remount=True).\n",
            "fatal: destination path 'clinical_NLP_SE' already exists and is not an empty directory.\n",
            "\n"
          ],
          "name": "stdout"
        }
      ]
    },
    {
      "cell_type": "code",
      "metadata": {
        "id": "d3gnBRnNOsg6"
      },
      "source": [
        "# Set paths for the environment \n",
        "import os \n",
        "from pathlib import Path\n",
        "\n",
        "drive_path = Path('/content/drive/MyDrive/bioNLP/')\n",
        "code_path = Path('/content/clinical_NLP_SE/')\n",
        "# sys.path.append(str(code_path)) # Let pyhton find scripts from the repo\n",
        "models_path = Path('/content/drive/My Drive/bioNLP/models/')\n",
        "data_path = code_path / 'data/'\n",
        "corpus_path = data_path / 'raw/corpus'"
      ],
      "execution_count": 31,
      "outputs": []
    },
    {
      "cell_type": "code",
      "metadata": {
        "id": "We3MQcmkDsm4"
      },
      "source": [
        "#drive.flush_and_unmount()\n",
        "#print('All changes made in this colab session should now be visible in Drive.')"
      ],
      "execution_count": 32,
      "outputs": []
    },
    {
      "cell_type": "code",
      "metadata": {
        "id": "RZvaDg0-uz9B",
        "colab": {
          "base_uri": "https://localhost:8080/"
        },
        "outputId": "3e71abd0-89ed-4831-c93a-837bdaffb977"
      },
      "source": [
        "%load_ext autoreload\n",
        "%autoreload 2"
      ],
      "execution_count": 33,
      "outputs": [
        {
          "output_type": "stream",
          "text": [
            "The autoreload extension is already loaded. To reload it, use:\n",
            "  %reload_ext autoreload\n"
          ],
          "name": "stdout"
        }
      ]
    },
    {
      "cell_type": "markdown",
      "metadata": {
        "id": "S1p1i1iHKd3R"
      },
      "source": [
        ""
      ]
    },
    {
      "cell_type": "markdown",
      "metadata": {
        "id": "Tsf5vHeSJ5Tg"
      },
      "source": [
        "## GET DATA AND MODELS\n",
        "\n",
        "###Gettings the Swedish models \n",
        "\n",
        "https://data.kb.se/datasets/2020/10/swedish_nlp/spacy/\n",
        "\n",
        "https://github.com/Kungbib/swedish-spacy\n",
        "\n",
        "The models can be downloaded with the commands below. For colab this is slow and they are instead mounted from a google drive where they have been downloaded\n",
        "\n"
      ]
    },
    {
      "cell_type": "code",
      "metadata": {
        "id": "HKfI3y19GVvZ"
      },
      "source": [
        "# Get models from Kungbib https://github.com/Kungbib/swedish-spacy\n",
        "#!wget https://data.kb.se/datasets/2020/10/swedish_nlp/spacy/sv_tagger-0.0.0.tar.gz\n",
        "\n",
        "# Older models\n",
        "#!wget https://data.kb.se/datasets/2020/10/swedish_nlp/spacy/sv_model_upos.zip\n",
        "#!wget https://data.kb.se/datasets/2020/10/swedish_nlp/spacy/sv_model_xpos.zip"
      ],
      "execution_count": 34,
      "outputs": []
    },
    {
      "cell_type": "code",
      "metadata": {
        "id": "ALJypSdZJ3d8",
        "colab": {
          "base_uri": "https://localhost:8080/",
          "height": 1000
        },
        "collapsed": true,
        "outputId": "ab5dd459-922b-4e84-84e4-622c5607aa42"
      },
      "source": [
        "# N.B. Make sure to install the spacy-transformers extension, or the models won't work.\n",
        "!pip install spacy-transformers\n",
        "!pip install \"/content/drive/My Drive/bioNLP/models/sv_pipeline-0.0.0.tar.gz\"\n",
        "import spacy\n"
      ],
      "execution_count": 35,
      "outputs": [
        {
          "output_type": "stream",
          "text": [
            "Requirement already satisfied: spacy-transformers in /usr/local/lib/python3.7/dist-packages (1.0.2)\n",
            "Requirement already satisfied: spacy<3.1.0,>=3.0.0 in /usr/local/lib/python3.7/dist-packages (from spacy-transformers) (3.0.6)\n",
            "Requirement already satisfied: spacy-alignments<1.0.0,>=0.7.2 in /usr/local/lib/python3.7/dist-packages (from spacy-transformers) (0.8.3)\n",
            "Requirement already satisfied: torch>=1.5.0 in /usr/local/lib/python3.7/dist-packages (from spacy-transformers) (1.8.1+cu101)\n",
            "Requirement already satisfied: transformers<4.6.0,>=3.4.0 in /usr/local/lib/python3.7/dist-packages (from spacy-transformers) (4.5.1)\n",
            "Requirement already satisfied: srsly<3.0.0,>=2.4.0 in /usr/local/lib/python3.7/dist-packages (from spacy-transformers) (2.4.1)\n",
            "Requirement already satisfied: requests<3.0.0,>=2.13.0 in /usr/local/lib/python3.7/dist-packages (from spacy<3.1.0,>=3.0.0->spacy-transformers) (2.23.0)\n",
            "Requirement already satisfied: wasabi<1.1.0,>=0.8.1 in /usr/local/lib/python3.7/dist-packages (from spacy<3.1.0,>=3.0.0->spacy-transformers) (0.8.2)\n",
            "Requirement already satisfied: setuptools in /usr/local/lib/python3.7/dist-packages (from spacy<3.1.0,>=3.0.0->spacy-transformers) (56.1.0)\n",
            "Requirement already satisfied: catalogue<2.1.0,>=2.0.3 in /usr/local/lib/python3.7/dist-packages (from spacy<3.1.0,>=3.0.0->spacy-transformers) (2.0.4)\n",
            "Requirement already satisfied: numpy>=1.15.0 in /usr/local/lib/python3.7/dist-packages (from spacy<3.1.0,>=3.0.0->spacy-transformers) (1.19.5)\n",
            "Requirement already satisfied: thinc<8.1.0,>=8.0.3 in /usr/local/lib/python3.7/dist-packages (from spacy<3.1.0,>=3.0.0->spacy-transformers) (8.0.3)\n",
            "Requirement already satisfied: preshed<3.1.0,>=3.0.2 in /usr/local/lib/python3.7/dist-packages (from spacy<3.1.0,>=3.0.0->spacy-transformers) (3.0.5)\n",
            "Requirement already satisfied: tqdm<5.0.0,>=4.38.0 in /usr/local/lib/python3.7/dist-packages (from spacy<3.1.0,>=3.0.0->spacy-transformers) (4.41.1)\n",
            "Requirement already satisfied: typing-extensions<4.0.0.0,>=3.7.4; python_version < \"3.8\" in /usr/local/lib/python3.7/dist-packages (from spacy<3.1.0,>=3.0.0->spacy-transformers) (3.7.4.3)\n",
            "Requirement already satisfied: murmurhash<1.1.0,>=0.28.0 in /usr/local/lib/python3.7/dist-packages (from spacy<3.1.0,>=3.0.0->spacy-transformers) (1.0.5)\n",
            "Requirement already satisfied: blis<0.8.0,>=0.4.0 in /usr/local/lib/python3.7/dist-packages (from spacy<3.1.0,>=3.0.0->spacy-transformers) (0.4.1)\n",
            "Requirement already satisfied: pathy>=0.3.5 in /usr/local/lib/python3.7/dist-packages (from spacy<3.1.0,>=3.0.0->spacy-transformers) (0.5.2)\n",
            "Requirement already satisfied: packaging>=20.0 in /usr/local/lib/python3.7/dist-packages (from spacy<3.1.0,>=3.0.0->spacy-transformers) (20.9)\n",
            "Requirement already satisfied: pydantic<1.8.0,>=1.7.1 in /usr/local/lib/python3.7/dist-packages (from spacy<3.1.0,>=3.0.0->spacy-transformers) (1.7.4)\n",
            "Requirement already satisfied: jinja2 in /usr/local/lib/python3.7/dist-packages (from spacy<3.1.0,>=3.0.0->spacy-transformers) (2.11.3)\n",
            "Requirement already satisfied: cymem<2.1.0,>=2.0.2 in /usr/local/lib/python3.7/dist-packages (from spacy<3.1.0,>=3.0.0->spacy-transformers) (2.0.5)\n",
            "Requirement already satisfied: spacy-legacy<3.1.0,>=3.0.4 in /usr/local/lib/python3.7/dist-packages (from spacy<3.1.0,>=3.0.0->spacy-transformers) (3.0.5)\n",
            "Requirement already satisfied: typer<0.4.0,>=0.3.0 in /usr/local/lib/python3.7/dist-packages (from spacy<3.1.0,>=3.0.0->spacy-transformers) (0.3.2)\n",
            "Requirement already satisfied: tokenizers<0.11,>=0.10.1 in /usr/local/lib/python3.7/dist-packages (from transformers<4.6.0,>=3.4.0->spacy-transformers) (0.10.3)\n",
            "Requirement already satisfied: regex!=2019.12.17 in /usr/local/lib/python3.7/dist-packages (from transformers<4.6.0,>=3.4.0->spacy-transformers) (2019.12.20)\n",
            "Requirement already satisfied: sacremoses in /usr/local/lib/python3.7/dist-packages (from transformers<4.6.0,>=3.4.0->spacy-transformers) (0.0.45)\n",
            "Requirement already satisfied: importlib-metadata; python_version < \"3.8\" in /usr/local/lib/python3.7/dist-packages (from transformers<4.6.0,>=3.4.0->spacy-transformers) (4.0.1)\n",
            "Requirement already satisfied: filelock in /usr/local/lib/python3.7/dist-packages (from transformers<4.6.0,>=3.4.0->spacy-transformers) (3.0.12)\n",
            "Requirement already satisfied: idna<3,>=2.5 in /usr/local/lib/python3.7/dist-packages (from requests<3.0.0,>=2.13.0->spacy<3.1.0,>=3.0.0->spacy-transformers) (2.10)\n",
            "Requirement already satisfied: chardet<4,>=3.0.2 in /usr/local/lib/python3.7/dist-packages (from requests<3.0.0,>=2.13.0->spacy<3.1.0,>=3.0.0->spacy-transformers) (3.0.4)\n",
            "Requirement already satisfied: certifi>=2017.4.17 in /usr/local/lib/python3.7/dist-packages (from requests<3.0.0,>=2.13.0->spacy<3.1.0,>=3.0.0->spacy-transformers) (2020.12.5)\n",
            "Requirement already satisfied: urllib3!=1.25.0,!=1.25.1,<1.26,>=1.21.1 in /usr/local/lib/python3.7/dist-packages (from requests<3.0.0,>=2.13.0->spacy<3.1.0,>=3.0.0->spacy-transformers) (1.24.3)\n",
            "Requirement already satisfied: zipp>=0.5; python_version < \"3.8\" in /usr/local/lib/python3.7/dist-packages (from catalogue<2.1.0,>=2.0.3->spacy<3.1.0,>=3.0.0->spacy-transformers) (3.4.1)\n",
            "Requirement already satisfied: smart-open<4.0.0,>=2.2.0 in /usr/local/lib/python3.7/dist-packages (from pathy>=0.3.5->spacy<3.1.0,>=3.0.0->spacy-transformers) (3.0.0)\n",
            "Requirement already satisfied: pyparsing>=2.0.2 in /usr/local/lib/python3.7/dist-packages (from packaging>=20.0->spacy<3.1.0,>=3.0.0->spacy-transformers) (2.4.7)\n",
            "Requirement already satisfied: MarkupSafe>=0.23 in /usr/local/lib/python3.7/dist-packages (from jinja2->spacy<3.1.0,>=3.0.0->spacy-transformers) (2.0.1)\n",
            "Requirement already satisfied: click<7.2.0,>=7.1.1 in /usr/local/lib/python3.7/dist-packages (from typer<0.4.0,>=0.3.0->spacy<3.1.0,>=3.0.0->spacy-transformers) (7.1.2)\n",
            "Requirement already satisfied: six in /usr/local/lib/python3.7/dist-packages (from sacremoses->transformers<4.6.0,>=3.4.0->spacy-transformers) (1.15.0)\n",
            "Requirement already satisfied: joblib in /usr/local/lib/python3.7/dist-packages (from sacremoses->transformers<4.6.0,>=3.4.0->spacy-transformers) (1.0.1)\n",
            "Processing /content/drive/My Drive/bioNLP/models/sv_pipeline-0.0.0.tar.gz\n",
            "Requirement already satisfied: spacy<3.1.0,>=3.0.1 in /usr/local/lib/python3.7/dist-packages (from sv-pipeline==0.0.0) (3.0.6)\n",
            "Requirement already satisfied: jinja2 in /usr/local/lib/python3.7/dist-packages (from spacy<3.1.0,>=3.0.1->sv-pipeline==0.0.0) (2.11.3)\n",
            "Requirement already satisfied: spacy-legacy<3.1.0,>=3.0.4 in /usr/local/lib/python3.7/dist-packages (from spacy<3.1.0,>=3.0.1->sv-pipeline==0.0.0) (3.0.5)\n",
            "Requirement already satisfied: murmurhash<1.1.0,>=0.28.0 in /usr/local/lib/python3.7/dist-packages (from spacy<3.1.0,>=3.0.1->sv-pipeline==0.0.0) (1.0.5)\n",
            "Requirement already satisfied: typing-extensions<4.0.0.0,>=3.7.4; python_version < \"3.8\" in /usr/local/lib/python3.7/dist-packages (from spacy<3.1.0,>=3.0.1->sv-pipeline==0.0.0) (3.7.4.3)\n",
            "Requirement already satisfied: tqdm<5.0.0,>=4.38.0 in /usr/local/lib/python3.7/dist-packages (from spacy<3.1.0,>=3.0.1->sv-pipeline==0.0.0) (4.41.1)\n",
            "Requirement already satisfied: typer<0.4.0,>=0.3.0 in /usr/local/lib/python3.7/dist-packages (from spacy<3.1.0,>=3.0.1->sv-pipeline==0.0.0) (0.3.2)\n",
            "Requirement already satisfied: pathy>=0.3.5 in /usr/local/lib/python3.7/dist-packages (from spacy<3.1.0,>=3.0.1->sv-pipeline==0.0.0) (0.5.2)\n",
            "Requirement already satisfied: thinc<8.1.0,>=8.0.3 in /usr/local/lib/python3.7/dist-packages (from spacy<3.1.0,>=3.0.1->sv-pipeline==0.0.0) (8.0.3)\n",
            "Requirement already satisfied: numpy>=1.15.0 in /usr/local/lib/python3.7/dist-packages (from spacy<3.1.0,>=3.0.1->sv-pipeline==0.0.0) (1.19.5)\n",
            "Requirement already satisfied: blis<0.8.0,>=0.4.0 in /usr/local/lib/python3.7/dist-packages (from spacy<3.1.0,>=3.0.1->sv-pipeline==0.0.0) (0.4.1)\n",
            "Requirement already satisfied: packaging>=20.0 in /usr/local/lib/python3.7/dist-packages (from spacy<3.1.0,>=3.0.1->sv-pipeline==0.0.0) (20.9)\n",
            "Requirement already satisfied: requests<3.0.0,>=2.13.0 in /usr/local/lib/python3.7/dist-packages (from spacy<3.1.0,>=3.0.1->sv-pipeline==0.0.0) (2.23.0)\n",
            "Requirement already satisfied: wasabi<1.1.0,>=0.8.1 in /usr/local/lib/python3.7/dist-packages (from spacy<3.1.0,>=3.0.1->sv-pipeline==0.0.0) (0.8.2)\n",
            "Requirement already satisfied: srsly<3.0.0,>=2.4.1 in /usr/local/lib/python3.7/dist-packages (from spacy<3.1.0,>=3.0.1->sv-pipeline==0.0.0) (2.4.1)\n",
            "Requirement already satisfied: preshed<3.1.0,>=3.0.2 in /usr/local/lib/python3.7/dist-packages (from spacy<3.1.0,>=3.0.1->sv-pipeline==0.0.0) (3.0.5)\n",
            "Requirement already satisfied: cymem<2.1.0,>=2.0.2 in /usr/local/lib/python3.7/dist-packages (from spacy<3.1.0,>=3.0.1->sv-pipeline==0.0.0) (2.0.5)\n",
            "Requirement already satisfied: catalogue<2.1.0,>=2.0.3 in /usr/local/lib/python3.7/dist-packages (from spacy<3.1.0,>=3.0.1->sv-pipeline==0.0.0) (2.0.4)\n",
            "Requirement already satisfied: pydantic<1.8.0,>=1.7.1 in /usr/local/lib/python3.7/dist-packages (from spacy<3.1.0,>=3.0.1->sv-pipeline==0.0.0) (1.7.4)\n",
            "Requirement already satisfied: setuptools in /usr/local/lib/python3.7/dist-packages (from spacy<3.1.0,>=3.0.1->sv-pipeline==0.0.0) (56.1.0)\n",
            "Requirement already satisfied: MarkupSafe>=0.23 in /usr/local/lib/python3.7/dist-packages (from jinja2->spacy<3.1.0,>=3.0.1->sv-pipeline==0.0.0) (2.0.1)\n",
            "Requirement already satisfied: click<7.2.0,>=7.1.1 in /usr/local/lib/python3.7/dist-packages (from typer<0.4.0,>=0.3.0->spacy<3.1.0,>=3.0.1->sv-pipeline==0.0.0) (7.1.2)\n",
            "Requirement already satisfied: smart-open<4.0.0,>=2.2.0 in /usr/local/lib/python3.7/dist-packages (from pathy>=0.3.5->spacy<3.1.0,>=3.0.1->sv-pipeline==0.0.0) (3.0.0)\n",
            "Requirement already satisfied: pyparsing>=2.0.2 in /usr/local/lib/python3.7/dist-packages (from packaging>=20.0->spacy<3.1.0,>=3.0.1->sv-pipeline==0.0.0) (2.4.7)\n",
            "Requirement already satisfied: certifi>=2017.4.17 in /usr/local/lib/python3.7/dist-packages (from requests<3.0.0,>=2.13.0->spacy<3.1.0,>=3.0.1->sv-pipeline==0.0.0) (2020.12.5)\n",
            "Requirement already satisfied: idna<3,>=2.5 in /usr/local/lib/python3.7/dist-packages (from requests<3.0.0,>=2.13.0->spacy<3.1.0,>=3.0.1->sv-pipeline==0.0.0) (2.10)\n",
            "Requirement already satisfied: chardet<4,>=3.0.2 in /usr/local/lib/python3.7/dist-packages (from requests<3.0.0,>=2.13.0->spacy<3.1.0,>=3.0.1->sv-pipeline==0.0.0) (3.0.4)\n",
            "Requirement already satisfied: urllib3!=1.25.0,!=1.25.1,<1.26,>=1.21.1 in /usr/local/lib/python3.7/dist-packages (from requests<3.0.0,>=2.13.0->spacy<3.1.0,>=3.0.1->sv-pipeline==0.0.0) (1.24.3)\n",
            "Requirement already satisfied: zipp>=0.5; python_version < \"3.8\" in /usr/local/lib/python3.7/dist-packages (from catalogue<2.1.0,>=2.0.3->spacy<3.1.0,>=3.0.1->sv-pipeline==0.0.0) (3.4.1)\n",
            "Building wheels for collected packages: sv-pipeline\n",
            "  Building wheel for sv-pipeline (setup.py) ... \u001b[?25l\u001b[?25hdone\n",
            "  Created wheel for sv-pipeline: filename=sv_pipeline-0.0.0-cp37-none-any.whl size=935375398 sha256=1b8ca2ddb64f7a2debe34e66a4f1654eb98c81006300573119f1efa581caf620\n",
            "  Stored in directory: /root/.cache/pip/wheels/5f/58/a9/4f2caa352e21d9859301b0fb743111c59b70b866c9de895c40\n",
            "Successfully built sv-pipeline\n",
            "Installing collected packages: sv-pipeline\n",
            "  Found existing installation: sv-pipeline 0.0.0\n",
            "    Uninstalling sv-pipeline-0.0.0:\n",
            "      Successfully uninstalled sv-pipeline-0.0.0\n",
            "Successfully installed sv-pipeline-0.0.0\n"
          ],
          "name": "stdout"
        },
        {
          "output_type": "display_data",
          "data": {
            "application/vnd.colab-display-data+json": {
              "pip_warning": {
                "packages": [
                  "sv_pipeline"
                ]
              }
            }
          },
          "metadata": {
            "tags": []
          }
        }
      ]
    },
    {
      "cell_type": "markdown",
      "metadata": {
        "id": "oWPMEmhlrWDs"
      },
      "source": [
        "### Note from Kungbib\n",
        "\n",
        "** UPDATE February 2021 **: We are adding two transformer-based models trained in spaCy 3.0. They are available to download at the same link given below.\n",
        "One model is a complete pipeline with UPOS tagger, parser, sentencer, ner and lemmatizer (sv_pipeline-0.0.0.tar.gz). Unfortunately the lemmatizer is not yet trainable in spaCy, so the performance is as good as the quality of the rules/lookup tables available for Swedish (i.e. not very good). \n",
        "\n",
        "If you need a Swedish lemmatizer we advise you for the moment to have a look at Stanza, efselab or lemmy.ww\n",
        "\n",
        "---\n",
        "\n",
        "\n",
        "The other model is a XPOS tagger in case you need language-specific part-of-speech tags (sv_tagger-0.0.0.tar.gz)."
      ]
    },
    {
      "cell_type": "markdown",
      "metadata": {
        "id": "GDiEMNpj8SAh"
      },
      "source": [
        "## INITIALIZE SPACY"
      ]
    },
    {
      "cell_type": "code",
      "metadata": {
        "collapsed": true,
        "id": "Ie3y0lSVsXoY"
      },
      "source": [
        "import spacy \n",
        "nlp = spacy.load(\"sv_pipeline\")"
      ],
      "execution_count": 36,
      "outputs": []
    },
    {
      "cell_type": "markdown",
      "metadata": {
        "id": "gfzk7npYsSMQ"
      },
      "source": [
        "# Analyzing\n",
        "\n",
        "> CTRL + F8 to run all cell above and setup environment \n",
        "\n",
        "*Time estimate 3 min*"
      ]
    },
    {
      "cell_type": "markdown",
      "metadata": {
        "id": "1LEvAim19P6t"
      },
      "source": [
        "## Spacy PhraseMatcher "
      ]
    },
    {
      "cell_type": "code",
      "metadata": {
        "id": "C0_UPU9N9YJb"
      },
      "source": [
        "from spacy.matcher import PhraseMatcher"
      ],
      "execution_count": 29,
      "outputs": []
    },
    {
      "cell_type": "code",
      "metadata": {
        "collapsed": true,
        "id": "rat3P78h9bp3"
      },
      "source": [
        "# get ICD10 \n",
        "\n",
        "\"\"\" pattern and special signs \n",
        "LDD   LLLLLL\n",
        "LDD † LLLLLL\n",
        "LDD * LLLLLL\n",
        "\n",
        "Example \n",
        "P75\t*\tMekoniumileus vid cystisk fibros (E84.1)\n",
        "\"\"\"\n",
        "\n",
        "\n",
        "'''\n",
        "Positive Lookbehind (?<=\\D\\d\\d) Assert that the Regex below matches\n",
        "  \\D matches any character that's not a digit (equivalent to [^0-9])\n",
        "  \\d matches a digit (equivalent to [0-9])\n",
        "  \\d matches a digit (equivalent to [0-9])\n",
        "\\s matches any whitespace character (equivalent to [\\r\\n\\t\\f\\v ])\n",
        "+? matches the previous token between one and unlimited times, as few times as possible, expanding as needed (lazy)\n",
        ". matches any character (except for line terminators)\n",
        "? matches the previous token between zero and one times, as many times as possible, giving back as needed (greedy)\n",
        "\\s matches any whitespace character (equivalent to [\\r\\n\\t\\f\\v ])\n",
        "\n",
        "Global pattern flags\n",
        "g modifier: global. All matches (don't return after first match)\n",
        "m modifier: multi line. Causes ^ and $ to match the begin/end of each line (not only begin/end of string)\n",
        "'''\n",
        "\n",
        "import re\n",
        "\n",
        "regex_ddd = '/(?<=\\D\\d\\d)\\s+?.?\\s/gm'\n",
        "regex_dddR = '/(?<=R\\d\\d)\\s+?.?\\s/gm' \n",
        "ddd = r'(?<=\\D\\d\\d)\\s+?.?\\s'\n",
        "dddd = r'(?<=\\D\\d\\d\\d)\\s+?.?\\s'\n",
        "\n",
        "ddddd = r'((?<=\\D\\d\\d\\d\\d)|(?<=\\D\\d\\d\\d\\D))\\s+?.?\\s'\n",
        "\n",
        "'''\n",
        "A513B\t†\tSyfilitisk (sekundär) alopeci (L99.8)\n",
        "Y3498\t\tOspecificerad skadehändelse, med oklar avsikt-plats, ospecificerad-andra specificerade aktiviteter\n",
        "Y3499\t\tOspecificerad skadehändelse, med oklar avsikt-plats, ospecificerad-aktivitet, ospecificerad\n",
        "Y586A\t\tKomplikation av vaccin mot kikhosta, enbart (P)\n",
        "Y586B\t\tKomplikation av vaccin mot difteri, kikhosta och stelkramp, kombinerat (DPT)\n",
        "Y586W\t\tKomplikation av annat kombinerat \n",
        "'''\n",
        "\n",
        "ICD_PATH = data_path / 'raw/icd-10-se-2021-text'\n",
        "file_path = ICD_PATH / 'digit3.txt'\n",
        "\n",
        "ICD000 = []\n",
        "with open(ICD_PATH / 'digit3.txt','r') as codes:\n",
        "    for line in codes:\n",
        "        x = re.split(ddd, line)\n",
        "        ICD000.append(x[1].strip())\n",
        "\n",
        "ICD0000 = []\n",
        "with open(ICD_PATH / 'digit4.txt','r') as codes:\n",
        "    for line in codes:\n",
        "        x = re.split(dddd, line)\n",
        "        ICD0000.append(x[1].strip())\n",
        "        \n",
        "ICD00000 = []\n",
        "with open(ICD_PATH / 'digit5.txt','r') as codes:\n",
        "    for line in codes:\n",
        "        x = re.split(ddddd, line)\n",
        "        ICD00000.append(x[1])\n",
        "\n"
      ],
      "execution_count": 118,
      "outputs": []
    },
    {
      "cell_type": "code",
      "metadata": {
        "id": "p8cy93mmeYwC"
      },
      "source": [
        "ICD = ICD000 + ICD0000 + ICD00000"
      ],
      "execution_count": 119,
      "outputs": []
    },
    {
      "cell_type": "code",
      "metadata": {
        "id": "fiuWbhN2SLX-"
      },
      "source": [
        "matcher = PhraseMatcher(nlp.vocab, attr=\"LOWER\")\n",
        "# Only run nlp.make_doc to speed things up\n",
        "icd_patterns = [nlp.make_doc(text) for text in ICD]\n",
        "matcher.add(\"SYM\", icd_patterns)"
      ],
      "execution_count": 121,
      "outputs": []
    },
    {
      "cell_type": "markdown",
      "metadata": {
        "id": "EE-D-TdsYnGh"
      },
      "source": [
        "Changed in v3.0\n",
        "As of spaCy v3.0, PhraseMatcher.add takes a list of patterns as the second argument (instead of a variable number of arguments). The on_match callback becomes an optional keyword argument.\n",
        "\n",
        "```\n",
        "patterns = [nlp(\"health care reform\"), nlp(\"healthcare reform\")]\n",
        "- matcher.add(\"HEALTH\", on_match, *patterns)\n",
        "+ matcher.add(\"HEALTH\", patterns, on_match=on_match)\n",
        "``` "
      ]
    },
    {
      "cell_type": "code",
      "metadata": {
        "id": "RT2-6WgJTDg6",
        "outputId": "b5013904-fbc0-4f86-d615-fe2588de687e",
        "colab": {
          "base_uri": "https://localhost:8080/"
        }
      },
      "source": [
        "file =  corpus_path / 'mockup-patient-records/by_johanna/originals/chart2.txt'\n",
        "pre_doc = open(file, 'r').read()\n",
        "\n",
        "doc = nlp(pre_doc)\n",
        "\n",
        "matches = matcher(doc)\n",
        "entities = []\n",
        "for match_id, start, end in matches:\n",
        "    span = doc[start:end]\n",
        "    class_id = nlp.vocab.strings[match_id]\n",
        "    print(span.text, span.start_char, span.end_char, class_id)\n",
        "    ent = {\"start\": span.start_char, \"end\": span.end_char, \"label\": class_id}\n",
        "    entities.append(ent)\n",
        "# print(entities)"
      ],
      "execution_count": 123,
      "outputs": [
        {
          "output_type": "stream",
          "text": [
            "dyspné 27 33 SYM\n",
            "acidos 1090 1096 SYM\n"
          ],
          "name": "stdout"
        }
      ]
    },
    {
      "cell_type": "code",
      "metadata": {
        "colab": {
          "base_uri": "https://localhost:8080/"
        },
        "collapsed": true,
        "id": "yCiP9vr01vH3",
        "outputId": "cf6fad19-a79b-4b9f-853a-3b5b38b8792b"
      },
      "source": [
        "width = 20 # table width\n",
        "for token in doc:\n",
        "    print(f\"{token.text: <{width}} {token.tag_: <{width}} {token.dep_: <{width}}\")"
      ],
      "execution_count": 87,
      "outputs": [
        {
          "output_type": "stream",
          "text": [
            "Kontaktorsak         NOUN                 ROOT                \n",
            ":                    PUNCT                punct               \n",
            "Dyspné               NOUN                 ROOT                \n",
            "\n",
            "                    PUNCT                ROOT                \n",
            "Tidigare             ADJ                  amod                \n",
            "sjukdomar            NOUN                 ROOT                \n",
            ":                    PUNCT                punct               \n",
            "Insulin              ADJ                  amod                \n",
            "och                  CCONJ                cc                  \n",
            "tablettbehandlad     ADJ                  conj                \n",
            "DM2                  NUM                  ROOT                \n",
            ".                    PUNCT                punct               \n",
            "Tablettbehandlad     ADJ                  amod                \n",
            "hypertoni            NOUN                 ROOT                \n",
            ".                    PUNCT                punct               \n",
            "Höga                 ADJ                  amod                \n",
            "blodfetter           NOUN                 ROOT                \n",
            ".                    PUNCT                punct               \n",
            "\n",
            "                    PUNCT                ROOT                \n",
            "Socialt              ADV                  ROOT                \n",
            ":                    PUNCT                punct               \n",
            "Ensamboende          ADJ                  ROOT                \n",
            ",                    PUNCT                punct               \n",
            "hemtjänst            NOUN                 conj                \n",
            "*                    PUNCT                punct               \n",
            "1                    NUM                  conj                \n",
            ".                    PUNCT                punct               \n",
            "\n",
            "                    PUNCT                punct               \n",
            "Aktuellt             NOUN                 ROOT                \n",
            ":                    PUNCT                punct               \n",
            "Insjuknat            VERB                 ROOT                \n",
            "för                  ADP                  case                \n",
            "tre                  NUM                  nummod              \n",
            "dagar                NOUN                 obl                 \n",
            "sedan                ADV                  dep                 \n",
            "med                  ADP                  case                \n",
            "andnöd               NOUN                 obl                 \n",
            "vid                  ADP                  case                \n",
            "gång                 NOUN                 obl                 \n",
            ".                    PUNCT                punct               \n",
            "Tillkomst            NOUN                 ROOT                \n",
            "av                   ADP                  case                \n",
            "hosta                NOUN                 nmod                \n",
            "under                ADP                  case                \n",
            "gårdagen             NOUN                 obl                 \n",
            ".                    PUNCT                punct               \n",
            "Ej                   PART                 advmod              \n",
            "noterat              VERB                 ROOT                \n",
            "feber                NOUN                 obj                 \n",
            ",                    PUNCT                punct               \n",
            "men                  CCONJ                cc                  \n",
            "ej                   PART                 advmod              \n",
            "eller                CCONJ                cc                  \n",
            "mätt                 VERB                 conj                \n",
            "tempen               NOUN                 conj                \n",
            ".                    PUNCT                punct               \n",
            "Idag                 ADV                  advmod              \n",
            "nedsatt              ADJ                  amod                \n",
            "AT                   NOUN                 ROOT                \n",
            ",                    PUNCT                punct               \n",
            "svårt                ADJ                  parataxis           \n",
            "att                  PART                 mark                \n",
            "gå                   VERB                 advcl               \n",
            ".                    PUNCT                punct               \n",
            "Tagit                VERB                 ROOT                \n",
            "sina                 PRON                 nmod:poss           \n",
            "mediciner            NOUN                 obj                 \n",
            "som                  ADP                  case                \n",
            "vanligt              ADV                  advmod              \n",
            ".                    PUNCT                punct               \n",
            "Sökt                 VERB                 ROOT                \n",
            "VC                   PROPN                obj                 \n",
            "som                  PRON                 nsubj               \n",
            "hänvisat             VERB                 acl:relcl           \n",
            "hit                  ADV                  advmod              \n",
            "pga                  ADP                  case                \n",
            "destruering          NOUN                 obl                 \n",
            ".                    PUNCT                punct               \n",
            "Inte                 PART                 advmod              \n",
            "haft                 VERB                 ROOT                \n",
            "några                DET                  det                 \n",
            "utslag               NOUN                 obj                 \n",
            ".                    PUNCT                punct               \n",
            "Ej                   PART                 advmod              \n",
            "kontakt              NOUN                 ROOT                \n",
            "med                  ADP                  case                \n",
            "någon                DET                  det                 \n",
            "annan                ADJ                  nmod                \n",
            "som                  PRON                 nsubj               \n",
            "varit                AUX                  cop                 \n",
            "sjuk                 ADJ                  acl:relcl           \n",
            ".                    PUNCT                punct               \n",
            "Ej                   PART                 advmod              \n",
            "varit                VERB                 ROOT                \n",
            "ute                  ADV                  advmod              \n",
            "och                  CCONJ                cc                  \n",
            "rest                 NOUN                 conj                \n",
            ".                    PUNCT                punct               \n",
            "Ingen                DET                  det                 \n",
            "smärta               NOUN                 ROOT                \n",
            "vid                  ADP                  case                \n",
            "miktion              NOUN                 nmod                \n",
            ",                    PUNCT                punct               \n",
            "buksmärta            NOUN                 conj                \n",
            "eller                CCONJ                cc                  \n",
            "ÖNH                  PROPN                amod                \n",
            "symptom              NOUN                 conj                \n",
            ".                    PUNCT                punct               \n",
            "Idag                 ADV                  advmod              \n",
            "sämre                ADJ                  ROOT                \n",
            ",                    PUNCT                punct               \n",
            "kan                  AUX                  aux                 \n",
            "ej                   PART                 advmod              \n",
            "mobilisera           VERB                 parataxis           \n",
            "sig                  PRON                 obj                 \n",
            "i                    ADP                  case                \n",
            "hemmet               NOUN                 obl                 \n",
            ".                    PUNCT                punct               \n",
            "Inkommer             VERB                 ROOT                \n",
            "på                   ADP                  case                \n",
            "remiss               NOUN                 obl                 \n",
            ".                    PUNCT                punct               \n",
            "Inga                 DET                  det                 \n",
            "kräkningar           NOUN                 ROOT                \n",
            "eller                CCONJ                cc                  \n",
            "GI                   PROPN                amod                \n",
            "symptom              NOUN                 conj                \n",
            ".                    PUNCT                punct               \n",
            "\n",
            "                    PUNCT                ROOT                \n",
            "Status               NOUN                 ROOT                \n",
            ":                    PUNCT                punct               \n",
            "\n",
            "                    PUNCT                ROOT                \n",
            "AT                   NOUN                 ROOT                \n",
            ":                    PUNCT                punct               \n",
            "Gott                 ADJ                  ROOT                \n",
            ",                    PUNCT                punct               \n",
            "opåverkad            ADJ                  conj                \n",
            "i                    ADP                  case                \n",
            "vila                 NOUN                 obl                 \n",
            ",                    PUNCT                punct               \n",
            "ingen                DET                  det                 \n",
            "samtalsdyspné        NOUN                 conj                \n",
            ".                    PUNCT                punct               \n",
            "\n",
            "                    PUNCT                ROOT                \n",
            "Cor                  PROPN                ROOT                \n",
            ":                    PUNCT                punct               \n",
            "Normofrekvent        ADJ                  amod                \n",
            "regelbunden          ADJ                  amod                \n",
            "rytm                 NOUN                 ROOT                \n",
            ",                    PUNCT                punct               \n",
            "inga                 DET                  det                 \n",
            "hörbara              ADJ                  amod                \n",
            "bi                   NOUN                 conj                \n",
            "eller                CCONJ                cc                  \n",
            "blåsljud             NOUN                 conj                \n",
            ".                    PUNCT                punct               \n",
            "\n",
            "                    PUNCT                punct               \n",
            "Pulm                 NOUN                 ROOT                \n",
            ":                    PUNCT                punct               \n",
            "I                    ADP                  case                \n",
            "stort                ADJ                  amod                \n",
            "vesikulära           ADJ                  amod                \n",
            "antingsljud          NOUN                 ROOT                \n",
            "bilat                ADJ                  acl                 \n",
            ",                    PUNCT                punct               \n",
            "dämpat               ADJ                  amod                \n",
            "basalt               ADJ                  amod                \n",
            "höger                NOUN                 conj                \n",
            ".                    PUNCT                punct               \n",
            "Inget                DET                  det                 \n",
            "förlängt             ADJ                  amod                \n",
            "expirium             NOUN                 ROOT                \n",
            ".                    PUNCT                punct               \n",
            "\n",
            "                    PUNCT                ROOT                \n",
            "Buk                  NOUN                 ROOT                \n",
            ":                    PUNCT                punct               \n",
            "Överallt             ADV                  advmod              \n",
            "muk                  NOUN                 ROOT                \n",
            "och                  CCONJ                cc                  \n",
            "oöm                  ADJ                  conj                \n",
            ".                    PUNCT                punct               \n",
            "Ingen                DET                  det                 \n",
            "lokal                ADJ                  amod                \n",
            "peritonit            NOUN                 ROOT                \n",
            ".                    PUNCT                punct               \n",
            "\n",
            "                    PUNCT                ROOT                \n",
            "Lokalstatus          NOUN                 ROOT                \n",
            ":                    PUNCT                punct               \n",
            "Underben             NOUN                 nsubj               \n",
            "smala                ADJ                  ROOT                \n",
            "och                  CCONJ                cc                  \n",
            "gracila              ADJ                  conj                \n",
            ",                    PUNCT                punct               \n",
            "inga                 DET                  det                 \n",
            "pittingödem          NOUN                 conj                \n",
            ".                    PUNCT                punct               \n",
            "\n",
            "                    PUNCT                ROOT                \n",
            "BT                   NOUN                 ROOT                \n",
            ":                    PUNCT                punct               \n",
            "117/80               NUM                  dep                 \n",
            "\n",
            "                    PUNCT                punct               \n",
            "Sat                  NOUN                 ROOT                \n",
            ":                    PUNCT                punct               \n",
            "92                   NUM                  nummod              \n",
            "%                    NOUN                 appos               \n",
            "på                   ADP                  case                \n",
            "2l                   NUM                  nummod              \n",
            "O2                   NUM                  nmod                \n",
            "\n",
            "                    PUNCT                punct               \n",
            "AF                   PROPN                nmod                \n",
            ":                    SYM                  punct               \n",
            "28                   NUM                  nummod              \n",
            "\n",
            "                    PUNCT                punct               \n",
            "Temp                 NOUN                 ROOT                \n",
            ":                    PUNCT                punct               \n",
            "38.8                 NUM                  dep                 \n",
            "\n",
            "                    PUNCT                punct               \n",
            "Lab                  NOUN                 ROOT                \n",
            ":                    PUNCT                punct               \n",
            "Blodgas              NOUN                 ROOT                \n",
            "utan                 ADP                  case                \n",
            "respiratorisk        ADJ                  amod                \n",
            "acidos               NOUN                 nmod                \n",
            ",                    PUNCT                punct               \n",
            "Ph                   PROPN                nmod                \n",
            "7,4                  NUM                  conj                \n",
            ",                    PUNCT                punct               \n",
            "CRP                  PROPN                conj                \n",
            "118                  NUM                  nummod              \n",
            ",                    PUNCT                punct               \n",
            "diskret              ADV                  advmod              \n",
            "förhöjt              ADJ                  amod                \n",
            "BE                   X                    conj                \n",
            ".                    PUNCT                punct               \n",
            "Normalt              ADV                  advmod              \n",
            "laktat               NOUN                 ROOT                \n",
            "\n",
            "                    PUNCT                ROOT                \n",
            "Tobak                NOUN                 ROOT                \n",
            ":                    PUNCT                punct               \n",
            "Ej                   PART                 advmod              \n",
            "känt                 ADJ                  ROOT                \n",
            "\n",
            "                    PUNCT                ROOT                \n",
            "EKG                  NOUN                 ROOT                \n",
            ":                    PUNCT                punct               \n",
            "Sinusrym             NOUN                 ROOT                \n",
            "med                  ADP                  case                \n",
            "kammarfrekvens       NOUN                 obl                 \n",
            "98                   NUM                  nummod              \n",
            ",                    PUNCT                punct               \n",
            "inga                 DET                  det                 \n",
            "urakuta              ADJ                  amod                \n",
            "ischemiska           ADJ                  amod                \n",
            "tecken               NOUN                 parataxis           \n",
            ".                    PUNCT                punct               \n",
            "\n",
            "\n",
            "                   PUNCT                punct               \n",
            "Bedömning            NOUN                 ROOT                \n",
            ":                    PUNCT                punct               \n",
            "I                    ADP                  advmod              \n",
            "första               ADJ                  fixed               \n",
            "hand                 NOUN                 fixed               \n",
            "misstanke            NOUN                 ROOT                \n",
            "om                   ADP                  case                \n",
            "penumoni             NOUN                 nmod                \n",
            "eller                CCONJ                cc                  \n",
            "COVID-19             PROPN                conj                \n",
            ",                    PUNCT                punct               \n",
            "inlägges             VERB                 parataxis           \n",
            "infektionsavdelning  NOUN                 nsubj:pass          \n",
            ".                    PUNCT                punct               \n",
            "Provtages            VERB                 case                \n",
            "SARS-CoV2            NUM                  obl                 \n",
            "insättes             VERB                 ROOT                \n",
            "cefotaxim            NOUN                 nsubj:pass          \n",
            ".                    PUNCT                punct               \n",
            "Genomodlas           VERB                 ROOT                \n",
            ".                    PUNCT                punct               \n",
            "Nya                  ADJ                  amod                \n",
            "prover               NOUN                 ROOT                \n",
            "imorgon              ADV                  advmod              \n",
            ",                    PUNCT                punct               \n",
            "CRP                  PROPN                appos               \n",
            ",                    PUNCT                punct               \n",
            "LPK                  PROPN                conj                \n",
            ".                    PUNCT                punct               \n",
            "Röntgen              NOUN                 amod                \n",
            "puls                 NOUN                 ROOT                \n",
            "från                 ADP                  case                \n",
            "avdelningen          NOUN                 nmod                \n",
            ".                    PUNCT                punct               \n",
            "Syrgaskrävande       ADJ                  ROOT                \n",
            ",                    PUNCT                punct               \n",
            "2l                   NUM                  conj                \n",
            ".                    PUNCT                punct               \n",
            "Ej                   PART                 advmod              \n",
            "septisk              NOUN                 ROOT                \n",
            ".                    PUNCT                punct               \n",
            "\n",
            "\n",
            "                   PUNCT                ROOT                \n",
            "Diagnos              NOUN                 ROOT                \n",
            ":                    PUNCT                punct               \n",
            "Pneumoni             NOUN                 ROOT                \n",
            ",                    PUNCT                punct               \n",
            "ospecificerad        ADJ                  conj                \n",
            "\n",
            "                    PUNCT                conj                \n"
          ],
          "name": "stdout"
        }
      ]
    },
    {
      "cell_type": "code",
      "metadata": {
        "colab": {
          "base_uri": "https://localhost:8080/",
          "height": 485
        },
        "id": "21EQTv2b0cyz",
        "outputId": "b6ec3f6d-16ac-4ca2-c9eb-7fd5d3a66df5"
      },
      "source": [
        "import pandas as pd\n",
        "\n",
        "cols = (\"text\", \"lemma\", \"POS\", \"explain\", \"stopword\")\n",
        "rows = []\n",
        "\n",
        "for t in doc:\n",
        "    row = [t.text, t.lemma_, t.pos_, spacy.explain(t.pos_), t.is_stop]\n",
        "    rows.append(row)\n",
        "\n",
        "df = pd.DataFrame(rows, columns=cols)\n",
        "    \n",
        "df\n",
        "\n"
      ],
      "execution_count": 89,
      "outputs": [
        {
          "output_type": "error",
          "ename": "ValueError",
          "evalue": "ignored",
          "traceback": [
            "\u001b[0;31m---------------------------------------------------------------------------\u001b[0m",
            "\u001b[0;31mAssertionError\u001b[0m                            Traceback (most recent call last)",
            "\u001b[0;32m/usr/local/lib/python3.7/dist-packages/pandas/core/internals/construction.py\u001b[0m in \u001b[0;36m_list_to_arrays\u001b[0;34m(data, columns, coerce_float, dtype)\u001b[0m\n\u001b[1;32m    563\u001b[0m     \u001b[0;32mtry\u001b[0m\u001b[0;34m:\u001b[0m\u001b[0;34m\u001b[0m\u001b[0;34m\u001b[0m\u001b[0m\n\u001b[0;32m--> 564\u001b[0;31m         \u001b[0mcolumns\u001b[0m \u001b[0;34m=\u001b[0m \u001b[0m_validate_or_indexify_columns\u001b[0m\u001b[0;34m(\u001b[0m\u001b[0mcontent\u001b[0m\u001b[0;34m,\u001b[0m \u001b[0mcolumns\u001b[0m\u001b[0;34m)\u001b[0m\u001b[0;34m\u001b[0m\u001b[0;34m\u001b[0m\u001b[0m\n\u001b[0m\u001b[1;32m    565\u001b[0m         \u001b[0mresult\u001b[0m \u001b[0;34m=\u001b[0m \u001b[0m_convert_object_array\u001b[0m\u001b[0;34m(\u001b[0m\u001b[0mcontent\u001b[0m\u001b[0;34m,\u001b[0m \u001b[0mdtype\u001b[0m\u001b[0;34m=\u001b[0m\u001b[0mdtype\u001b[0m\u001b[0;34m,\u001b[0m \u001b[0mcoerce_float\u001b[0m\u001b[0;34m=\u001b[0m\u001b[0mcoerce_float\u001b[0m\u001b[0;34m)\u001b[0m\u001b[0;34m\u001b[0m\u001b[0;34m\u001b[0m\u001b[0m\n",
            "\u001b[0;32m/usr/local/lib/python3.7/dist-packages/pandas/core/internals/construction.py\u001b[0m in \u001b[0;36m_validate_or_indexify_columns\u001b[0;34m(content, columns)\u001b[0m\n\u001b[1;32m    688\u001b[0m             raise AssertionError(\n\u001b[0;32m--> 689\u001b[0;31m                 \u001b[0;34mf\"{len(columns)} columns passed, passed data had \"\u001b[0m\u001b[0;34m\u001b[0m\u001b[0;34m\u001b[0m\u001b[0m\n\u001b[0m\u001b[1;32m    690\u001b[0m                 \u001b[0;34mf\"{len(content)} columns\"\u001b[0m\u001b[0;34m\u001b[0m\u001b[0;34m\u001b[0m\u001b[0m\n",
            "\u001b[0;31mAssertionError\u001b[0m: 5 columns passed, passed data had 6 columns",
            "\nThe above exception was the direct cause of the following exception:\n",
            "\u001b[0;31mValueError\u001b[0m                                Traceback (most recent call last)",
            "\u001b[0;32m<ipython-input-89-f03e02fca244>\u001b[0m in \u001b[0;36m<module>\u001b[0;34m()\u001b[0m\n\u001b[1;32m      8\u001b[0m     \u001b[0mrows\u001b[0m\u001b[0;34m.\u001b[0m\u001b[0mappend\u001b[0m\u001b[0;34m(\u001b[0m\u001b[0mrow\u001b[0m\u001b[0;34m)\u001b[0m\u001b[0;34m\u001b[0m\u001b[0;34m\u001b[0m\u001b[0m\n\u001b[1;32m      9\u001b[0m \u001b[0;34m\u001b[0m\u001b[0m\n\u001b[0;32m---> 10\u001b[0;31m \u001b[0mdf\u001b[0m \u001b[0;34m=\u001b[0m \u001b[0mpd\u001b[0m\u001b[0;34m.\u001b[0m\u001b[0mDataFrame\u001b[0m\u001b[0;34m(\u001b[0m\u001b[0mrows\u001b[0m\u001b[0;34m,\u001b[0m \u001b[0mcolumns\u001b[0m\u001b[0;34m=\u001b[0m\u001b[0mcols\u001b[0m\u001b[0;34m)\u001b[0m\u001b[0;34m\u001b[0m\u001b[0;34m\u001b[0m\u001b[0m\n\u001b[0m\u001b[1;32m     11\u001b[0m \u001b[0;34m\u001b[0m\u001b[0m\n\u001b[1;32m     12\u001b[0m \u001b[0mdf\u001b[0m\u001b[0;34m\u001b[0m\u001b[0;34m\u001b[0m\u001b[0m\n",
            "\u001b[0;32m/usr/local/lib/python3.7/dist-packages/pandas/core/frame.py\u001b[0m in \u001b[0;36m__init__\u001b[0;34m(self, data, index, columns, dtype, copy)\u001b[0m\n\u001b[1;32m    507\u001b[0m                     \u001b[0;32mif\u001b[0m \u001b[0mis_named_tuple\u001b[0m\u001b[0;34m(\u001b[0m\u001b[0mdata\u001b[0m\u001b[0;34m[\u001b[0m\u001b[0;36m0\u001b[0m\u001b[0;34m]\u001b[0m\u001b[0;34m)\u001b[0m \u001b[0;32mand\u001b[0m \u001b[0mcolumns\u001b[0m \u001b[0;32mis\u001b[0m \u001b[0;32mNone\u001b[0m\u001b[0;34m:\u001b[0m\u001b[0;34m\u001b[0m\u001b[0;34m\u001b[0m\u001b[0m\n\u001b[1;32m    508\u001b[0m                         \u001b[0mcolumns\u001b[0m \u001b[0;34m=\u001b[0m \u001b[0mdata\u001b[0m\u001b[0;34m[\u001b[0m\u001b[0;36m0\u001b[0m\u001b[0;34m]\u001b[0m\u001b[0;34m.\u001b[0m\u001b[0m_fields\u001b[0m\u001b[0;34m\u001b[0m\u001b[0;34m\u001b[0m\u001b[0m\n\u001b[0;32m--> 509\u001b[0;31m                     \u001b[0marrays\u001b[0m\u001b[0;34m,\u001b[0m \u001b[0mcolumns\u001b[0m \u001b[0;34m=\u001b[0m \u001b[0mto_arrays\u001b[0m\u001b[0;34m(\u001b[0m\u001b[0mdata\u001b[0m\u001b[0;34m,\u001b[0m \u001b[0mcolumns\u001b[0m\u001b[0;34m,\u001b[0m \u001b[0mdtype\u001b[0m\u001b[0;34m=\u001b[0m\u001b[0mdtype\u001b[0m\u001b[0;34m)\u001b[0m\u001b[0;34m\u001b[0m\u001b[0;34m\u001b[0m\u001b[0m\n\u001b[0m\u001b[1;32m    510\u001b[0m                     \u001b[0mcolumns\u001b[0m \u001b[0;34m=\u001b[0m \u001b[0mensure_index\u001b[0m\u001b[0;34m(\u001b[0m\u001b[0mcolumns\u001b[0m\u001b[0;34m)\u001b[0m\u001b[0;34m\u001b[0m\u001b[0;34m\u001b[0m\u001b[0m\n\u001b[1;32m    511\u001b[0m \u001b[0;34m\u001b[0m\u001b[0m\n",
            "\u001b[0;32m/usr/local/lib/python3.7/dist-packages/pandas/core/internals/construction.py\u001b[0m in \u001b[0;36mto_arrays\u001b[0;34m(data, columns, coerce_float, dtype)\u001b[0m\n\u001b[1;32m    522\u001b[0m         \u001b[0;32mreturn\u001b[0m \u001b[0;34m[\u001b[0m\u001b[0;34m]\u001b[0m\u001b[0;34m,\u001b[0m \u001b[0;34m[\u001b[0m\u001b[0;34m]\u001b[0m  \u001b[0;31m# columns if columns is not None else []\u001b[0m\u001b[0;34m\u001b[0m\u001b[0;34m\u001b[0m\u001b[0m\n\u001b[1;32m    523\u001b[0m     \u001b[0;32mif\u001b[0m \u001b[0misinstance\u001b[0m\u001b[0;34m(\u001b[0m\u001b[0mdata\u001b[0m\u001b[0;34m[\u001b[0m\u001b[0;36m0\u001b[0m\u001b[0;34m]\u001b[0m\u001b[0;34m,\u001b[0m \u001b[0;34m(\u001b[0m\u001b[0mlist\u001b[0m\u001b[0;34m,\u001b[0m \u001b[0mtuple\u001b[0m\u001b[0;34m)\u001b[0m\u001b[0;34m)\u001b[0m\u001b[0;34m:\u001b[0m\u001b[0;34m\u001b[0m\u001b[0;34m\u001b[0m\u001b[0m\n\u001b[0;32m--> 524\u001b[0;31m         \u001b[0;32mreturn\u001b[0m \u001b[0m_list_to_arrays\u001b[0m\u001b[0;34m(\u001b[0m\u001b[0mdata\u001b[0m\u001b[0;34m,\u001b[0m \u001b[0mcolumns\u001b[0m\u001b[0;34m,\u001b[0m \u001b[0mcoerce_float\u001b[0m\u001b[0;34m=\u001b[0m\u001b[0mcoerce_float\u001b[0m\u001b[0;34m,\u001b[0m \u001b[0mdtype\u001b[0m\u001b[0;34m=\u001b[0m\u001b[0mdtype\u001b[0m\u001b[0;34m)\u001b[0m\u001b[0;34m\u001b[0m\u001b[0;34m\u001b[0m\u001b[0m\n\u001b[0m\u001b[1;32m    525\u001b[0m     \u001b[0;32melif\u001b[0m \u001b[0misinstance\u001b[0m\u001b[0;34m(\u001b[0m\u001b[0mdata\u001b[0m\u001b[0;34m[\u001b[0m\u001b[0;36m0\u001b[0m\u001b[0;34m]\u001b[0m\u001b[0;34m,\u001b[0m \u001b[0mabc\u001b[0m\u001b[0;34m.\u001b[0m\u001b[0mMapping\u001b[0m\u001b[0;34m)\u001b[0m\u001b[0;34m:\u001b[0m\u001b[0;34m\u001b[0m\u001b[0;34m\u001b[0m\u001b[0m\n\u001b[1;32m    526\u001b[0m         return _list_of_dict_to_arrays(\n",
            "\u001b[0;32m/usr/local/lib/python3.7/dist-packages/pandas/core/internals/construction.py\u001b[0m in \u001b[0;36m_list_to_arrays\u001b[0;34m(data, columns, coerce_float, dtype)\u001b[0m\n\u001b[1;32m    565\u001b[0m         \u001b[0mresult\u001b[0m \u001b[0;34m=\u001b[0m \u001b[0m_convert_object_array\u001b[0m\u001b[0;34m(\u001b[0m\u001b[0mcontent\u001b[0m\u001b[0;34m,\u001b[0m \u001b[0mdtype\u001b[0m\u001b[0;34m=\u001b[0m\u001b[0mdtype\u001b[0m\u001b[0;34m,\u001b[0m \u001b[0mcoerce_float\u001b[0m\u001b[0;34m=\u001b[0m\u001b[0mcoerce_float\u001b[0m\u001b[0;34m)\u001b[0m\u001b[0;34m\u001b[0m\u001b[0;34m\u001b[0m\u001b[0m\n\u001b[1;32m    566\u001b[0m     \u001b[0;32mexcept\u001b[0m \u001b[0mAssertionError\u001b[0m \u001b[0;32mas\u001b[0m \u001b[0me\u001b[0m\u001b[0;34m:\u001b[0m\u001b[0;34m\u001b[0m\u001b[0;34m\u001b[0m\u001b[0m\n\u001b[0;32m--> 567\u001b[0;31m         \u001b[0;32mraise\u001b[0m \u001b[0mValueError\u001b[0m\u001b[0;34m(\u001b[0m\u001b[0me\u001b[0m\u001b[0;34m)\u001b[0m \u001b[0;32mfrom\u001b[0m \u001b[0me\u001b[0m\u001b[0;34m\u001b[0m\u001b[0;34m\u001b[0m\u001b[0m\n\u001b[0m\u001b[1;32m    568\u001b[0m     \u001b[0;32mreturn\u001b[0m \u001b[0mresult\u001b[0m\u001b[0;34m,\u001b[0m \u001b[0mcolumns\u001b[0m\u001b[0;34m\u001b[0m\u001b[0;34m\u001b[0m\u001b[0m\n\u001b[1;32m    569\u001b[0m \u001b[0;34m\u001b[0m\u001b[0m\n",
            "\u001b[0;31mValueError\u001b[0m: 5 columns passed, passed data had 6 columns"
          ]
        }
      ]
    },
    {
      "cell_type": "markdown",
      "metadata": {
        "id": "8TRZddh9TdOY"
      },
      "source": [
        "### Entiites"
      ]
    },
    {
      "cell_type": "code",
      "metadata": {
        "colab": {
          "base_uri": "https://localhost:8080/",
          "height": 358
        },
        "id": "-aFy9VUS5Pig",
        "outputId": "8b638511-27a6-41a6-956f-3ab66a7807f7"
      },
      "source": [
        "from spacy import displacy\n",
        "\n",
        "test = [{\"text\": doc,\n",
        "       \"ents\": entities,\n",
        "       \"title\": None}]\n",
        "html = displacy.render(test, style=\"ent\", manual=True, jupyter=True)"
      ],
      "execution_count": 85,
      "outputs": [
        {
          "output_type": "error",
          "ename": "AttributeError",
          "evalue": "ignored",
          "traceback": [
            "\u001b[0;31m---------------------------------------------------------------------------\u001b[0m",
            "\u001b[0;31mAttributeError\u001b[0m                            Traceback (most recent call last)",
            "\u001b[0;32m<ipython-input-85-c04f9bd5d612>\u001b[0m in \u001b[0;36m<module>\u001b[0;34m()\u001b[0m\n\u001b[1;32m      4\u001b[0m        \u001b[0;34m\"ents\"\u001b[0m\u001b[0;34m:\u001b[0m \u001b[0mentities\u001b[0m\u001b[0;34m,\u001b[0m\u001b[0;34m\u001b[0m\u001b[0;34m\u001b[0m\u001b[0m\n\u001b[1;32m      5\u001b[0m        \"title\": None}]\n\u001b[0;32m----> 6\u001b[0;31m \u001b[0mhtml\u001b[0m \u001b[0;34m=\u001b[0m \u001b[0mdisplacy\u001b[0m\u001b[0;34m.\u001b[0m\u001b[0mrender\u001b[0m\u001b[0;34m(\u001b[0m\u001b[0mtest\u001b[0m\u001b[0;34m,\u001b[0m \u001b[0mstyle\u001b[0m\u001b[0;34m=\u001b[0m\u001b[0;34m\"ent\"\u001b[0m\u001b[0;34m,\u001b[0m \u001b[0mmanual\u001b[0m\u001b[0;34m=\u001b[0m\u001b[0;32mTrue\u001b[0m\u001b[0;34m,\u001b[0m \u001b[0mjupyter\u001b[0m\u001b[0;34m=\u001b[0m\u001b[0;32mTrue\u001b[0m\u001b[0;34m)\u001b[0m\u001b[0;34m\u001b[0m\u001b[0;34m\u001b[0m\u001b[0m\n\u001b[0m",
            "\u001b[0;32m/usr/local/lib/python3.7/dist-packages/spacy/displacy/__init__.py\u001b[0m in \u001b[0;36mrender\u001b[0;34m(docs, style, page, minify, jupyter, options, manual)\u001b[0m\n\u001b[1;32m     55\u001b[0m     \u001b[0mrenderer\u001b[0m \u001b[0;34m=\u001b[0m \u001b[0mrenderer_func\u001b[0m\u001b[0;34m(\u001b[0m\u001b[0moptions\u001b[0m\u001b[0;34m=\u001b[0m\u001b[0moptions\u001b[0m\u001b[0;34m)\u001b[0m\u001b[0;34m\u001b[0m\u001b[0;34m\u001b[0m\u001b[0m\n\u001b[1;32m     56\u001b[0m     \u001b[0mparsed\u001b[0m \u001b[0;34m=\u001b[0m \u001b[0;34m[\u001b[0m\u001b[0mconverter\u001b[0m\u001b[0;34m(\u001b[0m\u001b[0mdoc\u001b[0m\u001b[0;34m,\u001b[0m \u001b[0moptions\u001b[0m\u001b[0;34m)\u001b[0m \u001b[0;32mfor\u001b[0m \u001b[0mdoc\u001b[0m \u001b[0;32min\u001b[0m \u001b[0mdocs\u001b[0m\u001b[0;34m]\u001b[0m \u001b[0;32mif\u001b[0m \u001b[0;32mnot\u001b[0m \u001b[0mmanual\u001b[0m \u001b[0;32melse\u001b[0m \u001b[0mdocs\u001b[0m\u001b[0;34m\u001b[0m\u001b[0;34m\u001b[0m\u001b[0m\n\u001b[0;32m---> 57\u001b[0;31m     \u001b[0m_html\u001b[0m\u001b[0;34m[\u001b[0m\u001b[0;34m\"parsed\"\u001b[0m\u001b[0;34m]\u001b[0m \u001b[0;34m=\u001b[0m \u001b[0mrenderer\u001b[0m\u001b[0;34m.\u001b[0m\u001b[0mrender\u001b[0m\u001b[0;34m(\u001b[0m\u001b[0mparsed\u001b[0m\u001b[0;34m,\u001b[0m \u001b[0mpage\u001b[0m\u001b[0;34m=\u001b[0m\u001b[0mpage\u001b[0m\u001b[0;34m,\u001b[0m \u001b[0mminify\u001b[0m\u001b[0;34m=\u001b[0m\u001b[0mminify\u001b[0m\u001b[0;34m)\u001b[0m\u001b[0;34m.\u001b[0m\u001b[0mstrip\u001b[0m\u001b[0;34m(\u001b[0m\u001b[0;34m)\u001b[0m\u001b[0;34m\u001b[0m\u001b[0;34m\u001b[0m\u001b[0m\n\u001b[0m\u001b[1;32m     58\u001b[0m     \u001b[0mhtml\u001b[0m \u001b[0;34m=\u001b[0m \u001b[0m_html\u001b[0m\u001b[0;34m[\u001b[0m\u001b[0;34m\"parsed\"\u001b[0m\u001b[0;34m]\u001b[0m\u001b[0;34m\u001b[0m\u001b[0;34m\u001b[0m\u001b[0m\n\u001b[1;32m     59\u001b[0m     \u001b[0;32mif\u001b[0m \u001b[0mRENDER_WRAPPER\u001b[0m \u001b[0;32mis\u001b[0m \u001b[0;32mnot\u001b[0m \u001b[0;32mNone\u001b[0m\u001b[0;34m:\u001b[0m\u001b[0;34m\u001b[0m\u001b[0;34m\u001b[0m\u001b[0m\n",
            "\u001b[0;32m/usr/local/lib/python3.7/dist-packages/spacy/displacy/render.py\u001b[0m in \u001b[0;36mrender\u001b[0;34m(self, parsed, page, minify)\u001b[0m\n\u001b[1;32m    290\u001b[0m                 \u001b[0mself\u001b[0m\u001b[0;34m.\u001b[0m\u001b[0mdirection\u001b[0m \u001b[0;34m=\u001b[0m \u001b[0msettings\u001b[0m\u001b[0;34m.\u001b[0m\u001b[0mget\u001b[0m\u001b[0;34m(\u001b[0m\u001b[0;34m\"direction\"\u001b[0m\u001b[0;34m,\u001b[0m \u001b[0mDEFAULT_DIR\u001b[0m\u001b[0;34m)\u001b[0m\u001b[0;34m\u001b[0m\u001b[0;34m\u001b[0m\u001b[0m\n\u001b[1;32m    291\u001b[0m                 \u001b[0mself\u001b[0m\u001b[0;34m.\u001b[0m\u001b[0mlang\u001b[0m \u001b[0;34m=\u001b[0m \u001b[0msettings\u001b[0m\u001b[0;34m.\u001b[0m\u001b[0mget\u001b[0m\u001b[0;34m(\u001b[0m\u001b[0;34m\"lang\"\u001b[0m\u001b[0;34m,\u001b[0m \u001b[0mDEFAULT_LANG\u001b[0m\u001b[0;34m)\u001b[0m\u001b[0;34m\u001b[0m\u001b[0;34m\u001b[0m\u001b[0m\n\u001b[0;32m--> 292\u001b[0;31m             \u001b[0mrendered\u001b[0m\u001b[0;34m.\u001b[0m\u001b[0mappend\u001b[0m\u001b[0;34m(\u001b[0m\u001b[0mself\u001b[0m\u001b[0;34m.\u001b[0m\u001b[0mrender_ents\u001b[0m\u001b[0;34m(\u001b[0m\u001b[0mp\u001b[0m\u001b[0;34m[\u001b[0m\u001b[0;34m\"text\"\u001b[0m\u001b[0;34m]\u001b[0m\u001b[0;34m,\u001b[0m \u001b[0mp\u001b[0m\u001b[0;34m[\u001b[0m\u001b[0;34m\"ents\"\u001b[0m\u001b[0;34m]\u001b[0m\u001b[0;34m,\u001b[0m \u001b[0mp\u001b[0m\u001b[0;34m.\u001b[0m\u001b[0mget\u001b[0m\u001b[0;34m(\u001b[0m\u001b[0;34m\"title\"\u001b[0m\u001b[0;34m)\u001b[0m\u001b[0;34m)\u001b[0m\u001b[0;34m)\u001b[0m\u001b[0;34m\u001b[0m\u001b[0;34m\u001b[0m\u001b[0m\n\u001b[0m\u001b[1;32m    293\u001b[0m         \u001b[0;32mif\u001b[0m \u001b[0mpage\u001b[0m\u001b[0;34m:\u001b[0m\u001b[0;34m\u001b[0m\u001b[0;34m\u001b[0m\u001b[0m\n\u001b[1;32m    294\u001b[0m             \u001b[0mdocs\u001b[0m \u001b[0;34m=\u001b[0m \u001b[0;34m\"\"\u001b[0m\u001b[0;34m.\u001b[0m\u001b[0mjoin\u001b[0m\u001b[0;34m(\u001b[0m\u001b[0;34m[\u001b[0m\u001b[0mTPL_FIGURE\u001b[0m\u001b[0;34m.\u001b[0m\u001b[0mformat\u001b[0m\u001b[0;34m(\u001b[0m\u001b[0mcontent\u001b[0m\u001b[0;34m=\u001b[0m\u001b[0mdoc\u001b[0m\u001b[0;34m)\u001b[0m \u001b[0;32mfor\u001b[0m \u001b[0mdoc\u001b[0m \u001b[0;32min\u001b[0m \u001b[0mrendered\u001b[0m\u001b[0;34m]\u001b[0m\u001b[0;34m)\u001b[0m\u001b[0;34m\u001b[0m\u001b[0;34m\u001b[0m\u001b[0m\n",
            "\u001b[0;32m/usr/local/lib/python3.7/dist-packages/spacy/displacy/render.py\u001b[0m in \u001b[0;36mrender_ents\u001b[0;34m(self, text, spans, title)\u001b[0m\n\u001b[1;32m    316\u001b[0m             \u001b[0mend\u001b[0m \u001b[0;34m=\u001b[0m \u001b[0mspan\u001b[0m\u001b[0;34m[\u001b[0m\u001b[0;34m\"end\"\u001b[0m\u001b[0;34m]\u001b[0m\u001b[0;34m\u001b[0m\u001b[0;34m\u001b[0m\u001b[0m\n\u001b[1;32m    317\u001b[0m             \u001b[0madditional_params\u001b[0m \u001b[0;34m=\u001b[0m \u001b[0mspan\u001b[0m\u001b[0;34m.\u001b[0m\u001b[0mget\u001b[0m\u001b[0;34m(\u001b[0m\u001b[0;34m\"params\"\u001b[0m\u001b[0;34m,\u001b[0m \u001b[0;34m{\u001b[0m\u001b[0;34m}\u001b[0m\u001b[0;34m)\u001b[0m\u001b[0;34m\u001b[0m\u001b[0;34m\u001b[0m\u001b[0m\n\u001b[0;32m--> 318\u001b[0;31m             \u001b[0mentity\u001b[0m \u001b[0;34m=\u001b[0m \u001b[0mescape_html\u001b[0m\u001b[0;34m(\u001b[0m\u001b[0mtext\u001b[0m\u001b[0;34m[\u001b[0m\u001b[0mstart\u001b[0m\u001b[0;34m:\u001b[0m\u001b[0mend\u001b[0m\u001b[0;34m]\u001b[0m\u001b[0;34m)\u001b[0m\u001b[0;34m\u001b[0m\u001b[0;34m\u001b[0m\u001b[0m\n\u001b[0m\u001b[1;32m    319\u001b[0m             \u001b[0mfragments\u001b[0m \u001b[0;34m=\u001b[0m \u001b[0mtext\u001b[0m\u001b[0;34m[\u001b[0m\u001b[0moffset\u001b[0m\u001b[0;34m:\u001b[0m\u001b[0mstart\u001b[0m\u001b[0;34m]\u001b[0m\u001b[0;34m.\u001b[0m\u001b[0msplit\u001b[0m\u001b[0;34m(\u001b[0m\u001b[0;34m\"\\n\"\u001b[0m\u001b[0;34m)\u001b[0m\u001b[0;34m\u001b[0m\u001b[0;34m\u001b[0m\u001b[0m\n\u001b[1;32m    320\u001b[0m             \u001b[0;32mfor\u001b[0m \u001b[0mi\u001b[0m\u001b[0;34m,\u001b[0m \u001b[0mfragment\u001b[0m \u001b[0;32min\u001b[0m \u001b[0menumerate\u001b[0m\u001b[0;34m(\u001b[0m\u001b[0mfragments\u001b[0m\u001b[0;34m)\u001b[0m\u001b[0;34m:\u001b[0m\u001b[0;34m\u001b[0m\u001b[0;34m\u001b[0m\u001b[0m\n",
            "\u001b[0;32m/usr/local/lib/python3.7/dist-packages/spacy/util.py\u001b[0m in \u001b[0;36mescape_html\u001b[0;34m(text)\u001b[0m\n\u001b[1;32m   1209\u001b[0m     \u001b[0mRETURNS\u001b[0m \u001b[0;34m(\u001b[0m\u001b[0mstr\u001b[0m\u001b[0;34m)\u001b[0m\u001b[0;34m:\u001b[0m \u001b[0mEquivalent\u001b[0m \u001b[0mtext\u001b[0m \u001b[0mto\u001b[0m \u001b[0mbe\u001b[0m \u001b[0msafely\u001b[0m \u001b[0mused\u001b[0m \u001b[0mwithin\u001b[0m \u001b[0mHTML\u001b[0m\u001b[0;34m.\u001b[0m\u001b[0;34m\u001b[0m\u001b[0;34m\u001b[0m\u001b[0m\n\u001b[1;32m   1210\u001b[0m     \"\"\"\n\u001b[0;32m-> 1211\u001b[0;31m     \u001b[0mtext\u001b[0m \u001b[0;34m=\u001b[0m \u001b[0mtext\u001b[0m\u001b[0;34m.\u001b[0m\u001b[0mreplace\u001b[0m\u001b[0;34m(\u001b[0m\u001b[0;34m\"&\"\u001b[0m\u001b[0;34m,\u001b[0m \u001b[0;34m\"&amp;\"\u001b[0m\u001b[0;34m)\u001b[0m\u001b[0;34m\u001b[0m\u001b[0;34m\u001b[0m\u001b[0m\n\u001b[0m\u001b[1;32m   1212\u001b[0m     \u001b[0mtext\u001b[0m \u001b[0;34m=\u001b[0m \u001b[0mtext\u001b[0m\u001b[0;34m.\u001b[0m\u001b[0mreplace\u001b[0m\u001b[0;34m(\u001b[0m\u001b[0;34m\"<\"\u001b[0m\u001b[0;34m,\u001b[0m \u001b[0;34m\"&lt;\"\u001b[0m\u001b[0;34m)\u001b[0m\u001b[0;34m\u001b[0m\u001b[0;34m\u001b[0m\u001b[0m\n\u001b[1;32m   1213\u001b[0m     \u001b[0mtext\u001b[0m \u001b[0;34m=\u001b[0m \u001b[0mtext\u001b[0m\u001b[0;34m.\u001b[0m\u001b[0mreplace\u001b[0m\u001b[0;34m(\u001b[0m\u001b[0;34m\">\"\u001b[0m\u001b[0;34m,\u001b[0m \u001b[0;34m\"&gt;\"\u001b[0m\u001b[0;34m)\u001b[0m\u001b[0;34m\u001b[0m\u001b[0;34m\u001b[0m\u001b[0m\n",
            "\u001b[0;31mAttributeError\u001b[0m: 'spacy.tokens.span.Span' object has no attribute 'replace'"
          ]
        }
      ]
    },
    {
      "cell_type": "code",
      "metadata": {
        "id": "limqxXzTUQm5"
      },
      "source": [
        "for ent in doc.ents:\n",
        "    print(ent.text, ent.label_)"
      ],
      "execution_count": null,
      "outputs": []
    },
    {
      "cell_type": "code",
      "metadata": {
        "id": "ujVdHTvt1F9m"
      },
      "source": [
        "from spacy import displacy\n",
        "\n",
        "displacy.render(doc, style=\"dep\", jupyter=True)"
      ],
      "execution_count": null,
      "outputs": []
    },
    {
      "cell_type": "markdown",
      "metadata": {
        "id": "mrvw09-60wDV"
      },
      "source": [
        "* raw text\n",
        "* lemma – a root form of the word\n",
        "* part of speech\n",
        "* a flag for whether the word is a stopword – i.e., a common word that may be filtered out"
      ]
    },
    {
      "cell_type": "code",
      "metadata": {
        "collapsed": true,
        "id": "o56Hlr6S1TG9",
        "colab": {
          "base_uri": "https://localhost:8080/"
        },
        "outputId": "d43ae544-f6db-4c98-c6fc-e872730d8d38"
      },
      "source": [
        "for sent in doc.sents:\n",
        "    print(\">\", sent)"
      ],
      "execution_count": null,
      "outputs": [
        {
          "output_type": "stream",
          "text": [
            "> Kontaktorsak:\n",
            "> Dyspné\n",
            "> \n",
            "\n",
            "> Tidigare sjukdomar:\n",
            "> Insulin och tablettbehandlad DM2.\n",
            "> Tablettbehandlad hypertoni.\n",
            "> Höga blodfetter.\n",
            "> \n",
            "\n",
            "> Socialt:\n",
            "> Ensamboende, hemtjänst * 1.\n",
            "\n",
            "> Aktuellt:\n",
            "> Insjuknat för tre dagar sedan med andnöd vid gång.\n",
            "> Tillkomst av hosta under gårdagen.\n",
            "> Ej noterat feber, men ej eller mätt tempen.\n",
            "> Idag nedsatt AT, svårt att gå.\n",
            "> Tagit sina mediciner som vanligt.\n",
            "> Sökt VC som hänvisat hit pga destruering.\n",
            "> Inte haft några utslag.\n",
            "> Ej kontakt med någon annan som varit sjuk.\n",
            "> Ej varit ute och rest.\n",
            "> Ingen smärta vid miktion, buksmärta eller ÖNH symptom.\n",
            "> Idag sämre, kan ej mobilisera sig i hemmet.\n",
            "> Inkommer på remiss.\n",
            "> Inga kräkningar eller GI symptom.\n",
            "> \n",
            "\n",
            "> Status:\n",
            "> \n",
            "\n",
            "> AT:\n",
            "> Gott, opåverkad i vila, ingen samtalsdyspné.\n",
            "> \n",
            "\n",
            "> Cor:\n",
            "> Normofrekvent regelbunden rytm, inga hörbara bi eller blåsljud.\n",
            "\n",
            "> Pulm:\n",
            "> I stort vesikulära antingsljud bilat, dämpat basalt höger.\n",
            "> Inget förlängt expirium.\n",
            "> \n",
            "\n",
            "> Buk:\n",
            "> Överallt muk och oöm.\n",
            "> Ingen lokal peritonit.\n",
            "> \n",
            "\n",
            "> Lokalstatus:\n",
            "> Underben smala och gracila, inga pittingödem.\n",
            "> \n",
            "\n",
            "> BT: 117/80\n",
            "\n",
            "> Sat: 92% på 2l O2\n",
            "AF: 28\n",
            "\n",
            "> Temp: 38.8\n",
            "\n",
            "> Lab:\n",
            "> Blodgas utan respiratorisk acidos, Ph 7,4, CRP 118, diskret förhöjt BE.\n",
            "> Normalt laktat\n",
            "> \n",
            "\n",
            "> Tobak:\n",
            "> Ej känt\n",
            "> \n",
            "\n",
            "> EKG:\n",
            "> Sinusrym med kammarfrekvens 98, inga urakuta ischemiska tecken.\n",
            "\n",
            "\n",
            "> Bedömning:\n",
            "> I första hand misstanke om penumoni eller COVID-19, inlägges infektionsavdelning.\n",
            "> Provtages SARS-CoV2 insättes cefotaxim.\n",
            "> Genomodlas.\n",
            "> Nya prover imorgon, CRP, LPK.\n",
            "> Röntgen puls från avdelningen.\n",
            "> Syrgaskrävande, 2l.\n",
            "> Ej septisk.\n",
            "> \n",
            "\n",
            "\n",
            "> Diagnos:\n",
            "> Pneumoni, ospecificerad\n",
            "\n"
          ],
          "name": "stdout"
        }
      ]
    },
    {
      "cell_type": "code",
      "metadata": {
        "id": "lg9Q7Z-02B9C",
        "colab": {
          "base_uri": "https://localhost:8080/"
        },
        "outputId": "906973b7-bcd8-4fa8-8bda-fed2dd871c1f"
      },
      "source": [
        "for chunk in doc.noun_chunks:\n",
        "    print(chunk.text)"
      ],
      "execution_count": null,
      "outputs": [
        {
          "output_type": "stream",
          "text": [
            "Kontaktorsak:\n",
            "Dyspné\n",
            "Tidigare sjukdomar:\n",
            "Tablettbehandlad hypertoni.\n",
            "Höga blodfetter.\n",
            ", hemtjänst\n",
            "Aktuellt:\n",
            "Tillkomst av hosta under gårdagen.\n",
            "feber, men ej eller mätt tempen\n",
            "Idag nedsatt AT, svårt att gå.\n",
            "sina\n",
            "VC som hänvisat hit pga destruering\n",
            "några utslag\n",
            "Ej kontakt med någon annan som varit sjuk.\n",
            "och rest\n",
            "Ingen smärta vid miktion, buksmärta eller ÖNH symptom.\n",
            "sig\n",
            "Inga kräkningar eller GI symptom.\n",
            "Status:\n",
            "AT:\n",
            "Cor:\n",
            "Normofrekvent regelbunden rytm, inga hörbara bi eller blåsljud.\n",
            "\n",
            "Pulm:\n",
            "I stort vesikulära antingsljud bilat, dämpat basalt höger.\n",
            "Inget förlängt expirium.\n",
            "Buk:\n",
            "Överallt muk och oöm.\n",
            "Ingen lokal peritonit.\n",
            "Lokalstatus:\n",
            "Underben\n",
            ", inga pittingödem\n",
            "BT: 117/80\n",
            "\n",
            "Sat: 92% på 2l O2\n",
            "AF: 28\n",
            "\n",
            "Temp: 38.8\n",
            "\n",
            "Lab:\n",
            "Blodgas utan respiratorisk acidos, Ph 7,4, CRP 118, diskret förhöjt BE.\n",
            "Normalt laktat\n",
            "Tobak:\n",
            "EKG:\n",
            "Sinusrym med kammarfrekvens 98, inga urakuta ischemiska tecken.\n",
            "\n",
            "\n",
            "Bedömning:\n",
            "I första hand misstanke om penumoni eller COVID-19, inlägges infektionsavdelning.\n",
            "cefotaxim\n",
            "Nya prover imorgon, CRP, LPK.\n",
            "Röntgen puls från avdelningen.\n",
            "Ej septisk.\n",
            "Diagnos:\n",
            "Pneumoni, ospecificerad\n",
            "\n"
          ],
          "name": "stdout"
        }
      ]
    },
    {
      "cell_type": "code",
      "metadata": {
        "colab": {
          "base_uri": "https://localhost:8080/",
          "height": 881
        },
        "id": "ppPe5Dv32P7J",
        "outputId": "f39082c4-29dc-46d3-9b68-88d35760f73c"
      },
      "source": [
        "displacy.render(doc, style=\"ent\", jupyter=True)"
      ],
      "execution_count": null,
      "outputs": [
        {
          "output_type": "display_data",
          "data": {
            "text/html": [
              "<span class=\"tex2jax_ignore\"><div class=\"entities\" style=\"line-height: 2.5; direction: ltr\">Kontaktorsak: Dyspné</br>\n",
              "<mark class=\"entity\" style=\"background: #ddd; padding: 0.45em 0.6em; margin: 0 0.25em; line-height: 1; border-radius: 0.35em;\">\n",
              "    Tidigare\n",
              "    <span style=\"font-size: 0.8em; font-weight: bold; line-height: 1; border-radius: 0.35em; vertical-align: middle; margin-left: 0.5rem\">TME</span>\n",
              "</mark>\n",
              " sjukdomar: Insulin och tablettbehandlad DM2. Tablettbehandlad hypertoni. Höga blodfetter.</br>Socialt: Ensamboende, hemtjänst * 1.</br>Aktuellt: Insjuknat \n",
              "<mark class=\"entity\" style=\"background: #ddd; padding: 0.45em 0.6em; margin: 0 0.25em; line-height: 1; border-radius: 0.35em;\">\n",
              "    för tre dagar sedan\n",
              "    <span style=\"font-size: 0.8em; font-weight: bold; line-height: 1; border-radius: 0.35em; vertical-align: middle; margin-left: 0.5rem\">TME</span>\n",
              "</mark>\n",
              " med andnöd vid gång. Tillkomst av hosta \n",
              "<mark class=\"entity\" style=\"background: #ddd; padding: 0.45em 0.6em; margin: 0 0.25em; line-height: 1; border-radius: 0.35em;\">\n",
              "    under gårdagen\n",
              "    <span style=\"font-size: 0.8em; font-weight: bold; line-height: 1; border-radius: 0.35em; vertical-align: middle; margin-left: 0.5rem\">TME</span>\n",
              "</mark>\n",
              ". Ej noterat feber, men ej eller mätt tempen. \n",
              "<mark class=\"entity\" style=\"background: #ddd; padding: 0.45em 0.6em; margin: 0 0.25em; line-height: 1; border-radius: 0.35em;\">\n",
              "    Idag\n",
              "    <span style=\"font-size: 0.8em; font-weight: bold; line-height: 1; border-radius: 0.35em; vertical-align: middle; margin-left: 0.5rem\">TME</span>\n",
              "</mark>\n",
              " nedsatt AT, svårt att gå. Tagit sina mediciner som vanligt. Sökt VC som hänvisat hit pga destruering. Inte haft några utslag. Ej kontakt med någon annan som varit sjuk. Ej varit ute och rest. Ingen smärta vid miktion, buksmärta eller ÖNH symptom. \n",
              "<mark class=\"entity\" style=\"background: #ddd; padding: 0.45em 0.6em; margin: 0 0.25em; line-height: 1; border-radius: 0.35em;\">\n",
              "    Idag\n",
              "    <span style=\"font-size: 0.8em; font-weight: bold; line-height: 1; border-radius: 0.35em; vertical-align: middle; margin-left: 0.5rem\">TME</span>\n",
              "</mark>\n",
              " sämre, kan ej mobilisera sig i hemmet. Inkommer på remiss. Inga kräkningar eller GI symptom.</br>Status: </br>AT: Gott, opåverkad i vila, ingen samtalsdyspné.</br>Cor: Normofrekvent regelbunden rytm, inga hörbara bi eller blåsljud.</br>Pulm: I stort vesikulära antingsljud bilat, dämpat basalt höger. Inget förlängt expirium.</br>Buk: Överallt muk och oöm. Ingen lokal peritonit.</br>Lokalstatus: Underben smala och gracila, inga pittingödem.</br>BT: 117/80</br>Sat: \n",
              "<mark class=\"entity\" style=\"background: #ddd; padding: 0.45em 0.6em; margin: 0 0.25em; line-height: 1; border-radius: 0.35em;\">\n",
              "    92%\n",
              "    <span style=\"font-size: 0.8em; font-weight: bold; line-height: 1; border-radius: 0.35em; vertical-align: middle; margin-left: 0.5rem\">MSR</span>\n",
              "</mark>\n",
              " på 2l O2</br>AF: 28</br>Temp: 38.8</br>Lab: Blodgas utan respiratorisk acidos, Ph 7,4, CRP 118, diskret förhöjt BE. Normalt laktat</br>Tobak: Ej känt</br>EKG: Sinusrym med kammarfrekvens 98, inga urakuta ischemiska tecken.</br></br>Bedömning: I första hand misstanke om penumoni eller COVID-19, inlägges infektionsavdelning. Provtages SARS-CoV2 insättes cefotaxim. Genomodlas. Nya prover \n",
              "<mark class=\"entity\" style=\"background: #ddd; padding: 0.45em 0.6em; margin: 0 0.25em; line-height: 1; border-radius: 0.35em;\">\n",
              "    imorgon\n",
              "    <span style=\"font-size: 0.8em; font-weight: bold; line-height: 1; border-radius: 0.35em; vertical-align: middle; margin-left: 0.5rem\">TME</span>\n",
              "</mark>\n",
              ", CRP, LPK. Röntgen puls från avdelningen. Syrgaskrävande, 2l. Ej septisk.</br></br>Diagnos: Pneumoni, ospecificerad</br></div></span>"
            ],
            "text/plain": [
              "<IPython.core.display.HTML object>"
            ]
          },
          "metadata": {
            "tags": []
          }
        }
      ]
    }
  ]
}