{
  "nbformat": 4,
  "nbformat_minor": 0,
  "metadata": {
    "colab": {
      "name": "phrasematcher_v1.ipynb",
      "provenance": [],
      "toc_visible": true
    },
    "kernelspec": {
      "display_name": "Python 3",
      "name": "python3"
    },
    "language_info": {
      "name": "python"
    },
    "metadata": {
      "interpreter": {
        "hash": "d91c48f48189c56664de038e34a1f930f7a4a539cbe8f04b9f1e81ab0844a6c3"
      }
    },
    "orig_nbformat": 2
  },
  "cells": [
    {
      "cell_type": "markdown",
      "metadata": {
        "id": "-v8tIGSJKNHP"
      },
      "source": [
        "# SETUP ENVIRONMENT"
      ]
    },
    {
      "cell_type": "code",
      "metadata": {
        "colab": {
          "base_uri": "https://localhost:8080/"
        },
        "id": "r2Et63n-mVcR",
        "outputId": "5f285343-c3e0-4fef-8e6b-2ca97b332479"
      },
      "source": [
        "# mnt drive \n",
        "from google.colab import drive\n",
        "drive.mount('/content/drive')\n",
        "\n",
        "\n",
        "# Access token from drive without exposing in text (accsessible in logfiles lol. Better than nothing)\n",
        "import os\n",
        "import subprocess\n",
        "\n",
        "token = open(\"/content/drive/MyDrive/token/colab.txt\", \"r\").read()\n",
        "tkn = token.split(\"=\")\n",
        "\n",
        "repo_name = \"callebalik/clinical_NLP_SE.git\"\n",
        "cmd_string = 'git clone https://{0}@github.com/{1}'.format(tkn[1], repo_name)\n",
        "\n",
        "!{cmd_string}\n",
        "cmd_string = \"\" # removing the variable\n",
        "print(cmd_string)"
      ],
      "execution_count": 23,
      "outputs": [
        {
          "output_type": "stream",
          "text": [
            "Drive already mounted at /content/drive; to attempt to forcibly remount, call drive.mount(\"/content/drive\", force_remount=True).\n",
            "fatal: destination path 'clinical_NLP_SE' already exists and is not an empty directory.\n",
            "\n"
          ],
          "name": "stdout"
        }
      ]
    },
    {
      "cell_type": "code",
      "metadata": {
        "id": "d3gnBRnNOsg6"
      },
      "source": [
        "# Set paths for the environment \n",
        "import os \n",
        "from pathlib import Path\n",
        "\n",
        "drive_path = Path('/content/drive/MyDrive/bioNLP/')\n",
        "code_path = Path('/content/clinical_NLP_SE/')\n",
        "# sys.path.append(str(code_path)) # Let pyhton find scripts from the repo\n",
        "models_path = Path('/content/drive/My Drive/bioNLP/models/')\n",
        "data_path = code_path / 'data/'\n",
        "corpus_path = data_path / 'corpus'"
      ],
      "execution_count": 25,
      "outputs": []
    },
    {
      "cell_type": "code",
      "metadata": {
        "id": "We3MQcmkDsm4"
      },
      "source": [
        "#drive.flush_and_unmount()\n",
        "#print('All changes made in this colab session should now be visible in Drive.')"
      ],
      "execution_count": null,
      "outputs": []
    },
    {
      "cell_type": "code",
      "metadata": {
        "id": "RZvaDg0-uz9B"
      },
      "source": [
        "%load_ext autoreload\n",
        "%autoreload 2"
      ],
      "execution_count": null,
      "outputs": []
    },
    {
      "cell_type": "markdown",
      "metadata": {
        "id": "S1p1i1iHKd3R"
      },
      "source": [
        "# GET DATA AND MODELS"
      ]
    },
    {
      "cell_type": "markdown",
      "metadata": {
        "id": "Tsf5vHeSJ5Tg"
      },
      "source": [
        "## Gettings the Swedish models \n",
        "\n",
        "https://data.kb.se/datasets/2020/10/swedish_nlp/spacy/\n",
        "\n",
        "https://github.com/Kungbib/swedish-spacy\n",
        "\n",
        "The models can be downloaded with the commands below. For colab this is slow and they are instead mounted from a google drive where they have been downloaded\n",
        "\n"
      ]
    },
    {
      "cell_type": "code",
      "metadata": {
        "id": "HKfI3y19GVvZ"
      },
      "source": [
        "# Get models from Kungbib https://github.com/Kungbib/swedish-spacy\n",
        "#!wget https://data.kb.se/datasets/2020/10/swedish_nlp/spacy/sv_tagger-0.0.0.tar.gz\n",
        "\n",
        "# Older models\n",
        "#!wget https://data.kb.se/datasets/2020/10/swedish_nlp/spacy/sv_model_upos.zip\n",
        "#!wget https://data.kb.se/datasets/2020/10/swedish_nlp/spacy/sv_model_xpos.zip"
      ],
      "execution_count": null,
      "outputs": []
    },
    {
      "cell_type": "code",
      "metadata": {
        "id": "ALJypSdZJ3d8"
      },
      "source": [
        "# N.B. Make sure to install the spacy-transformers extension, or the models won't work.\n",
        "!pip install spacy-transformers\n",
        "!pip install \"/content/drive/My Drive/bioNLP/models/sv_pipeline-0.0.0.tar.gz\"\n",
        "import spacy\n"
      ],
      "execution_count": null,
      "outputs": []
    },
    {
      "cell_type": "markdown",
      "metadata": {
        "id": "oWPMEmhlrWDs"
      },
      "source": [
        "### Note from Kungbib\n",
        "\n",
        "** UPDATE February 2021 **: We are adding two transformer-based models trained in spaCy 3.0. They are available to download at the same link given below.\n",
        "One model is a complete pipeline with UPOS tagger, parser, sentencer, ner and lemmatizer (sv_pipeline-0.0.0.tar.gz). Unfortunately the lemmatizer is not yet trainable in spaCy, so the performance is as good as the quality of the rules/lookup tables available for Swedish (i.e. not very good). \n",
        "\n",
        "If you need a Swedish lemmatizer we advise you for the moment to have a look at Stanza, efselab or lemmy.ww\n",
        "\n",
        "---\n",
        "\n",
        "\n",
        "The other model is a XPOS tagger in case you need language-specific part-of-speech tags (sv_tagger-0.0.0.tar.gz)."
      ]
    },
    {
      "cell_type": "markdown",
      "metadata": {
        "id": "gfzk7npYsSMQ"
      },
      "source": [
        "# Analyzing"
      ]
    },
    {
      "cell_type": "code",
      "metadata": {
        "id": "X7holuFoRIcW",
        "outputId": "c6bed84b-69b0-4d23-c562-cc8dba9c70fe",
        "colab": {
          "base_uri": "https://localhost:8080/",
          "height": 111
        }
      },
      "source": [
        "import pandas as pd\n",
        "from io import StringIO\n",
        "\n",
        "txt = \"\"\"HEADING1\n",
        "value 1\n",
        "\n",
        "HEADING2\n",
        "value 2\n",
        "\n",
        "HEADING1\n",
        "value 11\n",
        "\n",
        "HEADING2\n",
        "value 12\"\"\"\n",
        "\n",
        "cols, vals = zip(*[line.split('\\n') for line in StringIO(txt).read().split('\\n\\n')])\n",
        "\n",
        "s = pd.Series(vals, cols)\n",
        "s.index = [s.groupby(level=0).cumcount(), s.index]\n",
        "\n",
        "s.unstack()"
      ],
      "execution_count": 42,
      "outputs": [
        {
          "output_type": "execute_result",
          "data": {
            "text/html": [
              "<div>\n",
              "<style scoped>\n",
              "    .dataframe tbody tr th:only-of-type {\n",
              "        vertical-align: middle;\n",
              "    }\n",
              "\n",
              "    .dataframe tbody tr th {\n",
              "        vertical-align: top;\n",
              "    }\n",
              "\n",
              "    .dataframe thead th {\n",
              "        text-align: right;\n",
              "    }\n",
              "</style>\n",
              "<table border=\"1\" class=\"dataframe\">\n",
              "  <thead>\n",
              "    <tr style=\"text-align: right;\">\n",
              "      <th></th>\n",
              "      <th>HEADING1</th>\n",
              "      <th>HEADING2</th>\n",
              "    </tr>\n",
              "  </thead>\n",
              "  <tbody>\n",
              "    <tr>\n",
              "      <th>0</th>\n",
              "      <td>value 1</td>\n",
              "      <td>value 2</td>\n",
              "    </tr>\n",
              "    <tr>\n",
              "      <th>1</th>\n",
              "      <td>value 11</td>\n",
              "      <td>value 12</td>\n",
              "    </tr>\n",
              "  </tbody>\n",
              "</table>\n",
              "</div>"
            ],
            "text/plain": [
              "   HEADING1  HEADING2\n",
              "0   value 1   value 2\n",
              "1  value 11  value 12"
            ]
          },
          "metadata": {
            "tags": []
          },
          "execution_count": 42
        }
      ]
    },
    {
      "cell_type": "code",
      "metadata": {
        "id": "XAS8t9Z3QUly",
        "outputId": "df70c25c-432e-4a01-e8e5-d757fe3c7394",
        "colab": {
          "base_uri": "https://localhost:8080/",
          "height": 527
        }
      },
      "source": [
        "import pandas as pd \n",
        "\n",
        "file = open(data_path / 'raw/negations/negEx.txt')\n",
        "data = pd.read_csv(file, sep=\" \", header=None)\n",
        "# data.columns = [\"a\", \"b\", \"c\", \"etc.\"]"
      ],
      "execution_count": 40,
      "outputs": [
        {
          "output_type": "error",
          "ename": "ParserError",
          "evalue": "ignored",
          "traceback": [
            "\u001b[0;31m---------------------------------------------------------------------------\u001b[0m",
            "\u001b[0;31mParserError\u001b[0m                               Traceback (most recent call last)",
            "\u001b[0;32m<ipython-input-40-0f45b3716df7>\u001b[0m in \u001b[0;36m<module>\u001b[0;34m()\u001b[0m\n\u001b[1;32m      2\u001b[0m \u001b[0;34m\u001b[0m\u001b[0m\n\u001b[1;32m      3\u001b[0m \u001b[0mfile\u001b[0m \u001b[0;34m=\u001b[0m \u001b[0mopen\u001b[0m\u001b[0;34m(\u001b[0m\u001b[0mdata_path\u001b[0m \u001b[0;34m/\u001b[0m \u001b[0;34m'raw/negations/negEx.txt'\u001b[0m\u001b[0;34m)\u001b[0m\u001b[0;34m\u001b[0m\u001b[0;34m\u001b[0m\u001b[0m\n\u001b[0;32m----> 4\u001b[0;31m \u001b[0mdata\u001b[0m \u001b[0;34m=\u001b[0m \u001b[0mpd\u001b[0m\u001b[0;34m.\u001b[0m\u001b[0mread_csv\u001b[0m\u001b[0;34m(\u001b[0m\u001b[0mfile\u001b[0m\u001b[0;34m,\u001b[0m \u001b[0msep\u001b[0m\u001b[0;34m=\u001b[0m\u001b[0;34m\" \"\u001b[0m\u001b[0;34m,\u001b[0m \u001b[0mheader\u001b[0m\u001b[0;34m=\u001b[0m\u001b[0;32mNone\u001b[0m\u001b[0;34m)\u001b[0m\u001b[0;34m\u001b[0m\u001b[0;34m\u001b[0m\u001b[0m\n\u001b[0m\u001b[1;32m      5\u001b[0m \u001b[0;31m# data.columns = [\"a\", \"b\", \"c\", \"etc.\"]\u001b[0m\u001b[0;34m\u001b[0m\u001b[0;34m\u001b[0m\u001b[0;34m\u001b[0m\u001b[0m\n",
            "\u001b[0;32m/usr/local/lib/python3.7/dist-packages/pandas/io/parsers.py\u001b[0m in \u001b[0;36mread_csv\u001b[0;34m(filepath_or_buffer, sep, delimiter, header, names, index_col, usecols, squeeze, prefix, mangle_dupe_cols, dtype, engine, converters, true_values, false_values, skipinitialspace, skiprows, skipfooter, nrows, na_values, keep_default_na, na_filter, verbose, skip_blank_lines, parse_dates, infer_datetime_format, keep_date_col, date_parser, dayfirst, cache_dates, iterator, chunksize, compression, thousands, decimal, lineterminator, quotechar, quoting, doublequote, escapechar, comment, encoding, dialect, error_bad_lines, warn_bad_lines, delim_whitespace, low_memory, memory_map, float_precision)\u001b[0m\n\u001b[1;32m    686\u001b[0m     )\n\u001b[1;32m    687\u001b[0m \u001b[0;34m\u001b[0m\u001b[0m\n\u001b[0;32m--> 688\u001b[0;31m     \u001b[0;32mreturn\u001b[0m \u001b[0m_read\u001b[0m\u001b[0;34m(\u001b[0m\u001b[0mfilepath_or_buffer\u001b[0m\u001b[0;34m,\u001b[0m \u001b[0mkwds\u001b[0m\u001b[0;34m)\u001b[0m\u001b[0;34m\u001b[0m\u001b[0;34m\u001b[0m\u001b[0m\n\u001b[0m\u001b[1;32m    689\u001b[0m \u001b[0;34m\u001b[0m\u001b[0m\n\u001b[1;32m    690\u001b[0m \u001b[0;34m\u001b[0m\u001b[0m\n",
            "\u001b[0;32m/usr/local/lib/python3.7/dist-packages/pandas/io/parsers.py\u001b[0m in \u001b[0;36m_read\u001b[0;34m(filepath_or_buffer, kwds)\u001b[0m\n\u001b[1;32m    458\u001b[0m \u001b[0;34m\u001b[0m\u001b[0m\n\u001b[1;32m    459\u001b[0m     \u001b[0;32mtry\u001b[0m\u001b[0;34m:\u001b[0m\u001b[0;34m\u001b[0m\u001b[0;34m\u001b[0m\u001b[0m\n\u001b[0;32m--> 460\u001b[0;31m         \u001b[0mdata\u001b[0m \u001b[0;34m=\u001b[0m \u001b[0mparser\u001b[0m\u001b[0;34m.\u001b[0m\u001b[0mread\u001b[0m\u001b[0;34m(\u001b[0m\u001b[0mnrows\u001b[0m\u001b[0;34m)\u001b[0m\u001b[0;34m\u001b[0m\u001b[0;34m\u001b[0m\u001b[0m\n\u001b[0m\u001b[1;32m    461\u001b[0m     \u001b[0;32mfinally\u001b[0m\u001b[0;34m:\u001b[0m\u001b[0;34m\u001b[0m\u001b[0;34m\u001b[0m\u001b[0m\n\u001b[1;32m    462\u001b[0m         \u001b[0mparser\u001b[0m\u001b[0;34m.\u001b[0m\u001b[0mclose\u001b[0m\u001b[0;34m(\u001b[0m\u001b[0;34m)\u001b[0m\u001b[0;34m\u001b[0m\u001b[0;34m\u001b[0m\u001b[0m\n",
            "\u001b[0;32m/usr/local/lib/python3.7/dist-packages/pandas/io/parsers.py\u001b[0m in \u001b[0;36mread\u001b[0;34m(self, nrows)\u001b[0m\n\u001b[1;32m   1196\u001b[0m     \u001b[0;32mdef\u001b[0m \u001b[0mread\u001b[0m\u001b[0;34m(\u001b[0m\u001b[0mself\u001b[0m\u001b[0;34m,\u001b[0m \u001b[0mnrows\u001b[0m\u001b[0;34m=\u001b[0m\u001b[0;32mNone\u001b[0m\u001b[0;34m)\u001b[0m\u001b[0;34m:\u001b[0m\u001b[0;34m\u001b[0m\u001b[0;34m\u001b[0m\u001b[0m\n\u001b[1;32m   1197\u001b[0m         \u001b[0mnrows\u001b[0m \u001b[0;34m=\u001b[0m \u001b[0m_validate_integer\u001b[0m\u001b[0;34m(\u001b[0m\u001b[0;34m\"nrows\"\u001b[0m\u001b[0;34m,\u001b[0m \u001b[0mnrows\u001b[0m\u001b[0;34m)\u001b[0m\u001b[0;34m\u001b[0m\u001b[0;34m\u001b[0m\u001b[0m\n\u001b[0;32m-> 1198\u001b[0;31m         \u001b[0mret\u001b[0m \u001b[0;34m=\u001b[0m \u001b[0mself\u001b[0m\u001b[0;34m.\u001b[0m\u001b[0m_engine\u001b[0m\u001b[0;34m.\u001b[0m\u001b[0mread\u001b[0m\u001b[0;34m(\u001b[0m\u001b[0mnrows\u001b[0m\u001b[0;34m)\u001b[0m\u001b[0;34m\u001b[0m\u001b[0;34m\u001b[0m\u001b[0m\n\u001b[0m\u001b[1;32m   1199\u001b[0m \u001b[0;34m\u001b[0m\u001b[0m\n\u001b[1;32m   1200\u001b[0m         \u001b[0;31m# May alter columns / col_dict\u001b[0m\u001b[0;34m\u001b[0m\u001b[0;34m\u001b[0m\u001b[0;34m\u001b[0m\u001b[0m\n",
            "\u001b[0;32m/usr/local/lib/python3.7/dist-packages/pandas/io/parsers.py\u001b[0m in \u001b[0;36mread\u001b[0;34m(self, nrows)\u001b[0m\n\u001b[1;32m   2155\u001b[0m     \u001b[0;32mdef\u001b[0m \u001b[0mread\u001b[0m\u001b[0;34m(\u001b[0m\u001b[0mself\u001b[0m\u001b[0;34m,\u001b[0m \u001b[0mnrows\u001b[0m\u001b[0;34m=\u001b[0m\u001b[0;32mNone\u001b[0m\u001b[0;34m)\u001b[0m\u001b[0;34m:\u001b[0m\u001b[0;34m\u001b[0m\u001b[0;34m\u001b[0m\u001b[0m\n\u001b[1;32m   2156\u001b[0m         \u001b[0;32mtry\u001b[0m\u001b[0;34m:\u001b[0m\u001b[0;34m\u001b[0m\u001b[0;34m\u001b[0m\u001b[0m\n\u001b[0;32m-> 2157\u001b[0;31m             \u001b[0mdata\u001b[0m \u001b[0;34m=\u001b[0m \u001b[0mself\u001b[0m\u001b[0;34m.\u001b[0m\u001b[0m_reader\u001b[0m\u001b[0;34m.\u001b[0m\u001b[0mread\u001b[0m\u001b[0;34m(\u001b[0m\u001b[0mnrows\u001b[0m\u001b[0;34m)\u001b[0m\u001b[0;34m\u001b[0m\u001b[0;34m\u001b[0m\u001b[0m\n\u001b[0m\u001b[1;32m   2158\u001b[0m         \u001b[0;32mexcept\u001b[0m \u001b[0mStopIteration\u001b[0m\u001b[0;34m:\u001b[0m\u001b[0;34m\u001b[0m\u001b[0;34m\u001b[0m\u001b[0m\n\u001b[1;32m   2159\u001b[0m             \u001b[0;32mif\u001b[0m \u001b[0mself\u001b[0m\u001b[0;34m.\u001b[0m\u001b[0m_first_chunk\u001b[0m\u001b[0;34m:\u001b[0m\u001b[0;34m\u001b[0m\u001b[0;34m\u001b[0m\u001b[0m\n",
            "\u001b[0;32mpandas/_libs/parsers.pyx\u001b[0m in \u001b[0;36mpandas._libs.parsers.TextReader.read\u001b[0;34m()\u001b[0m\n",
            "\u001b[0;32mpandas/_libs/parsers.pyx\u001b[0m in \u001b[0;36mpandas._libs.parsers.TextReader._read_low_memory\u001b[0;34m()\u001b[0m\n",
            "\u001b[0;32mpandas/_libs/parsers.pyx\u001b[0m in \u001b[0;36mpandas._libs.parsers.TextReader._read_rows\u001b[0;34m()\u001b[0m\n",
            "\u001b[0;32mpandas/_libs/parsers.pyx\u001b[0m in \u001b[0;36mpandas._libs.parsers.TextReader._tokenize_rows\u001b[0;34m()\u001b[0m\n",
            "\u001b[0;32mpandas/_libs/parsers.pyx\u001b[0m in \u001b[0;36mpandas._libs.parsers.raise_parser_error\u001b[0;34m()\u001b[0m\n",
            "\u001b[0;31mParserError\u001b[0m: Error tokenizing data. C error: Expected 1 fields in line 4, saw 2\n"
          ]
        }
      ]
    },
    {
      "cell_type": "code",
      "metadata": {
        "colab": {
          "base_uri": "https://localhost:8080/"
        },
        "id": "Ie3y0lSVsXoY",
        "collapsed": true,
        "outputId": "4406703e-7500-4f08-b5fd-d92d3360a13e"
      },
      "source": [
        "import spacy \n",
        "nlp = spacy.load(\"sv_pipeline\")"
      ],
      "execution_count": null,
      "outputs": [
        {
          "output_type": "stream",
          "text": [
            "Jag             PRON            nsubj          \n",
            "gillar          VERB            ROOT           \n",
            "London          PROPN           obj            \n",
            "och             CCONJ           cc             \n",
            "Berlin          PROPN           conj           \n",
            ".               PUNCT           punct          \n",
            "London LOC\n",
            "Berlin LOC\n"
          ],
          "name": "stdout"
        }
      ]
    },
    {
      "cell_type": "code",
      "metadata": {
        "id": "fHkeeRVpPu4C",
        "outputId": "8c6255e4-35a4-491b-f1a9-4fc5716261e1",
        "colab": {
          "base_uri": "https://localhost:8080/",
          "height": 1000
        }
      },
      "source": [
        "import pandas as pd\n",
        "import re \n",
        "\n",
        "neg_terms = {}\n",
        "with open(data_path / 'raw/negations/negEx.txt','r') as negations:\n",
        "    for line in negations:\n",
        "        x = line.split(\"\\t\")\n",
        "        key = x[0] \n",
        "        value = x[1].strip()\n",
        "        neg_terms[key] = value\n",
        "    \n",
        "df = pd.DataFrame.from_dict(neg_terms, orient=\"index\")\n",
        "df.columns()\n",
        "df.sort_index()\n",
        "\n"
      ],
      "execution_count": 90,
      "outputs": [
        {
          "output_type": "execute_result",
          "data": {
            "text/html": [
              "<div>\n",
              "<style scoped>\n",
              "    .dataframe tbody tr th:only-of-type {\n",
              "        vertical-align: middle;\n",
              "    }\n",
              "\n",
              "    .dataframe tbody tr th {\n",
              "        vertical-align: top;\n",
              "    }\n",
              "\n",
              "    .dataframe thead th {\n",
              "        text-align: right;\n",
              "    }\n",
              "</style>\n",
              "<table border=\"1\" class=\"dataframe\">\n",
              "  <thead>\n",
              "    <tr style=\"text-align: right;\">\n",
              "      <th></th>\n",
              "      <th>0</th>\n",
              "    </tr>\n",
              "  </thead>\n",
              "  <tbody>\n",
              "    <tr>\n",
              "      <th>aldrig</th>\n",
              "      <td>[pren]</td>\n",
              "    </tr>\n",
              "    <tr>\n",
              "      <th>avsaknad av</th>\n",
              "      <td>[pren]</td>\n",
              "    </tr>\n",
              "    <tr>\n",
              "      <th>ej</th>\n",
              "      <td>[pren]</td>\n",
              "    </tr>\n",
              "    <tr>\n",
              "      <th>fri från</th>\n",
              "      <td>[pren]</td>\n",
              "    </tr>\n",
              "    <tr>\n",
              "      <th>förnekar</th>\n",
              "      <td>[pren]</td>\n",
              "    </tr>\n",
              "    <tr>\n",
              "      <th>förnekas</th>\n",
              "      <td>[post]</td>\n",
              "    </tr>\n",
              "    <tr>\n",
              "      <th>har inte</th>\n",
              "      <td>[pren]</td>\n",
              "    </tr>\n",
              "    <tr>\n",
              "      <th>icke</th>\n",
              "      <td>[pren]</td>\n",
              "    </tr>\n",
              "    <tr>\n",
              "      <th>inga</th>\n",
              "      <td>[pren]</td>\n",
              "    </tr>\n",
              "    <tr>\n",
              "      <th>inga tecken</th>\n",
              "      <td>[pren]</td>\n",
              "    </tr>\n",
              "    <tr>\n",
              "      <th>ingen</th>\n",
              "      <td>[pren]</td>\n",
              "    </tr>\n",
              "    <tr>\n",
              "      <th>ingen förändring</th>\n",
              "      <td>[pseu]</td>\n",
              "    </tr>\n",
              "    <tr>\n",
              "      <th>ingen ändring</th>\n",
              "      <td>[pseu]</td>\n",
              "    </tr>\n",
              "    <tr>\n",
              "      <th>inget</th>\n",
              "      <td>[pren]</td>\n",
              "    </tr>\n",
              "    <tr>\n",
              "      <th>inget avvikande</th>\n",
              "      <td>[post]</td>\n",
              "    </tr>\n",
              "    <tr>\n",
              "      <th>inget som</th>\n",
              "      <td>[pren]</td>\n",
              "    </tr>\n",
              "    <tr>\n",
              "      <th>inte</th>\n",
              "      <td>[pren]</td>\n",
              "    </tr>\n",
              "    <tr>\n",
              "      <th>inte bara</th>\n",
              "      <td>[pseu]</td>\n",
              "    </tr>\n",
              "    <tr>\n",
              "      <th>inte har</th>\n",
              "      <td>[pren]</td>\n",
              "    </tr>\n",
              "    <tr>\n",
              "      <th>inte kan</th>\n",
              "      <td>[pren]</td>\n",
              "    </tr>\n",
              "    <tr>\n",
              "      <th>inte kunna</th>\n",
              "      <td>[pren]</td>\n",
              "    </tr>\n",
              "    <tr>\n",
              "      <th>inte kunnat</th>\n",
              "      <td>[pren]</td>\n",
              "    </tr>\n",
              "    <tr>\n",
              "      <th>inte nödvändigtvis</th>\n",
              "      <td>[pseu]</td>\n",
              "    </tr>\n",
              "    <tr>\n",
              "      <th>inte orsaka</th>\n",
              "      <td>[pseu]</td>\n",
              "    </tr>\n",
              "    <tr>\n",
              "      <th>inte utesluta</th>\n",
              "      <td>[pseu]</td>\n",
              "    </tr>\n",
              "    <tr>\n",
              "      <th>inte vet</th>\n",
              "      <td>[pseu]</td>\n",
              "    </tr>\n",
              "    <tr>\n",
              "      <th>inte visar</th>\n",
              "      <td>[pren]</td>\n",
              "    </tr>\n",
              "    <tr>\n",
              "      <th>kan inte</th>\n",
              "      <td>[pren]</td>\n",
              "    </tr>\n",
              "    <tr>\n",
              "      <th>kan inte uteslutas</th>\n",
              "      <td>[pseu]</td>\n",
              "    </tr>\n",
              "    <tr>\n",
              "      <th>kunde inte</th>\n",
              "      <td>[pren]</td>\n",
              "    </tr>\n",
              "    <tr>\n",
              "      <th>känner sig inte</th>\n",
              "      <td>[pren]</td>\n",
              "    </tr>\n",
              "    <tr>\n",
              "      <th>negativt</th>\n",
              "      <td>[post]</td>\n",
              "    </tr>\n",
              "    <tr>\n",
              "      <th>osannolikt</th>\n",
              "      <td>[post]</td>\n",
              "    </tr>\n",
              "    <tr>\n",
              "      <th>patienten inte</th>\n",
              "      <td>[pren]</td>\n",
              "    </tr>\n",
              "    <tr>\n",
              "      <th>saknar</th>\n",
              "      <td>[pren]</td>\n",
              "    </tr>\n",
              "    <tr>\n",
              "      <th>saknas</th>\n",
              "      <td>[post]</td>\n",
              "    </tr>\n",
              "    <tr>\n",
              "      <th>utan</th>\n",
              "      <td>[pren]</td>\n",
              "    </tr>\n",
              "    <tr>\n",
              "      <th>utan några</th>\n",
              "      <td>[pren]</td>\n",
              "    </tr>\n",
              "    <tr>\n",
              "      <th>utan tecken</th>\n",
              "      <td>[pren]</td>\n",
              "    </tr>\n",
              "    <tr>\n",
              "      <th>utesluta</th>\n",
              "      <td>[pren]</td>\n",
              "    </tr>\n",
              "    <tr>\n",
              "      <th>uteslutas</th>\n",
              "      <td>[pren]</td>\n",
              "    </tr>\n",
              "    <tr>\n",
              "      <th>vet inte</th>\n",
              "      <td>[pseu]</td>\n",
              "    </tr>\n",
              "  </tbody>\n",
              "</table>\n",
              "</div>"
            ],
            "text/plain": [
              "                         0\n",
              "aldrig              [pren]\n",
              "avsaknad av         [pren]\n",
              "ej                  [pren]\n",
              "fri från            [pren]\n",
              "förnekar            [pren]\n",
              "förnekas            [post]\n",
              "har inte            [pren]\n",
              "icke                [pren]\n",
              "inga                [pren]\n",
              "inga tecken         [pren]\n",
              "ingen               [pren]\n",
              "ingen förändring    [pseu]\n",
              "ingen ändring       [pseu]\n",
              "inget               [pren]\n",
              "inget avvikande     [post]\n",
              "inget som           [pren]\n",
              "inte                [pren]\n",
              "inte bara           [pseu]\n",
              "inte har            [pren]\n",
              "inte kan            [pren]\n",
              "inte kunna          [pren]\n",
              "inte kunnat         [pren]\n",
              "inte nödvändigtvis  [pseu]\n",
              "inte orsaka         [pseu]\n",
              "inte utesluta       [pseu]\n",
              "inte vet            [pseu]\n",
              "inte visar          [pren]\n",
              "kan inte            [pren]\n",
              "kan inte uteslutas  [pseu]\n",
              "kunde inte          [pren]\n",
              "känner sig inte     [pren]\n",
              "negativt            [post]\n",
              "osannolikt          [post]\n",
              "patienten inte      [pren]\n",
              "saknar              [pren]\n",
              "saknas              [post]\n",
              "utan                [pren]\n",
              "utan några          [pren]\n",
              "utan tecken         [pren]\n",
              "utesluta            [pren]\n",
              "uteslutas           [pren]\n",
              "vet inte            [pseu]"
            ]
          },
          "metadata": {
            "tags": []
          },
          "execution_count": 90
        }
      ]
    },
    {
      "cell_type": "code",
      "metadata": {
        "id": "fS2a-pO0Kl-U",
        "outputId": "77e189d8-25e1-42db-a536-c183f47b9da8",
        "colab": {
          "base_uri": "https://localhost:8080/",
          "height": 214
        }
      },
      "source": [
        "# Negations \n",
        "neg_terms = []\n",
        "\n",
        "with open(data_path / 'raw/negations/negEx.txt','r') as negations:\n",
        "      negs = dict((k.strip(), v.strip()) for k,v in \n",
        "              (negations.split(' [') for item in s.split('\\t')))\n",
        "      print(neg_terms)"
      ],
      "execution_count": 35,
      "outputs": [
        {
          "output_type": "error",
          "ename": "NameError",
          "evalue": "ignored",
          "traceback": [
            "\u001b[0;31m---------------------------------------------------------------------------\u001b[0m",
            "\u001b[0;31mNameError\u001b[0m                                 Traceback (most recent call last)",
            "\u001b[0;32m<ipython-input-35-af94ac042587>\u001b[0m in \u001b[0;36m<module>\u001b[0;34m()\u001b[0m\n\u001b[1;32m      4\u001b[0m \u001b[0;32mwith\u001b[0m \u001b[0mopen\u001b[0m\u001b[0;34m(\u001b[0m\u001b[0mdata_path\u001b[0m \u001b[0;34m/\u001b[0m \u001b[0;34m'raw/negations/negEx.txt'\u001b[0m\u001b[0;34m,\u001b[0m\u001b[0;34m'r'\u001b[0m\u001b[0;34m)\u001b[0m \u001b[0;32mas\u001b[0m \u001b[0mnegations\u001b[0m\u001b[0;34m:\u001b[0m\u001b[0;34m\u001b[0m\u001b[0;34m\u001b[0m\u001b[0m\n\u001b[1;32m      5\u001b[0m       negs = dict((k.strip(), v.strip()) for k,v in \n\u001b[0;32m----> 6\u001b[0;31m               (negations.split(' [') for item in s.split('\\t')))\n\u001b[0m\u001b[1;32m      7\u001b[0m       \u001b[0mprint\u001b[0m\u001b[0;34m(\u001b[0m\u001b[0mneg_terms\u001b[0m\u001b[0;34m)\u001b[0m\u001b[0;34m\u001b[0m\u001b[0;34m\u001b[0m\u001b[0m\n",
            "\u001b[0;31mNameError\u001b[0m: name 's' is not defined"
          ]
        }
      ]
    },
    {
      "cell_type": "code",
      "metadata": {
        "collapsed": true,
        "id": "yCiP9vr01vH3",
        "colab": {
          "base_uri": "https://localhost:8080/"
        },
        "outputId": "874ade73-3295-4597-9f09-7c470f41ec86"
      },
      "source": [
        "file =  corpus_path / 'mockup-patient-records/by_johanna/originals/chart1.txt'\n",
        "\n",
        "\n",
        "pre_doc = open(file, 'r').read()\n",
        "\n",
        "doc = nlp(pre_doc)\n",
        "width = 20 # table width\n",
        "for token in doc:\n",
        "    print(f\"{token.text: <{width}} {token.tag_: <{width}} {token.dep_: <{width}}\")"
      ],
      "execution_count": 27,
      "outputs": [
        {
          "output_type": "stream",
          "text": [
            "Kontaktorsak         NOUN                 ROOT                \n",
            ":                    PUNCT                punct               \n",
            "Dyspné               NOUN                 ROOT                \n",
            "\n",
            "                    PUNCT                ROOT                \n",
            "Tidigare             ADJ                  amod                \n",
            "sjukdomar            NOUN                 ROOT                \n",
            ":                    PUNCT                punct               \n",
            "Insulin              ADJ                  amod                \n",
            "och                  CCONJ                cc                  \n",
            "tablettbehandlad     ADJ                  conj                \n",
            "DM2                  NUM                  ROOT                \n",
            ".                    PUNCT                punct               \n",
            "Tablettbehandlad     ADJ                  amod                \n",
            "hypertoni            NOUN                 ROOT                \n",
            ".                    PUNCT                punct               \n",
            "Höga                 ADJ                  amod                \n",
            "blodfetter           NOUN                 ROOT                \n",
            ".                    PUNCT                punct               \n",
            "\n",
            "                    PUNCT                ROOT                \n",
            "Socialt              ADV                  ROOT                \n",
            ":                    PUNCT                punct               \n",
            "Ensamboende          ADJ                  ROOT                \n",
            ",                    PUNCT                punct               \n",
            "hemtjänst            NOUN                 conj                \n",
            "*                    PUNCT                punct               \n",
            "1                    NUM                  conj                \n",
            ".                    PUNCT                punct               \n",
            "\n",
            "                    PUNCT                punct               \n",
            "Aktuellt             NOUN                 ROOT                \n",
            ":                    PUNCT                punct               \n",
            "Insjuknat            VERB                 ROOT                \n",
            "för                  ADP                  case                \n",
            "tre                  NUM                  nummod              \n",
            "dagar                NOUN                 obl                 \n",
            "sedan                ADV                  dep                 \n",
            "med                  ADP                  case                \n",
            "andnöd               NOUN                 obl                 \n",
            "vid                  ADP                  case                \n",
            "gång                 NOUN                 obl                 \n",
            ".                    PUNCT                punct               \n",
            "Tillkomst            NOUN                 ROOT                \n",
            "av                   ADP                  case                \n",
            "hosta                NOUN                 nmod                \n",
            "under                ADP                  case                \n",
            "gårdagen             NOUN                 obl                 \n",
            ".                    PUNCT                punct               \n",
            "Ej                   PART                 advmod              \n",
            "noterat              VERB                 ROOT                \n",
            "feber                NOUN                 obj                 \n",
            ",                    PUNCT                punct               \n",
            "men                  CCONJ                cc                  \n",
            "ej                   PART                 advmod              \n",
            "eller                CCONJ                cc                  \n",
            "mätt                 VERB                 conj                \n",
            "tempen               NOUN                 conj                \n",
            ".                    PUNCT                punct               \n",
            "Idag                 ADV                  advmod              \n",
            "nedsatt              ADJ                  amod                \n",
            "AT                   NOUN                 ROOT                \n",
            ",                    PUNCT                punct               \n",
            "svårt                ADJ                  parataxis           \n",
            "att                  PART                 mark                \n",
            "gå                   VERB                 advcl               \n",
            ".                    PUNCT                punct               \n",
            "Tagit                VERB                 ROOT                \n",
            "sina                 PRON                 nmod:poss           \n",
            "mediciner            NOUN                 obj                 \n",
            "som                  ADP                  case                \n",
            "vanligt              ADV                  advmod              \n",
            ".                    PUNCT                punct               \n",
            "Sökt                 VERB                 ROOT                \n",
            "VC                   PROPN                obj                 \n",
            "som                  PRON                 nsubj               \n",
            "hänvisat             VERB                 acl:relcl           \n",
            "hit                  ADV                  advmod              \n",
            "pga                  ADP                  case                \n",
            "destruering          NOUN                 obl                 \n",
            ".                    PUNCT                punct               \n",
            "Inte                 PART                 advmod              \n",
            "haft                 VERB                 ROOT                \n",
            "några                DET                  det                 \n",
            "utslag               NOUN                 obj                 \n",
            ".                    PUNCT                punct               \n",
            "Ej                   PART                 advmod              \n",
            "kontakt              NOUN                 ROOT                \n",
            "med                  ADP                  case                \n",
            "någon                DET                  det                 \n",
            "annan                ADJ                  nmod                \n",
            "som                  PRON                 nsubj               \n",
            "varit                AUX                  cop                 \n",
            "sjuk                 ADJ                  acl:relcl           \n",
            ".                    PUNCT                punct               \n",
            "Ej                   PART                 advmod              \n",
            "varit                VERB                 ROOT                \n",
            "ute                  ADV                  advmod              \n",
            "och                  CCONJ                cc                  \n",
            "rest                 NOUN                 conj                \n",
            ".                    PUNCT                punct               \n",
            "Ingen                DET                  det                 \n",
            "smärta               NOUN                 ROOT                \n",
            "vid                  ADP                  case                \n",
            "miktion              NOUN                 nmod                \n",
            ",                    PUNCT                punct               \n",
            "buksmärta            NOUN                 conj                \n",
            "eller                CCONJ                cc                  \n",
            "ÖNH                  PROPN                amod                \n",
            "symptom              NOUN                 conj                \n",
            ".                    PUNCT                punct               \n",
            "Idag                 ADV                  advmod              \n",
            "sämre                ADJ                  ROOT                \n",
            ",                    PUNCT                punct               \n",
            "kan                  AUX                  aux                 \n",
            "ej                   PART                 advmod              \n",
            "mobilisera           VERB                 parataxis           \n",
            "sig                  PRON                 obj                 \n",
            "i                    ADP                  case                \n",
            "hemmet               NOUN                 obl                 \n",
            ".                    PUNCT                punct               \n",
            "Inkommer             VERB                 ROOT                \n",
            "på                   ADP                  case                \n",
            "remiss               NOUN                 obl                 \n",
            ".                    PUNCT                punct               \n",
            "Inga                 DET                  det                 \n",
            "kräkningar           NOUN                 ROOT                \n",
            "eller                CCONJ                cc                  \n",
            "GI                   PROPN                amod                \n",
            "symptom              NOUN                 conj                \n",
            ".                    PUNCT                punct               \n",
            "\n",
            "                    PUNCT                ROOT                \n",
            "Status               NOUN                 ROOT                \n",
            ":                    PUNCT                punct               \n",
            "\n",
            "                    PUNCT                ROOT                \n",
            "AT                   NOUN                 ROOT                \n",
            ":                    PUNCT                punct               \n",
            "Gott                 ADJ                  ROOT                \n",
            ",                    PUNCT                punct               \n",
            "opåverkad            ADJ                  conj                \n",
            "i                    ADP                  case                \n",
            "vila                 NOUN                 obl                 \n",
            ",                    PUNCT                punct               \n",
            "ingen                DET                  det                 \n",
            "samtalsdyspné        NOUN                 conj                \n",
            ".                    PUNCT                punct               \n",
            "\n",
            "                    PUNCT                ROOT                \n",
            "Cor                  PROPN                ROOT                \n",
            ":                    PUNCT                punct               \n",
            "Normofrekvent        ADJ                  amod                \n",
            "regelbunden          ADJ                  amod                \n",
            "rytm                 NOUN                 ROOT                \n",
            ",                    PUNCT                punct               \n",
            "inga                 DET                  det                 \n",
            "hörbara              ADJ                  amod                \n",
            "bi                   NOUN                 conj                \n",
            "eller                CCONJ                cc                  \n",
            "blåsljud             NOUN                 conj                \n",
            ".                    PUNCT                punct               \n",
            "\n",
            "                    PUNCT                punct               \n",
            "Pulm                 NOUN                 ROOT                \n",
            ":                    PUNCT                punct               \n",
            "I                    ADP                  case                \n",
            "stort                ADJ                  amod                \n",
            "vesikulära           ADJ                  amod                \n",
            "antingsljud          NOUN                 ROOT                \n",
            "bilat                ADJ                  acl                 \n",
            ",                    PUNCT                punct               \n",
            "dämpat               ADJ                  amod                \n",
            "basalt               ADJ                  amod                \n",
            "höger                NOUN                 conj                \n",
            ".                    PUNCT                punct               \n",
            "Inget                DET                  det                 \n",
            "förlängt             ADJ                  amod                \n",
            "expirium             NOUN                 ROOT                \n",
            ".                    PUNCT                punct               \n",
            "\n",
            "                    PUNCT                ROOT                \n",
            "Buk                  NOUN                 ROOT                \n",
            ":                    PUNCT                punct               \n",
            "Överallt             ADV                  advmod              \n",
            "muk                  NOUN                 ROOT                \n",
            "och                  CCONJ                cc                  \n",
            "oöm                  ADJ                  conj                \n",
            ".                    PUNCT                punct               \n",
            "Ingen                DET                  det                 \n",
            "lokal                ADJ                  amod                \n",
            "peritonit            NOUN                 ROOT                \n",
            ".                    PUNCT                punct               \n",
            "\n",
            "                    PUNCT                ROOT                \n",
            "Lokalstatus          NOUN                 ROOT                \n",
            ":                    PUNCT                punct               \n",
            "Underben             NOUN                 nsubj               \n",
            "smala                ADJ                  ROOT                \n",
            "och                  CCONJ                cc                  \n",
            "gracila              ADJ                  conj                \n",
            ",                    PUNCT                punct               \n",
            "inga                 DET                  det                 \n",
            "pittingödem          NOUN                 conj                \n",
            ".                    PUNCT                punct               \n",
            "\n",
            "                    PUNCT                ROOT                \n",
            "BT                   NOUN                 ROOT                \n",
            ":                    PUNCT                punct               \n",
            "117/80               NUM                  dep                 \n",
            "\n",
            "                    PUNCT                punct               \n",
            "Sat                  NOUN                 ROOT                \n",
            ":                    PUNCT                punct               \n",
            "92                   NUM                  nummod              \n",
            "%                    NOUN                 appos               \n",
            "på                   ADP                  case                \n",
            "2l                   NUM                  nummod              \n",
            "O2                   NUM                  nmod                \n",
            "\n",
            "                    PUNCT                punct               \n",
            "AF                   PROPN                nmod                \n",
            ":                    SYM                  punct               \n",
            "28                   NUM                  nummod              \n",
            "\n",
            "                    PUNCT                punct               \n",
            "Temp                 NOUN                 ROOT                \n",
            ":                    PUNCT                punct               \n",
            "38.8                 NUM                  dep                 \n",
            "\n",
            "                    PUNCT                punct               \n",
            "Lab                  NOUN                 ROOT                \n",
            ":                    PUNCT                punct               \n",
            "Blodgas              NOUN                 ROOT                \n",
            "utan                 ADP                  case                \n",
            "respiratorisk        ADJ                  amod                \n",
            "acidos               NOUN                 nmod                \n",
            ",                    PUNCT                punct               \n",
            "Ph                   PROPN                nmod                \n",
            "7,4                  NUM                  conj                \n",
            ",                    PUNCT                punct               \n",
            "CRP                  PROPN                conj                \n",
            "118                  NUM                  nummod              \n",
            ",                    PUNCT                punct               \n",
            "diskret              ADV                  advmod              \n",
            "förhöjt              ADJ                  amod                \n",
            "BE                   X                    conj                \n",
            ".                    PUNCT                punct               \n",
            "Normalt              ADV                  advmod              \n",
            "laktat               NOUN                 ROOT                \n",
            "\n",
            "                    PUNCT                ROOT                \n",
            "Tobak                NOUN                 ROOT                \n",
            ":                    PUNCT                punct               \n",
            "Ej                   PART                 advmod              \n",
            "känt                 ADJ                  ROOT                \n",
            "\n",
            "                    PUNCT                ROOT                \n",
            "EKG                  NOUN                 ROOT                \n",
            ":                    PUNCT                punct               \n",
            "Sinusrym             NOUN                 ROOT                \n",
            "med                  ADP                  case                \n",
            "kammarfrekvens       NOUN                 obl                 \n",
            "98                   NUM                  nummod              \n",
            ",                    PUNCT                punct               \n",
            "inga                 DET                  det                 \n",
            "urakuta              ADJ                  amod                \n",
            "ischemiska           ADJ                  amod                \n",
            "tecken               NOUN                 parataxis           \n",
            ".                    PUNCT                punct               \n",
            "\n",
            "\n",
            "                   PUNCT                punct               \n",
            "Bedömning            NOUN                 ROOT                \n",
            ":                    PUNCT                punct               \n",
            "I                    ADP                  advmod              \n",
            "första               ADJ                  fixed               \n",
            "hand                 NOUN                 fixed               \n",
            "misstanke            NOUN                 ROOT                \n",
            "om                   ADP                  case                \n",
            "penumoni             NOUN                 nmod                \n",
            "eller                CCONJ                cc                  \n",
            "COVID-19             PROPN                conj                \n",
            ",                    PUNCT                punct               \n",
            "inlägges             VERB                 parataxis           \n",
            "infektionsavdelning  NOUN                 nsubj:pass          \n",
            ".                    PUNCT                punct               \n",
            "Provtages            VERB                 case                \n",
            "SARS-CoV2            NUM                  obl                 \n",
            "insättes             VERB                 ROOT                \n",
            "cefotaxim            NOUN                 nsubj:pass          \n",
            ".                    PUNCT                punct               \n",
            "Genomodlas           VERB                 ROOT                \n",
            ".                    PUNCT                punct               \n",
            "Nya                  ADJ                  amod                \n",
            "prover               NOUN                 ROOT                \n",
            "imorgon              ADV                  advmod              \n",
            ",                    PUNCT                punct               \n",
            "CRP                  PROPN                appos               \n",
            ",                    PUNCT                punct               \n",
            "LPK                  PROPN                conj                \n",
            ".                    PUNCT                punct               \n",
            "Röntgen              NOUN                 amod                \n",
            "puls                 NOUN                 ROOT                \n",
            "från                 ADP                  case                \n",
            "avdelningen          NOUN                 nmod                \n",
            ".                    PUNCT                punct               \n",
            "Syrgaskrävande       ADJ                  ROOT                \n",
            ",                    PUNCT                punct               \n",
            "2l                   NUM                  conj                \n",
            ".                    PUNCT                punct               \n",
            "Ej                   PART                 advmod              \n",
            "septisk              NOUN                 ROOT                \n",
            ".                    PUNCT                punct               \n",
            "\n",
            "\n",
            "                   PUNCT                ROOT                \n",
            "Diagnos              NOUN                 ROOT                \n",
            ":                    PUNCT                punct               \n",
            "Pneumoni             NOUN                 ROOT                \n",
            ",                    PUNCT                punct               \n",
            "ospecificerad        ADJ                  conj                \n",
            "\n",
            "                    PUNCT                conj                \n"
          ],
          "name": "stdout"
        }
      ]
    },
    {
      "cell_type": "code",
      "metadata": {
        "id": "-aFy9VUS5Pig",
        "colab": {
          "base_uri": "https://localhost:8080/"
        },
        "outputId": "278843f1-be2d-40f4-c5f5-313e5ebcf9b9"
      },
      "source": [
        "for ent in doc.ents:\n",
        "    print(ent.text, ent.label_)"
      ],
      "execution_count": null,
      "outputs": [
        {
          "output_type": "stream",
          "text": [
            "Tidigare TME\n",
            "för tre dagar sedan TME\n",
            "under gårdagen TME\n",
            "Idag TME\n",
            "Idag TME\n",
            "92% MSR\n",
            "imorgon TME\n"
          ],
          "name": "stdout"
        }
      ]
    },
    {
      "cell_type": "code",
      "metadata": {
        "id": "21EQTv2b0cyz",
        "colab": {
          "base_uri": "https://localhost:8080/",
          "height": 419
        },
        "outputId": "94c271a1-d843-445a-cd88-6a70acf38441"
      },
      "source": [
        "import pandas as pd\n",
        "\n",
        "cols = (\"text\", \"lemma\", \"POS\", \"explain\", \"stopword\")\n",
        "rows = []\n",
        "\n",
        "for t in doc:\n",
        "    row = [t.text, t.lemma_, t.pos_, spacy.explain(t.pos_), t.is_stop]\n",
        "    rows.append(row)\n",
        "\n",
        "df = pd.DataFrame(rows, columns=cols)\n",
        "    \n",
        "df\n",
        "\n"
      ],
      "execution_count": null,
      "outputs": [
        {
          "output_type": "execute_result",
          "data": {
            "text/html": [
              "<div>\n",
              "<style scoped>\n",
              "    .dataframe tbody tr th:only-of-type {\n",
              "        vertical-align: middle;\n",
              "    }\n",
              "\n",
              "    .dataframe tbody tr th {\n",
              "        vertical-align: top;\n",
              "    }\n",
              "\n",
              "    .dataframe thead th {\n",
              "        text-align: right;\n",
              "    }\n",
              "</style>\n",
              "<table border=\"1\" class=\"dataframe\">\n",
              "  <thead>\n",
              "    <tr style=\"text-align: right;\">\n",
              "      <th></th>\n",
              "      <th>text</th>\n",
              "      <th>lemma</th>\n",
              "      <th>POS</th>\n",
              "      <th>explain</th>\n",
              "      <th>stopword</th>\n",
              "    </tr>\n",
              "  </thead>\n",
              "  <tbody>\n",
              "    <tr>\n",
              "      <th>0</th>\n",
              "      <td>Kontaktorsak</td>\n",
              "      <td>Kontaktorsak</td>\n",
              "      <td>NOUN</td>\n",
              "      <td>noun</td>\n",
              "      <td>False</td>\n",
              "    </tr>\n",
              "    <tr>\n",
              "      <th>1</th>\n",
              "      <td>:</td>\n",
              "      <td>:</td>\n",
              "      <td>PUNCT</td>\n",
              "      <td>punctuation</td>\n",
              "      <td>False</td>\n",
              "    </tr>\n",
              "    <tr>\n",
              "      <th>2</th>\n",
              "      <td>Dyspné</td>\n",
              "      <td>Dyspné</td>\n",
              "      <td>NOUN</td>\n",
              "      <td>noun</td>\n",
              "      <td>False</td>\n",
              "    </tr>\n",
              "    <tr>\n",
              "      <th>3</th>\n",
              "      <td>\\n</td>\n",
              "      <td>\\n</td>\n",
              "      <td>PUNCT</td>\n",
              "      <td>punctuation</td>\n",
              "      <td>False</td>\n",
              "    </tr>\n",
              "    <tr>\n",
              "      <th>4</th>\n",
              "      <td>Tidigare</td>\n",
              "      <td>Tidigare</td>\n",
              "      <td>ADJ</td>\n",
              "      <td>adjective</td>\n",
              "      <td>True</td>\n",
              "    </tr>\n",
              "    <tr>\n",
              "      <th>...</th>\n",
              "      <td>...</td>\n",
              "      <td>...</td>\n",
              "      <td>...</td>\n",
              "      <td>...</td>\n",
              "      <td>...</td>\n",
              "    </tr>\n",
              "    <tr>\n",
              "      <th>298</th>\n",
              "      <td>:</td>\n",
              "      <td>:</td>\n",
              "      <td>PUNCT</td>\n",
              "      <td>punctuation</td>\n",
              "      <td>False</td>\n",
              "    </tr>\n",
              "    <tr>\n",
              "      <th>299</th>\n",
              "      <td>Pneumoni</td>\n",
              "      <td>Pneumoni</td>\n",
              "      <td>NOUN</td>\n",
              "      <td>noun</td>\n",
              "      <td>False</td>\n",
              "    </tr>\n",
              "    <tr>\n",
              "      <th>300</th>\n",
              "      <td>,</td>\n",
              "      <td>,</td>\n",
              "      <td>PUNCT</td>\n",
              "      <td>punctuation</td>\n",
              "      <td>False</td>\n",
              "    </tr>\n",
              "    <tr>\n",
              "      <th>301</th>\n",
              "      <td>ospecificerad</td>\n",
              "      <td>ospecificerad</td>\n",
              "      <td>ADJ</td>\n",
              "      <td>adjective</td>\n",
              "      <td>False</td>\n",
              "    </tr>\n",
              "    <tr>\n",
              "      <th>302</th>\n",
              "      <td>\\n</td>\n",
              "      <td>\\n</td>\n",
              "      <td>PUNCT</td>\n",
              "      <td>punctuation</td>\n",
              "      <td>False</td>\n",
              "    </tr>\n",
              "  </tbody>\n",
              "</table>\n",
              "<p>303 rows × 5 columns</p>\n",
              "</div>"
            ],
            "text/plain": [
              "              text          lemma    POS      explain  stopword\n",
              "0     Kontaktorsak   Kontaktorsak   NOUN         noun     False\n",
              "1                :              :  PUNCT  punctuation     False\n",
              "2           Dyspné         Dyspné   NOUN         noun     False\n",
              "3               \\n             \\n  PUNCT  punctuation     False\n",
              "4         Tidigare       Tidigare    ADJ    adjective      True\n",
              "..             ...            ...    ...          ...       ...\n",
              "298              :              :  PUNCT  punctuation     False\n",
              "299       Pneumoni       Pneumoni   NOUN         noun     False\n",
              "300              ,              ,  PUNCT  punctuation     False\n",
              "301  ospecificerad  ospecificerad    ADJ    adjective     False\n",
              "302             \\n             \\n  PUNCT  punctuation     False\n",
              "\n",
              "[303 rows x 5 columns]"
            ]
          },
          "metadata": {
            "tags": []
          },
          "execution_count": 60
        }
      ]
    },
    {
      "cell_type": "markdown",
      "metadata": {
        "id": "mrvw09-60wDV"
      },
      "source": [
        "* raw text\n",
        "* lemma – a root form of the word\n",
        "* part of speech\n",
        "* a flag for whether the word is a stopword – i.e., a common word that may be filtered out"
      ]
    },
    {
      "cell_type": "code",
      "metadata": {
        "collapsed": true,
        "id": "ujVdHTvt1F9m"
      },
      "source": [
        "from spacy import displacy\n",
        "\n",
        "displacy.render(doc, style=\"dep\", jupyter=True)"
      ],
      "execution_count": null,
      "outputs": []
    },
    {
      "cell_type": "code",
      "metadata": {
        "collapsed": true,
        "id": "o56Hlr6S1TG9"
      },
      "source": [
        "for sent in doc.sents:\n",
        "    print(\">\", sent)"
      ],
      "execution_count": null,
      "outputs": []
    },
    {
      "cell_type": "code",
      "metadata": {
        "id": "lg9Q7Z-02B9C"
      },
      "source": [
        "for chunk in doc.noun_chunks:\n",
        "    print(chunk.text)"
      ],
      "execution_count": null,
      "outputs": []
    },
    {
      "cell_type": "code",
      "metadata": {
        "id": "ppPe5Dv32P7J",
        "colab": {
          "base_uri": "https://localhost:8080/",
          "height": 787
        },
        "outputId": "948ab83a-c5b5-4140-b66f-8048172d586f"
      },
      "source": [
        "displacy.render(doc, style=\"ent\", jupyter=True)"
      ],
      "execution_count": null,
      "outputs": [
        {
          "output_type": "display_data",
          "data": {
            "text/html": [
              "<span class=\"tex2jax_ignore\"><div class=\"entities\" style=\"line-height: 2.5; direction: ltr\">Kontaktorsak: Dyspné</br>\n",
              "<mark class=\"entity\" style=\"background: #ddd; padding: 0.45em 0.6em; margin: 0 0.25em; line-height: 1; border-radius: 0.35em;\">\n",
              "    Tidigare\n",
              "    <span style=\"font-size: 0.8em; font-weight: bold; line-height: 1; border-radius: 0.35em; vertical-align: middle; margin-left: 0.5rem\">TME</span>\n",
              "</mark>\n",
              " sjukdomar: Insulin och tablettbehandlad DM2. Tablettbehandlad hypertoni. Höga blodfetter.</br>Socialt: Ensamboende, hemtjänst * 1.</br>Aktuellt: Insjuknat \n",
              "<mark class=\"entity\" style=\"background: #ddd; padding: 0.45em 0.6em; margin: 0 0.25em; line-height: 1; border-radius: 0.35em;\">\n",
              "    för tre dagar sedan\n",
              "    <span style=\"font-size: 0.8em; font-weight: bold; line-height: 1; border-radius: 0.35em; vertical-align: middle; margin-left: 0.5rem\">TME</span>\n",
              "</mark>\n",
              " med andnöd vid gång. Tillkomst av hosta \n",
              "<mark class=\"entity\" style=\"background: #ddd; padding: 0.45em 0.6em; margin: 0 0.25em; line-height: 1; border-radius: 0.35em;\">\n",
              "    under gårdagen\n",
              "    <span style=\"font-size: 0.8em; font-weight: bold; line-height: 1; border-radius: 0.35em; vertical-align: middle; margin-left: 0.5rem\">TME</span>\n",
              "</mark>\n",
              ". Ej noterat feber, men ej eller mätt tempen. \n",
              "<mark class=\"entity\" style=\"background: #ddd; padding: 0.45em 0.6em; margin: 0 0.25em; line-height: 1; border-radius: 0.35em;\">\n",
              "    Idag\n",
              "    <span style=\"font-size: 0.8em; font-weight: bold; line-height: 1; border-radius: 0.35em; vertical-align: middle; margin-left: 0.5rem\">TME</span>\n",
              "</mark>\n",
              " nedsatt AT, svårt att gå. Tagit sina mediciner som vanligt. Sökt VC som hänvisat hit pga destruering. Inte haft några utslag. Ej kontakt med någon annan som varit sjuk. Ej varit ute och rest. Ingen smärta vid miktion, buksmärta eller ÖNH symptom. \n",
              "<mark class=\"entity\" style=\"background: #ddd; padding: 0.45em 0.6em; margin: 0 0.25em; line-height: 1; border-radius: 0.35em;\">\n",
              "    Idag\n",
              "    <span style=\"font-size: 0.8em; font-weight: bold; line-height: 1; border-radius: 0.35em; vertical-align: middle; margin-left: 0.5rem\">TME</span>\n",
              "</mark>\n",
              " sämre, kan ej mobilisera sig i hemmet. Inkommer på remiss. Inga kräkningar eller GI symptom.</br>Status: </br>AT: Gott, opåverkad i vila, ingen samtalsdyspné.</br>Cor: Normofrekvent regelbunden rytm, inga hörbara bi eller blåsljud.</br>Pulm: I stort vesikulära antingsljud bilat, dämpat basalt höger. Inget förlängt expirium.</br>Buk: Överallt muk och oöm. Ingen lokal peritonit.</br>Lokalstatus: Underben smala och gracila, inga pittingödem.</br>BT: 117/80</br>Sat: \n",
              "<mark class=\"entity\" style=\"background: #ddd; padding: 0.45em 0.6em; margin: 0 0.25em; line-height: 1; border-radius: 0.35em;\">\n",
              "    92%\n",
              "    <span style=\"font-size: 0.8em; font-weight: bold; line-height: 1; border-radius: 0.35em; vertical-align: middle; margin-left: 0.5rem\">MSR</span>\n",
              "</mark>\n",
              " på 2l O2</br>AF: 28</br>Temp: 38.8</br>Lab: Blodgas utan respiratorisk acidos, Ph 7,4, CRP 118, diskret förhöjt BE. Normalt laktat</br>Tobak: Ej känt</br>EKG: Sinusrym med kammarfrekvens 98, inga urakuta ischemiska tecken.</br></br>Bedömning: I första hand misstanke om penumoni eller COVID-19, inlägges infektionsavdelning. Provtages SARS-CoV2 insättes cefotaxim. Genomodlas. Nya prover \n",
              "<mark class=\"entity\" style=\"background: #ddd; padding: 0.45em 0.6em; margin: 0 0.25em; line-height: 1; border-radius: 0.35em;\">\n",
              "    imorgon\n",
              "    <span style=\"font-size: 0.8em; font-weight: bold; line-height: 1; border-radius: 0.35em; vertical-align: middle; margin-left: 0.5rem\">TME</span>\n",
              "</mark>\n",
              ", CRP, LPK. Röntgen puls från avdelningen. Syrgaskrävande, 2l. Ej septisk.</br></br>Diagnos: Pneumoni, ospecificerad</br></div></span>"
            ],
            "text/plain": [
              "<IPython.core.display.HTML object>"
            ]
          },
          "metadata": {
            "tags": []
          }
        }
      ]
    },
    {
      "cell_type": "code",
      "metadata": {
        "id": "eHfaDE0_47x4"
      },
      "source": [
        ""
      ],
      "execution_count": null,
      "outputs": []
    },
    {
      "cell_type": "code",
      "metadata": {
        "id": "PWSTJncIMrnt",
        "colab": {
          "base_uri": "https://localhost:8080/",
          "height": 141
        },
        "outputId": "65bf3919-aff7-4c08-fbfe-df4e853c7a8c"
      },
      "source": [
        "displacy.render(doc, style=\"ent\", jupyter=True)"
      ],
      "execution_count": null,
      "outputs": [
        {
          "output_type": "stream",
          "text": [
            "/usr/local/lib/python3.7/dist-packages/spacy/displacy/__init__.py:189: UserWarning: [W006] No entities to visualize found in Doc object. If this is surprising to you, make sure the Doc was processed using a model that supports named entity recognition, and check the `doc.ents` property manually if necessary.\n",
            "  warnings.warn(Warnings.W006)\n"
          ],
          "name": "stderr"
        },
        {
          "output_type": "display_data",
          "data": {
            "text/html": [
              "<span class=\"tex2jax_ignore\"><div class=\"entities\" style=\"line-height: 2.5; direction: ltr\">Maskininlärning (engelska: machine learning) är ett område inom artificiell intelligens, och därmed inom datavetenskapen. Det handlar om metoder för att med data &quot;träna&quot; datorer att upptäcka och &quot;lära&quot; sig regler för att lösa en uppgift, utan att datorerna har programmerats med regler för just den uppgiften. Området angränsar till statistik, datorseende och mönsterigenkänning. Datautvinning (datamining) är ett betydelsenära begrepp som avser en kombiniation av maskininlärning och statistiska metoder för att upptäcka och visualisera mönster i stora mängder data.</div></span>"
            ],
            "text/plain": [
              "<IPython.core.display.HTML object>"
            ]
          },
          "metadata": {
            "tags": []
          }
        }
      ]
    }
  ]
}