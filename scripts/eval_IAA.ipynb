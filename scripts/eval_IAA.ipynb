{
    "cells": [
        {
            "cell_type": "code",
            "execution_count": 1,
            "source": [
                "%load_ext dotenv\n",
                "%dotenv"
            ],
            "outputs": [],
            "metadata": {}
        },
        {
            "cell_type": "code",
            "execution_count": 2,
            "source": [
                "import os\n",
                "from dotenv import load_dotenv\n",
                "\n",
                "load_dotenv() \n",
                "ROOT = os.getenv(\"ROOT\")\n",
                "DATA = os.getenv(\"DATA\")\n",
                "SCRIPTS = os.getenv(\"SCRIPTS\")\n",
                "\n",
                "# Make root\n",
                "os.chdir(SCRIPTS)\n",
                "print(os.getcwd())"
            ],
            "outputs": [
                {
                    "output_type": "stream",
                    "name": "stdout",
                    "text": [
                        "/home/callebalik/clinical_NLP_SE/scripts\n"
                    ]
                }
            ],
            "metadata": {}
        },
        {
            "cell_type": "code",
            "execution_count": 171,
            "source": [
                "from pathlib import Path\n",
                "import pandas as pd\n",
                "import numpy \n",
                "# file_path = Path(__file__).resolve()\n",
                "# ROOT = file_path.parent.parent.parent\n",
                "# DATA_PATH = ROOT / \"data\"\n",
                "# AGREEMENT_PATH = DATA_PATH / \"raw/coprus/agreement.csv.txt\"\n",
                "\n",
                "AGREEMENT_PATH = \"/home/callebalik/clinical_NLP_SE/data/raw/corpus/agreement.csv.txt\"\n",
                "a1_name = \"annotator1\"\n",
                "a2_name = \"Annotator\""
            ],
            "outputs": [],
            "metadata": {}
        },
        {
            "cell_type": "code",
            "execution_count": 172,
            "source": [
                "import re as re\n",
                "df = pd.read_csv(AGREEMENT_PATH)\n",
                "\n",
                "df = df[[\"Document\", \"Position\", a1_name, a2_name]]\n",
                "# df.iloc[:,0].str.extract(r'(\\d)(?=.\\w+)')\n",
                "\n",
                "# Add document nr\n",
                "df['Doc Nr'] = [re.search(r'(\\d)(?=.\\w+)', x).group() if re.search(r'(\\w+)(?=\\d.\\w+)', x).group() == 'chart' else (int(re.search(r'(\\d)(?=.\\w+)', x).group())+5)for x in df['Document']]\n",
                "df = df[[\"Doc Nr\", \"Position\", a1_name, a2_name]]\n",
                "# Remove rows with null values - maybe I should compare these - they still add to \n",
                "not_null=df.loc[(df.annotator1.notnull()) & (df.Annotator.notnull())]\n",
                "\n",
                "# df = df.drop(df[df.annotator1 == \"NaN\"].index)\n",
                "# df = (df[df[\"annotator1\"].isnull()])"
            ],
            "outputs": [],
            "metadata": {}
        },
        {
            "cell_type": "code",
            "execution_count": 183,
            "source": [
                "def make_label_list(df, column:str):\n",
                "    return[x for x in df[column]]\n",
                "\n",
                "a1 = make_label_list(df, a1_name)\n",
                "a2 = make_label_list(df, a2_name)\n",
                "\n",
                "a1_sf = [\"SYM/FND\" if (x == \"SYM\" or x == \"FND\") else x for x in a1]\n",
                "a2_sf = [\"SYM/FND\" if (x == \"SYM\" or x == \"FND\") else x for x in a2]\n",
                "\n",
                "a1_d = a1\n",
                "a2_d = a2\n",
                "\n",
                "# Do this in dataframe instead\n",
                "\n",
                "for i, x in enumerate(a1_d):\n",
                "    if x == \"DIS\":\n",
                "        a1_d.pop(i)\n",
                "        a2_d.pop(i)\n",
                "\n",
                "for i, x in enumerate(a2_d):\n",
                "    if x == \"DIS\":\n",
                "        a1_d.pop(i)\n",
                "        a2_d.pop(i)\n",
                "        \n",
                "print(a1_d)\n",
                "        \n",
                "        "
            ],
            "outputs": [
                {
                    "output_type": "stream",
                    "name": "stdout",
                    "text": [
                        "['SYM', 'DIS', 'SYM', nan, 'NEG', 'FND', 'NEG', nan, nan, 'NEG', 'FND', 'NEG', 'NEG', 'NEG', 'SYM', 'SYM', 'SYM', 'NEG', 'NEG', 'SYM', 'SYM', 'NEG', 'FND', 'NEG', 'FND', nan, nan, 'FND', 'NEG', 'FND', 'NEG', 'FND', 'NEG', 'FND', 'FND', 'NEG', 'NEG', 'FND', nan, 'FND', 'NEG', 'FND', 'SYM', 'NEG', 'NEG', 'SYM', 'NEG', 'FND', 'FND', 'NEG', 'SYM', 'FND', 'FND', 'NEG', 'FND', 'FND', 'FND', nan, 'FND', 'FND', 'NEG', 'FND', 'FND', 'FND', 'NEG', 'FND', 'FND', 'FND', 'NEG', 'FND', 'FND', 'NEG', 'DIS', 'NEG', 'FND', 'FND', 'FND', 'FND', 'FND', 'NEG', 'SYM', 'DIS', 'SYM', 'NEG', 'FND', 'FND', 'NEG', 'SYM', 'FND', 'NEG', 'SYM', 'FND', 'SYM', 'NEG', 'FND', 'NEG', 'FND', 'FND', 'NEG', 'FND', 'NEG', 'SYM', 'SYM', 'NEG', nan, 'NEG', 'FND', 'FND', 'NEG', 'FND', 'FND', 'FND', nan, 'NEG', 'FND', 'NEG', 'FND', 'FND', 'FND', 'FND', 'NEG', 'NEG', 'SYM', 'NEG', 'FND', 'FND', 'NEG', 'FND', 'NEG', 'FND', 'NEG', 'FND', 'NEG', 'FND', nan, 'FND', 'FND', 'NEG', 'DIS', nan, 'NEG', 'FND', 'FND', 'SYM', nan, 'NEG', 'SYM', 'NEG', 'SYM', 'NEG', 'SYM', 'FND', 'FND', 'SYM', 'NEG', 'SYM', 'NEG', 'FND', 'FND', 'FND', nan, 'DIS', 'DIS', 'FND', 'FND', 'FND', 'FND', nan, 'NEG', 'FND', 'FND', 'NEG', nan, 'NEG', 'FND', 'FND', 'FND', 'FND', 'FND', 'NEG', 'FND', nan, 'FND', 'NEG', 'FND', 'FND', 'FND', 'FND', 'FND', 'SYM', 'SYM', 'NEG', 'NEG', 'NEG', 'FND', 'FND', nan, 'FND', 'SYM', 'NEG', 'NEG', 'SYM', 'FND', 'SYM', 'SYM', 'SYM', 'FND', 'NEG', 'FND', 'FND', 'FND', 'FND', 'FND', nan, nan, 'SYM', 'SYM', nan, 'SYM', 'SYM', 'FND', 'SYM', 'SYM', 'SYM', 'FND', nan, 'NEG', 'FND', 'FND', 'NEG', 'FND', 'FND', 'FND', nan, 'FND', 'DIS', 'SYM', 'SYM', 'SYM', 'NEG', 'NEG', 'NEG', 'NEG', 'FND', 'NEG', 'FND', 'FND', 'NEG', 'FND', 'FND', 'NEG', 'FND', 'FND', 'FND', 'NEG', nan, 'DIS', 'FND', 'FND']\n"
                    ]
                }
            ],
            "metadata": {}
        },
        {
            "cell_type": "code",
            "execution_count": 194,
            "source": [
                "from sklearn.metrics import cohen_kappa_score\n",
                "from sklearn.metrics import confusion_matrix\n",
                "\n",
                "import matplotlib.pyplot as plt  \n",
                "from sklearn.datasets import make_classification\n",
                "from sklearn.metrics import plot_confusion_matrix\n",
                "from sklearn.model_selection import train_test_split\n",
                "from sklearn.svm import SVC\n",
                "from sklearn.metrics import classification_report\n",
                "\n",
                "\n",
                "print(f\"Cohen Kappa {cohen_kappa_score(a1, a2)}\")\n",
                "print(f\"Cohen Kappa SYM/FND {cohen_kappa_score(a1_sf, a2_sf)}\")\n",
                "print(f\"Cohen Kappa Drop Disease from Eval {cohen_kappa_score(a1_sf, a2_sf)}\")\n",
                "cr = classification_report(a1, a2, target_names=None, output_dict=True, zero_division=0)\n",
                "cr_sf = classification_report(a1_sf, a2_sf, target_names=None, output_dict=True)"
            ],
            "outputs": [
                {
                    "output_type": "stream",
                    "name": "stdout",
                    "text": [
                        "Cohen Kappa 0.5467389448523134\n",
                        "Cohen Kappa SYM/FND 0.5654019633855134\n",
                        "Cohen Kappa Drop Disease from Eval 0.5654019633855134\n"
                    ]
                }
            ],
            "metadata": {}
        },
        {
            "cell_type": "code",
            "execution_count": 196,
            "source": [
                "df_cr = pd.DataFrame.from_dict(cr)\n",
                "df_cd_sf = pd.DataFrame.from_dict(cr_sf)\n",
                "\n",
                "# print(df_cr)\n",
                "# print(df_cd_sf)\n",
                "\n",
                "df_compare_sym_fnd = df_cr[[\"DIS\", \"FND\", \"NEG\", \"SYM\", \"nan\"]]\n",
                "df_compare_sym_fnd = df_cr[[\"FND\", \"NEG\", \"SYM\"]]\n",
                "\n",
                "print(df_compare_sym_fnd)\n",
                "df_cd_sf"
            ],
            "outputs": [
                {
                    "output_type": "stream",
                    "name": "stdout",
                    "text": [
                        "                  FND        NEG        SYM\n",
                        "precision    0.716981   0.945946   0.584906\n",
                        "recall       0.672566   0.945946   0.756098\n",
                        "f1-score     0.694064   0.945946   0.659574\n",
                        "support    113.000000  74.000000  41.000000\n"
                    ]
                },
                {
                    "output_type": "execute_result",
                    "data": {
                        "text/plain": [
                            "                 DIS        NEG     SYM/FND   nan  accuracy   macro avg  \\\n",
                            "precision   1.000000   0.945946    0.741379   0.0  0.734694    0.671831   \n",
                            "recall      0.395349   0.945946    0.837662   0.0  0.734694    0.544739   \n",
                            "f1-score    0.566667   0.945946    0.786585   0.0  0.734694    0.574799   \n",
                            "support    43.000000  74.000000  154.000000  23.0  0.734694  294.000000   \n",
                            "\n",
                            "           weighted avg  \n",
                            "precision      0.772695  \n",
                            "recall         0.734694  \n",
                            "f1-score       0.732996  \n",
                            "support      294.000000  "
                        ],
                        "text/html": [
                            "<div>\n",
                            "<style scoped>\n",
                            "    .dataframe tbody tr th:only-of-type {\n",
                            "        vertical-align: middle;\n",
                            "    }\n",
                            "\n",
                            "    .dataframe tbody tr th {\n",
                            "        vertical-align: top;\n",
                            "    }\n",
                            "\n",
                            "    .dataframe thead th {\n",
                            "        text-align: right;\n",
                            "    }\n",
                            "</style>\n",
                            "<table border=\"1\" class=\"dataframe\">\n",
                            "  <thead>\n",
                            "    <tr style=\"text-align: right;\">\n",
                            "      <th></th>\n",
                            "      <th>DIS</th>\n",
                            "      <th>NEG</th>\n",
                            "      <th>SYM/FND</th>\n",
                            "      <th>nan</th>\n",
                            "      <th>accuracy</th>\n",
                            "      <th>macro avg</th>\n",
                            "      <th>weighted avg</th>\n",
                            "    </tr>\n",
                            "  </thead>\n",
                            "  <tbody>\n",
                            "    <tr>\n",
                            "      <th>precision</th>\n",
                            "      <td>1.000000</td>\n",
                            "      <td>0.945946</td>\n",
                            "      <td>0.741379</td>\n",
                            "      <td>0.0</td>\n",
                            "      <td>0.734694</td>\n",
                            "      <td>0.671831</td>\n",
                            "      <td>0.772695</td>\n",
                            "    </tr>\n",
                            "    <tr>\n",
                            "      <th>recall</th>\n",
                            "      <td>0.395349</td>\n",
                            "      <td>0.945946</td>\n",
                            "      <td>0.837662</td>\n",
                            "      <td>0.0</td>\n",
                            "      <td>0.734694</td>\n",
                            "      <td>0.544739</td>\n",
                            "      <td>0.734694</td>\n",
                            "    </tr>\n",
                            "    <tr>\n",
                            "      <th>f1-score</th>\n",
                            "      <td>0.566667</td>\n",
                            "      <td>0.945946</td>\n",
                            "      <td>0.786585</td>\n",
                            "      <td>0.0</td>\n",
                            "      <td>0.734694</td>\n",
                            "      <td>0.574799</td>\n",
                            "      <td>0.732996</td>\n",
                            "    </tr>\n",
                            "    <tr>\n",
                            "      <th>support</th>\n",
                            "      <td>43.000000</td>\n",
                            "      <td>74.000000</td>\n",
                            "      <td>154.000000</td>\n",
                            "      <td>23.0</td>\n",
                            "      <td>0.734694</td>\n",
                            "      <td>294.000000</td>\n",
                            "      <td>294.000000</td>\n",
                            "    </tr>\n",
                            "  </tbody>\n",
                            "</table>\n",
                            "</div>"
                        ]
                    },
                    "metadata": {},
                    "execution_count": 196
                }
            ],
            "metadata": {}
        },
        {
            "cell_type": "code",
            "execution_count": 198,
            "source": [
                "print(confusion_matrix(a1, a2, normalize=\"all\"))"
            ],
            "outputs": [
                {
                    "output_type": "stream",
                    "name": "stdout",
                    "text": [
                        "[[0.         0.01544402 0.         0.01544402 0.        ]\n",
                        " [0.         0.29343629 0.01158301 0.05405405 0.07722008]\n",
                        " [0.         0.         0.27027027 0.         0.01544402]\n",
                        " [0.         0.03088803 0.         0.11969112 0.00772201]\n",
                        " [0.         0.06949807 0.003861   0.01544402 0.        ]]\n"
                    ]
                }
            ],
            "metadata": {}
        },
        {
            "cell_type": "code",
            "execution_count": 199,
            "source": [
                "import seaborn as sn\n",
                "import pandas as pd\n",
                "import matplotlib.pyplot as plt\n",
                "# array = [[33,2,0,0,0,0,0,0,0,1,3], \n",
                "#         [3,31,0,0,0,0,0,0,0,0,0], \n",
                "#         [0,4,41,0,0,0,0,0,0,0,1], \n",
                "#         [0,1,0,30,0,6,0,0,0,0,1], \n",
                "#         [0,0,0,0,38,10,0,0,0,0,0], \n",
                "#         [0,0,0,3,1,39,0,0,0,0,4], \n",
                "#         [0,2,2,0,4,1,31,0,0,0,2],\n",
                "#         [0,1,0,0,0,0,0,36,0,2,0], \n",
                "#         [0,0,0,0,0,0,1,5,37,5,1], \n",
                "#         [3,0,0,0,0,0,0,0,0,39,0], \n",
                "#         [0,0,0,0,0,0,0,0,0,0,38]]\n",
                "\n",
                "labels = [\"DIS\", \"FND\", \"NEG\", \"SYM\", \"NaN\"]\n",
                "array = confusion_matrix(a1, a2, normalize=\"all\")\n",
                "df_cm = pd.DataFrame(array, index = labels,\n",
                "                  columns = labels)\n",
                "plt.figure(figsize = (10,7))\n",
                "sn.heatmap(df_cm, annot=True)"
            ],
            "outputs": [
                {
                    "output_type": "execute_result",
                    "data": {
                        "text/plain": [
                            "<AxesSubplot:>"
                        ]
                    },
                    "metadata": {},
                    "execution_count": 199
                },
                {
                    "output_type": "display_data",
                    "data": {
                        "text/plain": [
                            "<Figure size 720x504 with 2 Axes>"
                        ],
                        "image/png": "[encoded data removed]"
                    },
                    "metadata": {
                        "needs_background": "light"
                    }
                }
            ],
            "metadata": {}
        }
    ],
    "metadata": {
        "orig_nbformat": 4,
        "language_info": {
            "name": "python",
            "version": "3.8.10",
            "mimetype": "text/x-python",
            "codemirror_mode": {
                "name": "ipython",
                "version": 3
            },
            "pygments_lexer": "ipython3",
            "nbconvert_exporter": "python",
            "file_extension": ".py"
        },
        "kernelspec": {
            "name": "python3",
            "display_name": "Python 3.8.10 64-bit ('venv': virtualenv)"
        },
        "interpreter": {
            "hash": "a86b396b3552695ca7f7a6dafaf34983fe8e53208bbceaf515b73221ced0a1f3"
        }
    },
    "nbformat": 4,
    "nbformat_minor": 2
}