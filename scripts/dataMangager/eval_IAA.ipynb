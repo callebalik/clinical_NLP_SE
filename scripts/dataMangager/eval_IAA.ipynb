{
    "cells": [
        {
            "cell_type": "code",
            "execution_count": 31,
            "source": [
                "from pathlib import Path\n",
                "import re as re\n",
                "import pandas as pd\n",
                "import numpy \n",
                "# file_path = Path(__file__).resolve()\n",
                "# ROOT = file_path.parent.parent.parent\n",
                "# DATA_PATH = ROOT / \"data\"\n",
                "# AGREEMENT_PATH = DATA_PATH / \"raw/coprus/agreement.csv.txt\"\n",
                "\n",
                "AGREEMENT_PATH = \"/home/callebalik/clinical_NLP_SE/data/raw/corpus/agreement.csv.txt\""
            ],
            "outputs": [],
            "metadata": {}
        },
        {
            "cell_type": "code",
            "execution_count": 108,
            "source": [
                "import re as re\n",
                "df = pd.read_csv(AGREEMENT_PATH)\n",
                "df = df[[\"Document\", \"Position\", \"Annotator\", \"annotator1\"]]\n",
                "# df.iloc[:,0].str.extract(r'(\\d)(?=.\\w+)')\n",
                "\n",
                "# Add document nr\n",
                "df['Doc Nr'] = [re.search(r'(\\d)(?=.\\w+)', x).group() if re.search(r'(\\w+)(?=\\d.\\w+)', x).group() == 'chart' else (int(re.search(r'(\\d)(?=.\\w+)', x).group())+5)for x in df['Document']]\n",
                "\n",
                "df = df[[\"Doc Nr\", \"Position\", \"Annotator\", \"annotator1\"]]"
            ],
            "outputs": [],
            "metadata": {}
        },
        {
            "cell_type": "code",
            "execution_count": 113,
            "source": [
                "# df = df.drop(df[df.annotator1 == \"NaN\"].index)\n",
                "# df = (df[df[\"annotator1\"].isnull()])\n",
                "not_null=df.loc[(df.annotator1.notnull()) & (df.Annotator.notnull())]"
            ],
            "outputs": [
                {
                    "output_type": "execute_result",
                    "data": {
                        "text/plain": [
                            "    Doc Nr                            Position Annotator annotator1\n",
                            "0        1                      14-20 [Dyspné]       SYM        SYM\n",
                            "1        1                         70-73 [DM2]       SYM        DIS\n",
                            "2        1                  92-101 [hypertoni]       SYM        DIS\n",
                            "3        1                    201-207 [andnöd]       SYM        SYM\n",
                            "5        1                        253-255 [Ej]       NEG        NEG\n",
                            "..     ...                                 ...       ...        ...\n",
                            "289     10              1227-1237 [Lungemboli]       FND        DIS\n",
                            "290     10              1270-1280 [Lungemboli]       FND        DIS\n",
                            "291     10        1293-1309 [andningspåverkan]       FND        FND\n",
                            "292     10  1314-1336 [hemodynamisk påverkan.]       FND        FND\n",
                            "293     10              1486-1496 [Lungemboli]       FND        DIS\n",
                            "\n",
                            "[242 rows x 4 columns]"
                        ],
                        "text/html": [
                            "<div>\n",
                            "<style scoped>\n",
                            "    .dataframe tbody tr th:only-of-type {\n",
                            "        vertical-align: middle;\n",
                            "    }\n",
                            "\n",
                            "    .dataframe tbody tr th {\n",
                            "        vertical-align: top;\n",
                            "    }\n",
                            "\n",
                            "    .dataframe thead th {\n",
                            "        text-align: right;\n",
                            "    }\n",
                            "</style>\n",
                            "<table border=\"1\" class=\"dataframe\">\n",
                            "  <thead>\n",
                            "    <tr style=\"text-align: right;\">\n",
                            "      <th></th>\n",
                            "      <th>Doc Nr</th>\n",
                            "      <th>Position</th>\n",
                            "      <th>Annotator</th>\n",
                            "      <th>annotator1</th>\n",
                            "    </tr>\n",
                            "  </thead>\n",
                            "  <tbody>\n",
                            "    <tr>\n",
                            "      <th>0</th>\n",
                            "      <td>1</td>\n",
                            "      <td>14-20 [Dyspné]</td>\n",
                            "      <td>SYM</td>\n",
                            "      <td>SYM</td>\n",
                            "    </tr>\n",
                            "    <tr>\n",
                            "      <th>1</th>\n",
                            "      <td>1</td>\n",
                            "      <td>70-73 [DM2]</td>\n",
                            "      <td>SYM</td>\n",
                            "      <td>DIS</td>\n",
                            "    </tr>\n",
                            "    <tr>\n",
                            "      <th>2</th>\n",
                            "      <td>1</td>\n",
                            "      <td>92-101 [hypertoni]</td>\n",
                            "      <td>SYM</td>\n",
                            "      <td>DIS</td>\n",
                            "    </tr>\n",
                            "    <tr>\n",
                            "      <th>3</th>\n",
                            "      <td>1</td>\n",
                            "      <td>201-207 [andnöd]</td>\n",
                            "      <td>SYM</td>\n",
                            "      <td>SYM</td>\n",
                            "    </tr>\n",
                            "    <tr>\n",
                            "      <th>5</th>\n",
                            "      <td>1</td>\n",
                            "      <td>253-255 [Ej]</td>\n",
                            "      <td>NEG</td>\n",
                            "      <td>NEG</td>\n",
                            "    </tr>\n",
                            "    <tr>\n",
                            "      <th>...</th>\n",
                            "      <td>...</td>\n",
                            "      <td>...</td>\n",
                            "      <td>...</td>\n",
                            "      <td>...</td>\n",
                            "    </tr>\n",
                            "    <tr>\n",
                            "      <th>289</th>\n",
                            "      <td>10</td>\n",
                            "      <td>1227-1237 [Lungemboli]</td>\n",
                            "      <td>FND</td>\n",
                            "      <td>DIS</td>\n",
                            "    </tr>\n",
                            "    <tr>\n",
                            "      <th>290</th>\n",
                            "      <td>10</td>\n",
                            "      <td>1270-1280 [Lungemboli]</td>\n",
                            "      <td>FND</td>\n",
                            "      <td>DIS</td>\n",
                            "    </tr>\n",
                            "    <tr>\n",
                            "      <th>291</th>\n",
                            "      <td>10</td>\n",
                            "      <td>1293-1309 [andningspåverkan]</td>\n",
                            "      <td>FND</td>\n",
                            "      <td>FND</td>\n",
                            "    </tr>\n",
                            "    <tr>\n",
                            "      <th>292</th>\n",
                            "      <td>10</td>\n",
                            "      <td>1314-1336 [hemodynamisk påverkan.]</td>\n",
                            "      <td>FND</td>\n",
                            "      <td>FND</td>\n",
                            "    </tr>\n",
                            "    <tr>\n",
                            "      <th>293</th>\n",
                            "      <td>10</td>\n",
                            "      <td>1486-1496 [Lungemboli]</td>\n",
                            "      <td>FND</td>\n",
                            "      <td>DIS</td>\n",
                            "    </tr>\n",
                            "  </tbody>\n",
                            "</table>\n",
                            "<p>242 rows × 4 columns</p>\n",
                            "</div>"
                        ]
                    },
                    "metadata": {},
                    "execution_count": 113
                }
            ],
            "metadata": {}
        },
        {
            "cell_type": "code",
            "execution_count": 133,
            "source": [
                "a1 = [x for x in not_null[\"annotator1\"]]\n",
                "a2 = [x for x in not_null[\"Annotator\"]]"
            ],
            "outputs": [],
            "metadata": {}
        },
        {
            "cell_type": "code",
            "execution_count": 147,
            "source": [
                "from sklearn.metrics import cohen_kappa_score\n",
                "from sklearn.metrics import confusion_matrix\n",
                "\n",
                "import matplotlib.pyplot as plt  \n",
                "from sklearn.datasets import make_classification\n",
                "from sklearn.metrics import plot_confusion_matrix\n",
                "from sklearn.model_selection import train_test_split\n",
                "from sklearn.svm import SVC\n",
                "from sklearn.metrics import classification_report\n",
                "\n",
                "y_true = [\"SYM\", 0, 2, 2, 0, 1]\n",
                "y_pred = [\"SYM\", 0, 2, 2, 0, 2]\n",
                "print(f\"Cohen Kappa {cohen_kappa_score(a1, a2)}\")\n",
                "print(\"--------\")\n",
                "target_names = ['class 0', 'class 1', 'class 2', \"class 3\"]\n",
                "print(classification_report(a1, a2, target_names=None)) "
            ],
            "outputs": [
                {
                    "output_type": "stream",
                    "name": "stdout",
                    "text": [
                        "Cohen Kappa 0.7197316990783187\n",
                        "--------\n",
                        "              precision    recall  f1-score   support\n",
                        "\n",
                        "         DIS       1.00      0.42      0.60        40\n",
                        "         FND       0.76      0.82      0.79        93\n",
                        "         NEG       0.96      1.00      0.98        70\n",
                        "         SYM       0.60      0.79      0.68        39\n",
                        "\n",
                        "    accuracy                           0.80       242\n",
                        "   macro avg       0.83      0.76      0.76       242\n",
                        "weighted avg       0.83      0.80      0.79       242\n",
                        "\n"
                    ]
                }
            ],
            "metadata": {}
        },
        {
            "cell_type": "code",
            "execution_count": null,
            "source": [
                "print(confusion_matrix(a1, a2, normalize=\"all\"))"
            ],
            "outputs": [],
            "metadata": {}
        },
        {
            "cell_type": "code",
            "execution_count": 143,
            "source": [
                "import seaborn as sn\n",
                "import pandas as pd\n",
                "import matplotlib.pyplot as plt\n",
                "array = [[33,2,0,0,0,0,0,0,0,1,3], \n",
                "        [3,31,0,0,0,0,0,0,0,0,0], \n",
                "        [0,4,41,0,0,0,0,0,0,0,1], \n",
                "        [0,1,0,30,0,6,0,0,0,0,1], \n",
                "        [0,0,0,0,38,10,0,0,0,0,0], \n",
                "        [0,0,0,3,1,39,0,0,0,0,4], \n",
                "        [0,2,2,0,4,1,31,0,0,0,2],\n",
                "        [0,1,0,0,0,0,0,36,0,2,0], \n",
                "        [0,0,0,0,0,0,1,5,37,5,1], \n",
                "        [3,0,0,0,0,0,0,0,0,39,0], \n",
                "        [0,0,0,0,0,0,0,0,0,0,38]]\n",
                "array = confusion_matrix(a1, a2, normalize=\"all\")\n",
                "df_cm = pd.DataFrame(array, index = [i for i in \"ABCD\"],\n",
                "                  columns = [i for i in \"ABCD\"])\n",
                "plt.figure(figsize = (10,7))\n",
                "sn.heatmap(df_cm, annot=True)"
            ],
            "outputs": [
                {
                    "output_type": "execute_result",
                    "data": {
                        "text/plain": [
                            "<AxesSubplot:>"
                        ]
                    },
                    "metadata": {},
                    "execution_count": 143
                },
                {
                    "output_type": "display_data",
                    "data": {
                        "text/plain": [
                            "<Figure size 720x504 with 2 Axes>"
                        ],
                        "image/png": "[encoded data removed]"
                    },
                    "metadata": {
                        "needs_background": "light"
                    }
                }
            ],
            "metadata": {}
        }
    ],
    "metadata": {
        "orig_nbformat": 4,
        "language_info": {
            "name": "python",
            "version": "3.8.10",
            "mimetype": "text/x-python",
            "codemirror_mode": {
                "name": "ipython",
                "version": 3
            },
            "pygments_lexer": "ipython3",
            "nbconvert_exporter": "python",
            "file_extension": ".py"
        },
        "kernelspec": {
            "name": "python3",
            "display_name": "Python 3.8.10 64-bit ('venv': virtualenvwrapper)"
        },
        "interpreter": {
            "hash": "a86b396b3552695ca7f7a6dafaf34983fe8e53208bbceaf515b73221ced0a1f3"
        }
    },
    "nbformat": 4,
    "nbformat_minor": 2
}