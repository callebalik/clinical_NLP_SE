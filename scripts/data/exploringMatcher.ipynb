{
 "cells": [
  {
   "cell_type": "code",
   "execution_count": null,
   "metadata": {},
   "outputs": [],
   "source": [
    "from spacy.matcher import PhraseMatcher\r\n",
    "from spacy.tokens import Span\r\n",
    "\r\n",
    "class EntityMatcher(object):\r\n",
    "    name = 'entity_matcher'\r\n",
    "\r\n",
    "    def __init__(self, nlp, terms, label):\r\n",
    "        patterns = [nlp(term) for term in terms]\r\n",
    "        self.matcher = PhraseMatcher(nlp.vocab)\r\n",
    "        self.matcher.add(label, None, *patterns)\r\n",
    "\r\n",
    "    def __call__(self, doc):\r\n",
    "        matches = self.matcher(doc)\r\n",
    "        spans = []\r\n",
    "        for label, start, end in matches:\r\n",
    "            span = Span(doc, start, end, label=label)\r\n",
    "            spans.append(span)\r\n",
    "        doc.ents = spans\r\n",
    "        return doc"
   ]
  }
 ],
 "metadata": {
  "kernelspec": {
   "display_name": "Python 3.8.8 64-bit ('base': conda)",
   "name": "python388jvsc74a57bd08826b53f20e9cd7110a7f40447e35f8ee8fd51c1cc996b01684cb7063458cfdb"
  },
  "language_info": {
   "name": "python",
   "version": ""
  },
  "orig_nbformat": 2
 },
 "nbformat": 4,
 "nbformat_minor": 2
}