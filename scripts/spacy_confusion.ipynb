{
 "cells": [
  {
   "cell_type": "code",
   "execution_count": 1,
   "source": [
    "import importlib\n",
    "\n",
    "%load_ext autoreload\n",
    "%autoreload 2"
   ],
   "outputs": [],
   "metadata": {}
  },
  {
   "cell_type": "code",
   "execution_count": 2,
   "source": [
    "%load_ext dotenv\n",
    "%dotenv"
   ],
   "outputs": [],
   "metadata": {}
  },
  {
   "cell_type": "code",
   "execution_count": 3,
   "source": [
    "import os\n",
    "from dotenv import load_dotenv\n",
    "\n",
    "load_dotenv() \n",
    "ROOT = os.getenv(\"ROOT\")\n",
    "DATA = os.getenv(\"DATA\")\n",
    "SCRIPTS = os.getenv(\"SCRIPTS\")\n",
    "\n",
    "# Make root\n",
    "os.chdir(SCRIPTS)\n",
    "print(os.getcwd())"
   ],
   "outputs": [
    {
     "output_type": "stream",
     "name": "stdout",
     "text": [
      "/home/callebalik/clinical_NLP_SE/scripts\n"
     ]
    }
   ],
   "metadata": {}
  },
  {
   "cell_type": "code",
   "execution_count": 10,
   "source": [
    "import spacy \n",
    "from spacy.tokens import DocBin\n",
    "from pathlib import Path\n",
    "\n",
    "nlp = spacy.load(\"sv_pipeline\")\n",
    "\n",
    "DOCBIN_PATH = Path(f\"{DATA}/processed/corpus/cur\")\n",
    "doc_bin = DocBin().from_disk(f\"{DOCBIN_PATH}/1.spacy\")\n",
    "docs = list(doc_bin.get_docs(nlp.vocab))\n",
    "docs"
   ],
   "outputs": [
    {
     "output_type": "execute_result",
     "data": {
      "text/plain": [
       "[Kontaktorsak : Dyspné Tidigare sjukdomar : Insulin och tablettbehandlad DM2 . Tablettbehandlad hypertoni . Höga blodfetter . Socialt : Ensamboende , hemtjänst * 1 . Aktuellt : Insjuknat för tre dagar sedan med andnöd vid gång . Tillkomst av hosta under gårdagen . Ej noterat feber , men ej eller mätt tempen . Idag nedsatt AT , svårt att gå . Tagit sina mediciner som vanligt . Sökt VC som hänvisat hit pga destruering . Inte haft några utslag . Ej kontakt med någon annan som varit sjuk . Ej varit ute och rest . Ingen smärta vid miktion , buksmärta eller ÖNH symptom . Idag sämre , kan ej mobilisera sig i hemmet . Inkommer på remiss . Inga kräkningar eller GI symptom . Status : AT : Gott , opåverkad i vila , ingen samtalsdyspné . Cor : Normofrekvent regelbunden rytm , inga hörbara bi eller blåsljud . Pulm : I stort vesikulära antingsljud bilat , dämpat basalt höger . Inget förlängt expirium . Buk : Överallt muk och oöm . Ingen lokal peritonit . Lokalstatus : Underben smala och gracila , inga pittingödem . BT : 117 / 80 Sat : 92% på 2l O2 AF : 28 Temp : 38.8 Lab : Blodgas utan respiratorisk acidos , Ph 7,4 , CRP 118 , diskret förhöjt BE . Normalt laktat Tobak : Ej känt EKG : Sinusrym med kammarfrekvens 98 , inga urakuta ischemiska tecken . Bedömning : I första hand misstanke om penumoni eller COVID - 19 , inlägges infektionsavdelning . Provtages SARS-CoV2 insättes cefotaxim . Genomodlas . Nya prover imorgon , CRP , LPK . Röntgen puls från avdelningen . Syrgaskrävande , 2l . Ej septisk . Diagnos : Pneumoni , ospecificerad ]"
      ]
     },
     "metadata": {},
     "execution_count": 10
    }
   ],
   "metadata": {}
  },
  {
   "cell_type": "code",
   "execution_count": null,
   "source": [
    "from plot_confusion_matrix import plot_confusion_matrix\n",
    "\n",
    "from matplotlib import pyplot as plt\n",
    "from matplotlib import cm\n",
    "from matplotlib.colors import ListedColormap, LinearSegmentedColormap\n",
    "import matplotlib as mpl\n",
    "import matplotlib.gridspec as gridspec\n",
    "\n",
    "\n",
    "top = cm.get_cmap('Oranges_r', 128)\n",
    "bottom = cm.get_cmap('Blues', 128)\n",
    "\n",
    "newcolors = np.vstack((top(np.linspace(0, 1, 128)),\n",
    "                       bottom(np.linspace(0, 1, 128))))\n",
    "newcmp = ListedColormap(newcolors, name='OrangeBlue')\n",
    "\n",
    "viridisBig = cm.get_cmap('viridis_r', 512)\n",
    "viridis_new = ListedColormap(viridisBig(np.linspace(0.15, 1, 256)))\n",
    "\n",
    "viridis = cm.get_cmap('viridis', 256)\n",
    "newcolors = viridis(np.linspace(0, 1, 256))\n",
    "pink = np.array([248/256, 24/256, 148/256, 1])\n",
    "newcolors[:5, :] = pink\n",
    "newcmp = ListedColormap(newcolors)\n",
    "\n",
    "coolw = cm.get_cmap('coolwarm', 512)\n",
    "coolw_new = ListedColormap(coolw(np.linspace(0.15, 1, 256)))\n",
    "\n",
    "color = coolw_new\n",
    "color = plt.cm.YlGnBu\n",
    "# color = plt.cm.coo\n",
    "\n",
    "\n",
    "classes1 = [\"SYM\", \"FND\",\"NEG\",\"O\"]\n",
    "\n",
    "classes2 = [\"SYM/FND\",\"NEG\",\"O\"]\n",
    "\n",
    "font = {#'family': 'serif',\n",
    "        # 'color':  'black',\n",
    "        #'weight': 'normal',\n",
    "        'size': 10,\n",
    "        }\n",
    "\n",
    "px = 1/plt.rcParams['figure.dpi']  # pixel in inches\n",
    "cm = 1/2.54  # centimeters in inches\n",
    "# Providing the axs\n",
    "# fig, axs = plt.subplots(ncols=2, nrows=1, figsize=(40*cm, 10*cm), constrained_layout=True)\n",
    "# # First subplt\n",
    "# cm1, ax1, im1 = plot_confusion_matrix(df_sfno.A1, df_sfno.A2, classes1, ax=axs[0], normalize=True)\n",
    "# axs[0].figure.colorbar(im1, ax=axs[0], fraction=0.05)\n",
    "# # Second subplt\n",
    "# cm2, ax2, im2 = plot_confusion_matrix(df_sfno.A1_sf, df_sfno.A2_sf, classes2, ax=axs[1], normalize=True)\n",
    "# axs[1].figure.colorbar(im2, ax=axs[1], fraction=0.15)\n",
    "\n",
    "\n",
    "\n",
    "fig2 = plt.figure(tight_layout=True)\n",
    "spec2 = gridspec.GridSpec(1,1)\n",
    "\n",
    "ax = fig2.add_subplot(spec2[0])\n",
    "\n",
    "cm1, ax1, im1 = plot_confusion_matrix(df_sfno.A1, df_sfno.A2, classes1, ax=ax, normalize=True, cmap=coolw_new)\n",
    "axs[0].figure.colorbar(im1, ax=axs[0], fraction=0.05)\n",
    "# Second subplt\n",
    "\n",
    "ax.set(title=None)\n",
    "ax.set_xlabel(xlabel='annotator2', fontdict=font)\n",
    "ax.set_ylabel(ylabel='annotator1', fontdict=font)\n",
    "\n",
    "axs = fig2.get_axes()\n",
    "texts = ['(A)', '(B)']\n",
    "for a,l in zip(axs, texts):\n",
    "\n",
    "    # X = a.get_position().x0\n",
    "    # Y = a.get_position().y1    \n",
    "    # fig2.text(X - .1, Y + .018, l, size=10, weight='bold')\n",
    "    a.annotate(l, xy=(-0.45, 1.1), xycoords=\"axes fraction\", fontsize=11, weight = 'bold')\n",
    "# plt.subplots_adjust(left=-0.45)\n",
    "\n",
    "# plt.tight_layout() #This to avoid overlap of labels and titles across plots\n",
    "\n",
    "plt.show()\n",
    "\n",
    "plt.savefig(f\"{DATA}/processed/IAA_SYM_FND\", )"
   ],
   "outputs": [],
   "metadata": {}
  },
  {
   "cell_type": "code",
   "execution_count": null,
   "source": [
    "output"
   ],
   "outputs": [],
   "metadata": {}
  }
 ],
 "metadata": {
  "orig_nbformat": 4,
  "language_info": {
   "name": "python",
   "version": "3.8.10",
   "mimetype": "text/x-python",
   "codemirror_mode": {
    "name": "ipython",
    "version": 3
   },
   "pygments_lexer": "ipython3",
   "nbconvert_exporter": "python",
   "file_extension": ".py"
  },
  "kernelspec": {
   "name": "python3",
   "display_name": "Python 3.8.10 64-bit ('venv': virtualenv)"
  },
  "interpreter": {
   "hash": "a86b396b3552695ca7f7a6dafaf34983fe8e53208bbceaf515b73221ced0a1f3"
  }
 },
 "nbformat": 4,
 "nbformat_minor": 2
}