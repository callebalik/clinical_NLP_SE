{
 "cells": [
  {
   "cell_type": "code",
   "execution_count": 1,
   "source": [
    "import importlib\n",
    "\n",
    "%load_ext autoreload\n",
    "%autoreload 2"
   ],
   "outputs": [],
   "metadata": {}
  },
  {
   "cell_type": "code",
   "execution_count": 2,
   "source": [
    "%load_ext dotenv\n",
    "%dotenv"
   ],
   "outputs": [],
   "metadata": {}
  },
  {
   "cell_type": "code",
   "execution_count": 3,
   "source": [
    "import os\n",
    "from dotenv import load_dotenv\n",
    "\n",
    "load_dotenv() \n",
    "ROOT = os.getenv(\"ROOT\")\n",
    "DATA = os.getenv(\"DATA\")\n",
    "SCRIPTS = os.getenv(\"SCRIPTS\")\n",
    "\n",
    "# Make root\n",
    "os.chdir(SCRIPTS)\n",
    "print(os.getcwd())"
   ],
   "outputs": [
    {
     "output_type": "stream",
     "name": "stdout",
     "text": [
      "/home/callebalik/clinical_NLP_SE/scripts\n"
     ]
    }
   ],
   "metadata": {}
  },
  {
   "cell_type": "code",
   "execution_count": 4,
   "source": [
    "\n",
    "import spacy \n",
    "from spacy.tokens import DocBin\n",
    "from pathlib import Path\n",
    "\n",
    "\n",
    "\n",
    "nlp = spacy.load(\"sv_pipeline\")\n",
    "\n",
    "DOCBIN_PATH = Path(f\"{DATA}/processed/corpus/cur\")\n",
    "doc_bin = DocBin().from_disk(f\"{DOCBIN_PATH}/2.spacy\")\n",
    "docs = list(doc_bin.get_docs(nlp.vocab))\n",
    "\n"
   ],
   "outputs": [],
   "metadata": {}
  },
  {
   "cell_type": "code",
   "execution_count": 17,
   "source": [
    "from spacy.attrs import LOWER, POS, ENT_TYPE, IS_ALPHA\n",
    "from spacy.tokens import Doc\n",
    "from spacy.training import Example\n",
    "\n",
    "for doc in docs:\n",
    "    a = doc.reference\n",
    "    print(a)\n",
    "\n",
    "for doc in docs:\n",
    "    ents = list(doc.ents)\n",
    "    for e in ents:\n",
    "        print(f\"{e.text} | {e.label_}\")\n",
    "\n",
    "\n",
    "# np_array = doc.to_array([LOWER, POS, ENT_TYPE, IS_ALPHA])\n",
    "# np_array"
   ],
   "outputs": [
    {
     "output_type": "error",
     "ename": "AttributeError",
     "evalue": "'spacy.tokens.doc.Doc' object has no attribute 'reference'",
     "traceback": [
      "\u001b[0;31m---------------------------------------------------------------------------\u001b[0m",
      "\u001b[0;31mAttributeError\u001b[0m                            Traceback (most recent call last)",
      "\u001b[0;32m/tmp/ipykernel_20316/3232454584.py\u001b[0m in \u001b[0;36m<module>\u001b[0;34m\u001b[0m\n\u001b[1;32m      4\u001b[0m \u001b[0;34m\u001b[0m\u001b[0m\n\u001b[1;32m      5\u001b[0m \u001b[0;32mfor\u001b[0m \u001b[0mdoc\u001b[0m \u001b[0;32min\u001b[0m \u001b[0mdocs\u001b[0m\u001b[0;34m:\u001b[0m\u001b[0;34m\u001b[0m\u001b[0;34m\u001b[0m\u001b[0m\n\u001b[0;32m----> 6\u001b[0;31m     \u001b[0ma\u001b[0m \u001b[0;34m=\u001b[0m \u001b[0mdoc\u001b[0m\u001b[0;34m.\u001b[0m\u001b[0mreference\u001b[0m\u001b[0;34m\u001b[0m\u001b[0;34m\u001b[0m\u001b[0m\n\u001b[0m\u001b[1;32m      7\u001b[0m     \u001b[0mprint\u001b[0m\u001b[0;34m(\u001b[0m\u001b[0ma\u001b[0m\u001b[0;34m)\u001b[0m\u001b[0;34m\u001b[0m\u001b[0;34m\u001b[0m\u001b[0m\n\u001b[1;32m      8\u001b[0m \u001b[0;34m\u001b[0m\u001b[0m\n",
      "\u001b[0;31mAttributeError\u001b[0m: 'spacy.tokens.doc.Doc' object has no attribute 'reference'"
     ]
    }
   ],
   "metadata": {}
  },
  {
   "cell_type": "code",
   "execution_count": null,
   "source": [
    "from plot_confusion_matrix import plot_confusion_matrix\n",
    "\n",
    "from matplotlib import pyplot as plt\n",
    "from matplotlib import cm\n",
    "from matplotlib.colors import ListedColormap, LinearSegmentedColormap\n",
    "import matplotlib as mpl\n",
    "import matplotlib.gridspec as gridspec\n",
    "\n",
    "\n",
    "top = cm.get_cmap('Oranges_r', 128)\n",
    "bottom = cm.get_cmap('Blues', 128)\n",
    "\n",
    "newcolors = np.vstack((top(np.linspace(0, 1, 128)),\n",
    "                       bottom(np.linspace(0, 1, 128))))\n",
    "newcmp = ListedColormap(newcolors, name='OrangeBlue')\n",
    "\n",
    "viridisBig = cm.get_cmap('viridis_r', 512)\n",
    "viridis_new = ListedColormap(viridisBig(np.linspace(0.15, 1, 256)))\n",
    "\n",
    "viridis = cm.get_cmap('viridis', 256)\n",
    "newcolors = viridis(np.linspace(0, 1, 256))\n",
    "pink = np.array([248/256, 24/256, 148/256, 1])\n",
    "newcolors[:5, :] = pink\n",
    "newcmp = ListedColormap(newcolors)\n",
    "\n",
    "coolw = cm.get_cmap('coolwarm', 512)\n",
    "coolw_new = ListedColormap(coolw(np.linspace(0.15, 1, 256)))\n",
    "\n",
    "color = coolw_new\n",
    "color = plt.cm.YlGnBu\n",
    "# color = plt.cm.coo\n",
    "\n",
    "\n",
    "classes1 = [\"SYM\", \"FND\",\"NEG\",\"O\"]\n",
    "\n",
    "classes2 = [\"SYM/FND\",\"NEG\",\"O\"]\n",
    "\n",
    "font = {#'family': 'serif',\n",
    "        # 'color':  'black',\n",
    "        #'weight': 'normal',\n",
    "        'size': 10,\n",
    "        }\n",
    "\n",
    "px = 1/plt.rcParams['figure.dpi']  # pixel in inches\n",
    "cm = 1/2.54  # centimeters in inches\n",
    "# Providing the axs\n",
    "# fig, axs = plt.subplots(ncols=2, nrows=1, figsize=(40*cm, 10*cm), constrained_layout=True)\n",
    "# # First subplt\n",
    "# cm1, ax1, im1 = plot_confusion_matrix(df_sfno.A1, df_sfno.A2, classes1, ax=axs[0], normalize=True)\n",
    "# axs[0].figure.colorbar(im1, ax=axs[0], fraction=0.05)\n",
    "# # Second subplt\n",
    "# cm2, ax2, im2 = plot_confusion_matrix(df_sfno.A1_sf, df_sfno.A2_sf, classes2, ax=axs[1], normalize=True)\n",
    "# axs[1].figure.colorbar(im2, ax=axs[1], fraction=0.15)\n",
    "\n",
    "\n",
    "\n",
    "fig2 = plt.figure(tight_layout=True)\n",
    "spec2 = gridspec.GridSpec(1,1)\n",
    "\n",
    "ax = fig2.add_subplot(spec2[0])\n",
    "\n",
    "cm1, ax1, im1 = plot_confusion_matrix(df_sfno.A1, df_sfno.A2, classes1, ax=ax, normalize=True, cmap=coolw_new)\n",
    "axs[0].figure.colorbar(im1, ax=axs[0], fraction=0.05)\n",
    "# Second subplt\n",
    "\n",
    "ax.set(title=None)\n",
    "ax.set_xlabel(xlabel='annotator2', fontdict=font)\n",
    "ax.set_ylabel(ylabel='annotator1', fontdict=font)\n",
    "\n",
    "axs = fig2.get_axes()\n",
    "texts = ['(A)', '(B)']\n",
    "for a,l in zip(axs, texts):\n",
    "\n",
    "    # X = a.get_position().x0\n",
    "    # Y = a.get_position().y1    \n",
    "    # fig2.text(X - .1, Y + .018, l, size=10, weight='bold')\n",
    "    a.annotate(l, xy=(-0.45, 1.1), xycoords=\"axes fraction\", fontsize=11, weight = 'bold')\n",
    "# plt.subplots_adjust(left=-0.45)\n",
    "\n",
    "# plt.tight_layout() #This to avoid overlap of labels and titles across plots\n",
    "\n",
    "plt.show()\n",
    "\n",
    "plt.savefig(f\"{DATA}/processed/IAA_SYM_FND\", )"
   ],
   "outputs": [],
   "metadata": {}
  },
  {
   "cell_type": "code",
   "execution_count": null,
   "source": [
    "output"
   ],
   "outputs": [],
   "metadata": {}
  }
 ],
 "metadata": {
  "orig_nbformat": 4,
  "language_info": {
   "name": "python",
   "version": "3.8.10",
   "mimetype": "text/x-python",
   "codemirror_mode": {
    "name": "ipython",
    "version": 3
   },
   "pygments_lexer": "ipython3",
   "nbconvert_exporter": "python",
   "file_extension": ".py"
  },
  "kernelspec": {
   "name": "python3",
   "display_name": "Python 3.8.10 64-bit ('venv': venv)"
  },
  "interpreter": {
   "hash": "a86b396b3552695ca7f7a6dafaf34983fe8e53208bbceaf515b73221ced0a1f3"
  }
 },
 "nbformat": 4,
 "nbformat_minor": 2
}