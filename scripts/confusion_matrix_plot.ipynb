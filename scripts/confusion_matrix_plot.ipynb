{
 "cells": [
  {
   "cell_type": "code",
   "execution_count": null,
   "source": [
    "%load_ext dotenv\n",
    "%dotenv"
   ],
   "outputs": [],
   "metadata": {}
  },
  {
   "cell_type": "code",
   "execution_count": null,
   "source": [
    "import os\n",
    "from dotenv import load_dotenv\n",
    "\n",
    "load_dotenv() \n",
    "ROOT = os.getenv(\"ROOT\")\n",
    "DATA = os.getenv(\"DATA\")\n",
    "SCRIPTS = os.getenv(\"SCRIPTS\")\n",
    "\n",
    "# Make root\n",
    "os.chdir(SCRIPTS)\n",
    "print(os.getcwd())"
   ],
   "outputs": [],
   "metadata": {}
  },
  {
   "cell_type": "code",
   "execution_count": null,
   "source": [
    "from pathlib import Path\n",
    "from metrics.conll2003_utills import create_total_target_vector\n",
    "from metrics.confusion_matrix import generate_confusion_matrix\n",
    "\n",
    "\n",
    "a1 = create_total_target_vector(Path(f\"{DATA}/interim/corpus/a1\"))\n",
    "a2 = create_total_target_vector(Path(f\"{DATA}/interim/corpus/a2\"))\n",
    "\n",
    "classes = [\"SYM\",\"FND\",\"NEG\",\"DIS\",\"O\"]\n",
    "cm = generate_confusion_matrix(a1, a2, classes)\n",
    "cm"
   ],
   "outputs": [],
   "metadata": {}
  },
  {
   "cell_type": "code",
   "execution_count": null,
   "source": [
    "from pathlib import Path\n",
    "import spacy\n",
    "\n",
    "from metrics.spacy_utills import create_total_prediction_vector\n",
    "from metrics.spacy_utills import create_prediction_vector\n",
    "\n",
    "corpus = Path(DATA / \"raw/corpus/curation\")\n",
    "\n",
    "nlp = spacy.load(\"sv_pipeline\")\n",
    "\n",
    "docs = []\n",
    "\n",
    "pathlist = Path(corpus).glob(\"**/*.conll\")\n",
    "\n",
    "for path in pathlist:\n",
    "    create_prediction_vector()\n",
    "\n",
    "create_total_prediction_vector(nlp, docs)"
   ],
   "outputs": [],
   "metadata": {}
  },
  {
   "cell_type": "code",
   "execution_count": null,
   "source": [
    "def get_dataset_labels(annotation_set):\n",
    "    return sorted(set(create_total_target_vector(annotation_set)))"
   ],
   "outputs": [],
   "metadata": {}
  },
  {
   "cell_type": "code",
   "execution_count": null,
   "source": [
    "from plot_confusion_matrix import plot_confusion_matrix\n",
    "\n",
    "classes = [\"SYM\",\"FND\",\"NEG\",\"DIS\",\"O\"]\n",
    "\n",
    "plot_confusion_matrix(a1, a2, classes=classes, normalize=True, xlabel=\"annotator2\", ylabel=\"annotator1\")"
   ],
   "outputs": [],
   "metadata": {}
  }
 ],
 "metadata": {
  "orig_nbformat": 4,
  "language_info": {
   "name": "python",
   "version": "3.8.10",
   "mimetype": "text/x-python",
   "codemirror_mode": {
    "name": "ipython",
    "version": 3
   },
   "pygments_lexer": "ipython3",
   "nbconvert_exporter": "python",
   "file_extension": ".py"
  },
  "kernelspec": {
   "name": "python3",
   "display_name": "Python 3.8.10 64-bit ('venv': virtualenv)"
  },
  "interpreter": {
   "hash": "a86b396b3552695ca7f7a6dafaf34983fe8e53208bbceaf515b73221ced0a1f3"
  }
 },
 "nbformat": 4,
 "nbformat_minor": 2
}