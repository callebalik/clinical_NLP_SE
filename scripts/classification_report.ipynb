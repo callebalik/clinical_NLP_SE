{
 "cells": [
  {
   "cell_type": "code",
   "execution_count": 1,
   "source": [
    "%load_ext dotenv\n",
    "%dotenv"
   ],
   "outputs": [],
   "metadata": {}
  },
  {
   "cell_type": "code",
   "execution_count": 2,
   "source": [
    "import os\n",
    "from dotenv import load_dotenv\n",
    "\n",
    "load_dotenv() \n",
    "ROOT = os.getenv(\"ROOT\")\n",
    "DATA = os.getenv(\"DATA\")\n",
    "SCRIPTS = os.getenv(\"SCRIPTS\")\n",
    "\n",
    "# Make root\n",
    "os.chdir(SCRIPTS)\n",
    "print(os.getcwd())"
   ],
   "outputs": [
    {
     "output_type": "stream",
     "name": "stdout",
     "text": [
      "/home/callebalik/clinical_NLP_SE/scripts\n"
     ]
    }
   ],
   "metadata": {}
  },
  {
   "cell_type": "code",
   "execution_count": 5,
   "source": [
    "from pathlib import Path\n",
    "\n",
    "from sklearn.metrics import cohen_kappa_score\n",
    "from sklearn.metrics import classification_report\n",
    "\n",
    "import pandas as pd \n",
    "\n",
    "from metrics.conll2003_utills import create_total_target_vector\n",
    "\n",
    "\n",
    "a1 = Path(f\"{DATA}/interim/corpus/a1\")\n",
    "a2 = Path(f\"{DATA}/interim/corpus/a2\")\n",
    "\n",
    "a1 = create_total_target_vector(a1)\n",
    "a2 = create_total_target_vector(a2)\n",
    "\n",
    "\n",
    "classes = [\"SYM\",\"FND\",\"NEG\",\"DIS\",\"O\"]\n",
    "\n",
    "print(f\"Cohen Kappa {cohen_kappa_score(a1, a2)}\")\n",
    "cr = classification_report(a1,a2, labels=classes, output_dict=True)\n",
    "cr = pd.DataFrame.from_dict(cr)\n",
    "\n",
    "print(classification_report(a1,a2, labels=classes)) # IF not as dict, it can be neatly printed"
   ],
   "outputs": [
    {
     "output_type": "stream",
     "name": "stdout",
     "text": [
      "Cohen Kappa 0.8113674381578877\n",
      "              precision    recall  f1-score   support\n",
      "\n",
      "         SYM       0.57      0.74      0.64        46\n",
      "         FND       0.74      0.69      0.72       149\n",
      "         NEG       0.95      0.95      0.95        74\n",
      "         DIS       1.00      0.40      0.57        48\n",
      "           O       0.98      0.99      0.99      2021\n",
      "\n",
      "    accuracy                           0.96      2338\n",
      "   macro avg       0.85      0.75      0.77      2338\n",
      "weighted avg       0.96      0.96      0.95      2338\n",
      "\n"
     ]
    }
   ],
   "metadata": {}
  },
  {
   "cell_type": "code",
   "execution_count": null,
   "source": [
    "#not wokring \n",
    "from sklearn.metrics import precision_score, accuracy_score, recall_score, f1_score\n",
    "\n",
    "print(f\"Accuracy: {round(accuracy_score(a1, a2), 2)}\")\n",
    "print(f\"Precision: {round(precision_score(a1, a2, average=\"micro\"), 2)}\")\n",
    "# print(f\"Recall: {round(recall_score(a1, a2), 2)}\")\n",
    "# print(f\"F1_score: {round(f1_score(a1, a2), 2)}\")"
   ],
   "outputs": [],
   "metadata": {}
  }
 ],
 "metadata": {
  "orig_nbformat": 4,
  "language_info": {
   "name": "python",
   "version": "3.8.10",
   "mimetype": "text/x-python",
   "codemirror_mode": {
    "name": "ipython",
    "version": 3
   },
   "pygments_lexer": "ipython3",
   "nbconvert_exporter": "python",
   "file_extension": ".py"
  },
  "kernelspec": {
   "name": "python3",
   "display_name": "Python 3.8.10 64-bit ('venv': virtualenv)"
  },
  "interpreter": {
   "hash": "a86b396b3552695ca7f7a6dafaf34983fe8e53208bbceaf515b73221ced0a1f3"
  }
 },
 "nbformat": 4,
 "nbformat_minor": 2
}